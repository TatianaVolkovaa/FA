{
 "cells": [
  {
   "cell_type": "markdown",
   "id": "0caedea9",
   "metadata": {},
   "source": [
    "# Волкова Татьяна | ПИ19-2 | Pandas | ML0.2\n",
    "## Практические задания"
   ]
  },
  {
   "cell_type": "code",
   "execution_count": 1,
   "id": "05a83f76",
   "metadata": {},
   "outputs": [],
   "source": [
    "import pandas as pd\n",
    "import datetime as dt\n",
    "import numpy as np"
   ]
  },
  {
   "cell_type": "markdown",
   "id": "c6a932cc",
   "metadata": {},
   "source": [
    "### 1.\tПолучить файл (Titanic.csv) набора данных, прилагающийся к этой работе."
   ]
  },
  {
   "cell_type": "markdown",
   "id": "fe805cf0",
   "metadata": {},
   "source": [
    "### 2.\tСчитать файл в pandas DataFrame"
   ]
  },
  {
   "cell_type": "code",
   "execution_count": 2,
   "id": "6f38777c",
   "metadata": {},
   "outputs": [
    {
     "data": {
      "text/html": [
       "<div>\n",
       "<style scoped>\n",
       "    .dataframe tbody tr th:only-of-type {\n",
       "        vertical-align: middle;\n",
       "    }\n",
       "\n",
       "    .dataframe tbody tr th {\n",
       "        vertical-align: top;\n",
       "    }\n",
       "\n",
       "    .dataframe thead th {\n",
       "        text-align: right;\n",
       "    }\n",
       "</style>\n",
       "<table border=\"1\" class=\"dataframe\">\n",
       "  <thead>\n",
       "    <tr style=\"text-align: right;\">\n",
       "      <th></th>\n",
       "      <th>Name</th>\n",
       "      <th>PClass</th>\n",
       "      <th>Age</th>\n",
       "      <th>Sex</th>\n",
       "      <th>Survived</th>\n",
       "    </tr>\n",
       "  </thead>\n",
       "  <tbody>\n",
       "    <tr>\n",
       "      <th>0</th>\n",
       "      <td>Allen, Miss Elisabeth Walton</td>\n",
       "      <td>1st</td>\n",
       "      <td>29.00</td>\n",
       "      <td>female</td>\n",
       "      <td>1</td>\n",
       "    </tr>\n",
       "    <tr>\n",
       "      <th>1</th>\n",
       "      <td>Allison, Miss Helen Loraine</td>\n",
       "      <td>1st</td>\n",
       "      <td>2.00</td>\n",
       "      <td>female</td>\n",
       "      <td>0</td>\n",
       "    </tr>\n",
       "    <tr>\n",
       "      <th>2</th>\n",
       "      <td>Allison, Mr Hudson Joshua Creighton</td>\n",
       "      <td>1st</td>\n",
       "      <td>30.00</td>\n",
       "      <td>male</td>\n",
       "      <td>0</td>\n",
       "    </tr>\n",
       "    <tr>\n",
       "      <th>3</th>\n",
       "      <td>Allison, Mrs Hudson JC (Bessie Waldo Daniels)</td>\n",
       "      <td>1st</td>\n",
       "      <td>25.00</td>\n",
       "      <td>female</td>\n",
       "      <td>0</td>\n",
       "    </tr>\n",
       "    <tr>\n",
       "      <th>4</th>\n",
       "      <td>Allison, Master Hudson Trevor</td>\n",
       "      <td>1st</td>\n",
       "      <td>0.92</td>\n",
       "      <td>male</td>\n",
       "      <td>1</td>\n",
       "    </tr>\n",
       "  </tbody>\n",
       "</table>\n",
       "</div>"
      ],
      "text/plain": [
       "                                            Name PClass    Age     Sex  \\\n",
       "0                   Allen, Miss Elisabeth Walton    1st  29.00  female   \n",
       "1                    Allison, Miss Helen Loraine    1st   2.00  female   \n",
       "2            Allison, Mr Hudson Joshua Creighton    1st  30.00    male   \n",
       "3  Allison, Mrs Hudson JC (Bessie Waldo Daniels)    1st  25.00  female   \n",
       "4                  Allison, Master Hudson Trevor    1st   0.92    male   \n",
       "\n",
       "   Survived  \n",
       "0         1  \n",
       "1         0  \n",
       "2         0  \n",
       "3         0  \n",
       "4         1  "
      ]
     },
     "execution_count": 2,
     "metadata": {},
     "output_type": "execute_result"
    }
   ],
   "source": [
    "data = pd.read_csv('Titanic.csv', sep=',')\n",
    "data.head()"
   ]
  },
  {
   "cell_type": "markdown",
   "id": "6f25037a",
   "metadata": {},
   "source": [
    "### 3.\tОзнакомиться с основными параметрами датасета, используя функции библиотеки pandas, включая следующие данные:"
   ]
  },
  {
   "cell_type": "code",
   "execution_count": 3,
   "id": "66c3958c",
   "metadata": {},
   "outputs": [
    {
     "name": "stdout",
     "output_type": "stream",
     "text": [
      "<class 'pandas.core.frame.DataFrame'>\n",
      "RangeIndex: 1313 entries, 0 to 1312\n",
      "Data columns (total 5 columns):\n",
      " #   Column    Non-Null Count  Dtype  \n",
      "---  ------    --------------  -----  \n",
      " 0   Name      1313 non-null   object \n",
      " 1   PClass    1312 non-null   object \n",
      " 2   Age       756 non-null    float64\n",
      " 3   Sex       1313 non-null   object \n",
      " 4   Survived  1313 non-null   int64  \n",
      "dtypes: float64(1), int64(1), object(3)\n",
      "memory usage: 51.4+ KB\n"
     ]
    }
   ],
   "source": [
    "data.info()"
   ]
  },
  {
   "cell_type": "markdown",
   "id": "0de8d477",
   "metadata": {},
   "source": [
    "#### a.\tКоличество точек данных (измерений) в наборе"
   ]
  },
  {
   "cell_type": "code",
   "execution_count": 4,
   "id": "68649420",
   "metadata": {},
   "outputs": [
    {
     "data": {
      "text/plain": [
       "1313"
      ]
     },
     "execution_count": 4,
     "metadata": {},
     "output_type": "execute_result"
    }
   ],
   "source": [
    "data.shape[0]"
   ]
  },
  {
   "cell_type": "markdown",
   "id": "43503e2f",
   "metadata": {},
   "source": [
    "#### b.\tКоличество полей данных (атрибутов)"
   ]
  },
  {
   "cell_type": "code",
   "execution_count": 5,
   "id": "09fdbac3",
   "metadata": {},
   "outputs": [
    {
     "data": {
      "text/plain": [
       "5"
      ]
     },
     "execution_count": 5,
     "metadata": {},
     "output_type": "execute_result"
    }
   ],
   "source": [
    "data.shape[1]"
   ]
  },
  {
   "cell_type": "markdown",
   "id": "80f6856d",
   "metadata": {},
   "source": [
    "#### c.\tТип данных каждого поля, шкала каждого поля"
   ]
  },
  {
   "cell_type": "code",
   "execution_count": 6,
   "id": "b87125a9",
   "metadata": {},
   "outputs": [
    {
     "name": "stdout",
     "output_type": "stream",
     "text": [
      "   типы данных \n",
      "Name         object\n",
      "PClass       object\n",
      "Age         float64\n",
      "Sex          object\n",
      "Survived      int64\n",
      "dtype: object \n",
      "   шкалы \n",
      "Name        [Allen, Miss Elisabeth Walton, Allison, Miss H...\n",
      "PClass                                   [1st, 2nd, nan, 3rd]\n",
      "Age         [29.0, 2.0, 30.0, 25.0, 0.92, 47.0, 63.0, 39.0...\n",
      "Sex                                            [female, male]\n",
      "Survived                                               [1, 0]\n",
      "dtype: object\n"
     ]
    }
   ],
   "source": [
    "print(f'   типы данных \\n{data.dtypes} \\n   шкалы \\n{data.apply(lambda s: s.unique())}')"
   ]
  },
  {
   "cell_type": "markdown",
   "id": "a8e76aa2",
   "metadata": {},
   "source": [
    "#### d.\tКоличество отсутствующих значений для каждого поля"
   ]
  },
  {
   "cell_type": "code",
   "execution_count": 7,
   "id": "c06f156c",
   "metadata": {},
   "outputs": [
    {
     "data": {
      "text/plain": [
       "Name          0\n",
       "PClass        1\n",
       "Age         557\n",
       "Sex           0\n",
       "Survived      0\n",
       "dtype: int64"
      ]
     },
     "execution_count": 7,
     "metadata": {},
     "output_type": "execute_result"
    }
   ],
   "source": [
    "#data.isnull().sum()\n",
    "data.isna().sum()"
   ]
  },
  {
   "cell_type": "markdown",
   "id": "d129df0a",
   "metadata": {},
   "source": [
    "#### e.\tКоличество и названия константных и уникальных полей"
   ]
  },
  {
   "cell_type": "code",
   "execution_count": 8,
   "id": "234f539d",
   "metadata": {},
   "outputs": [
    {
     "name": "stdout",
     "output_type": "stream",
     "text": [
      "количество уникальных полей -  0\n",
      "количество константных полей -  0\n"
     ]
    }
   ],
   "source": [
    "print('количество уникальных полей - ', data.apply(lambda s: len(s.unique()) == len(s)).sum())\n",
    "print('количество константных полей - ', data.apply(lambda s: len(s.unique()) == 1).sum())"
   ]
  },
  {
   "cell_type": "raw",
   "id": "864f75a3",
   "metadata": {},
   "source": [
    "Логически:\n",
    "Количество уникальных полей - 1 (Name)\n",
    "Количество константных полей - 0\n",
    "\n",
    "Если считать, что константное поле - поле, не изменяющееся со временем,\n",
    "то константных полей будет 3 - PClass, Sex, Survived (возраст и имя могут изменяться)"
   ]
  },
  {
   "cell_type": "markdown",
   "id": "f8a0121c",
   "metadata": {},
   "source": [
    "### 4.\tУдалить из набора поля, не несущие информативной нагрузки - содержащие уникальные либо константные значения"
   ]
  },
  {
   "cell_type": "code",
   "execution_count": 9,
   "id": "77164526",
   "metadata": {},
   "outputs": [
    {
     "data": {
      "text/html": [
       "<div>\n",
       "<style scoped>\n",
       "    .dataframe tbody tr th:only-of-type {\n",
       "        vertical-align: middle;\n",
       "    }\n",
       "\n",
       "    .dataframe tbody tr th {\n",
       "        vertical-align: top;\n",
       "    }\n",
       "\n",
       "    .dataframe thead th {\n",
       "        text-align: right;\n",
       "    }\n",
       "</style>\n",
       "<table border=\"1\" class=\"dataframe\">\n",
       "  <thead>\n",
       "    <tr style=\"text-align: right;\">\n",
       "      <th></th>\n",
       "      <th>PClass</th>\n",
       "      <th>Age</th>\n",
       "      <th>Sex</th>\n",
       "      <th>Survived</th>\n",
       "    </tr>\n",
       "  </thead>\n",
       "  <tbody>\n",
       "    <tr>\n",
       "      <th>0</th>\n",
       "      <td>1st</td>\n",
       "      <td>29.00</td>\n",
       "      <td>female</td>\n",
       "      <td>1</td>\n",
       "    </tr>\n",
       "    <tr>\n",
       "      <th>1</th>\n",
       "      <td>1st</td>\n",
       "      <td>2.00</td>\n",
       "      <td>female</td>\n",
       "      <td>0</td>\n",
       "    </tr>\n",
       "    <tr>\n",
       "      <th>2</th>\n",
       "      <td>1st</td>\n",
       "      <td>30.00</td>\n",
       "      <td>male</td>\n",
       "      <td>0</td>\n",
       "    </tr>\n",
       "    <tr>\n",
       "      <th>3</th>\n",
       "      <td>1st</td>\n",
       "      <td>25.00</td>\n",
       "      <td>female</td>\n",
       "      <td>0</td>\n",
       "    </tr>\n",
       "    <tr>\n",
       "      <th>4</th>\n",
       "      <td>1st</td>\n",
       "      <td>0.92</td>\n",
       "      <td>male</td>\n",
       "      <td>1</td>\n",
       "    </tr>\n",
       "  </tbody>\n",
       "</table>\n",
       "</div>"
      ],
      "text/plain": [
       "  PClass    Age     Sex  Survived\n",
       "0    1st  29.00  female         1\n",
       "1    1st   2.00  female         0\n",
       "2    1st  30.00    male         0\n",
       "3    1st  25.00  female         0\n",
       "4    1st   0.92    male         1"
      ]
     },
     "execution_count": 9,
     "metadata": {},
     "output_type": "execute_result"
    }
   ],
   "source": [
    "data = data.drop('Name', axis=1)\n",
    "data.head()"
   ]
  },
  {
   "cell_type": "markdown",
   "id": "e985a1d4",
   "metadata": {},
   "source": [
    "### 5.\tЗаменить возраст пассажиров на год рождения"
   ]
  },
  {
   "cell_type": "code",
   "execution_count": 10,
   "id": "3ca51264",
   "metadata": {},
   "outputs": [
    {
     "data": {
      "text/html": [
       "<div>\n",
       "<style scoped>\n",
       "    .dataframe tbody tr th:only-of-type {\n",
       "        vertical-align: middle;\n",
       "    }\n",
       "\n",
       "    .dataframe tbody tr th {\n",
       "        vertical-align: top;\n",
       "    }\n",
       "\n",
       "    .dataframe thead th {\n",
       "        text-align: right;\n",
       "    }\n",
       "</style>\n",
       "<table border=\"1\" class=\"dataframe\">\n",
       "  <thead>\n",
       "    <tr style=\"text-align: right;\">\n",
       "      <th></th>\n",
       "      <th>PClass</th>\n",
       "      <th>BirthYear</th>\n",
       "      <th>Sex</th>\n",
       "      <th>Survived</th>\n",
       "    </tr>\n",
       "  </thead>\n",
       "  <tbody>\n",
       "    <tr>\n",
       "      <th>0</th>\n",
       "      <td>1st</td>\n",
       "      <td>1993.00</td>\n",
       "      <td>female</td>\n",
       "      <td>1</td>\n",
       "    </tr>\n",
       "    <tr>\n",
       "      <th>1</th>\n",
       "      <td>1st</td>\n",
       "      <td>2020.00</td>\n",
       "      <td>female</td>\n",
       "      <td>0</td>\n",
       "    </tr>\n",
       "    <tr>\n",
       "      <th>2</th>\n",
       "      <td>1st</td>\n",
       "      <td>1992.00</td>\n",
       "      <td>male</td>\n",
       "      <td>0</td>\n",
       "    </tr>\n",
       "    <tr>\n",
       "      <th>3</th>\n",
       "      <td>1st</td>\n",
       "      <td>1997.00</td>\n",
       "      <td>female</td>\n",
       "      <td>0</td>\n",
       "    </tr>\n",
       "    <tr>\n",
       "      <th>4</th>\n",
       "      <td>1st</td>\n",
       "      <td>2021.08</td>\n",
       "      <td>male</td>\n",
       "      <td>1</td>\n",
       "    </tr>\n",
       "  </tbody>\n",
       "</table>\n",
       "</div>"
      ],
      "text/plain": [
       "  PClass  BirthYear     Sex  Survived\n",
       "0    1st    1993.00  female         1\n",
       "1    1st    2020.00  female         0\n",
       "2    1st    1992.00    male         0\n",
       "3    1st    1997.00  female         0\n",
       "4    1st    2021.08    male         1"
      ]
     },
     "execution_count": 10,
     "metadata": {},
     "output_type": "execute_result"
    }
   ],
   "source": [
    "data[\"Age\"] = (dt.datetime.now().year - data[\"Age\"])\n",
    "data = data.rename(columns = {'Age': \"BirthYear\"})\n",
    "data.head()"
   ]
  },
  {
   "cell_type": "markdown",
   "id": "080ccfeb",
   "metadata": {},
   "source": [
    "### 6.\tПереименовать все названия колонок на русском языке"
   ]
  },
  {
   "cell_type": "code",
   "execution_count": 11,
   "id": "05ab8242",
   "metadata": {},
   "outputs": [
    {
     "data": {
      "text/html": [
       "<div>\n",
       "<style scoped>\n",
       "    .dataframe tbody tr th:only-of-type {\n",
       "        vertical-align: middle;\n",
       "    }\n",
       "\n",
       "    .dataframe tbody tr th {\n",
       "        vertical-align: top;\n",
       "    }\n",
       "\n",
       "    .dataframe thead th {\n",
       "        text-align: right;\n",
       "    }\n",
       "</style>\n",
       "<table border=\"1\" class=\"dataframe\">\n",
       "  <thead>\n",
       "    <tr style=\"text-align: right;\">\n",
       "      <th></th>\n",
       "      <th>Класс пассажира</th>\n",
       "      <th>Год рождения</th>\n",
       "      <th>Пол</th>\n",
       "      <th>Выживший</th>\n",
       "    </tr>\n",
       "  </thead>\n",
       "  <tbody>\n",
       "    <tr>\n",
       "      <th>0</th>\n",
       "      <td>1st</td>\n",
       "      <td>1993.00</td>\n",
       "      <td>female</td>\n",
       "      <td>1</td>\n",
       "    </tr>\n",
       "    <tr>\n",
       "      <th>1</th>\n",
       "      <td>1st</td>\n",
       "      <td>2020.00</td>\n",
       "      <td>female</td>\n",
       "      <td>0</td>\n",
       "    </tr>\n",
       "    <tr>\n",
       "      <th>2</th>\n",
       "      <td>1st</td>\n",
       "      <td>1992.00</td>\n",
       "      <td>male</td>\n",
       "      <td>0</td>\n",
       "    </tr>\n",
       "    <tr>\n",
       "      <th>3</th>\n",
       "      <td>1st</td>\n",
       "      <td>1997.00</td>\n",
       "      <td>female</td>\n",
       "      <td>0</td>\n",
       "    </tr>\n",
       "    <tr>\n",
       "      <th>4</th>\n",
       "      <td>1st</td>\n",
       "      <td>2021.08</td>\n",
       "      <td>male</td>\n",
       "      <td>1</td>\n",
       "    </tr>\n",
       "  </tbody>\n",
       "</table>\n",
       "</div>"
      ],
      "text/plain": [
       "  Класс пассажира  Год рождения     Пол  Выживший\n",
       "0             1st       1993.00  female         1\n",
       "1             1st       2020.00  female         0\n",
       "2             1st       1992.00    male         0\n",
       "3             1st       1997.00  female         0\n",
       "4             1st       2021.08    male         1"
      ]
     },
     "execution_count": 11,
     "metadata": {},
     "output_type": "execute_result"
    }
   ],
   "source": [
    "data = data.rename(columns={'PClass': 'Класс пассажира', \n",
    "                            'BirthYear': 'Год рождения', \n",
    "                            'Sex': 'Пол', \n",
    "                            'Survived': 'Выживший'})\n",
    "data.head()"
   ]
  },
  {
   "cell_type": "markdown",
   "id": "c153babc",
   "metadata": {},
   "source": [
    "### 7.\tЗаменить все отсутствующие данные средним значением (в случае числового поля) либо самым распространенным в категориальных полях."
   ]
  },
  {
   "cell_type": "code",
   "execution_count": 12,
   "id": "043e32ff",
   "metadata": {},
   "outputs": [
    {
     "data": {
      "text/plain": [
       "Класс пассажира      1\n",
       "Год рождения       557\n",
       "Пол                  0\n",
       "Выживший             0\n",
       "dtype: int64"
      ]
     },
     "execution_count": 12,
     "metadata": {},
     "output_type": "execute_result"
    }
   ],
   "source": [
    "data.isna().sum()"
   ]
  },
  {
   "cell_type": "code",
   "execution_count": 13,
   "id": "a8608bd9",
   "metadata": {},
   "outputs": [
    {
     "data": {
      "text/html": [
       "<div>\n",
       "<style scoped>\n",
       "    .dataframe tbody tr th:only-of-type {\n",
       "        vertical-align: middle;\n",
       "    }\n",
       "\n",
       "    .dataframe tbody tr th {\n",
       "        vertical-align: top;\n",
       "    }\n",
       "\n",
       "    .dataframe thead th {\n",
       "        text-align: right;\n",
       "    }\n",
       "</style>\n",
       "<table border=\"1\" class=\"dataframe\">\n",
       "  <thead>\n",
       "    <tr style=\"text-align: right;\">\n",
       "      <th></th>\n",
       "      <th>Класс пассажира</th>\n",
       "      <th>Год рождения</th>\n",
       "      <th>Пол</th>\n",
       "      <th>Выживший</th>\n",
       "    </tr>\n",
       "  </thead>\n",
       "  <tbody>\n",
       "    <tr>\n",
       "      <th>0</th>\n",
       "      <td>1st</td>\n",
       "      <td>1993</td>\n",
       "      <td>female</td>\n",
       "      <td>1</td>\n",
       "    </tr>\n",
       "    <tr>\n",
       "      <th>1</th>\n",
       "      <td>1st</td>\n",
       "      <td>2020</td>\n",
       "      <td>female</td>\n",
       "      <td>0</td>\n",
       "    </tr>\n",
       "    <tr>\n",
       "      <th>2</th>\n",
       "      <td>1st</td>\n",
       "      <td>1992</td>\n",
       "      <td>male</td>\n",
       "      <td>0</td>\n",
       "    </tr>\n",
       "    <tr>\n",
       "      <th>3</th>\n",
       "      <td>1st</td>\n",
       "      <td>1997</td>\n",
       "      <td>female</td>\n",
       "      <td>0</td>\n",
       "    </tr>\n",
       "    <tr>\n",
       "      <th>4</th>\n",
       "      <td>1st</td>\n",
       "      <td>2021</td>\n",
       "      <td>male</td>\n",
       "      <td>1</td>\n",
       "    </tr>\n",
       "  </tbody>\n",
       "</table>\n",
       "</div>"
      ],
      "text/plain": [
       "  Класс пассажира  Год рождения     Пол  Выживший\n",
       "0             1st          1993  female         1\n",
       "1             1st          2020  female         0\n",
       "2             1st          1992    male         0\n",
       "3             1st          1997  female         0\n",
       "4             1st          2021    male         1"
      ]
     },
     "execution_count": 13,
     "metadata": {},
     "output_type": "execute_result"
    }
   ],
   "source": [
    "data['Год рождения'] = data['Год рождения'].fillna(data['Год рождения'].mean())\n",
    "data['Класс пассажира'] = data['Класс пассажира'].fillna(data['Класс пассажира'].mode().item())\n",
    "\n",
    "data['Год рождения'] = data['Год рождения'].astype(int)\n",
    "data.head()"
   ]
  },
  {
   "cell_type": "code",
   "execution_count": 14,
   "id": "e5a52971",
   "metadata": {},
   "outputs": [
    {
     "data": {
      "text/plain": [
       "Класс пассажира    0\n",
       "Год рождения       0\n",
       "Пол                0\n",
       "Выживший           0\n",
       "dtype: int64"
      ]
     },
     "execution_count": 14,
     "metadata": {},
     "output_type": "execute_result"
    }
   ],
   "source": [
    "data.isna().sum()"
   ]
  },
  {
   "cell_type": "markdown",
   "id": "b5cb60d0",
   "metadata": {},
   "source": [
    "### 8.\tСохранить получившийся набор данных в формате CSV в файле ФИО_Titanic.csv"
   ]
  },
  {
   "cell_type": "code",
   "execution_count": 15,
   "id": "b6255cd2",
   "metadata": {},
   "outputs": [],
   "source": [
    "data.to_csv('ВолковаТатьянаПИ19-2_Titanic.csv', encoding='cp1251', index=False, sep=';')"
   ]
  },
  {
   "cell_type": "markdown",
   "id": "a0fd7234",
   "metadata": {},
   "source": [
    "### 9.\tОткрыть данный файл в программе Microsoft Excel и сохранить в формате .xlsx"
   ]
  },
  {
   "cell_type": "markdown",
   "id": "08aea83a",
   "metadata": {},
   "source": [
    "### 10.\tСчитать файл .xlsx в новый DataFrame"
   ]
  },
  {
   "cell_type": "code",
   "execution_count": 17,
   "id": "1f061708",
   "metadata": {},
   "outputs": [
    {
     "data": {
      "text/html": [
       "<div>\n",
       "<style scoped>\n",
       "    .dataframe tbody tr th:only-of-type {\n",
       "        vertical-align: middle;\n",
       "    }\n",
       "\n",
       "    .dataframe tbody tr th {\n",
       "        vertical-align: top;\n",
       "    }\n",
       "\n",
       "    .dataframe thead th {\n",
       "        text-align: right;\n",
       "    }\n",
       "</style>\n",
       "<table border=\"1\" class=\"dataframe\">\n",
       "  <thead>\n",
       "    <tr style=\"text-align: right;\">\n",
       "      <th></th>\n",
       "      <th>Класс пассажира</th>\n",
       "      <th>Год рождения</th>\n",
       "      <th>Пол</th>\n",
       "      <th>Выживший</th>\n",
       "    </tr>\n",
       "  </thead>\n",
       "  <tbody>\n",
       "    <tr>\n",
       "      <th>0</th>\n",
       "      <td>1st</td>\n",
       "      <td>1993</td>\n",
       "      <td>female</td>\n",
       "      <td>1</td>\n",
       "    </tr>\n",
       "    <tr>\n",
       "      <th>1</th>\n",
       "      <td>1st</td>\n",
       "      <td>2020</td>\n",
       "      <td>female</td>\n",
       "      <td>0</td>\n",
       "    </tr>\n",
       "    <tr>\n",
       "      <th>2</th>\n",
       "      <td>1st</td>\n",
       "      <td>1992</td>\n",
       "      <td>male</td>\n",
       "      <td>0</td>\n",
       "    </tr>\n",
       "    <tr>\n",
       "      <th>3</th>\n",
       "      <td>1st</td>\n",
       "      <td>1997</td>\n",
       "      <td>female</td>\n",
       "      <td>0</td>\n",
       "    </tr>\n",
       "    <tr>\n",
       "      <th>4</th>\n",
       "      <td>1st</td>\n",
       "      <td>2021</td>\n",
       "      <td>male</td>\n",
       "      <td>1</td>\n",
       "    </tr>\n",
       "  </tbody>\n",
       "</table>\n",
       "</div>"
      ],
      "text/plain": [
       "  Класс пассажира  Год рождения     Пол  Выживший\n",
       "0             1st          1993  female         1\n",
       "1             1st          2020  female         0\n",
       "2             1st          1992    male         0\n",
       "3             1st          1997  female         0\n",
       "4             1st          2021    male         1"
      ]
     },
     "execution_count": 17,
     "metadata": {},
     "output_type": "execute_result"
    }
   ],
   "source": [
    "data_new = pd.read_excel(\"ВолковаТатьянаПИ19-2_Titanic.xlsx\")\n",
    "data_new.head()"
   ]
  },
  {
   "cell_type": "markdown",
   "id": "9d00fde8",
   "metadata": {},
   "source": [
    "## Контрольные вопросы"
   ]
  },
  {
   "cell_type": "markdown",
   "id": "40687973",
   "metadata": {},
   "source": [
    "### 1.\tКакие две главные структуры данных используются в pandas? В чем их отличие?"
   ]
  },
  {
   "cell_type": "raw",
   "id": "88496628",
   "metadata": {},
   "source": [
    "1 - Series - одномерный массив\n",
    "2 - DataFrame - двумерный массив, таблица, по сути является набором нескольких Series"
   ]
  },
  {
   "cell_type": "markdown",
   "id": "5f708b6a",
   "metadata": {},
   "source": [
    "### 2.\tНазовите основные функции чтения данных из файлов в Pandas."
   ]
  },
  {
   "cell_type": "raw",
   "id": "e3ca8f25",
   "metadata": {},
   "source": [
    "pandas.read_csv()\n",
    "      .read_exel()\n",
    "      .read_json()\n",
    "      .read_hdf()\n",
    "      .read_pickle()\n",
    "и т.д."
   ]
  },
  {
   "cell_type": "markdown",
   "id": "4a9b229b",
   "metadata": {},
   "source": [
    "### 3.\tНапишите функцию записи набора данных А в файл с разделителями-запятыми."
   ]
  },
  {
   "cell_type": "raw",
   "id": "3e5efaaa",
   "metadata": {},
   "source": [
    "A.to_csv('A.csv', sep=',')\n",
    "или можно не указывать разделитель, т.к. по умолчанию запятая"
   ]
  },
  {
   "cell_type": "markdown",
   "id": "23c839c3",
   "metadata": {},
   "source": [
    "### 4.\tКак называется функция, выводящая на экран первые N строчек набора данных"
   ]
  },
  {
   "cell_type": "raw",
   "id": "b8874a56",
   "metadata": {},
   "source": [
    "pandas.DataFrame.head(N)"
   ]
  },
  {
   "cell_type": "markdown",
   "id": "11795460",
   "metadata": {},
   "source": [
    "### 5.\tС помощью какой функции можно удалить поле набора данных? А строку?"
   ]
  },
  {
   "cell_type": "raw",
   "id": "cb78c3b1",
   "metadata": {},
   "source": [
    "pandas.DataFrame.drop(axis = 1) - удалить поле\n",
    "pandas.DataFrame.drop(axis = 0) - удалить строку\n",
    "\n",
    "drop(labels=None, index=None, columns=None)\n",
    "labels – номера или названия столбцов для удаления\n",
    "index – определяет, какие строки надо удалить\n",
    "columns – определяет, какие столбцы надо удалить"
   ]
  },
  {
   "cell_type": "markdown",
   "id": "89822f10",
   "metadata": {},
   "source": [
    "### 6.\tНапишите участок кода, демонстрирующий возможность добавления новой строки к набору данных. "
   ]
  },
  {
   "cell_type": "raw",
   "id": "5510d90a",
   "metadata": {},
   "source": [
    "1 способ     df.append(new_row, ignore_index=True)\n",
    "2 способ     df.loc[len(df.index)] = new_row\n",
    "\n",
    "df - набор данных, куда добавляем\n",
    "new_row - строка, которую добавляем, type=list"
   ]
  },
  {
   "cell_type": "markdown",
   "id": "a2e63e10",
   "metadata": {},
   "source": [
    "### 7.\tНапишите участок кода, демонстрирующий возможность добавления новой колонки (поля) к набору данных. "
   ]
  },
  {
   "cell_type": "raw",
   "id": "e7732aaa",
   "metadata": {},
   "source": [
    "df[\"column_name\"] = new_column\n",
    "df.insert(index, \"column_name\", new_column)\n",
    "df.loc[:, \"column_name\"] = new_column\n",
    "\n",
    "df - набор данных, куда добавляем\n",
    "column_name - название нового столбца\n",
    "new_column - значения, type=list"
   ]
  },
  {
   "cell_type": "code",
   "execution_count": null,
   "id": "9cbcf3be",
   "metadata": {},
   "outputs": [],
   "source": []
  }
 ],
 "metadata": {
  "kernelspec": {
   "display_name": "Python 3 (ipykernel)",
   "language": "python",
   "name": "python3"
  },
  "language_info": {
   "codemirror_mode": {
    "name": "ipython",
    "version": 3
   },
   "file_extension": ".py",
   "mimetype": "text/x-python",
   "name": "python",
   "nbconvert_exporter": "python",
   "pygments_lexer": "ipython3",
   "version": "3.7.11"
  }
 },
 "nbformat": 4,
 "nbformat_minor": 5
}
