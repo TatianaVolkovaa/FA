{
 "cells": [
  {
   "cell_type": "markdown",
   "id": "174774f3",
   "metadata": {},
   "source": [
    "# Волкова Татьяна | ПИ19-2 | Линейная регрессия | ML1.1\n",
    "## Практические задания"
   ]
  },
  {
   "cell_type": "code",
   "execution_count": 1,
   "id": "c62de4bd",
   "metadata": {},
   "outputs": [],
   "source": [
    "import numpy as np\n",
    "import pandas as pd\n",
    "import matplotlib.pyplot as plt"
   ]
  },
  {
   "cell_type": "code",
   "execution_count": 2,
   "id": "1c18300c",
   "metadata": {},
   "outputs": [],
   "source": [
    "mvid = pd.read_csv('data/MVID_101001_171001.txt')\n",
    "sber = pd.read_csv('data/SBER_101001_171001.txt')"
   ]
  },
  {
   "cell_type": "code",
   "execution_count": 3,
   "id": "2d9ffd86",
   "metadata": {},
   "outputs": [
    {
     "data": {
      "text/html": [
       "<div>\n",
       "<style scoped>\n",
       "    .dataframe tbody tr th:only-of-type {\n",
       "        vertical-align: middle;\n",
       "    }\n",
       "\n",
       "    .dataframe tbody tr th {\n",
       "        vertical-align: top;\n",
       "    }\n",
       "\n",
       "    .dataframe thead th {\n",
       "        text-align: right;\n",
       "    }\n",
       "</style>\n",
       "<table border=\"1\" class=\"dataframe\">\n",
       "  <thead>\n",
       "    <tr style=\"text-align: right;\">\n",
       "      <th></th>\n",
       "      <th>&lt;TICKER&gt;</th>\n",
       "      <th>&lt;PER&gt;</th>\n",
       "      <th>&lt;DATE&gt;</th>\n",
       "      <th>&lt;TIME&gt;</th>\n",
       "      <th>&lt;CLOSE&gt;</th>\n",
       "      <th>&lt;VOL&gt;</th>\n",
       "    </tr>\n",
       "  </thead>\n",
       "  <tbody>\n",
       "    <tr>\n",
       "      <th>0</th>\n",
       "      <td>SBER</td>\n",
       "      <td>D</td>\n",
       "      <td>20101001</td>\n",
       "      <td>0</td>\n",
       "      <td>89.09</td>\n",
       "      <td>332429890</td>\n",
       "    </tr>\n",
       "    <tr>\n",
       "      <th>1</th>\n",
       "      <td>SBER</td>\n",
       "      <td>D</td>\n",
       "      <td>20101004</td>\n",
       "      <td>0</td>\n",
       "      <td>89.88</td>\n",
       "      <td>194032721</td>\n",
       "    </tr>\n",
       "    <tr>\n",
       "      <th>2</th>\n",
       "      <td>SBER</td>\n",
       "      <td>D</td>\n",
       "      <td>20101005</td>\n",
       "      <td>0</td>\n",
       "      <td>91.97</td>\n",
       "      <td>198775753</td>\n",
       "    </tr>\n",
       "    <tr>\n",
       "      <th>3</th>\n",
       "      <td>SBER</td>\n",
       "      <td>D</td>\n",
       "      <td>20101006</td>\n",
       "      <td>0</td>\n",
       "      <td>91.20</td>\n",
       "      <td>210406027</td>\n",
       "    </tr>\n",
       "    <tr>\n",
       "      <th>4</th>\n",
       "      <td>SBER</td>\n",
       "      <td>D</td>\n",
       "      <td>20101007</td>\n",
       "      <td>0</td>\n",
       "      <td>90.40</td>\n",
       "      <td>145137617</td>\n",
       "    </tr>\n",
       "  </tbody>\n",
       "</table>\n",
       "</div>"
      ],
      "text/plain": [
       "  <TICKER> <PER>    <DATE>  <TIME>  <CLOSE>      <VOL>\n",
       "0     SBER     D  20101001       0    89.09  332429890\n",
       "1     SBER     D  20101004       0    89.88  194032721\n",
       "2     SBER     D  20101005       0    91.97  198775753\n",
       "3     SBER     D  20101006       0    91.20  210406027\n",
       "4     SBER     D  20101007       0    90.40  145137617"
      ]
     },
     "execution_count": 3,
     "metadata": {},
     "output_type": "execute_result"
    }
   ],
   "source": [
    "sber.head()"
   ]
  },
  {
   "cell_type": "code",
   "execution_count": 4,
   "id": "9a16f893",
   "metadata": {},
   "outputs": [
    {
     "data": {
      "text/html": [
       "<div>\n",
       "<style scoped>\n",
       "    .dataframe tbody tr th:only-of-type {\n",
       "        vertical-align: middle;\n",
       "    }\n",
       "\n",
       "    .dataframe tbody tr th {\n",
       "        vertical-align: top;\n",
       "    }\n",
       "\n",
       "    .dataframe thead th {\n",
       "        text-align: right;\n",
       "    }\n",
       "</style>\n",
       "<table border=\"1\" class=\"dataframe\">\n",
       "  <thead>\n",
       "    <tr style=\"text-align: right;\">\n",
       "      <th></th>\n",
       "      <th>&lt;TICKER&gt;_x</th>\n",
       "      <th>&lt;PER&gt;_x</th>\n",
       "      <th>&lt;DATE&gt;</th>\n",
       "      <th>&lt;TIME&gt;_x</th>\n",
       "      <th>&lt;CLOSE&gt;_x</th>\n",
       "      <th>&lt;VOL&gt;_x</th>\n",
       "      <th>&lt;TICKER&gt;_y</th>\n",
       "      <th>&lt;PER&gt;_y</th>\n",
       "      <th>&lt;TIME&gt;_y</th>\n",
       "      <th>&lt;CLOSE&gt;_y</th>\n",
       "      <th>&lt;VOL&gt;_y</th>\n",
       "    </tr>\n",
       "  </thead>\n",
       "  <tbody>\n",
       "    <tr>\n",
       "      <th>0</th>\n",
       "      <td>SBER</td>\n",
       "      <td>D</td>\n",
       "      <td>20101001</td>\n",
       "      <td>0</td>\n",
       "      <td>89.09</td>\n",
       "      <td>332429890</td>\n",
       "      <td>MVID</td>\n",
       "      <td>D</td>\n",
       "      <td>0</td>\n",
       "      <td>194.38</td>\n",
       "      <td>19406</td>\n",
       "    </tr>\n",
       "    <tr>\n",
       "      <th>1</th>\n",
       "      <td>SBER</td>\n",
       "      <td>D</td>\n",
       "      <td>20101004</td>\n",
       "      <td>0</td>\n",
       "      <td>89.88</td>\n",
       "      <td>194032721</td>\n",
       "      <td>MVID</td>\n",
       "      <td>D</td>\n",
       "      <td>0</td>\n",
       "      <td>190.00</td>\n",
       "      <td>31039</td>\n",
       "    </tr>\n",
       "    <tr>\n",
       "      <th>2</th>\n",
       "      <td>SBER</td>\n",
       "      <td>D</td>\n",
       "      <td>20101005</td>\n",
       "      <td>0</td>\n",
       "      <td>91.97</td>\n",
       "      <td>198775753</td>\n",
       "      <td>MVID</td>\n",
       "      <td>D</td>\n",
       "      <td>0</td>\n",
       "      <td>187.00</td>\n",
       "      <td>17651</td>\n",
       "    </tr>\n",
       "    <tr>\n",
       "      <th>3</th>\n",
       "      <td>SBER</td>\n",
       "      <td>D</td>\n",
       "      <td>20101006</td>\n",
       "      <td>0</td>\n",
       "      <td>91.20</td>\n",
       "      <td>210406027</td>\n",
       "      <td>MVID</td>\n",
       "      <td>D</td>\n",
       "      <td>0</td>\n",
       "      <td>190.04</td>\n",
       "      <td>36482</td>\n",
       "    </tr>\n",
       "    <tr>\n",
       "      <th>4</th>\n",
       "      <td>SBER</td>\n",
       "      <td>D</td>\n",
       "      <td>20101007</td>\n",
       "      <td>0</td>\n",
       "      <td>90.40</td>\n",
       "      <td>145137617</td>\n",
       "      <td>MVID</td>\n",
       "      <td>D</td>\n",
       "      <td>0</td>\n",
       "      <td>199.85</td>\n",
       "      <td>204248</td>\n",
       "    </tr>\n",
       "  </tbody>\n",
       "</table>\n",
       "</div>"
      ],
      "text/plain": [
       "  <TICKER>_x <PER>_x    <DATE>  <TIME>_x  <CLOSE>_x    <VOL>_x <TICKER>_y  \\\n",
       "0       SBER       D  20101001         0      89.09  332429890       MVID   \n",
       "1       SBER       D  20101004         0      89.88  194032721       MVID   \n",
       "2       SBER       D  20101005         0      91.97  198775753       MVID   \n",
       "3       SBER       D  20101006         0      91.20  210406027       MVID   \n",
       "4       SBER       D  20101007         0      90.40  145137617       MVID   \n",
       "\n",
       "  <PER>_y  <TIME>_y  <CLOSE>_y  <VOL>_y  \n",
       "0       D         0     194.38    19406  \n",
       "1       D         0     190.00    31039  \n",
       "2       D         0     187.00    17651  \n",
       "3       D         0     190.04    36482  \n",
       "4       D         0     199.85   204248  "
      ]
     },
     "execution_count": 4,
     "metadata": {},
     "output_type": "execute_result"
    }
   ],
   "source": [
    "res = pd.merge(sber, mvid, on='<DATE>')\n",
    "res.head()"
   ]
  },
  {
   "cell_type": "code",
   "execution_count": 5,
   "id": "343dcf64",
   "metadata": {},
   "outputs": [],
   "source": [
    "x = res['<CLOSE>_x']\n",
    "y = res['<CLOSE>_y']"
   ]
  },
  {
   "cell_type": "code",
   "execution_count": 6,
   "id": "6a832c9e",
   "metadata": {},
   "outputs": [
    {
     "data": {
      "image/png": "[encoded data removed]",
      "text/plain": [
       "<Figure size 432x288 with 1 Axes>"
      ]
     },
     "metadata": {
      "needs_background": "light"
     },
     "output_type": "display_data"
    }
   ],
   "source": [
    "plt.figure()\n",
    "plt.scatter(x, y)\n",
    "plt.show()"
   ]
  },
  {
   "cell_type": "code",
   "execution_count": 7,
   "id": "e9693235",
   "metadata": {},
   "outputs": [],
   "source": [
    "class hypothesis(object):\n",
    "    \"\"\"Модель парной линейной регрессии\"\"\"\n",
    "    def __init__(self):\n",
    "        self.b0 = 0\n",
    "        self.b1 = 0\n",
    "        \n",
    "    def predict(self, x):\n",
    "        return self.b0 + self.b1 * x\n",
    "    \n",
    "    def error(self, X, Y):    \n",
    "        return sum((self.predict(X) - Y)**2) / (2 * len(X)) \n",
    "    \n",
    "    def BGD(self, X, Y):  \n",
    "        alpha = 0.00005\n",
    "        dJ0 = sum(self.predict(X) - Y) /len(X)\n",
    "        dJ1 = sum((self.predict(X) - Y) * X) /len(X)\n",
    "        \n",
    "        self.b0 -= alpha * dJ0\n",
    "        self.b1 -= alpha * dJ1"
   ]
  },
  {
   "cell_type": "code",
   "execution_count": 8,
   "id": "dbf8bada",
   "metadata": {},
   "outputs": [
    {
     "name": "stdout",
     "output_type": "stream",
     "text": [
      "0\n",
      "0\n",
      "initial error: 36271.58344889084\n"
     ]
    }
   ],
   "source": [
    "hyp = hypothesis()\n",
    "print(hyp.predict(0))\n",
    "print(hyp.predict(100))\n",
    "J = hyp.error(x, y)\n",
    "print(\"initial error:\", J)"
   ]
  },
  {
   "cell_type": "code",
   "execution_count": 9,
   "id": "53039af3",
   "metadata": {},
   "outputs": [
    {
     "data": {
      "image/png": "[encoded data removed]",
      "text/plain": [
       "<Figure size 432x288 with 1 Axes>"
      ]
     },
     "metadata": {
      "needs_background": "light"
     },
     "output_type": "display_data"
    }
   ],
   "source": [
    "X0 = np.linspace(60, 180, 100)\n",
    "Y0 = hyp.predict(X0)\n",
    "plt.figure()\n",
    "plt.scatter(x, y)\n",
    "plt.plot(X0, Y0, 'r')\n",
    "plt.show()"
   ]
  },
  {
   "cell_type": "code",
   "execution_count": 10,
   "id": "e93c26b7",
   "metadata": {},
   "outputs": [
    {
     "name": "stdout",
     "output_type": "stream",
     "text": [
      "error after gradient descent: 6734.135540194945\n"
     ]
    }
   ],
   "source": [
    "hyp.BGD(x, y)\n",
    "J = hyp.error(x, y)\n",
    "print(\"error after gradient descent:\", J)"
   ]
  },
  {
   "cell_type": "code",
   "execution_count": 11,
   "id": "7b704d15",
   "metadata": {},
   "outputs": [
    {
     "data": {
      "image/png": "[encoded data removed]",
      "text/plain": [
       "<Figure size 432x288 with 1 Axes>"
      ]
     },
     "metadata": {
      "needs_background": "light"
     },
     "output_type": "display_data"
    }
   ],
   "source": [
    "X0 = np.linspace(60, 180, 100)\n",
    "Y0 = hyp.predict(X0)\n",
    "plt.figure()\n",
    "plt.scatter(x, y)\n",
    "plt.plot(X0, Y0, 'r')\n",
    "plt.show()"
   ]
  },
  {
   "cell_type": "code",
   "execution_count": 12,
   "id": "5ec38bb6",
   "metadata": {},
   "outputs": [],
   "source": [
    "class hypothesis(object):\n",
    "    \"\"\"Модель парной линейной регрессии\"\"\"\n",
    "    def __init__(self):\n",
    "        self.b0 = 0\n",
    "        self.b1 = 0\n",
    "        \n",
    "    def predict(self, x):\n",
    "        return self.b0 + self.b1 * x\n",
    "    \n",
    "    def error(self, X, Y):    \n",
    "        return sum((self.predict(X) - Y)**2) / (2 * len(X)) \n",
    "    \n",
    "    def BGD(self, X, Y, alpha=0.000005, accuracy=0.01):\n",
    "        steps, errors = [], []\n",
    "        step = 0        \n",
    "        old_err = hyp.error(X, Y)\n",
    "        new_err = hyp.error(X, Y) - 1\n",
    "        dJ = 1\n",
    "        while dJ > accuracy:\n",
    "            dJ0 = sum(self.predict(X) - Y) /len(X)\n",
    "            dJ1 = sum((self.predict(X) - Y) * X) /len(X)\n",
    "            self.b0 -= alpha * dJ0\n",
    "            self.b1 -= alpha * dJ1            \n",
    "            old_err = new_err\n",
    "            new_err = hyp.error(X, Y)\n",
    "            dJ = old_err - new_err          \n",
    "            step += 1            \n",
    "            steps.append(step)\n",
    "            errors.append(new_err)\n",
    "        return steps, errors"
   ]
  },
  {
   "cell_type": "code",
   "execution_count": 13,
   "id": "3d77de53",
   "metadata": {},
   "outputs": [
    {
     "name": "stdout",
     "output_type": "stream",
     "text": [
      "error after gradient descent: 298.76881676471504\n"
     ]
    }
   ],
   "source": [
    "hyp = hypothesis()\n",
    "steps, errors = hyp.BGD(x, y)\n",
    "J = hyp.error(x, y)\n",
    "print(\"error after gradient descent:\", J)"
   ]
  },
  {
   "cell_type": "code",
   "execution_count": 14,
   "id": "8191daa2",
   "metadata": {},
   "outputs": [
    {
     "data": {
      "image/png": "[encoded data removed]",
      "text/plain": [
       "<Figure size 432x288 with 1 Axes>"
      ]
     },
     "metadata": {
      "needs_background": "light"
     },
     "output_type": "display_data"
    }
   ],
   "source": [
    "X0 = np.linspace(60, 180, 100)\n",
    "Y0 = hyp.predict(X0)\n",
    "\n",
    "plt.figure()\n",
    "plt.scatter(x, y)\n",
    "plt.plot(X0, Y0, 'r')\n",
    "plt.show()"
   ]
  },
  {
   "cell_type": "code",
   "execution_count": 15,
   "id": "528a5933",
   "metadata": {},
   "outputs": [
    {
     "data": {
      "image/png": "[encoded data removed]",
      "text/plain": [
       "<Figure size 432x288 with 1 Axes>"
      ]
     },
     "metadata": {
      "needs_background": "light"
     },
     "output_type": "display_data"
    }
   ],
   "source": [
    "plt.figure()\n",
    "plt.plot(steps, errors, 'g')\n",
    "plt.show()"
   ]
  },
  {
   "cell_type": "markdown",
   "id": "d61d37b8",
   "metadata": {},
   "source": [
    "## Контрольные вопросы"
   ]
  },
  {
   "cell_type": "markdown",
   "id": "42d17924",
   "metadata": {},
   "source": [
    "#### 1.\tСформулируйте задачу регрессии.\n",
    "Прогноз какого либо численного показателя (например, цены, температуры и др)  на основе выборки объектов с различными признаками\n",
    "#### 2.\tЧто такое метод наименьших квадратов?\n",
    "Один из базовых методов регрессионного анализа для оценки неизвестных параметров регрессионных моделей по выборочным данным. Метод основан на минимизации суммы квадратов остатков регрессии.\n",
    "#### 3.\tКакие функции ошибки используются в регрессионных моделях? Расскажите про три самые популярные.\n",
    "1) Среднеквадратическое отклонение (mean squared error, MSE), корень из этой ошибки: RMSE – Root Mean Squared Error, коэффициент детерминации (R2)\n",
    "\n",
    "2) Средний модуль отклонения (MAE – Mean Absolute Error или MAD – Mean Absolute Deviation)\n",
    "\n",
    "3) Функция ошибки Хьюбера (Huber loss) и logcosh\n",
    "\n",
    "4) Средний процент отклонения (MAPE – Mean Absolute Percent Error)\n",
    "\n",
    "5) Симметричный средний процент отклонения (SMAPE – Symmetric Mean Absolute Percentage Error)\n",
    "#### 4.\tЧто показывает конкретное значение ошибки регрессии?\n",
    "Насколько велика ошибка предсказания значений переменной Y на основании значений Х.\n",
    "#### 5.\tЗачем нужно строить кривые обучения?\n",
    "Кривая обучения модели, полученная в результате обучения набора обучающих данных и набора данных проверки, может использоваться для диагностики недостаточного, чрезмерного или хорошего соответствия модели.\n",
    "Данная кривая показывает изначальную сложность изучения чего-либо.\n",
    "Для оценки того, насколько хорошо обучилась модель"
   ]
  },
  {
   "cell_type": "markdown",
   "id": "cce06927",
   "metadata": {},
   "source": [
    "## Дополнительные задания"
   ]
  },
  {
   "cell_type": "markdown",
   "id": "e0ff01fb",
   "metadata": {},
   "source": [
    "#### Модель построена на другой паре инструментов при помощи библиотеки sklearn"
   ]
  },
  {
   "cell_type": "code",
   "execution_count": 16,
   "id": "eb6fb17d",
   "metadata": {},
   "outputs": [],
   "source": [
    "yndx = pd.read_csv('data/YNDX_101001_171001.txt')\n",
    "sber = pd.read_csv('data/SBER_101001_171001.txt')\n",
    "df = pd.merge(sber, yndx, on='<DATE>')\n",
    "x = df['<CLOSE>_x'].values\n",
    "y = df['<CLOSE>_y'].values"
   ]
  },
  {
   "cell_type": "code",
   "execution_count": 17,
   "id": "2c2479ff",
   "metadata": {},
   "outputs": [
    {
     "name": "stdout",
     "output_type": "stream",
     "text": [
      "r2_score(LinearRegression) = 0.6567899594762094\n"
     ]
    },
    {
     "data": {
      "image/png": "[encoded data removed]",
      "text/plain": [
       "<Figure size 432x288 with 1 Axes>"
      ]
     },
     "metadata": {
      "needs_background": "light"
     },
     "output_type": "display_data"
    }
   ],
   "source": [
    "import seaborn as sns\n",
    "from matplotlib.axes import Axes\n",
    "from sklearn.linear_model import LinearRegression\n",
    "from sklearn.metrics import r2_score\n",
    "from sklearn.model_selection import train_test_split\n",
    "\n",
    "X_train, X_test, y_train, y_test = train_test_split(x, y, train_size=0.75)\n",
    "model = LinearRegression().fit(X_train.reshape(-1, 1), y_train.reshape(-1, 1))\n",
    "sklearn_pred = model.predict(x.reshape(-1, 1))\n",
    "ax: Axes = sns.scatterplot(x=x, y=y)\n",
    "ax.plot(x, sklearn_pred, color='springgreen')\n",
    "ax.legend(['data', 'Hypothesis', 'LinearRegression'])\n",
    "print(f'r2_score(LinearRegression) = {r2_score(y, sklearn_pred)}')"
   ]
  },
  {
   "cell_type": "code",
   "execution_count": null,
   "id": "c7ab16d9",
   "metadata": {},
   "outputs": [],
   "source": []
  }
 ],
 "metadata": {
  "kernelspec": {
   "display_name": "Python 3 (ipykernel)",
   "language": "python",
   "name": "python3"
  },
  "language_info": {
   "codemirror_mode": {
    "name": "ipython",
    "version": 3
   },
   "file_extension": ".py",
   "mimetype": "text/x-python",
   "name": "python",
   "nbconvert_exporter": "python",
   "pygments_lexer": "ipython3",
   "version": "3.7.11"
  }
 },
 "nbformat": 4,
 "nbformat_minor": 5
}
