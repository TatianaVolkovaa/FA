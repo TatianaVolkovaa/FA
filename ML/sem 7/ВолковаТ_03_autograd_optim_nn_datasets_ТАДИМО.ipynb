{
  "nbformat": 4,
  "nbformat_minor": 0,
  "metadata": {
    "colab": {
      "provenance": [],
      "collapsed_sections": []
    },
    "kernelspec": {
      "name": "python3",
      "display_name": "Python 3"
    }
  },
  "cells": [
    {
      "cell_type": "code",
      "metadata": {
        "id": "6ktSXdQVb9Li"
      },
      "source": [
        "import torch\n",
        "import numpy as np\n",
        "import matplotlib.pyplot as plt"
      ],
      "execution_count": 4,
      "outputs": []
    },
    {
      "cell_type": "markdown",
      "metadata": {
        "id": "4L7Inb1JbiDy"
      },
      "source": [
        "## 3.1 Автоматическое дифференцирование в `torch`"
      ]
    },
    {
      "cell_type": "markdown",
      "source": [
        "пакетный градиентный спуск вычисляет один шаг, используя сразу весь набор данных, тогда как **стохастический** за шаг использует только 1 элемент"
      ],
      "metadata": {
        "id": "bQkEzl1ITIaR"
      }
    },
    {
      "cell_type": "markdown",
      "metadata": {
        "id": "HsZ69HZ0EsI7"
      },
      "source": [
        "3.1.1 Воспользовавшись классами `Neuron` и `SquaredLoss` из задачи 2.4.1 и автоматическим дифференцированием, которое предоставляет `torch`, решить задачу регрессии. Для оптимизации использовать стохастический градиетный спуск."
      ]
    },
    {
      "cell_type": "code",
      "metadata": {
        "id": "zynPAaOrRKTm"
      },
      "source": [
        "from sklearn.datasets import make_regression\n",
        "\n",
        "X, y, coef = make_regression(n_features=4, n_informative=4, coef=True, bias=0.5)\n",
        "X = torch.from_numpy(X).to(dtype=torch.float32)\n",
        "y = torch.from_numpy(y).to(dtype=torch.float32)"
      ],
      "execution_count": 14,
      "outputs": []
    },
    {
      "cell_type": "code",
      "source": [
        "class SquaredLoss:\n",
        "  def forward(self, y_pred, y_true):\n",
        "    self.loss = ((y_pred - y_true)**2)\n",
        "    return self.loss\n",
        "\n",
        "  def backward(self, y_pred, y_true):\n",
        "    y_pred = torch.autograd.Variable(y_pred, requires_grad=True)\n",
        "    y_true = torch.autograd.Variable(y_true, requires_grad=False)\n",
        "    ((y_pred - y_true)**2).backward()\n",
        "    self.dinput = y_pred.grad # - dvalue\n",
        "\n",
        "\n",
        "class Neuron:\n",
        "  def __init__(self, n_inputs):\n",
        "    # <создать атрибуты объекта weights и bias>\n",
        "    self.n_inputs = n_inputs\n",
        "    self.weights = torch.randn(n_inputs, requires_grad=True)\n",
        "    self.bias = torch.randn(1)\n",
        "  \n",
        "  def forward(self, input):\n",
        "    # <реализовать логику нейрона>\n",
        "    self.input = input\n",
        "    return torch.dot(self.weights, input) + self.bias\n",
        "  \n",
        "  def backward(self, dvalue):\n",
        "    # dvalue - значение производной, которое приходит нейрону от следующего слоя сети\n",
        "    # в данном случае это будет значение df/dc (созданное методом backwards у объекта MSELoss)\n",
        "    self.dweights = dvalue * self.input # df/dW     de/dt*X\n",
        "    self.dinput =  dvalue * self.weights # df/wX    de/dt*W\n",
        "    self.dbias = dvalue # df/db                     de/dt*1"
      ],
      "metadata": {
        "id": "YUi6CnhWrPPN"
      },
      "execution_count": 27,
      "outputs": []
    },
    {
      "cell_type": "code",
      "source": [
        "n_inputs = 4 # размерность элемента выборки\n",
        "lr = 0.1 # скорость обучения\n",
        "n_epoch = 100 # количество эпох\n",
        "\n",
        "neuron = Neuron(n_inputs)\n",
        "loss = SquaredLoss()\n",
        "\n",
        "losses = []\n",
        "for epoch in range(100):\n",
        "  for x_example, y_example in zip(X, y):\n",
        "    # forward pass\n",
        "    y_pred = neuron.forward(x_example)\n",
        "    curr_loss = loss.forward(y_pred, y_example)\n",
        "    losses.append(curr_loss)\n",
        "    # backprop\n",
        "    loss.backward(y_pred, y_example)\n",
        "    neuron.backward(loss.dinput)\n",
        "    # update weights\n",
        "    neuron.weights = neuron.weights - lr * neuron.dweights\n",
        "    neuron.bias -= lr * neuron.dbias\n",
        "  print(f'epoch {epoch} mean loss {sum(losses) / len(losses)}')"
      ],
      "metadata": {
        "colab": {
          "base_uri": "https://localhost:8080/"
        },
        "id": "xoaFKyGOW2j4",
        "outputId": "d2f1e2bc-c088-4ff3-b1d7-30eadbb46cc5"
      },
      "execution_count": 29,
      "outputs": [
        {
          "output_type": "stream",
          "name": "stdout",
          "text": [
            "epoch 0 mean loss tensor([1433.3723], grad_fn=<DivBackward0>)\n",
            "epoch 1 mean loss tensor([716.6862], grad_fn=<DivBackward0>)\n",
            "epoch 2 mean loss tensor([477.7908], grad_fn=<DivBackward0>)\n",
            "epoch 3 mean loss tensor([358.3431], grad_fn=<DivBackward0>)\n",
            "epoch 4 mean loss tensor([286.6745], grad_fn=<DivBackward0>)\n",
            "epoch 5 mean loss tensor([238.8954], grad_fn=<DivBackward0>)\n",
            "epoch 6 mean loss tensor([204.7675], grad_fn=<DivBackward0>)\n",
            "epoch 7 mean loss tensor([179.1715], grad_fn=<DivBackward0>)\n",
            "epoch 8 mean loss tensor([159.2636], grad_fn=<DivBackward0>)\n",
            "epoch 9 mean loss tensor([143.3372], grad_fn=<DivBackward0>)\n",
            "epoch 10 mean loss tensor([130.3066], grad_fn=<DivBackward0>)\n",
            "epoch 11 mean loss tensor([119.4477], grad_fn=<DivBackward0>)\n",
            "epoch 12 mean loss tensor([110.2594], grad_fn=<DivBackward0>)\n",
            "epoch 13 mean loss tensor([102.3837], grad_fn=<DivBackward0>)\n",
            "epoch 14 mean loss tensor([95.5582], grad_fn=<DivBackward0>)\n",
            "epoch 15 mean loss tensor([89.5858], grad_fn=<DivBackward0>)\n",
            "epoch 16 mean loss tensor([84.3160], grad_fn=<DivBackward0>)\n",
            "epoch 17 mean loss tensor([79.6318], grad_fn=<DivBackward0>)\n",
            "epoch 18 mean loss tensor([75.4407], grad_fn=<DivBackward0>)\n",
            "epoch 19 mean loss tensor([71.6686], grad_fn=<DivBackward0>)\n",
            "epoch 20 mean loss tensor([68.2558], grad_fn=<DivBackward0>)\n",
            "epoch 21 mean loss tensor([65.1533], grad_fn=<DivBackward0>)\n",
            "epoch 22 mean loss tensor([62.3205], grad_fn=<DivBackward0>)\n",
            "epoch 23 mean loss tensor([59.7238], grad_fn=<DivBackward0>)\n",
            "epoch 24 mean loss tensor([57.3349], grad_fn=<DivBackward0>)\n",
            "epoch 25 mean loss tensor([55.1297], grad_fn=<DivBackward0>)\n",
            "epoch 26 mean loss tensor([53.0879], grad_fn=<DivBackward0>)\n",
            "epoch 27 mean loss tensor([51.1919], grad_fn=<DivBackward0>)\n",
            "epoch 28 mean loss tensor([49.4266], grad_fn=<DivBackward0>)\n",
            "epoch 29 mean loss tensor([47.7791], grad_fn=<DivBackward0>)\n",
            "epoch 30 mean loss tensor([46.2378], grad_fn=<DivBackward0>)\n",
            "epoch 31 mean loss tensor([44.7929], grad_fn=<DivBackward0>)\n",
            "epoch 32 mean loss tensor([43.4355], grad_fn=<DivBackward0>)\n",
            "epoch 33 mean loss tensor([42.1580], grad_fn=<DivBackward0>)\n",
            "epoch 34 mean loss tensor([40.9535], grad_fn=<DivBackward0>)\n",
            "epoch 35 mean loss tensor([39.8159], grad_fn=<DivBackward0>)\n",
            "epoch 36 mean loss tensor([38.7398], grad_fn=<DivBackward0>)\n",
            "epoch 37 mean loss tensor([37.7203], grad_fn=<DivBackward0>)\n",
            "epoch 38 mean loss tensor([36.7531], grad_fn=<DivBackward0>)\n",
            "epoch 39 mean loss tensor([35.8343], grad_fn=<DivBackward0>)\n",
            "epoch 40 mean loss tensor([34.9603], grad_fn=<DivBackward0>)\n",
            "epoch 41 mean loss tensor([34.1279], grad_fn=<DivBackward0>)\n",
            "epoch 42 mean loss tensor([33.3342], grad_fn=<DivBackward0>)\n",
            "epoch 43 mean loss tensor([32.5766], grad_fn=<DivBackward0>)\n",
            "epoch 44 mean loss tensor([31.8527], grad_fn=<DivBackward0>)\n",
            "epoch 45 mean loss tensor([31.1603], grad_fn=<DivBackward0>)\n",
            "epoch 46 mean loss tensor([30.4973], grad_fn=<DivBackward0>)\n",
            "epoch 47 mean loss tensor([29.8619], grad_fn=<DivBackward0>)\n",
            "epoch 48 mean loss tensor([29.2525], grad_fn=<DivBackward0>)\n",
            "epoch 49 mean loss tensor([28.6674], grad_fn=<DivBackward0>)\n",
            "epoch 50 mean loss tensor([28.1053], grad_fn=<DivBackward0>)\n",
            "epoch 51 mean loss tensor([27.5649], grad_fn=<DivBackward0>)\n",
            "epoch 52 mean loss tensor([27.0448], grad_fn=<DivBackward0>)\n",
            "epoch 53 mean loss tensor([26.5439], grad_fn=<DivBackward0>)\n",
            "epoch 54 mean loss tensor([26.0613], grad_fn=<DivBackward0>)\n",
            "epoch 55 mean loss tensor([25.5959], grad_fn=<DivBackward0>)\n",
            "epoch 56 mean loss tensor([25.1469], grad_fn=<DivBackward0>)\n",
            "epoch 57 mean loss tensor([24.7133], grad_fn=<DivBackward0>)\n",
            "epoch 58 mean loss tensor([24.2944], grad_fn=<DivBackward0>)\n",
            "epoch 59 mean loss tensor([23.8895], grad_fn=<DivBackward0>)\n",
            "epoch 60 mean loss tensor([23.4979], grad_fn=<DivBackward0>)\n",
            "epoch 61 mean loss tensor([23.1189], grad_fn=<DivBackward0>)\n",
            "epoch 62 mean loss tensor([22.7519], grad_fn=<DivBackward0>)\n",
            "epoch 63 mean loss tensor([22.3964], grad_fn=<DivBackward0>)\n",
            "epoch 64 mean loss tensor([22.0519], grad_fn=<DivBackward0>)\n",
            "epoch 65 mean loss tensor([21.7178], grad_fn=<DivBackward0>)\n",
            "epoch 66 mean loss tensor([21.3936], grad_fn=<DivBackward0>)\n",
            "epoch 67 mean loss tensor([21.0790], grad_fn=<DivBackward0>)\n",
            "epoch 68 mean loss tensor([20.7735], grad_fn=<DivBackward0>)\n",
            "epoch 69 mean loss tensor([20.4767], grad_fn=<DivBackward0>)\n",
            "epoch 70 mean loss tensor([20.1883], grad_fn=<DivBackward0>)\n",
            "epoch 71 mean loss tensor([19.9079], grad_fn=<DivBackward0>)\n",
            "epoch 72 mean loss tensor([19.6352], grad_fn=<DivBackward0>)\n",
            "epoch 73 mean loss tensor([19.3699], grad_fn=<DivBackward0>)\n",
            "epoch 74 mean loss tensor([19.1116], grad_fn=<DivBackward0>)\n",
            "epoch 75 mean loss tensor([18.8602], grad_fn=<DivBackward0>)\n",
            "epoch 76 mean loss tensor([18.6152], grad_fn=<DivBackward0>)\n",
            "epoch 77 mean loss tensor([18.3766], grad_fn=<DivBackward0>)\n",
            "epoch 78 mean loss tensor([18.1440], grad_fn=<DivBackward0>)\n",
            "epoch 79 mean loss tensor([17.9172], grad_fn=<DivBackward0>)\n",
            "epoch 80 mean loss tensor([17.6960], grad_fn=<DivBackward0>)\n",
            "epoch 81 mean loss tensor([17.4802], grad_fn=<DivBackward0>)\n",
            "epoch 82 mean loss tensor([17.2695], grad_fn=<DivBackward0>)\n",
            "epoch 83 mean loss tensor([17.0640], grad_fn=<DivBackward0>)\n",
            "epoch 84 mean loss tensor([16.8632], grad_fn=<DivBackward0>)\n",
            "epoch 85 mean loss tensor([16.6671], grad_fn=<DivBackward0>)\n",
            "epoch 86 mean loss tensor([16.4755], grad_fn=<DivBackward0>)\n",
            "epoch 87 mean loss tensor([16.2883], grad_fn=<DivBackward0>)\n",
            "epoch 88 mean loss tensor([16.1053], grad_fn=<DivBackward0>)\n",
            "epoch 89 mean loss tensor([15.9264], grad_fn=<DivBackward0>)\n",
            "epoch 90 mean loss tensor([15.7513], grad_fn=<DivBackward0>)\n",
            "epoch 91 mean loss tensor([15.5801], grad_fn=<DivBackward0>)\n",
            "epoch 92 mean loss tensor([15.4126], grad_fn=<DivBackward0>)\n",
            "epoch 93 mean loss tensor([15.2486], grad_fn=<DivBackward0>)\n",
            "epoch 94 mean loss tensor([15.0881], grad_fn=<DivBackward0>)\n",
            "epoch 95 mean loss tensor([14.9310], grad_fn=<DivBackward0>)\n",
            "epoch 96 mean loss tensor([14.7770], grad_fn=<DivBackward0>)\n",
            "epoch 97 mean loss tensor([14.6262], grad_fn=<DivBackward0>)\n",
            "epoch 98 mean loss tensor([14.4785], grad_fn=<DivBackward0>)\n",
            "epoch 99 mean loss tensor([14.3337], grad_fn=<DivBackward0>)\n"
          ]
        }
      ]
    },
    {
      "cell_type": "code",
      "source": [
        "# ошибка считается по рандомной части выборки\n",
        "\n",
        "n_inputs = 4 # размерность элемента выборки\n",
        "lr = 0.1 # скорость обучения\n",
        "n_epoch = 100 # количество эпох\n",
        "batch_size = 8 # размерность рандомной части выборки\n",
        "\n",
        "neuron = Neuron(n_inputs)\n",
        "loss = SquaredLoss()\n",
        "\n",
        "losses = []\n",
        "for epoch in range(100):\n",
        "  sample = torch.randint(0, X.shape[0], size=(batch_size,))\n",
        "  for x_example, y_example in zip(X[sample], y[sample]):\n",
        "    # forward pass\n",
        "    y_pred = neuron.forward(x_example)\n",
        "    curr_loss = loss.forward(y_pred, y_example)\n",
        "    losses.append(curr_loss)\n",
        "    # backprop\n",
        "    loss.backward(y_pred, y_example)\n",
        "    neuron.backward(loss.dinput)\n",
        "    # update weights\n",
        "    neuron.weights = neuron.weights - lr * neuron.dweights\n",
        "    neuron.bias -= lr * neuron.dbias\n",
        "  print(f'epoch {epoch} mean loss {sum(losses) / len(losses)}')"
      ],
      "metadata": {
        "colab": {
          "base_uri": "https://localhost:8080/"
        },
        "id": "vM9mJKYWiu8p",
        "outputId": "33fd0133-8a91-42d2-d915-44942abb3249"
      },
      "execution_count": 30,
      "outputs": [
        {
          "output_type": "stream",
          "name": "stdout",
          "text": [
            "epoch 0 mean loss tensor([6437.4097], grad_fn=<DivBackward0>)\n",
            "epoch 1 mean loss tensor([6454.3564], grad_fn=<DivBackward0>)\n",
            "epoch 2 mean loss tensor([4799.5176], grad_fn=<DivBackward0>)\n",
            "epoch 3 mean loss tensor([3679.2871], grad_fn=<DivBackward0>)\n",
            "epoch 4 mean loss tensor([2947.8862], grad_fn=<DivBackward0>)\n",
            "epoch 5 mean loss tensor([2456.9043], grad_fn=<DivBackward0>)\n",
            "epoch 6 mean loss tensor([2105.9578], grad_fn=<DivBackward0>)\n",
            "epoch 7 mean loss tensor([1842.7383], grad_fn=<DivBackward0>)\n",
            "epoch 8 mean loss tensor([1638.0228], grad_fn=<DivBackward0>)\n",
            "epoch 9 mean loss tensor([1474.2218], grad_fn=<DivBackward0>)\n",
            "epoch 10 mean loss tensor([1340.2041], grad_fn=<DivBackward0>)\n",
            "epoch 11 mean loss tensor([1228.5206], grad_fn=<DivBackward0>)\n",
            "epoch 12 mean loss tensor([1134.0190], grad_fn=<DivBackward0>)\n",
            "epoch 13 mean loss tensor([1053.0177], grad_fn=<DivBackward0>)\n",
            "epoch 14 mean loss tensor([982.8165], grad_fn=<DivBackward0>)\n",
            "epoch 15 mean loss tensor([921.3904], grad_fn=<DivBackward0>)\n",
            "epoch 16 mean loss tensor([867.1910], grad_fn=<DivBackward0>)\n",
            "epoch 17 mean loss tensor([819.0137], grad_fn=<DivBackward0>)\n",
            "epoch 18 mean loss tensor([775.9077], grad_fn=<DivBackward0>)\n",
            "epoch 19 mean loss tensor([737.1124], grad_fn=<DivBackward0>)\n",
            "epoch 20 mean loss tensor([702.0118], grad_fn=<DivBackward0>)\n",
            "epoch 21 mean loss tensor([670.1021], grad_fn=<DivBackward0>)\n",
            "epoch 22 mean loss tensor([640.9673], grad_fn=<DivBackward0>)\n",
            "epoch 23 mean loss tensor([614.2603], grad_fn=<DivBackward0>)\n",
            "epoch 24 mean loss tensor([589.6899], grad_fn=<DivBackward0>)\n",
            "epoch 25 mean loss tensor([567.0095], grad_fn=<DivBackward0>)\n",
            "epoch 26 mean loss tensor([546.0092], grad_fn=<DivBackward0>)\n",
            "epoch 27 mean loss tensor([526.5089], grad_fn=<DivBackward0>)\n",
            "epoch 28 mean loss tensor([508.3533], grad_fn=<DivBackward0>)\n",
            "epoch 29 mean loss tensor([491.4082], grad_fn=<DivBackward0>)\n",
            "epoch 30 mean loss tensor([475.5564], grad_fn=<DivBackward0>)\n",
            "epoch 31 mean loss tensor([460.6952], grad_fn=<DivBackward0>)\n",
            "epoch 32 mean loss tensor([446.7348], grad_fn=<DivBackward0>)\n",
            "epoch 33 mean loss tensor([433.5955], grad_fn=<DivBackward0>)\n",
            "epoch 34 mean loss tensor([421.2071], grad_fn=<DivBackward0>)\n",
            "epoch 35 mean loss tensor([409.5069], grad_fn=<DivBackward0>)\n",
            "epoch 36 mean loss tensor([398.4391], grad_fn=<DivBackward0>)\n",
            "epoch 37 mean loss tensor([387.9539], grad_fn=<DivBackward0>)\n",
            "epoch 38 mean loss tensor([378.0063], grad_fn=<DivBackward0>)\n",
            "epoch 39 mean loss tensor([368.5562], grad_fn=<DivBackward0>)\n",
            "epoch 40 mean loss tensor([359.5670], grad_fn=<DivBackward0>)\n",
            "epoch 41 mean loss tensor([351.0059], grad_fn=<DivBackward0>)\n",
            "epoch 42 mean loss tensor([342.8430], grad_fn=<DivBackward0>)\n",
            "epoch 43 mean loss tensor([335.0511], grad_fn=<DivBackward0>)\n",
            "epoch 44 mean loss tensor([327.6055], grad_fn=<DivBackward0>)\n",
            "epoch 45 mean loss tensor([320.4836], grad_fn=<DivBackward0>)\n",
            "epoch 46 mean loss tensor([313.6648], grad_fn=<DivBackward0>)\n",
            "epoch 47 mean loss tensor([307.1302], grad_fn=<DivBackward0>)\n",
            "epoch 48 mean loss tensor([300.8622], grad_fn=<DivBackward0>)\n",
            "epoch 49 mean loss tensor([294.8449], grad_fn=<DivBackward0>)\n",
            "epoch 50 mean loss tensor([289.0637], grad_fn=<DivBackward0>)\n",
            "epoch 51 mean loss tensor([283.5048], grad_fn=<DivBackward0>)\n",
            "epoch 52 mean loss tensor([278.1556], grad_fn=<DivBackward0>)\n",
            "epoch 53 mean loss tensor([273.0046], grad_fn=<DivBackward0>)\n",
            "epoch 54 mean loss tensor([268.0409], grad_fn=<DivBackward0>)\n",
            "epoch 55 mean loss tensor([263.2544], grad_fn=<DivBackward0>)\n",
            "epoch 56 mean loss tensor([258.6359], grad_fn=<DivBackward0>)\n",
            "epoch 57 mean loss tensor([254.1767], grad_fn=<DivBackward0>)\n",
            "epoch 58 mean loss tensor([249.8686], grad_fn=<DivBackward0>)\n",
            "epoch 59 mean loss tensor([245.7041], grad_fn=<DivBackward0>)\n",
            "epoch 60 mean loss tensor([241.6762], grad_fn=<DivBackward0>)\n",
            "epoch 61 mean loss tensor([237.7782], grad_fn=<DivBackward0>)\n",
            "epoch 62 mean loss tensor([234.0039], grad_fn=<DivBackward0>)\n",
            "epoch 63 mean loss tensor([230.3476], grad_fn=<DivBackward0>)\n",
            "epoch 64 mean loss tensor([226.8038], grad_fn=<DivBackward0>)\n",
            "epoch 65 mean loss tensor([223.3674], grad_fn=<DivBackward0>)\n",
            "epoch 66 mean loss tensor([220.0335], grad_fn=<DivBackward0>)\n",
            "epoch 67 mean loss tensor([216.7977], grad_fn=<DivBackward0>)\n",
            "epoch 68 mean loss tensor([213.6558], grad_fn=<DivBackward0>)\n",
            "epoch 69 mean loss tensor([210.6035], grad_fn=<DivBackward0>)\n",
            "epoch 70 mean loss tensor([207.6373], grad_fn=<DivBackward0>)\n",
            "epoch 71 mean loss tensor([204.7534], grad_fn=<DivBackward0>)\n",
            "epoch 72 mean loss tensor([201.9486], grad_fn=<DivBackward0>)\n",
            "epoch 73 mean loss tensor([199.2196], grad_fn=<DivBackward0>)\n",
            "epoch 74 mean loss tensor([196.5633], grad_fn=<DivBackward0>)\n",
            "epoch 75 mean loss tensor([193.9769], grad_fn=<DivBackward0>)\n",
            "epoch 76 mean loss tensor([191.4577], grad_fn=<DivBackward0>)\n",
            "epoch 77 mean loss tensor([189.0032], grad_fn=<DivBackward0>)\n",
            "epoch 78 mean loss tensor([186.6107], grad_fn=<DivBackward0>)\n",
            "epoch 79 mean loss tensor([184.2781], grad_fn=<DivBackward0>)\n",
            "epoch 80 mean loss tensor([182.0031], grad_fn=<DivBackward0>)\n",
            "epoch 81 mean loss tensor([179.7835], grad_fn=<DivBackward0>)\n",
            "epoch 82 mean loss tensor([177.6174], grad_fn=<DivBackward0>)\n",
            "epoch 83 mean loss tensor([175.5029], grad_fn=<DivBackward0>)\n",
            "epoch 84 mean loss tensor([173.4382], grad_fn=<DivBackward0>)\n",
            "epoch 85 mean loss tensor([171.4215], grad_fn=<DivBackward0>)\n",
            "epoch 86 mean loss tensor([169.4511], grad_fn=<DivBackward0>)\n",
            "epoch 87 mean loss tensor([167.5255], grad_fn=<DivBackward0>)\n",
            "epoch 88 mean loss tensor([165.6432], grad_fn=<DivBackward0>)\n",
            "epoch 89 mean loss tensor([163.8027], grad_fn=<DivBackward0>)\n",
            "epoch 90 mean loss tensor([162.0027], grad_fn=<DivBackward0>)\n",
            "epoch 91 mean loss tensor([160.2418], grad_fn=<DivBackward0>)\n",
            "epoch 92 mean loss tensor([158.5188], grad_fn=<DivBackward0>)\n",
            "epoch 93 mean loss tensor([156.8324], grad_fn=<DivBackward0>)\n",
            "epoch 94 mean loss tensor([155.1815], grad_fn=<DivBackward0>)\n",
            "epoch 95 mean loss tensor([153.5651], grad_fn=<DivBackward0>)\n",
            "epoch 96 mean loss tensor([151.9819], grad_fn=<DivBackward0>)\n",
            "epoch 97 mean loss tensor([150.4311], grad_fn=<DivBackward0>)\n",
            "epoch 98 mean loss tensor([148.9116], grad_fn=<DivBackward0>)\n",
            "epoch 99 mean loss tensor([147.4225], grad_fn=<DivBackward0>)\n"
          ]
        }
      ]
    },
    {
      "cell_type": "markdown",
      "metadata": {
        "id": "wxWeyJw5lAqU"
      },
      "source": [
        "3.1.2 Воспользовавшись классами `Linear` и `MSELoss` из задачи 2.1.4 и 2.3.1, `ReLU` из 2.2.1 и автоматическим дифференцированием, которое предоставляет `torch`, решить задачу регрессии. Для оптимизации использовать пакетный градиентный спуск. Вывести график функции потерь в зависимости от номера эпохи. Вывести на одном графике исходные данные и предсказанные значения."
      ]
    },
    {
      "cell_type": "code",
      "metadata": {
        "id": "bnlAt1NEQoat"
      },
      "source": [
        "X = torch.linspace(0, 1, 100).view(-1, 1)\n",
        "y = torch.sin(2 * np.pi * X) + 0.1 * torch.rand(X.size()) "
      ],
      "execution_count": 31,
      "outputs": []
    },
    {
      "cell_type": "code",
      "source": [
        "class Linear:\n",
        "  def __init__(self, n_features, n_neurons):\n",
        "    # <создать атрибуты объекта weights и biases>\n",
        "    self.weights = torch.randn(n_features, n_neurons)\n",
        "    self.biases = torch.zeros(n_neurons)    \n",
        "  \n",
        "  def forward(self, inputs):\n",
        "    # <реализовать логику слоя>\n",
        "    self.inputs = inputs\n",
        "    return torch.matmul(inputs, self.weights) + self.biases\n",
        "\n",
        "  def backward(self, dvalues):\n",
        "    self.dweights = torch.matmul(self.inputs.T, dvalues) # df/dW     de/dt*X\n",
        "    self.dinputs = torch.matmul(dvalues, self.weights.T) # df/wX     de/dt*W\n",
        "    self.dbiases = torch.sum(dvalues, axis=0)            # df/db     de/dt*1\n",
        "\n",
        "\n",
        "\n",
        "class MSELoss:\n",
        "  def forward(self, y_pred, y_true):\n",
        "    # <реализовать логику MSE>\n",
        "    self.y_pred = torch.autograd.Variable(y_pred, requires_grad=True)\n",
        "    self.y_true = torch.autograd.Variable(y_true, requires_grad=False)\n",
        "    #self.loss = 1 / self.y_pred.size()[0] * ((self.y_true - self.y_pred)**2).sum()\n",
        "    self.loss = ((self.y_pred - self.y_true) ** 2).mean()\n",
        "    return self.loss\n",
        "  def backward(self):\n",
        "    self.loss.backward()\n",
        "    self.dinput = self.y_pred.grad # - dvalue\n",
        "\n",
        "\n",
        "\n",
        "class ReLU:\n",
        "  def forward(self, inputs):\n",
        "    # <реализовать логику ReLU>\n",
        "    inputs[inputs<0] = 0\n",
        "    return inputs"
      ],
      "metadata": {
        "id": "PIC0k5urXn22"
      },
      "execution_count": 41,
      "outputs": []
    },
    {
      "cell_type": "code",
      "source": [
        "# # ВСЕ ГОВНО, ОШИБКА РАСТЕТ\n",
        "\n",
        "# n_inputs = 4 # размерность элемента выборки\n",
        "# lr = 0.1 # скорость обучения\n",
        "# n_epoch = 100 # количество эпох\n",
        "\n",
        "# neuron = Linear(1, 1)\n",
        "# loss = MSELoss()\n",
        "# activation = ReLU()\n",
        "\n",
        "# losses = []\n",
        "# for epoch in range(n_epoch):\n",
        "#   for x_example, y_example in zip(X, y):\n",
        "#     # forward pass\n",
        "#     y_pred = neuron.forward(x_example)\n",
        "#     y_pred = activation.forward(y_pred)\n",
        "#     curr_loss = loss.forward(y_pred, y_example)\n",
        "#     losses.append(curr_loss)\n",
        "#     # backprop\n",
        "#     loss.backward()\n",
        "#     neuron.backward(loss.dinput)\n",
        "#     # update weights\n",
        "#     neuron.weights -= lr * neuron.dweights\n",
        "#     neuron.biases -= lr * neuron.dbiases\n",
        "#   print(f'epoch {epoch} mean loss {sum(losses) / len(losses)}')"
      ],
      "metadata": {
        "colab": {
          "base_uri": "https://localhost:8080/"
        },
        "id": "mngHUdOW70jE",
        "outputId": "8e3dae00-077b-4368-e309-cca64317cbeb"
      },
      "execution_count": 42,
      "outputs": [
        {
          "output_type": "stream",
          "name": "stdout",
          "text": [
            "epoch 0 mean loss 0.23564815521240234\n",
            "epoch 1 mean loss 0.36457377672195435\n",
            "epoch 2 mean loss 0.4075489342212677\n",
            "epoch 3 mean loss 0.42903658747673035\n",
            "epoch 4 mean loss 0.4419291913509369\n",
            "epoch 5 mean loss 0.4505241811275482\n",
            "epoch 6 mean loss 0.45666345953941345\n",
            "epoch 7 mean loss 0.4618102014064789\n",
            "epoch 8 mean loss 0.4682827889919281\n",
            "epoch 9 mean loss 0.4752180874347687\n",
            "epoch 10 mean loss 0.4817294180393219\n",
            "epoch 11 mean loss 0.4876094460487366\n",
            "epoch 12 mean loss 0.4928787350654602\n",
            "epoch 13 mean loss 0.4975963532924652\n",
            "epoch 14 mean loss 0.5018479824066162\n",
            "epoch 15 mean loss 0.5057145953178406\n",
            "epoch 16 mean loss 0.5092647671699524\n",
            "epoch 17 mean loss 0.5125542283058167\n",
            "epoch 18 mean loss 0.5156281590461731\n",
            "epoch 19 mean loss 0.5185228586196899\n",
            "epoch 20 mean loss 0.5212673544883728\n",
            "epoch 21 mean loss 0.5238761901855469\n",
            "epoch 22 mean loss 0.5263420939445496\n",
            "epoch 23 mean loss 0.528671145439148\n",
            "epoch 24 mean loss 0.5308747291564941\n",
            "epoch 25 mean loss 0.5329654812812805\n",
            "epoch 26 mean loss 0.5349555611610413\n",
            "epoch 27 mean loss 0.5368562936782837\n",
            "epoch 28 mean loss 0.5386777520179749\n",
            "epoch 29 mean loss 0.5404288172721863\n",
            "epoch 30 mean loss 0.5421173572540283\n",
            "epoch 31 mean loss 0.5437503457069397\n",
            "epoch 32 mean loss 0.5453338027000427\n",
            "epoch 33 mean loss 0.5468732118606567\n",
            "epoch 34 mean loss 0.548373281955719\n",
            "epoch 35 mean loss 0.5498383045196533\n",
            "epoch 36 mean loss 0.5512720346450806\n",
            "epoch 37 mean loss 0.5526782274246216\n",
            "epoch 38 mean loss 0.554059624671936\n",
            "epoch 39 mean loss 0.5554189682006836\n",
            "epoch 40 mean loss 0.5567586421966553\n",
            "epoch 41 mean loss 0.5580810308456421\n",
            "epoch 42 mean loss 0.5593880414962769\n",
            "epoch 43 mean loss 0.5606816411018372\n",
            "epoch 44 mean loss 0.561962902545929\n",
            "epoch 45 mean loss 0.5632284879684448\n",
            "epoch 46 mean loss 0.5644702315330505\n",
            "epoch 47 mean loss 0.5656837224960327\n",
            "epoch 48 mean loss 0.5668672919273376\n",
            "epoch 49 mean loss 0.5680204629898071\n",
            "epoch 50 mean loss 0.5691437125205994\n",
            "epoch 51 mean loss 0.5702380537986755\n",
            "epoch 52 mean loss 0.5713046193122864\n",
            "epoch 53 mean loss 0.5723448395729065\n",
            "epoch 54 mean loss 0.573360025882721\n",
            "epoch 55 mean loss 0.5743515491485596\n",
            "epoch 56 mean loss 0.5753206610679626\n",
            "epoch 57 mean loss 0.57626873254776\n",
            "epoch 58 mean loss 0.5771968960762024\n",
            "epoch 59 mean loss 0.5781062245368958\n",
            "epoch 60 mean loss 0.5789978504180908\n",
            "epoch 61 mean loss 0.579872727394104\n",
            "epoch 62 mean loss 0.5807318091392517\n",
            "epoch 63 mean loss 0.5815759301185608\n",
            "epoch 64 mean loss 0.5824059247970581\n",
            "epoch 65 mean loss 0.5832225680351257\n",
            "epoch 66 mean loss 0.5840266346931458\n",
            "epoch 67 mean loss 0.5848187208175659\n",
            "epoch 68 mean loss 0.5855995416641235\n",
            "epoch 69 mean loss 0.5863698124885559\n",
            "epoch 70 mean loss 0.5871299505233765\n",
            "epoch 71 mean loss 0.5878804326057434\n",
            "epoch 72 mean loss 0.588621973991394\n",
            "epoch 73 mean loss 0.589354932308197\n",
            "epoch 74 mean loss 0.5900798439979553\n",
            "epoch 75 mean loss 0.5907970666885376\n",
            "epoch 76 mean loss 0.5915070176124573\n",
            "epoch 77 mean loss 0.5922101736068726\n",
            "epoch 78 mean loss 0.5929068326950073\n",
            "epoch 79 mean loss 0.5935973525047302\n",
            "epoch 80 mean loss 0.5942820906639099\n",
            "epoch 81 mean loss 0.594961404800415\n",
            "epoch 82 mean loss 0.5956355333328247\n",
            "epoch 83 mean loss 0.5963048338890076\n",
            "epoch 84 mean loss 0.596969485282898\n",
            "epoch 85 mean loss 0.5976298451423645\n",
            "epoch 86 mean loss 0.5982861518859863\n",
            "epoch 87 mean loss 0.5989385843276978\n",
            "epoch 88 mean loss 0.5995874404907227\n",
            "epoch 89 mean loss 0.6002328395843506\n",
            "epoch 90 mean loss 0.6008750796318054\n",
            "epoch 91 mean loss 0.6015143990516663\n",
            "epoch 92 mean loss 0.6021509766578674\n",
            "epoch 93 mean loss 0.6027849316596985\n",
            "epoch 94 mean loss 0.603416383266449\n",
            "epoch 95 mean loss 0.6040456295013428\n",
            "epoch 96 mean loss 0.6046727299690247\n",
            "epoch 97 mean loss 0.6052979230880737\n",
            "epoch 98 mean loss 0.6059213280677795\n",
            "epoch 99 mean loss 0.6065430045127869\n"
          ]
        }
      ]
    },
    {
      "cell_type": "code",
      "source": [
        "n_inputs = 4 # размерность элемента выборки\n",
        "lr = 0.1 # скорость обучения\n",
        "n_epoch = 100 # количество эпох\n",
        "\n",
        "neuron = Linear(1, 1)\n",
        "loss = MSELoss()\n",
        "activation = ReLU()\n",
        "\n",
        "losses = []\n",
        "for epoch in range(n_epoch):\n",
        "    # forward pass\n",
        "    y_pred = neuron.forward(X)\n",
        "    y_pred = activation.forward(y_pred)\n",
        "    curr_loss = loss.forward(y_pred, y)\n",
        "    losses.append(curr_loss)\n",
        "    # backprop\n",
        "    loss.backward()\n",
        "    neuron.backward(loss.dinput)\n",
        "    # update weights\n",
        "    neuron.weights -= lr * neuron.dweights\n",
        "    neuron.biases -= lr * neuron.dbiases\n",
        "    \n",
        "    print(f'epoch {epoch} mean loss {sum(losses) / len(losses)}')"
      ],
      "metadata": {
        "id": "eLC6KJVf70V5",
        "colab": {
          "base_uri": "https://localhost:8080/"
        },
        "outputId": "4eca2dfb-8fed-4f2f-a8bf-739a960ed0c4"
      },
      "execution_count": 47,
      "outputs": [
        {
          "output_type": "stream",
          "name": "stdout",
          "text": [
            "epoch 0 mean loss 0.4934995174407959\n",
            "epoch 1 mean loss 0.4934858977794647\n",
            "epoch 2 mean loss 0.4934506416320801\n",
            "epoch 3 mean loss 0.49338746070861816\n",
            "epoch 4 mean loss 0.4932915270328522\n",
            "epoch 5 mean loss 0.49316394329071045\n",
            "epoch 6 mean loss 0.4930059611797333\n",
            "epoch 7 mean loss 0.49281826615333557\n",
            "epoch 8 mean loss 0.4926045835018158\n",
            "epoch 9 mean loss 0.49236804246902466\n",
            "epoch 10 mean loss 0.492111474275589\n",
            "epoch 11 mean loss 0.4918385446071625\n",
            "epoch 12 mean loss 0.49155303835868835\n",
            "epoch 13 mean loss 0.49125590920448303\n",
            "epoch 14 mean loss 0.4909515976905823\n",
            "epoch 15 mean loss 0.490640252828598\n",
            "epoch 16 mean loss 0.49032509326934814\n",
            "epoch 17 mean loss 0.49000829458236694\n",
            "epoch 18 mean loss 0.4896901249885559\n",
            "epoch 19 mean loss 0.48937273025512695\n",
            "epoch 20 mean loss 0.489057719707489\n",
            "epoch 21 mean loss 0.4887463450431824\n",
            "epoch 22 mean loss 0.4884381890296936\n",
            "epoch 23 mean loss 0.48813438415527344\n",
            "epoch 24 mean loss 0.48783570528030396\n",
            "epoch 25 mean loss 0.4875427484512329\n",
            "epoch 26 mean loss 0.4872560203075409\n",
            "epoch 27 mean loss 0.48697587847709656\n",
            "epoch 28 mean loss 0.486702561378479\n",
            "epoch 29 mean loss 0.48643624782562256\n",
            "epoch 30 mean loss 0.4861770272254944\n",
            "epoch 31 mean loss 0.48592498898506165\n",
            "epoch 32 mean loss 0.48568013310432434\n",
            "epoch 33 mean loss 0.48544248938560486\n",
            "epoch 34 mean loss 0.4852119982242584\n",
            "epoch 35 mean loss 0.48498857021331787\n",
            "epoch 36 mean loss 0.4847722053527832\n",
            "epoch 37 mean loss 0.4845627248287201\n",
            "epoch 38 mean loss 0.48436006903648376\n",
            "epoch 39 mean loss 0.48416417837142944\n",
            "epoch 40 mean loss 0.4839748740196228\n",
            "epoch 41 mean loss 0.4837920367717743\n",
            "epoch 42 mean loss 0.48361557722091675\n",
            "epoch 43 mean loss 0.48344528675079346\n",
            "epoch 44 mean loss 0.48328110575675964\n",
            "epoch 45 mean loss 0.48312291502952576\n",
            "epoch 46 mean loss 0.48297053575515747\n",
            "epoch 47 mean loss 0.4828238785266876\n",
            "epoch 48 mean loss 0.4826827943325043\n",
            "epoch 49 mean loss 0.48254716396331787\n",
            "epoch 50 mean loss 0.4824168384075165\n",
            "epoch 51 mean loss 0.48229169845581055\n",
            "epoch 52 mean loss 0.48217135667800903\n",
            "epoch 53 mean loss 0.48205554485321045\n",
            "epoch 54 mean loss 0.48194420337677\n",
            "epoch 55 mean loss 0.4818372130393982\n",
            "epoch 56 mean loss 0.48173442482948303\n",
            "epoch 57 mean loss 0.48163577914237976\n",
            "epoch 58 mean loss 0.4815411865711212\n",
            "epoch 59 mean loss 0.48145055770874023\n",
            "epoch 60 mean loss 0.48136377334594727\n",
            "epoch 61 mean loss 0.48128071427345276\n",
            "epoch 62 mean loss 0.4812013804912567\n",
            "epoch 63 mean loss 0.4811256229877472\n",
            "epoch 64 mean loss 0.48105335235595703\n",
            "epoch 65 mean loss 0.48098453879356384\n",
            "epoch 66 mean loss 0.4809190630912781\n",
            "epoch 67 mean loss 0.4808565080165863\n",
            "epoch 68 mean loss 0.480796754360199\n",
            "epoch 69 mean loss 0.4807397425174713\n",
            "epoch 70 mean loss 0.48068544268608093\n",
            "epoch 71 mean loss 0.48063379526138306\n",
            "epoch 72 mean loss 0.4805847108364105\n",
            "epoch 73 mean loss 0.48053812980651855\n",
            "epoch 74 mean loss 0.48049408197402954\n",
            "epoch 75 mean loss 0.48045244812965393\n",
            "epoch 76 mean loss 0.48041316866874695\n",
            "epoch 77 mean loss 0.4803762137889862\n",
            "epoch 78 mean loss 0.4803415536880493\n",
            "epoch 79 mean loss 0.4803090989589691\n",
            "epoch 80 mean loss 0.4802788496017456\n",
            "epoch 81 mean loss 0.480250746011734\n",
            "epoch 82 mean loss 0.4802245497703552\n",
            "epoch 83 mean loss 0.48020005226135254\n",
            "epoch 84 mean loss 0.48017722368240356\n",
            "epoch 85 mean loss 0.48015597462654114\n",
            "epoch 86 mean loss 0.4801363945007324\n",
            "epoch 87 mean loss 0.48011836409568787\n",
            "epoch 88 mean loss 0.48010188341140747\n",
            "epoch 89 mean loss 0.48008695244789124\n",
            "epoch 90 mean loss 0.480073481798172\n",
            "epoch 91 mean loss 0.48006150126457214\n",
            "epoch 92 mean loss 0.4800509512424469\n",
            "epoch 93 mean loss 0.48004183173179626\n",
            "epoch 94 mean loss 0.48003411293029785\n",
            "epoch 95 mean loss 0.4800277650356293\n",
            "epoch 96 mean loss 0.48002275824546814\n",
            "epoch 97 mean loss 0.4800190329551697\n",
            "epoch 98 mean loss 0.48001664876937866\n",
            "epoch 99 mean loss 0.48001551628112793\n"
          ]
        }
      ]
    },
    {
      "cell_type": "code",
      "source": [
        "with torch.no_grad():\n",
        "  plt.plot(losses)"
      ],
      "metadata": {
        "colab": {
          "base_uri": "https://localhost:8080/",
          "height": 265
        },
        "id": "yb4ZsH7xcbiX",
        "outputId": "a47c50f0-f9c2-49b5-c793-12ad455059f8"
      },
      "execution_count": 48,
      "outputs": [
        {
          "output_type": "display_data",
          "data": {
            "text/plain": [
              "<Figure size 432x288 with 1 Axes>"
            ],
            "image/png": "[encoded data removed]"
          },
          "metadata": {
            "needs_background": "light"
          }
        }
      ]
    },
    {
      "cell_type": "code",
      "source": [
        "with torch.no_grad():\n",
        "  plt.plot(X, y, color='green')\n",
        "  plt.plot(X, activation.forward(neuron.forward(X)), color='red')"
      ],
      "metadata": {
        "colab": {
          "base_uri": "https://localhost:8080/",
          "height": 265
        },
        "id": "TM_FYO2YcmgM",
        "outputId": "a2a75827-410f-4799-ead1-7fb8ef6699b6"
      },
      "execution_count": 50,
      "outputs": [
        {
          "output_type": "display_data",
          "data": {
            "text/plain": [
              "<Figure size 432x288 with 1 Axes>"
            ],
            "image/png": "[encoded data removed]"
          },
          "metadata": {
            "needs_background": "light"
          }
        }
      ]
    },
    {
      "cell_type": "markdown",
      "metadata": {
        "id": "nifm0FVB2y5N"
      },
      "source": [
        "## 3.2 Алгоритмы оптимизации в `torch.optim`"
      ]
    },
    {
      "cell_type": "code",
      "metadata": {
        "id": "u5PTTYou3xx8"
      },
      "source": [
        "import torch.optim as optim"
      ],
      "execution_count": 51,
      "outputs": []
    },
    {
      "cell_type": "markdown",
      "metadata": {
        "id": "0oBFfJpmcwfn"
      },
      "source": [
        "3.2.1 Решить задачу 3.1.1, воспользовавшись оптимизатором `optim.SDG` для применения стохастического градиентого спуска"
      ]
    },
    {
      "cell_type": "code",
      "source": [
        "from sklearn.datasets import make_regression\n",
        "\n",
        "X, y, coef = make_regression(n_features=4, n_informative=4, coef=True, bias=0.5)\n",
        "X = torch.from_numpy(X).to(dtype=torch.float32)\n",
        "y = torch.from_numpy(y).to(dtype=torch.float32)"
      ],
      "metadata": {
        "id": "7F4xVYijdZy4"
      },
      "execution_count": 52,
      "outputs": []
    },
    {
      "cell_type": "code",
      "source": [
        "class SquaredLoss:\n",
        "  def forward(self, y_pred, y_true):\n",
        "    self.loss = ((y_pred - y_true)**2)\n",
        "    return self.loss\n",
        "\n",
        "  def backward(self, y_pred, y_true):\n",
        "    y_pred = torch.autograd.Variable(y_pred, requires_grad=True)\n",
        "    y_true = torch.autograd.Variable(y_true, requires_grad=False)\n",
        "    ((y_pred - y_true)**2).backward()\n",
        "    self.dinput = y_pred.grad # - dvalue\n",
        "\n",
        "\n",
        "class Neuron:\n",
        "  def __init__(self, n_inputs):\n",
        "    # <создать атрибуты объекта weights и bias>\n",
        "    self.n_inputs = n_inputs\n",
        "    self.weights = torch.randn(n_inputs, requires_grad=True)\n",
        "    self.bias = torch.randn(1)\n",
        "  \n",
        "  def forward(self, input):\n",
        "    # <реализовать логику нейрона>\n",
        "    self.input = input\n",
        "    return torch.dot(self.weights, input) + self.bias\n",
        "  \n",
        "  def backward(self, dvalue):\n",
        "    # dvalue - значение производной, которое приходит нейрону от следующего слоя сети\n",
        "    # в данном случае это будет значение df/dc (созданное методом backwards у объекта MSELoss)\n",
        "    self.dweights = dvalue * self.input # df/dW     de/dt*X\n",
        "    self.dinput =  dvalue * self.weights # df/wX    de/dt*W\n",
        "    self.dbias = dvalue # df/db                     de/dt*1"
      ],
      "metadata": {
        "id": "4aGNhPGrdeWK"
      },
      "execution_count": null,
      "outputs": []
    },
    {
      "cell_type": "code",
      "source": [
        "# ошибка считается по рандомной части выборки\n",
        "\n",
        "n_inputs = 4 # размерность элемента выборки\n",
        "lr = 0.1 # скорость обучения\n",
        "n_epoch = 2000 # количество эпох\n",
        "batch_size = 8 # размерность рандомной части выборки\n",
        "\n",
        "neuron = Neuron(n_inputs)\n",
        "loss = SquaredLoss()\n",
        "\n",
        "losses = []\n",
        "for epoch in range(n_epoch):\n",
        "  sample = torch.randint(0, X.shape[0], size=(batch_size,))\n",
        "  for x_example, y_example in zip(X[sample], y[sample]):\n",
        "    # forward pass\n",
        "    y_pred = neuron.forward(x_example)\n",
        "    curr_loss = loss.forward(y_pred, y_example)\n",
        "    losses.append(curr_loss)\n",
        "    \n",
        "    # backprop\n",
        "    optimizer = torch.optim.SGD([neuron.weights, neuron.bias], lr=lr, momentum=0.9)\n",
        "    optimizer.zero_grad()\n",
        "    loss.forward(y_pred, y_example).backward()\n",
        "    optimizer.step()\n",
        "    # loss.backward(y_pred, y_example)\n",
        "    # neuron.backward(loss.dinput)\n",
        "    # # update weights\n",
        "    # neuron.weights = neuron.weights - lr * neuron.dweights\n",
        "    # neuron.bias -= lr * neuron.dbias\n",
        "  if epoch % 200 == 0: print(f'epoch {epoch} mean loss {sum(losses) / len(losses)}')"
      ],
      "metadata": {
        "colab": {
          "base_uri": "https://localhost:8080/"
        },
        "id": "ttBCu4IHdeSo",
        "outputId": "5ba5d8f0-0d5d-4eae-c6af-2b685509b7ec"
      },
      "execution_count": 53,
      "outputs": [
        {
          "output_type": "stream",
          "name": "stdout",
          "text": [
            "epoch 0 mean loss tensor([4717.4478], grad_fn=<DivBackward0>)\n",
            "epoch 200 mean loss tensor([29.7875], grad_fn=<DivBackward0>)\n",
            "epoch 400 mean loss tensor([16.6414], grad_fn=<DivBackward0>)\n",
            "epoch 600 mean loss tensor([12.1343], grad_fn=<DivBackward0>)\n",
            "epoch 800 mean loss tensor([9.8492], grad_fn=<DivBackward0>)\n",
            "epoch 1000 mean loss tensor([8.5326], grad_fn=<DivBackward0>)\n",
            "epoch 1200 mean loss tensor([7.6115], grad_fn=<DivBackward0>)\n",
            "epoch 1400 mean loss tensor([6.9668], grad_fn=<DivBackward0>)\n",
            "epoch 1600 mean loss tensor([6.5032], grad_fn=<DivBackward0>)\n",
            "epoch 1800 mean loss tensor([6.1299], grad_fn=<DivBackward0>)\n"
          ]
        }
      ]
    },
    {
      "cell_type": "markdown",
      "metadata": {
        "id": "1LFAacdy46bX"
      },
      "source": [
        "3.2.2 Решить задачу 3.1.2, воспользовавшись оптимизатором `optim.Adam` для применения пакетного градиентого спуска. Вывести график функции потерь в зависимости от номера эпохи. Вывести на одном графике исходные данные и предсказанные значения."
      ]
    },
    {
      "cell_type": "code",
      "source": [
        "class Linear:\n",
        "  def __init__(self, n_features, n_neurons):\n",
        "    # <создать атрибуты объекта weights и biases>\n",
        "    self.weights = torch.randn(n_features, n_neurons, requires_grad=True)\n",
        "    self.biases = torch.zeros(n_neurons, requires_grad=True)    \n",
        "  \n",
        "  def forward(self, inputs):\n",
        "    # <реализовать логику слоя>\n",
        "    self.inputs = inputs\n",
        "    return torch.matmul(inputs, self.weights) + self.biases\n",
        "\n",
        "  def backward(self, dvalues):\n",
        "    self.dweights = torch.matmul(self.inputs.T, dvalues) # df/dW     de/dt*X\n",
        "    self.dinputs = torch.matmul(dvalues, self.weights.T) # df/wX     de/dt*W\n",
        "    self.dbiases = torch.sum(dvalues, axis=0)            # df/db     de/dt*1\n",
        "\n",
        "\n",
        "\n",
        "class MSELoss:\n",
        "  def forward(self, y_pred, y_true):\n",
        "    # <реализовать логику MSE>\n",
        "    self.y_pred = torch.autograd.Variable(y_pred, requires_grad=True)\n",
        "    self.y_true = torch.autograd.Variable(y_true, requires_grad=False)\n",
        "    #self.loss = 1 / self.y_pred.size()[0] * ((self.y_true - self.y_pred)**2).sum()\n",
        "    self.loss = ((self.y_pred - self.y_true) ** 2).mean()\n",
        "    return self.loss\n",
        "  def backward(self):\n",
        "    self.loss.backward()\n",
        "    self.dinput = self.y_pred.grad # - dvalue\n",
        "\n",
        "\n",
        "\n",
        "class ReLU:\n",
        "  def forward(self, inputs):\n",
        "    # <реализовать логику ReLU>\n",
        "    inputs[inputs<0] = 0\n",
        "    return inputs"
      ],
      "metadata": {
        "id": "vhIKthjDeyLE"
      },
      "execution_count": 125,
      "outputs": []
    },
    {
      "cell_type": "code",
      "source": [
        "X = torch.linspace(0, 1, 100).view(-1, 1)\n",
        "y = torch.sin(2 * np.pi * X) + 0.1 * torch.rand(X.size()) "
      ],
      "metadata": {
        "id": "L0-Ab5zFeyN6"
      },
      "execution_count": 131,
      "outputs": []
    },
    {
      "cell_type": "code",
      "source": [
        "lr = 0.1 # скорость обучения\n",
        "n_epoch = 2000 # количество эпох\n",
        "\n",
        "neuron1 = Linear(X.size(1), 100)\n",
        "neuron2 = Linear(100, y.size(1))\n",
        "loss = MSELoss()\n",
        "activation = ReLU()\n",
        "optimizer = optim.Adam([neuron1.weights, neuron1.biases, neuron2.weights, neuron2.biases], lr=lr)\n",
        "    \n",
        "\n",
        "losses = []\n",
        "for epoch in range(n_epoch):\n",
        "    # forward pass\n",
        "    step1 = neuron1.forward(X)\n",
        "    step2 = activation.forward(step1)\n",
        "    y_pred = neuron2.forward(step2)\n",
        "    curr_loss = loss.forward(y_pred, y)\n",
        "    losses.append(curr_loss)\n",
        "    \n",
        "    # backprop\n",
        "    optimizer.zero_grad()\n",
        "    loss.forward(y_pred, y_example).backward()\n",
        "    optimizer.step()\n",
        "    if epoch % 200 == 0: print(f'epoch {epoch} mean loss {sum(losses) / len(losses)}')"
      ],
      "metadata": {
        "colab": {
          "base_uri": "https://localhost:8080/"
        },
        "id": "c5Sj33jEeyJK",
        "outputId": "dc65a6b8-26a0-477a-a58e-00c5fc81987b"
      },
      "execution_count": 151,
      "outputs": [
        {
          "output_type": "stream",
          "name": "stdout",
          "text": [
            "epoch 0 mean loss 5.19009256362915\n",
            "epoch 200 mean loss 5.1900787353515625\n",
            "epoch 400 mean loss 5.190073013305664\n",
            "epoch 600 mean loss 5.190110206604004\n",
            "epoch 800 mean loss 5.190125465393066\n",
            "epoch 1000 mean loss 5.190088748931885\n",
            "epoch 1200 mean loss 5.190063953399658\n",
            "epoch 1400 mean loss 5.190046787261963\n",
            "epoch 1600 mean loss 5.190040588378906\n",
            "epoch 1800 mean loss 5.190083980560303\n"
          ]
        }
      ]
    },
    {
      "cell_type": "code",
      "source": [
        "105.81400299072266 > 105.81282043457031"
      ],
      "metadata": {
        "colab": {
          "base_uri": "https://localhost:8080/"
        },
        "id": "yr1ph5GVhit1",
        "outputId": "b3d7f9e7-3a92-444f-9c2d-c6fc23dae266"
      },
      "execution_count": 128,
      "outputs": [
        {
          "output_type": "execute_result",
          "data": {
            "text/plain": [
              "True"
            ]
          },
          "metadata": {},
          "execution_count": 128
        }
      ]
    },
    {
      "cell_type": "code",
      "source": [
        "with torch.no_grad(): \n",
        "  #plt.ylim(105.81400299072266, 105.81282043457031)\n",
        "  plt.plot(losses)"
      ],
      "metadata": {
        "colab": {
          "base_uri": "https://localhost:8080/",
          "height": 265
        },
        "id": "7_DTLAjHeyGH",
        "outputId": "04442e19-495d-49d6-c7ff-e0626034b87d"
      },
      "execution_count": 140,
      "outputs": [
        {
          "output_type": "display_data",
          "data": {
            "text/plain": [
              "<Figure size 432x288 with 1 Axes>"
            ],
            "image/png": "[encoded data removed]"
          },
          "metadata": {
            "needs_background": "light"
          }
        }
      ]
    },
    {
      "cell_type": "code",
      "source": [
        "step1 = neuron1.forward(X)\n",
        "step2 = activation.forward(step1)\n",
        "y_pred = neuron2.forward(step2)\n",
        "with torch.no_grad():\n",
        "  plt.plot(X, y, color='green')\n",
        "  plt.plot(X, y_pred, color='red')"
      ],
      "metadata": {
        "colab": {
          "base_uri": "https://localhost:8080/",
          "height": 265
        },
        "id": "cCbRCQEClbrz",
        "outputId": "7d688580-5e0d-4a36-b654-09e7d7f2e595"
      },
      "execution_count": 141,
      "outputs": [
        {
          "output_type": "display_data",
          "data": {
            "text/plain": [
              "<Figure size 432x288 with 1 Axes>"
            ],
            "image/png": "[encoded data removed]"
          },
          "metadata": {
            "needs_background": "light"
          }
        }
      ]
    },
    {
      "cell_type": "markdown",
      "metadata": {
        "id": "n-qUqdALiN-G"
      },
      "source": [
        "## 3.3 Построение сетей при помощи `torch.nn`"
      ]
    },
    {
      "cell_type": "code",
      "metadata": {
        "id": "Vxsck-1M6TAV"
      },
      "source": [
        "import torch.nn as nn\n",
        "import matplotlib.pyplot as plt"
      ],
      "execution_count": 142,
      "outputs": []
    },
    {
      "cell_type": "markdown",
      "metadata": {
        "id": "M0ICJtarif3_"
      },
      "source": [
        "3.3.1 Решить задачу регрессии, соблюдая следующие условия:\n",
        "\n",
        "1. Оформить нейронную сеть в виде класса - наследника `nn.Module`\n",
        "2. При создании сети использовать готовые блоки из `torch.nn`: слои, функции активации, функции потерь и т.д.\n",
        "3. Для оптимизации использовать любой алгоритм оптимизации из `torch.optim` "
      ]
    },
    {
      "cell_type": "code",
      "metadata": {
        "id": "L1bvXHhO7aWs"
      },
      "source": [
        "#создаем датасет\n",
        "X = torch.linspace(0, 1, 100).view(-1, 1)\n",
        "y = torch.sin(2 * np.pi * X) + 0.1 * torch.rand(X.size()) \n",
        "\n",
        "#определяем сеть, которую назовем SineNet\n",
        "class SineNet(torch.nn.Module):\n",
        "    def __init__(self, n_hidden_neurons):\n",
        "        super(SineNet, self).__init__()\n",
        "        self.fc1 = torch.nn.Linear(1, n_hidden_neurons)\n",
        "        self.act1 = torch.nn.Sigmoid()\n",
        "        self.fc2 = torch.nn.Linear(n_hidden_neurons, 1)\n",
        "\n",
        "    def forward(self, x):\n",
        "        x = self.fc1(x)\n",
        "        x = self.act1(x)\n",
        "        x = self.fc2(x)\n",
        "        return x\n",
        "\n",
        "sine_net = SineNet(3)"
      ],
      "execution_count": 143,
      "outputs": []
    },
    {
      "cell_type": "code",
      "source": [
        "# метод для предсказаний и построим график для случайных весов\n",
        "def predict(net, X, y):\n",
        "    y_pred = net.forward(X)\n",
        "\n",
        "    plt.figure(figsize=(20, 10))\n",
        "    plt.plot(X.numpy(), y.numpy(), 'o', label='Groud truth')\n",
        "    plt.plot(X.numpy(), y_pred.data.numpy(), 'o', c='r', label='Prediction');\n",
        "    plt.legend(loc='upper left')\n",
        "    plt.xlabel('$X$')\n",
        "    plt.ylabel('$y$')\n",
        "\n",
        "predict(sine_net, X, y)"
      ],
      "metadata": {
        "colab": {
          "base_uri": "https://localhost:8080/",
          "height": 335
        },
        "id": "UTpgx4GKn1D9",
        "outputId": "71416f17-b385-4538-f1b4-10ee398f7e1d"
      },
      "execution_count": 144,
      "outputs": [
        {
          "output_type": "display_data",
          "data": {
            "text/plain": [
              "<Figure size 1440x720 with 1 Axes>"
            ],
            "image/png": "[encoded data removed]"
          },
          "metadata": {
            "needs_background": "light"
          }
        }
      ]
    },
    {
      "cell_type": "code",
      "source": [
        "# возьмем какой-нибудь оптимизатор\n",
        "optimizer = torch.optim.Adam(sine_net.parameters(), lr=0.01)\n",
        "\n",
        "# зададим лосс-функцию MSE\n",
        "def loss(pred, target):\n",
        "    squares = (pred - target) ** 2\n",
        "    return squares.mean()"
      ],
      "metadata": {
        "id": "8X1VxcGEoBQA"
      },
      "execution_count": 145,
      "outputs": []
    },
    {
      "cell_type": "code",
      "source": [
        "for epoch_index in range(2000):\n",
        "    optimizer.zero_grad()\n",
        "    y_pred = sine_net.forward(X)\n",
        "    loss_val = loss(y_pred, y)\n",
        "    loss_val.backward()\n",
        "    optimizer.step()\n",
        "    if epoch_index % 200 == 0: print(f\"Epoch {epoch_index} loss: {loss_val}\")\n",
        "\n",
        "predict(sine_net, X, y)"
      ],
      "metadata": {
        "colab": {
          "base_uri": "https://localhost:8080/",
          "height": 516
        },
        "id": "O-cncuaSoS2e",
        "outputId": "b574475f-254d-439e-ded1-70e35ac5df46"
      },
      "execution_count": 202,
      "outputs": [
        {
          "output_type": "stream",
          "name": "stdout",
          "text": [
            "Epoch 0 loss: 0.015366930514574051\n",
            "Epoch 200 loss: 0.015366930514574051\n",
            "Epoch 400 loss: 0.015366930514574051\n",
            "Epoch 600 loss: 0.015366930514574051\n",
            "Epoch 800 loss: 0.015366930514574051\n",
            "Epoch 1000 loss: 0.015366930514574051\n",
            "Epoch 1200 loss: 0.015366930514574051\n",
            "Epoch 1400 loss: 0.015366930514574051\n",
            "Epoch 1600 loss: 0.015366930514574051\n",
            "Epoch 1800 loss: 0.015366930514574051\n"
          ]
        },
        {
          "output_type": "display_data",
          "data": {
            "text/plain": [
              "<Figure size 1440x720 with 1 Axes>"
            ],
            "image/png": "[encoded data removed]"
          },
          "metadata": {
            "needs_background": "light"
          }
        }
      ]
    },
    {
      "cell_type": "markdown",
      "metadata": {
        "id": "UPUW6fm5jbQd"
      },
      "source": [
        "3.3.2 Решить задачу регрессии, соблюдая следующие условия:\n",
        "\n",
        "1. Оформить нейронную сеть в виде объекта `nn.Sequential`\n",
        "2. При создании сети использовать готовые блоки из `torch.nn`: слои, функции активации, функции потерь и т.д.\n",
        "3. Для оптимизации использовать любой алгоритм оптимизации из `torch.optim` "
      ]
    },
    {
      "cell_type": "code",
      "metadata": {
        "id": "BBwbAEd57a2r",
        "colab": {
          "base_uri": "https://localhost:8080/",
          "height": 516
        },
        "outputId": "592462b6-474a-4fc1-c3db-4be181652e85"
      },
      "source": [
        "X = torch.linspace(0, 1, 100).view(-1, 1)\n",
        "y = torch.sin(2 * np.pi * X) + 0.1 * torch.rand(X.size()) \n",
        "\n",
        "model = torch.nn.Sequential(\n",
        "          torch.nn.Linear(1,20),\n",
        "          torch.nn.ReLU(),\n",
        "          torch.nn.Linear(20,10),\n",
        "          torch.nn.ReLU(),\n",
        "          torch.nn.Linear(10,1)\n",
        "        )\n",
        "loss = torch.nn.MSELoss()\n",
        "optimizer = torch.optim.Adam(model.parameters(), lr=0.01)\n",
        "\n",
        "for epoch_index in range(2000):\n",
        "    optimizer.zero_grad()\n",
        "    y_pred = model.forward(X)\n",
        "    loss_val = loss(y_pred, y)\n",
        "    loss_val.backward()\n",
        "    optimizer.step()\n",
        "    if epoch_index % 200 == 0: print(f\"Epoch {epoch_index} loss: {loss_val}\")\n",
        "\n",
        "predict(model, X, y)"
      ],
      "execution_count": 201,
      "outputs": [
        {
          "output_type": "stream",
          "name": "stdout",
          "text": [
            "Epoch 0 loss: 0.511379599571228\n",
            "Epoch 200 loss: 0.035641010850667953\n",
            "Epoch 400 loss: 0.0015596493612974882\n",
            "Epoch 600 loss: 0.0009484461043030024\n",
            "Epoch 800 loss: 0.0009066121419891715\n",
            "Epoch 1000 loss: 0.0009659765637479722\n",
            "Epoch 1200 loss: 0.0009250217117369175\n",
            "Epoch 1400 loss: 0.0009135638829320669\n",
            "Epoch 1600 loss: 0.000858621671795845\n",
            "Epoch 1800 loss: 0.0008425256819464266\n"
          ]
        },
        {
          "output_type": "display_data",
          "data": {
            "text/plain": [
              "<Figure size 1440x720 with 1 Axes>"
            ],
            "image/png": "[encoded data removed]"
          },
          "metadata": {
            "needs_background": "light"
          }
        }
      ]
    },
    {
      "cell_type": "markdown",
      "metadata": {
        "id": "jQj0oVeLj2A1"
      },
      "source": [
        "## 3.4. Datasets and dataloaders"
      ]
    },
    {
      "cell_type": "code",
      "metadata": {
        "id": "c82tAkXMjajm"
      },
      "source": [
        "from torch.utils.data import Dataset, DataLoader"
      ],
      "execution_count": 169,
      "outputs": []
    },
    {
      "cell_type": "markdown",
      "metadata": {
        "id": "hoFPckkp8yhz"
      },
      "source": [
        "3.4.1 Создать датасет, поставляющий данные из задачи 3.1.2. \n",
        "\n",
        "Создать `DataLoader` на основе этого датасета и проверить работоспособность.\n",
        "\n",
        "Воспользовавшись результатами 3.3.1 (или 3.3.2) обучите модель, пользуясь мини-пакетным градиентным спуском с размером пакета (`batch_size`) = 10"
      ]
    },
    {
      "cell_type": "code",
      "metadata": {
        "id": "tlcwQzCFRvFc"
      },
      "source": [
        "class SinDataset(Dataset):\n",
        "  def __init__(self):\n",
        "    self.X = torch.linspace(0, 1, 100).view(-1, 1)\n",
        "    self.y = torch.sin(2 * np.pi * self.X) + 0.1 * torch.rand(self.X.size()) \n",
        "\n",
        "  def __len__(self):\n",
        "    return self.X.size(0)\n",
        "\n",
        "  def __getitem__(self, idx):\n",
        "    return self.X[idx], self.y[idx]\n",
        "\n",
        "sin_dataset = SinDataset()"
      ],
      "execution_count": 188,
      "outputs": []
    },
    {
      "cell_type": "code",
      "source": [
        "dataloader = DataLoader(SinDataset(), batch_size=10)\n",
        "\n",
        "for i, batch in enumerate(dataloader):\n",
        "    print(i, batch[0])\n",
        "    print(batch[1])"
      ],
      "metadata": {
        "colab": {
          "base_uri": "https://localhost:8080/"
        },
        "id": "wL0pR-h-sL4D",
        "outputId": "a2fe5c5e-0a78-4b07-bbb3-0469b13b028c"
      },
      "execution_count": 215,
      "outputs": [
        {
          "output_type": "stream",
          "name": "stdout",
          "text": [
            "0 tensor([[0.0000],\n",
            "        [0.0101],\n",
            "        [0.0202],\n",
            "        [0.0303],\n",
            "        [0.0404],\n",
            "        [0.0505],\n",
            "        [0.0606],\n",
            "        [0.0707],\n",
            "        [0.0808],\n",
            "        [0.0909]])\n",
            "tensor([[0.0128],\n",
            "        [0.1440],\n",
            "        [0.1809],\n",
            "        [0.2354],\n",
            "        [0.2829],\n",
            "        [0.3238],\n",
            "        [0.4182],\n",
            "        [0.4848],\n",
            "        [0.5530],\n",
            "        [0.6123]])\n",
            "1 tensor([[0.1010],\n",
            "        [0.1111],\n",
            "        [0.1212],\n",
            "        [0.1313],\n",
            "        [0.1414],\n",
            "        [0.1515],\n",
            "        [0.1616],\n",
            "        [0.1717],\n",
            "        [0.1818],\n",
            "        [0.1919]])\n",
            "tensor([[0.6562],\n",
            "        [0.7215],\n",
            "        [0.7654],\n",
            "        [0.8119],\n",
            "        [0.8188],\n",
            "        [0.8970],\n",
            "        [0.8923],\n",
            "        [0.8983],\n",
            "        [0.9107],\n",
            "        [0.9534]])\n",
            "2 tensor([[0.2020],\n",
            "        [0.2121],\n",
            "        [0.2222],\n",
            "        [0.2323],\n",
            "        [0.2424],\n",
            "        [0.2525],\n",
            "        [0.2626],\n",
            "        [0.2727],\n",
            "        [0.2828],\n",
            "        [0.2929]])\n",
            "tensor([[1.0294],\n",
            "        [1.0281],\n",
            "        [1.0726],\n",
            "        [1.0169],\n",
            "        [1.0822],\n",
            "        [1.0853],\n",
            "        [1.0351],\n",
            "        [0.9917],\n",
            "        [1.0122],\n",
            "        [0.9906]])\n",
            "3 tensor([[0.3030],\n",
            "        [0.3131],\n",
            "        [0.3232],\n",
            "        [0.3333],\n",
            "        [0.3434],\n",
            "        [0.3535],\n",
            "        [0.3636],\n",
            "        [0.3737],\n",
            "        [0.3838],\n",
            "        [0.3939]])\n",
            "tensor([[0.9607],\n",
            "        [0.9977],\n",
            "        [0.9587],\n",
            "        [0.8815],\n",
            "        [0.8400],\n",
            "        [0.8494],\n",
            "        [0.8486],\n",
            "        [0.7476],\n",
            "        [0.7213],\n",
            "        [0.6538]])\n",
            "4 tensor([[0.4040],\n",
            "        [0.4141],\n",
            "        [0.4242],\n",
            "        [0.4343],\n",
            "        [0.4444],\n",
            "        [0.4545],\n",
            "        [0.4646],\n",
            "        [0.4747],\n",
            "        [0.4848],\n",
            "        [0.4949]])\n",
            "tensor([[0.6473],\n",
            "        [0.5170],\n",
            "        [0.4855],\n",
            "        [0.4134],\n",
            "        [0.3436],\n",
            "        [0.3335],\n",
            "        [0.2567],\n",
            "        [0.2220],\n",
            "        [0.1633],\n",
            "        [0.0994]])\n",
            "5 tensor([[0.5051],\n",
            "        [0.5152],\n",
            "        [0.5253],\n",
            "        [0.5354],\n",
            "        [0.5455],\n",
            "        [0.5556],\n",
            "        [0.5657],\n",
            "        [0.5758],\n",
            "        [0.5859],\n",
            "        [0.5960]])\n",
            "tensor([[ 0.0591],\n",
            "        [-0.0366],\n",
            "        [-0.1037],\n",
            "        [-0.1525],\n",
            "        [-0.2726],\n",
            "        [-0.2914],\n",
            "        [-0.3213],\n",
            "        [-0.4362],\n",
            "        [-0.5051],\n",
            "        [-0.5323]])\n",
            "6 tensor([[0.6061],\n",
            "        [0.6162],\n",
            "        [0.6263],\n",
            "        [0.6364],\n",
            "        [0.6465],\n",
            "        [0.6566],\n",
            "        [0.6667],\n",
            "        [0.6768],\n",
            "        [0.6869],\n",
            "        [0.6970]])\n",
            "tensor([[-0.5700],\n",
            "        [-0.6527],\n",
            "        [-0.6408],\n",
            "        [-0.7530],\n",
            "        [-0.7757],\n",
            "        [-0.7609],\n",
            "        [-0.7867],\n",
            "        [-0.8749],\n",
            "        [-0.9019],\n",
            "        [-0.8866]])\n",
            "7 tensor([[0.7071],\n",
            "        [0.7172],\n",
            "        [0.7273],\n",
            "        [0.7374],\n",
            "        [0.7475],\n",
            "        [0.7576],\n",
            "        [0.7677],\n",
            "        [0.7778],\n",
            "        [0.7879],\n",
            "        [0.7980]])\n",
            "tensor([[-0.8932],\n",
            "        [-0.9380],\n",
            "        [-0.9602],\n",
            "        [-0.9366],\n",
            "        [-0.9757],\n",
            "        [-0.9695],\n",
            "        [-0.9295],\n",
            "        [-0.8988],\n",
            "        [-0.9563],\n",
            "        [-0.8740]])\n",
            "8 tensor([[0.8081],\n",
            "        [0.8182],\n",
            "        [0.8283],\n",
            "        [0.8384],\n",
            "        [0.8485],\n",
            "        [0.8586],\n",
            "        [0.8687],\n",
            "        [0.8788],\n",
            "        [0.8889],\n",
            "        [0.8990]])\n",
            "tensor([[-0.8587],\n",
            "        [-0.8621],\n",
            "        [-0.8163],\n",
            "        [-0.7531],\n",
            "        [-0.7858],\n",
            "        [-0.7500],\n",
            "        [-0.6438],\n",
            "        [-0.6312],\n",
            "        [-0.6291],\n",
            "        [-0.5145]])\n",
            "9 tensor([[0.9091],\n",
            "        [0.9192],\n",
            "        [0.9293],\n",
            "        [0.9394],\n",
            "        [0.9495],\n",
            "        [0.9596],\n",
            "        [0.9697],\n",
            "        [0.9798],\n",
            "        [0.9899],\n",
            "        [1.0000]])\n",
            "tensor([[-0.5233],\n",
            "        [-0.4283],\n",
            "        [-0.3395],\n",
            "        [-0.3212],\n",
            "        [-0.2418],\n",
            "        [-0.1652],\n",
            "        [-0.1788],\n",
            "        [-0.0968],\n",
            "        [-0.0518],\n",
            "        [ 0.0027]])\n"
          ]
        }
      ]
    },
    {
      "cell_type": "code",
      "source": [
        "model = torch.nn.Sequential(\n",
        "          torch.nn.Linear(1,20),\n",
        "          torch.nn.ReLU(),\n",
        "          torch.nn.Linear(20,10),\n",
        "          torch.nn.ReLU(),\n",
        "          torch.nn.Linear(10,1)\n",
        "        )\n",
        "loss = torch.nn.MSELoss()\n",
        "optimizer = torch.optim.Adam(model.parameters(), lr=0.01)\n",
        "\n",
        "for epoch_index in range(2000):\n",
        "  for i, batch in enumerate(dataloader):\n",
        "    X_sample = batch[0]\n",
        "    y_sample = batch[1]\n",
        "    optimizer.zero_grad()\n",
        "    y_pred = model.forward(X_sample)\n",
        "    loss_val = loss(y_pred, y_sample)\n",
        "    loss_val.backward()\n",
        "    optimizer.step()\n",
        "\n",
        "  if epoch_index % 200 == 0: print(f\"epoch {epoch_index} loss: {loss_val}\")\n"
      ],
      "metadata": {
        "colab": {
          "base_uri": "https://localhost:8080/"
        },
        "id": "8OVsQcyTsL0K",
        "outputId": "c5be46b1-279f-44f6-f8c6-a1be6c4e58d1"
      },
      "execution_count": 217,
      "outputs": [
        {
          "output_type": "stream",
          "name": "stdout",
          "text": [
            "epoch 0 loss: 0.5346233248710632\n",
            "epoch 200 loss: 0.07790224254131317\n",
            "epoch 400 loss: 0.030591238290071487\n",
            "epoch 600 loss: 0.027834376320242882\n",
            "epoch 800 loss: 0.04367394745349884\n",
            "epoch 1000 loss: 0.010154840536415577\n",
            "epoch 1200 loss: 0.0018686524126678705\n",
            "epoch 1400 loss: 0.001245976542122662\n",
            "epoch 1600 loss: 0.016495853662490845\n",
            "epoch 1800 loss: 0.007047473452985287\n"
          ]
        }
      ]
    },
    {
      "cell_type": "markdown",
      "metadata": {
        "id": "bxz02a3k_VQL"
      },
      "source": [
        "3.4.2 Предсказание цен алмазов\n",
        "\n",
        "3.4.2.1 Создайте датасет на основе файла diamonds.csv. \n",
        "\n",
        "1. Удалите все нечисловые столбцы\n",
        "2. Целевой столбец (`y`) - `price`\n",
        "3. Преобразуйте данные в тензоры корректных размеров\n",
        "\n",
        "3.4.2.2 Разбейте датасет на обучающий и тестовый датасет при помощи `torch.utils.data.random_split`.\n",
        "\n",
        "3.4.2.3 Обучите модель для предсказания цен при помощи мини-пакетного градиентного спуска (`batch_size = 256`). \n",
        "\n",
        "3.4.2.4 Выведите график функции потерь в зависимости от номера эпохи (значение потерь для эпохи рассчитывайте как среднее значение ошибок на каждом батче). Проверьте качество модели на тестовой выборке. \n"
      ]
    },
    {
      "cell_type": "code",
      "source": [
        "from google.colab import drive \n",
        "drive.mount('/content/gdrive')"
      ],
      "metadata": {
        "colab": {
          "base_uri": "https://localhost:8080/"
        },
        "id": "4y2Ai4FUzexr",
        "outputId": "39acc46e-4035-4fb8-ba33-01516c044575"
      },
      "execution_count": 227,
      "outputs": [
        {
          "output_type": "stream",
          "name": "stdout",
          "text": [
            "Drive already mounted at /content/gdrive; to attempt to forcibly remount, call drive.mount(\"/content/gdrive\", force_remount=True).\n"
          ]
        }
      ]
    },
    {
      "cell_type": "code",
      "source": [
        "import pandas as pd\n",
        "\n",
        "dataset = pd.read_csv('/content/gdrive/MyDrive/Colab Notebooks/diamonds.csv', index_col = [0])\n",
        "dataset.head()"
      ],
      "metadata": {
        "colab": {
          "base_uri": "https://localhost:8080/",
          "height": 206
        },
        "id": "Ia24Ho7Qytiw",
        "outputId": "a956db92-2783-4626-9608-7ca1c78a0b26"
      },
      "execution_count": 279,
      "outputs": [
        {
          "output_type": "execute_result",
          "data": {
            "text/plain": [
              "   carat      cut color clarity  depth  table  price     x     y     z\n",
              "1   0.23    Ideal     E     SI2   61.5   55.0    326  3.95  3.98  2.43\n",
              "2   0.21  Premium     E     SI1   59.8   61.0    326  3.89  3.84  2.31\n",
              "3   0.23     Good     E     VS1   56.9   65.0    327  4.05  4.07  2.31\n",
              "4   0.29  Premium     I     VS2   62.4   58.0    334  4.20  4.23  2.63\n",
              "5   0.31     Good     J     SI2   63.3   58.0    335  4.34  4.35  2.75"
            ],
            "text/html": [
              "\n",
              "  <div id=\"df-a27d9735-c685-4cac-ab95-3ea1d30598c0\">\n",
              "    <div class=\"colab-df-container\">\n",
              "      <div>\n",
              "<style scoped>\n",
              "    .dataframe tbody tr th:only-of-type {\n",
              "        vertical-align: middle;\n",
              "    }\n",
              "\n",
              "    .dataframe tbody tr th {\n",
              "        vertical-align: top;\n",
              "    }\n",
              "\n",
              "    .dataframe thead th {\n",
              "        text-align: right;\n",
              "    }\n",
              "</style>\n",
              "<table border=\"1\" class=\"dataframe\">\n",
              "  <thead>\n",
              "    <tr style=\"text-align: right;\">\n",
              "      <th></th>\n",
              "      <th>carat</th>\n",
              "      <th>cut</th>\n",
              "      <th>color</th>\n",
              "      <th>clarity</th>\n",
              "      <th>depth</th>\n",
              "      <th>table</th>\n",
              "      <th>price</th>\n",
              "      <th>x</th>\n",
              "      <th>y</th>\n",
              "      <th>z</th>\n",
              "    </tr>\n",
              "  </thead>\n",
              "  <tbody>\n",
              "    <tr>\n",
              "      <th>1</th>\n",
              "      <td>0.23</td>\n",
              "      <td>Ideal</td>\n",
              "      <td>E</td>\n",
              "      <td>SI2</td>\n",
              "      <td>61.5</td>\n",
              "      <td>55.0</td>\n",
              "      <td>326</td>\n",
              "      <td>3.95</td>\n",
              "      <td>3.98</td>\n",
              "      <td>2.43</td>\n",
              "    </tr>\n",
              "    <tr>\n",
              "      <th>2</th>\n",
              "      <td>0.21</td>\n",
              "      <td>Premium</td>\n",
              "      <td>E</td>\n",
              "      <td>SI1</td>\n",
              "      <td>59.8</td>\n",
              "      <td>61.0</td>\n",
              "      <td>326</td>\n",
              "      <td>3.89</td>\n",
              "      <td>3.84</td>\n",
              "      <td>2.31</td>\n",
              "    </tr>\n",
              "    <tr>\n",
              "      <th>3</th>\n",
              "      <td>0.23</td>\n",
              "      <td>Good</td>\n",
              "      <td>E</td>\n",
              "      <td>VS1</td>\n",
              "      <td>56.9</td>\n",
              "      <td>65.0</td>\n",
              "      <td>327</td>\n",
              "      <td>4.05</td>\n",
              "      <td>4.07</td>\n",
              "      <td>2.31</td>\n",
              "    </tr>\n",
              "    <tr>\n",
              "      <th>4</th>\n",
              "      <td>0.29</td>\n",
              "      <td>Premium</td>\n",
              "      <td>I</td>\n",
              "      <td>VS2</td>\n",
              "      <td>62.4</td>\n",
              "      <td>58.0</td>\n",
              "      <td>334</td>\n",
              "      <td>4.20</td>\n",
              "      <td>4.23</td>\n",
              "      <td>2.63</td>\n",
              "    </tr>\n",
              "    <tr>\n",
              "      <th>5</th>\n",
              "      <td>0.31</td>\n",
              "      <td>Good</td>\n",
              "      <td>J</td>\n",
              "      <td>SI2</td>\n",
              "      <td>63.3</td>\n",
              "      <td>58.0</td>\n",
              "      <td>335</td>\n",
              "      <td>4.34</td>\n",
              "      <td>4.35</td>\n",
              "      <td>2.75</td>\n",
              "    </tr>\n",
              "  </tbody>\n",
              "</table>\n",
              "</div>\n",
              "      <button class=\"colab-df-convert\" onclick=\"convertToInteractive('df-a27d9735-c685-4cac-ab95-3ea1d30598c0')\"\n",
              "              title=\"Convert this dataframe to an interactive table.\"\n",
              "              style=\"display:none;\">\n",
              "        \n",
              "  <svg xmlns=\"http://www.w3.org/2000/svg\" height=\"24px\"viewBox=\"0 0 24 24\"\n",
              "       width=\"24px\">\n",
              "    <path d=\"M0 0h24v24H0V0z\" fill=\"none\"/>\n",
              "    <path d=\"M18.56 5.44l.94 2.06.94-2.06 2.06-.94-2.06-.94-.94-2.06-.94 2.06-2.06.94zm-11 1L8.5 8.5l.94-2.06 2.06-.94-2.06-.94L8.5 2.5l-.94 2.06-2.06.94zm10 10l.94 2.06.94-2.06 2.06-.94-2.06-.94-.94-2.06-.94 2.06-2.06.94z\"/><path d=\"M17.41 7.96l-1.37-1.37c-.4-.4-.92-.59-1.43-.59-.52 0-1.04.2-1.43.59L10.3 9.45l-7.72 7.72c-.78.78-.78 2.05 0 2.83L4 21.41c.39.39.9.59 1.41.59.51 0 1.02-.2 1.41-.59l7.78-7.78 2.81-2.81c.8-.78.8-2.07 0-2.86zM5.41 20L4 18.59l7.72-7.72 1.47 1.35L5.41 20z\"/>\n",
              "  </svg>\n",
              "      </button>\n",
              "      \n",
              "  <style>\n",
              "    .colab-df-container {\n",
              "      display:flex;\n",
              "      flex-wrap:wrap;\n",
              "      gap: 12px;\n",
              "    }\n",
              "\n",
              "    .colab-df-convert {\n",
              "      background-color: #E8F0FE;\n",
              "      border: none;\n",
              "      border-radius: 50%;\n",
              "      cursor: pointer;\n",
              "      display: none;\n",
              "      fill: #1967D2;\n",
              "      height: 32px;\n",
              "      padding: 0 0 0 0;\n",
              "      width: 32px;\n",
              "    }\n",
              "\n",
              "    .colab-df-convert:hover {\n",
              "      background-color: #E2EBFA;\n",
              "      box-shadow: 0px 1px 2px rgba(60, 64, 67, 0.3), 0px 1px 3px 1px rgba(60, 64, 67, 0.15);\n",
              "      fill: #174EA6;\n",
              "    }\n",
              "\n",
              "    [theme=dark] .colab-df-convert {\n",
              "      background-color: #3B4455;\n",
              "      fill: #D2E3FC;\n",
              "    }\n",
              "\n",
              "    [theme=dark] .colab-df-convert:hover {\n",
              "      background-color: #434B5C;\n",
              "      box-shadow: 0px 1px 3px 1px rgba(0, 0, 0, 0.15);\n",
              "      filter: drop-shadow(0px 1px 2px rgba(0, 0, 0, 0.3));\n",
              "      fill: #FFFFFF;\n",
              "    }\n",
              "  </style>\n",
              "\n",
              "      <script>\n",
              "        const buttonEl =\n",
              "          document.querySelector('#df-a27d9735-c685-4cac-ab95-3ea1d30598c0 button.colab-df-convert');\n",
              "        buttonEl.style.display =\n",
              "          google.colab.kernel.accessAllowed ? 'block' : 'none';\n",
              "\n",
              "        async function convertToInteractive(key) {\n",
              "          const element = document.querySelector('#df-a27d9735-c685-4cac-ab95-3ea1d30598c0');\n",
              "          const dataTable =\n",
              "            await google.colab.kernel.invokeFunction('convertToInteractive',\n",
              "                                                     [key], {});\n",
              "          if (!dataTable) return;\n",
              "\n",
              "          const docLinkHtml = 'Like what you see? Visit the ' +\n",
              "            '<a target=\"_blank\" href=https://colab.research.google.com/notebooks/data_table.ipynb>data table notebook</a>'\n",
              "            + ' to learn more about interactive tables.';\n",
              "          element.innerHTML = '';\n",
              "          dataTable['output_type'] = 'display_data';\n",
              "          await google.colab.output.renderOutput(dataTable, element);\n",
              "          const docLink = document.createElement('div');\n",
              "          docLink.innerHTML = docLinkHtml;\n",
              "          element.appendChild(docLink);\n",
              "        }\n",
              "      </script>\n",
              "    </div>\n",
              "  </div>\n",
              "  "
            ]
          },
          "metadata": {},
          "execution_count": 279
        }
      ]
    },
    {
      "cell_type": "code",
      "metadata": {
        "id": "fEfTNJQI8emD",
        "colab": {
          "base_uri": "https://localhost:8080/"
        },
        "outputId": "61140d1c-3861-4983-a6c6-61fe6ce2e542"
      },
      "source": [
        "# 3.4.2.1\n",
        "class DiamondsDataset(Dataset):\n",
        "  def __init__(self, data='/content/gdrive/MyDrive/Colab Notebooks/diamonds.csv'):\n",
        "    self.data = pd.read_csv(data, index_col = [0])\n",
        "    self.X = torch.FloatTensor(self.data.select_dtypes(['number']).values)\n",
        "    self.y = torch.FloatTensor(self.data['price'].values)\n",
        "\n",
        "  def __len__(self):\n",
        "    return self.X.size(0)\n",
        "\n",
        "  def __getitem__(self, idx):\n",
        "    return self.X[idx], self.y[idx]\n",
        "\n",
        "diamonds_dataset = DiamondsDataset()\n",
        "diamonds_dataset.X, diamonds_dataset.y"
      ],
      "execution_count": 238,
      "outputs": [
        {
          "output_type": "execute_result",
          "data": {
            "text/plain": [
              "(tensor([[ 0.2300, 61.5000, 55.0000,  ...,  3.9500,  3.9800,  2.4300],\n",
              "         [ 0.2100, 59.8000, 61.0000,  ...,  3.8900,  3.8400,  2.3100],\n",
              "         [ 0.2300, 56.9000, 65.0000,  ...,  4.0500,  4.0700,  2.3100],\n",
              "         ...,\n",
              "         [ 0.7000, 62.8000, 60.0000,  ...,  5.6600,  5.6800,  3.5600],\n",
              "         [ 0.8600, 61.0000, 58.0000,  ...,  6.1500,  6.1200,  3.7400],\n",
              "         [ 0.7500, 62.2000, 55.0000,  ...,  5.8300,  5.8700,  3.6400]]),\n",
              " tensor([ 326.,  326.,  327.,  ..., 2757., 2757., 2757.]))"
            ]
          },
          "metadata": {},
          "execution_count": 238
        }
      ]
    },
    {
      "cell_type": "code",
      "source": [
        "# 3.4.2.2\n",
        "train_size = round(0.8 * len(diamonds_dataset))\n",
        "train, test = torch.utils.data.random_split(diamonds_dataset, [train_size, len(dataset)-train_size])"
      ],
      "metadata": {
        "id": "wEunH0LZ3vA4"
      },
      "execution_count": 239,
      "outputs": []
    },
    {
      "cell_type": "code",
      "source": [
        "# 3.4.2.3\n",
        "dataloader = DataLoader(train, batch_size=256)\n",
        "\n",
        "model = torch.nn.Sequential(\n",
        "          torch.nn.Linear(diamonds_dataset.X.size(1),30),\n",
        "          torch.nn.ReLU(),\n",
        "          torch.nn.Linear(30,90),\n",
        "          torch.nn.ReLU(),\n",
        "          torch.nn.Linear(90,1)\n",
        "        )\n",
        "loss = torch.nn.MSELoss()\n",
        "optimizer = torch.optim.Adam(model.parameters(), lr=0.01)\n",
        "\n",
        "losses = []\n",
        "for epoch_index in range(100):\n",
        "  for i, (X_sample, y_sample) in enumerate(dataloader):\n",
        "    optimizer.zero_grad()\n",
        "    y_pred = model.forward(X_sample)\n",
        "    loss_val = loss(y_pred, y_sample)\n",
        "    loss_val.backward()\n",
        "    optimizer.step()\n",
        "\n",
        "  losses.append(loss_val)\n",
        "  if epoch_index % 10 == 0: print(f\"epoch {epoch_index} loss: {loss_val}\")"
      ],
      "metadata": {
        "colab": {
          "base_uri": "https://localhost:8080/"
        },
        "id": "PYJTAiFc4mYZ",
        "outputId": "44aa4cae-33ee-42ab-cd5a-e472c1b1e360"
      },
      "execution_count": 249,
      "outputs": [
        {
          "output_type": "stream",
          "name": "stderr",
          "text": [
            "/usr/local/lib/python3.7/dist-packages/torch/nn/modules/loss.py:530: UserWarning: Using a target size (torch.Size([256])) that is different to the input size (torch.Size([256, 1])). This will likely lead to incorrect results due to broadcasting. Please ensure they have the same size.\n",
            "  return F.mse_loss(input, target, reduction=self.reduction)\n",
            "/usr/local/lib/python3.7/dist-packages/torch/nn/modules/loss.py:530: UserWarning: Using a target size (torch.Size([144])) that is different to the input size (torch.Size([144, 1])). This will likely lead to incorrect results due to broadcasting. Please ensure they have the same size.\n",
            "  return F.mse_loss(input, target, reduction=self.reduction)\n"
          ]
        },
        {
          "output_type": "stream",
          "name": "stdout",
          "text": [
            "epoch 0 loss: 18746522.0\n",
            "epoch 10 loss: 18216064.0\n",
            "epoch 20 loss: 18186424.0\n",
            "epoch 30 loss: 18179544.0\n",
            "epoch 40 loss: 18176960.0\n",
            "epoch 50 loss: 18176990.0\n",
            "epoch 60 loss: 18175376.0\n",
            "epoch 70 loss: 18172710.0\n",
            "epoch 80 loss: 18173136.0\n",
            "epoch 90 loss: 18175088.0\n"
          ]
        }
      ]
    },
    {
      "cell_type": "code",
      "source": [
        "# 3.4.2.4\n",
        "with torch.no_grad():\n",
        "  plt.plot(losses)"
      ],
      "metadata": {
        "colab": {
          "base_uri": "https://localhost:8080/",
          "height": 276
        },
        "id": "HHhQzjRF6Uyy",
        "outputId": "7e26eb38-6461-408a-8db7-5b8690e52145"
      },
      "execution_count": 250,
      "outputs": [
        {
          "output_type": "display_data",
          "data": {
            "text/plain": [
              "<Figure size 432x288 with 1 Axes>"
            ],
            "image/png": "[encoded data removed]"
          },
          "metadata": {
            "needs_background": "light"
          }
        }
      ]
    },
    {
      "cell_type": "markdown",
      "metadata": {
        "id": "qE81cgQdGM7I"
      },
      "source": [
        "3.4.3 Модифицируйте метод `__init__` датасета из 3.4.2 таким образом, чтобы он мог принимать параметр `transform: callable`. Реализуйте класс `DropColsTransform` для удаления нечисловых данных из массива. Реализуйте класс `ToTensorTransorm` для трансформации массива в тензор."
      ]
    },
    {
      "cell_type": "code",
      "metadata": {
        "id": "J02LNj_F8qxK"
      },
      "source": [
        "class DiamondsDataset(Dataset):\n",
        "  def __init__(self, transform, data='/content/gdrive/MyDrive/Colab Notebooks/diamonds.csv'):\n",
        "    self.data = pd.read_csv(data, index_col = [0])\n",
        "    self.transform = transform\n",
        "    self.X = self.data.drop('price', axis=1)\n",
        "    self.y = self.data['price']\n",
        "\n",
        "  def __len__(self):\n",
        "    return self.X.size(0)\n",
        "\n",
        "  def __getitem__(self, idx):\n",
        "    # ... ?\n",
        "    sample = self.X[idx], self.y[idx]\n",
        "    if self.transform:\n",
        "      sample = self.transform(sample)\n",
        "    # .... ?\n",
        "    return sample"
      ],
      "execution_count": 286,
      "outputs": []
    },
    {
      "cell_type": "code",
      "metadata": {
        "id": "tJii-22pHIlU"
      },
      "source": [
        "class DropColsTransform:\n",
        "  def __init__(self, drop):\n",
        "    self.drop = drop\n",
        "  \n",
        "  def __call__(self, sample):\n",
        "    X, y = sample\n",
        "    X = X.drop(dataset.columns[[self.drop]], axis=1)\n",
        "    return X, y"
      ],
      "execution_count": 287,
      "outputs": []
    },
    {
      "cell_type": "code",
      "metadata": {
        "id": "dZZ-OKrVHnY5"
      },
      "source": [
        "class ToTensorTransform:\n",
        "  def __call__(self, sample):\n",
        "    X, y = sample\n",
        "    X = torch.FloatTensor(X.astype('float64').values)\n",
        "    y = torch.FloatTensor([y])\n",
        "    return X, y"
      ],
      "execution_count": 288,
      "outputs": []
    },
    {
      "cell_type": "code",
      "metadata": {
        "id": "GssBjT9JHt5g"
      },
      "source": [
        "from torchvision import transforms\n",
        "\n",
        "drop = DropColsTransform(drop=[1, 2, 3])\n",
        "to_tensor = ToTensorTransform()\n",
        "dataset = DiamondsDataset(transform = transforms.Compose([drop, to_tensor]))\n"
      ],
      "execution_count": 289,
      "outputs": []
    },
    {
      "cell_type": "code",
      "source": [
        "dataset.X"
      ],
      "metadata": {
        "colab": {
          "base_uri": "https://localhost:8080/",
          "height": 423
        },
        "id": "wzSnQAIRAOn0",
        "outputId": "8286f3ff-5845-4b14-bcd9-454cd072c0bc"
      },
      "execution_count": 290,
      "outputs": [
        {
          "output_type": "execute_result",
          "data": {
            "text/plain": [
              "       carat        cut color clarity  depth  table     x     y     z\n",
              "1       0.23      Ideal     E     SI2   61.5   55.0  3.95  3.98  2.43\n",
              "2       0.21    Premium     E     SI1   59.8   61.0  3.89  3.84  2.31\n",
              "3       0.23       Good     E     VS1   56.9   65.0  4.05  4.07  2.31\n",
              "4       0.29    Premium     I     VS2   62.4   58.0  4.20  4.23  2.63\n",
              "5       0.31       Good     J     SI2   63.3   58.0  4.34  4.35  2.75\n",
              "...      ...        ...   ...     ...    ...    ...   ...   ...   ...\n",
              "53936   0.72      Ideal     D     SI1   60.8   57.0  5.75  5.76  3.50\n",
              "53937   0.72       Good     D     SI1   63.1   55.0  5.69  5.75  3.61\n",
              "53938   0.70  Very Good     D     SI1   62.8   60.0  5.66  5.68  3.56\n",
              "53939   0.86    Premium     H     SI2   61.0   58.0  6.15  6.12  3.74\n",
              "53940   0.75      Ideal     D     SI2   62.2   55.0  5.83  5.87  3.64\n",
              "\n",
              "[53940 rows x 9 columns]"
            ],
            "text/html": [
              "\n",
              "  <div id=\"df-cbd2430a-e90c-4bb0-ac38-bd7a897e1079\">\n",
              "    <div class=\"colab-df-container\">\n",
              "      <div>\n",
              "<style scoped>\n",
              "    .dataframe tbody tr th:only-of-type {\n",
              "        vertical-align: middle;\n",
              "    }\n",
              "\n",
              "    .dataframe tbody tr th {\n",
              "        vertical-align: top;\n",
              "    }\n",
              "\n",
              "    .dataframe thead th {\n",
              "        text-align: right;\n",
              "    }\n",
              "</style>\n",
              "<table border=\"1\" class=\"dataframe\">\n",
              "  <thead>\n",
              "    <tr style=\"text-align: right;\">\n",
              "      <th></th>\n",
              "      <th>carat</th>\n",
              "      <th>cut</th>\n",
              "      <th>color</th>\n",
              "      <th>clarity</th>\n",
              "      <th>depth</th>\n",
              "      <th>table</th>\n",
              "      <th>x</th>\n",
              "      <th>y</th>\n",
              "      <th>z</th>\n",
              "    </tr>\n",
              "  </thead>\n",
              "  <tbody>\n",
              "    <tr>\n",
              "      <th>1</th>\n",
              "      <td>0.23</td>\n",
              "      <td>Ideal</td>\n",
              "      <td>E</td>\n",
              "      <td>SI2</td>\n",
              "      <td>61.5</td>\n",
              "      <td>55.0</td>\n",
              "      <td>3.95</td>\n",
              "      <td>3.98</td>\n",
              "      <td>2.43</td>\n",
              "    </tr>\n",
              "    <tr>\n",
              "      <th>2</th>\n",
              "      <td>0.21</td>\n",
              "      <td>Premium</td>\n",
              "      <td>E</td>\n",
              "      <td>SI1</td>\n",
              "      <td>59.8</td>\n",
              "      <td>61.0</td>\n",
              "      <td>3.89</td>\n",
              "      <td>3.84</td>\n",
              "      <td>2.31</td>\n",
              "    </tr>\n",
              "    <tr>\n",
              "      <th>3</th>\n",
              "      <td>0.23</td>\n",
              "      <td>Good</td>\n",
              "      <td>E</td>\n",
              "      <td>VS1</td>\n",
              "      <td>56.9</td>\n",
              "      <td>65.0</td>\n",
              "      <td>4.05</td>\n",
              "      <td>4.07</td>\n",
              "      <td>2.31</td>\n",
              "    </tr>\n",
              "    <tr>\n",
              "      <th>4</th>\n",
              "      <td>0.29</td>\n",
              "      <td>Premium</td>\n",
              "      <td>I</td>\n",
              "      <td>VS2</td>\n",
              "      <td>62.4</td>\n",
              "      <td>58.0</td>\n",
              "      <td>4.20</td>\n",
              "      <td>4.23</td>\n",
              "      <td>2.63</td>\n",
              "    </tr>\n",
              "    <tr>\n",
              "      <th>5</th>\n",
              "      <td>0.31</td>\n",
              "      <td>Good</td>\n",
              "      <td>J</td>\n",
              "      <td>SI2</td>\n",
              "      <td>63.3</td>\n",
              "      <td>58.0</td>\n",
              "      <td>4.34</td>\n",
              "      <td>4.35</td>\n",
              "      <td>2.75</td>\n",
              "    </tr>\n",
              "    <tr>\n",
              "      <th>...</th>\n",
              "      <td>...</td>\n",
              "      <td>...</td>\n",
              "      <td>...</td>\n",
              "      <td>...</td>\n",
              "      <td>...</td>\n",
              "      <td>...</td>\n",
              "      <td>...</td>\n",
              "      <td>...</td>\n",
              "      <td>...</td>\n",
              "    </tr>\n",
              "    <tr>\n",
              "      <th>53936</th>\n",
              "      <td>0.72</td>\n",
              "      <td>Ideal</td>\n",
              "      <td>D</td>\n",
              "      <td>SI1</td>\n",
              "      <td>60.8</td>\n",
              "      <td>57.0</td>\n",
              "      <td>5.75</td>\n",
              "      <td>5.76</td>\n",
              "      <td>3.50</td>\n",
              "    </tr>\n",
              "    <tr>\n",
              "      <th>53937</th>\n",
              "      <td>0.72</td>\n",
              "      <td>Good</td>\n",
              "      <td>D</td>\n",
              "      <td>SI1</td>\n",
              "      <td>63.1</td>\n",
              "      <td>55.0</td>\n",
              "      <td>5.69</td>\n",
              "      <td>5.75</td>\n",
              "      <td>3.61</td>\n",
              "    </tr>\n",
              "    <tr>\n",
              "      <th>53938</th>\n",
              "      <td>0.70</td>\n",
              "      <td>Very Good</td>\n",
              "      <td>D</td>\n",
              "      <td>SI1</td>\n",
              "      <td>62.8</td>\n",
              "      <td>60.0</td>\n",
              "      <td>5.66</td>\n",
              "      <td>5.68</td>\n",
              "      <td>3.56</td>\n",
              "    </tr>\n",
              "    <tr>\n",
              "      <th>53939</th>\n",
              "      <td>0.86</td>\n",
              "      <td>Premium</td>\n",
              "      <td>H</td>\n",
              "      <td>SI2</td>\n",
              "      <td>61.0</td>\n",
              "      <td>58.0</td>\n",
              "      <td>6.15</td>\n",
              "      <td>6.12</td>\n",
              "      <td>3.74</td>\n",
              "    </tr>\n",
              "    <tr>\n",
              "      <th>53940</th>\n",
              "      <td>0.75</td>\n",
              "      <td>Ideal</td>\n",
              "      <td>D</td>\n",
              "      <td>SI2</td>\n",
              "      <td>62.2</td>\n",
              "      <td>55.0</td>\n",
              "      <td>5.83</td>\n",
              "      <td>5.87</td>\n",
              "      <td>3.64</td>\n",
              "    </tr>\n",
              "  </tbody>\n",
              "</table>\n",
              "<p>53940 rows × 9 columns</p>\n",
              "</div>\n",
              "      <button class=\"colab-df-convert\" onclick=\"convertToInteractive('df-cbd2430a-e90c-4bb0-ac38-bd7a897e1079')\"\n",
              "              title=\"Convert this dataframe to an interactive table.\"\n",
              "              style=\"display:none;\">\n",
              "        \n",
              "  <svg xmlns=\"http://www.w3.org/2000/svg\" height=\"24px\"viewBox=\"0 0 24 24\"\n",
              "       width=\"24px\">\n",
              "    <path d=\"M0 0h24v24H0V0z\" fill=\"none\"/>\n",
              "    <path d=\"M18.56 5.44l.94 2.06.94-2.06 2.06-.94-2.06-.94-.94-2.06-.94 2.06-2.06.94zm-11 1L8.5 8.5l.94-2.06 2.06-.94-2.06-.94L8.5 2.5l-.94 2.06-2.06.94zm10 10l.94 2.06.94-2.06 2.06-.94-2.06-.94-.94-2.06-.94 2.06-2.06.94z\"/><path d=\"M17.41 7.96l-1.37-1.37c-.4-.4-.92-.59-1.43-.59-.52 0-1.04.2-1.43.59L10.3 9.45l-7.72 7.72c-.78.78-.78 2.05 0 2.83L4 21.41c.39.39.9.59 1.41.59.51 0 1.02-.2 1.41-.59l7.78-7.78 2.81-2.81c.8-.78.8-2.07 0-2.86zM5.41 20L4 18.59l7.72-7.72 1.47 1.35L5.41 20z\"/>\n",
              "  </svg>\n",
              "      </button>\n",
              "      \n",
              "  <style>\n",
              "    .colab-df-container {\n",
              "      display:flex;\n",
              "      flex-wrap:wrap;\n",
              "      gap: 12px;\n",
              "    }\n",
              "\n",
              "    .colab-df-convert {\n",
              "      background-color: #E8F0FE;\n",
              "      border: none;\n",
              "      border-radius: 50%;\n",
              "      cursor: pointer;\n",
              "      display: none;\n",
              "      fill: #1967D2;\n",
              "      height: 32px;\n",
              "      padding: 0 0 0 0;\n",
              "      width: 32px;\n",
              "    }\n",
              "\n",
              "    .colab-df-convert:hover {\n",
              "      background-color: #E2EBFA;\n",
              "      box-shadow: 0px 1px 2px rgba(60, 64, 67, 0.3), 0px 1px 3px 1px rgba(60, 64, 67, 0.15);\n",
              "      fill: #174EA6;\n",
              "    }\n",
              "\n",
              "    [theme=dark] .colab-df-convert {\n",
              "      background-color: #3B4455;\n",
              "      fill: #D2E3FC;\n",
              "    }\n",
              "\n",
              "    [theme=dark] .colab-df-convert:hover {\n",
              "      background-color: #434B5C;\n",
              "      box-shadow: 0px 1px 3px 1px rgba(0, 0, 0, 0.15);\n",
              "      filter: drop-shadow(0px 1px 2px rgba(0, 0, 0, 0.3));\n",
              "      fill: #FFFFFF;\n",
              "    }\n",
              "  </style>\n",
              "\n",
              "      <script>\n",
              "        const buttonEl =\n",
              "          document.querySelector('#df-cbd2430a-e90c-4bb0-ac38-bd7a897e1079 button.colab-df-convert');\n",
              "        buttonEl.style.display =\n",
              "          google.colab.kernel.accessAllowed ? 'block' : 'none';\n",
              "\n",
              "        async function convertToInteractive(key) {\n",
              "          const element = document.querySelector('#df-cbd2430a-e90c-4bb0-ac38-bd7a897e1079');\n",
              "          const dataTable =\n",
              "            await google.colab.kernel.invokeFunction('convertToInteractive',\n",
              "                                                     [key], {});\n",
              "          if (!dataTable) return;\n",
              "\n",
              "          const docLinkHtml = 'Like what you see? Visit the ' +\n",
              "            '<a target=\"_blank\" href=https://colab.research.google.com/notebooks/data_table.ipynb>data table notebook</a>'\n",
              "            + ' to learn more about interactive tables.';\n",
              "          element.innerHTML = '';\n",
              "          dataTable['output_type'] = 'display_data';\n",
              "          await google.colab.output.renderOutput(dataTable, element);\n",
              "          const docLink = document.createElement('div');\n",
              "          docLink.innerHTML = docLinkHtml;\n",
              "          element.appendChild(docLink);\n",
              "        }\n",
              "      </script>\n",
              "    </div>\n",
              "  </div>\n",
              "  "
            ]
          },
          "metadata": {},
          "execution_count": 290
        }
      ]
    },
    {
      "cell_type": "code",
      "source": [],
      "metadata": {
        "id": "d1Sf0QHBAQk3"
      },
      "execution_count": null,
      "outputs": []
    }
  ]
}