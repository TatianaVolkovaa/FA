{
  "cells": [
    {
      "cell_type": "code",
      "execution_count": 4,
      "metadata": {
        "execution": {
          "iopub.execute_input": "2023-01-06T19:21:20.980914Z",
          "iopub.status.busy": "2023-01-06T19:21:20.980465Z",
          "iopub.status.idle": "2023-01-06T19:21:20.989232Z",
          "shell.execute_reply": "2023-01-06T19:21:20.987562Z",
          "shell.execute_reply.started": "2023-01-06T19:21:20.980877Z"
        },
        "id": "ohdglW7Gfcb3"
      },
      "outputs": [],
      "source": [
        "import torch\n",
        "import torch.nn as nn\n",
        "from torch.utils.data import Dataset, DataLoader,TensorDataset,random_split\n",
        "import torch.nn.functional as F\n",
        "import numpy as np\n",
        "import pandas as pd\n",
        "import matplotlib.pyplot as plt\n",
        "import seaborn as sns\n",
        "import sklearn\n",
        "from sklearn.model_selection import train_test_split\n",
        "from sklearn import preprocessing\n",
        "from sklearn.preprocessing import *\n",
        "\n",
        "from sklearn.metrics import r2_score "
      ]
    },
    {
      "cell_type": "markdown",
      "metadata": {
        "id": "NIMsDNQ4V-ih"
      },
      "source": [
        "# Волкова Татьяна ПИ19-2 Билет 23\n",
        "\n"
      ]
    },
    {
      "cell_type": "markdown",
      "metadata": {
        "id": "TseUxFCkdyHp"
      },
      "source": [
        "## Задание 1"
      ]
    },
    {
      "cell_type": "markdown",
      "metadata": {
        "id": "5w1L3lfzdyu6"
      },
      "source": [
        "НА ЛИСТОЧКЕ"
      ]
    },
    {
      "cell_type": "markdown",
      "metadata": {
        "id": "sra3tiOJd9eG"
      },
      "source": [
        "## Задание 2\n",
        "При помощи возможностей по автоматическому дифференцированию, которые предоставляет библиотека PyTorch, найдите минимум функции  y=(x**2−25x+10)/x  на отрезке [0.5, 24]. Реализуйте процесс поиска экстремума таким образом, чтобы при нахождении точки экстремума процедура поиска останавливалась. Продемонстрируйте процесс оптимизации. Изобразите график функции y(x) на заданном отрезке."
      ]
    },
    {
      "cell_type": "code",
      "execution_count": 52,
      "metadata": {
        "colab": {
          "base_uri": "https://localhost:8080/",
          "height": 606
        },
        "id": "yS7BzHgrfyHj",
        "outputId": "927dc3da-bfd1-449e-e74a-453cf9b561ba"
      },
      "outputs": [
        {
          "data": {
            "image/png": "[encoded data removed]",
            "text/plain": [
              "<Figure size 720x720 with 1 Axes>"
            ]
          },
          "metadata": {
            "needs_background": "light"
          },
          "output_type": "display_data"
        }
      ],
      "source": [
        "x = torch.arange(0.5, 24, 0.001, requires_grad = True)\n",
        "Y = ((x)**2 - 25*x + 10) / x\n",
        "y = torch.sum(Y)\n",
        "y.backward()\n",
        " \n",
        "# отрисовка функции и производной\n",
        "plt.plot(x.detach().numpy(), Y.detach().numpy(), label = 'Функция', color='red')\n",
        "plt.plot(x.detach().numpy(), x.grad.detach().numpy(), label = 'Производная', color='green')\n",
        "plt.xlabel('x')\n",
        "plt.ylabel('y')\n",
        "plt.legend()\n",
        "plt.show()"
      ]
    },
    {
      "cell_type": "code",
      "execution_count": 65,
      "metadata": {
        "colab": {
          "base_uri": "https://localhost:8080/"
        },
        "id": "z82lP2rtfCXs",
        "outputId": "09c439d6-ef06-48b8-996f-36ace3fd8fb7"
      },
      "outputs": [
        {
          "name": "stdout",
          "output_type": "stream",
          "text": [
            "Минимальное значение ->> -18.675445556640625\n"
          ]
        }
      ],
      "source": [
        "class Func():\n",
        "  def __init__(self, x):\n",
        "    self.x = torch.autograd.Variable(x, requires_grad=True)\n",
        "\n",
        "  def forward(self):\n",
        "    return ((self.x)**2 - 25*self.x + 10) / self.x\n",
        "  \n",
        "  def backward(self):\n",
        "    return (((self.x)**2 - 25*self.x + 10) / self.x).backward()\n",
        "\n",
        "x_r = torch.arange(0.5, 24, 0.001, dtype=float)\n",
        "optimizer = torch.optim.Adam([x_r], lr=0.0001)\n",
        "mini = 0\n",
        "\n",
        "for epoch in range(100):\n",
        "  for x_ in x_r:\n",
        "    x = torch.Tensor([x_]).requires_grad_()\n",
        "    func = Func(x)\n",
        "    optimizer.zero_grad()\n",
        "    y = func.forward()\n",
        "    y.backward()\n",
        "    if (y.item()<mini):\n",
        "        mini = y.item()\n",
        "    elif (y.item()>mini):\n",
        "        break\n",
        "  optimizer.step()\n",
        "\n",
        "print(f'Минимальное значение ->> {mini}')"
      ]
    },
    {
      "cell_type": "markdown",
      "metadata": {
        "id": "m_DiNMYVWS9j"
      },
      "source": [
        "## Задание 3\n",
        "Реализовав (рекуррентную) нейронную сеть при помощи библиотеки PyTorch, решите задачу классификации (текстов). Разделите набор данных на обучающее и тестовое множество. Проверьте, является ли выборка сбалансированной. При проведении процедуры обучения на несбалансированной выборке задайте параметр weight при создании функции потерь. Отобразите графики значений функции потерь на обучающем множестве. Отобразите confusion matrix и classification report, рассчитанные на основе тестового множества.\n",
        "\n",
        "Датасет: classification/income.csv\n",
        "Целевой столбец - income>50"
      ]
    },
    {
      "cell_type": "markdown",
      "metadata": {
        "id": "Is0CPZ6-YO27"
      },
      "source": [
        "### Предобработка данных"
      ]
    },
    {
      "cell_type": "code",
      "execution_count": 2,
      "metadata": {
        "colab": {
          "base_uri": "https://localhost:8080/"
        },
        "id": "WDQJKFRKhEtw",
        "outputId": "3392c4f4-c418-440f-82be-908035de8c17"
      },
      "outputs": [
        {
          "name": "stdout",
          "output_type": "stream",
          "text": [
            "Mounted at /content/drive\n"
          ]
        }
      ],
      "source": [
        "from google.colab import drive\n",
        "drive.mount('/content/drive')"
      ]
    },
    {
      "cell_type": "code",
      "execution_count": 5,
      "metadata": {
        "colab": {
          "base_uri": "https://localhost:8080/",
          "height": 372
        },
        "execution": {
          "iopub.execute_input": "2023-01-06T19:21:20.991673Z",
          "iopub.status.busy": "2023-01-06T19:21:20.991274Z",
          "iopub.status.idle": "2023-01-06T19:21:21.020062Z",
          "shell.execute_reply": "2023-01-06T19:21:21.019434Z",
          "shell.execute_reply.started": "2023-01-06T19:21:20.991636Z"
        },
        "id": "952n0Kr5fcb8",
        "outputId": "c2d200ec-57e4-49e1-aed4-bc3b70a0774b"
      },
      "outputs": [
        {
          "name": "stdout",
          "output_type": "stream",
          "text": [
            "(32561, 14)\n"
          ]
        },
        {
          "data": {
            "text/html": [
              "\n",
              "  <div id=\"df-bf185126-fbac-4219-816a-ca7d40c32aff\">\n",
              "    <div class=\"colab-df-container\">\n",
              "      <div>\n",
              "<style scoped>\n",
              "    .dataframe tbody tr th:only-of-type {\n",
              "        vertical-align: middle;\n",
              "    }\n",
              "\n",
              "    .dataframe tbody tr th {\n",
              "        vertical-align: top;\n",
              "    }\n",
              "\n",
              "    .dataframe thead th {\n",
              "        text-align: right;\n",
              "    }\n",
              "</style>\n",
              "<table border=\"1\" class=\"dataframe\">\n",
              "  <thead>\n",
              "    <tr style=\"text-align: right;\">\n",
              "      <th></th>\n",
              "      <th>age</th>\n",
              "      <th>workclass</th>\n",
              "      <th>education</th>\n",
              "      <th>education-num</th>\n",
              "      <th>marital-status</th>\n",
              "      <th>occupation</th>\n",
              "      <th>relationship</th>\n",
              "      <th>race</th>\n",
              "      <th>sex</th>\n",
              "      <th>capital-gain</th>\n",
              "      <th>capital-loss</th>\n",
              "      <th>hours-per-week</th>\n",
              "      <th>native-country</th>\n",
              "      <th>income &gt;50K</th>\n",
              "    </tr>\n",
              "  </thead>\n",
              "  <tbody>\n",
              "    <tr>\n",
              "      <th>0</th>\n",
              "      <td>39</td>\n",
              "      <td>State-gov</td>\n",
              "      <td>Bachelors</td>\n",
              "      <td>13</td>\n",
              "      <td>Never-married</td>\n",
              "      <td>Adm-clerical</td>\n",
              "      <td>Not-in-family</td>\n",
              "      <td>White</td>\n",
              "      <td>Male</td>\n",
              "      <td>2174</td>\n",
              "      <td>0</td>\n",
              "      <td>40</td>\n",
              "      <td>United-States</td>\n",
              "      <td>0</td>\n",
              "    </tr>\n",
              "    <tr>\n",
              "      <th>1</th>\n",
              "      <td>50</td>\n",
              "      <td>Self-emp-not-inc</td>\n",
              "      <td>Bachelors</td>\n",
              "      <td>13</td>\n",
              "      <td>Married-civ-spouse</td>\n",
              "      <td>Exec-managerial</td>\n",
              "      <td>Husband</td>\n",
              "      <td>White</td>\n",
              "      <td>Male</td>\n",
              "      <td>0</td>\n",
              "      <td>0</td>\n",
              "      <td>13</td>\n",
              "      <td>United-States</td>\n",
              "      <td>0</td>\n",
              "    </tr>\n",
              "    <tr>\n",
              "      <th>2</th>\n",
              "      <td>38</td>\n",
              "      <td>Private</td>\n",
              "      <td>HS-grad</td>\n",
              "      <td>9</td>\n",
              "      <td>Divorced</td>\n",
              "      <td>Handlers-cleaners</td>\n",
              "      <td>Not-in-family</td>\n",
              "      <td>White</td>\n",
              "      <td>Male</td>\n",
              "      <td>0</td>\n",
              "      <td>0</td>\n",
              "      <td>40</td>\n",
              "      <td>United-States</td>\n",
              "      <td>0</td>\n",
              "    </tr>\n",
              "    <tr>\n",
              "      <th>3</th>\n",
              "      <td>53</td>\n",
              "      <td>Private</td>\n",
              "      <td>11th</td>\n",
              "      <td>7</td>\n",
              "      <td>Married-civ-spouse</td>\n",
              "      <td>Handlers-cleaners</td>\n",
              "      <td>Husband</td>\n",
              "      <td>Black</td>\n",
              "      <td>Male</td>\n",
              "      <td>0</td>\n",
              "      <td>0</td>\n",
              "      <td>40</td>\n",
              "      <td>United-States</td>\n",
              "      <td>0</td>\n",
              "    </tr>\n",
              "    <tr>\n",
              "      <th>4</th>\n",
              "      <td>28</td>\n",
              "      <td>Private</td>\n",
              "      <td>Bachelors</td>\n",
              "      <td>13</td>\n",
              "      <td>Married-civ-spouse</td>\n",
              "      <td>Prof-specialty</td>\n",
              "      <td>Wife</td>\n",
              "      <td>Black</td>\n",
              "      <td>Female</td>\n",
              "      <td>0</td>\n",
              "      <td>0</td>\n",
              "      <td>40</td>\n",
              "      <td>Cuba</td>\n",
              "      <td>0</td>\n",
              "    </tr>\n",
              "  </tbody>\n",
              "</table>\n",
              "</div>\n",
              "      <button class=\"colab-df-convert\" onclick=\"convertToInteractive('df-bf185126-fbac-4219-816a-ca7d40c32aff')\"\n",
              "              title=\"Convert this dataframe to an interactive table.\"\n",
              "              style=\"display:none;\">\n",
              "        \n",
              "  <svg xmlns=\"http://www.w3.org/2000/svg\" height=\"24px\"viewBox=\"0 0 24 24\"\n",
              "       width=\"24px\">\n",
              "    <path d=\"M0 0h24v24H0V0z\" fill=\"none\"/>\n",
              "    <path d=\"M18.56 5.44l.94 2.06.94-2.06 2.06-.94-2.06-.94-.94-2.06-.94 2.06-2.06.94zm-11 1L8.5 8.5l.94-2.06 2.06-.94-2.06-.94L8.5 2.5l-.94 2.06-2.06.94zm10 10l.94 2.06.94-2.06 2.06-.94-2.06-.94-.94-2.06-.94 2.06-2.06.94z\"/><path d=\"M17.41 7.96l-1.37-1.37c-.4-.4-.92-.59-1.43-.59-.52 0-1.04.2-1.43.59L10.3 9.45l-7.72 7.72c-.78.78-.78 2.05 0 2.83L4 21.41c.39.39.9.59 1.41.59.51 0 1.02-.2 1.41-.59l7.78-7.78 2.81-2.81c.8-.78.8-2.07 0-2.86zM5.41 20L4 18.59l7.72-7.72 1.47 1.35L5.41 20z\"/>\n",
              "  </svg>\n",
              "      </button>\n",
              "      \n",
              "  <style>\n",
              "    .colab-df-container {\n",
              "      display:flex;\n",
              "      flex-wrap:wrap;\n",
              "      gap: 12px;\n",
              "    }\n",
              "\n",
              "    .colab-df-convert {\n",
              "      background-color: #E8F0FE;\n",
              "      border: none;\n",
              "      border-radius: 50%;\n",
              "      cursor: pointer;\n",
              "      display: none;\n",
              "      fill: #1967D2;\n",
              "      height: 32px;\n",
              "      padding: 0 0 0 0;\n",
              "      width: 32px;\n",
              "    }\n",
              "\n",
              "    .colab-df-convert:hover {\n",
              "      background-color: #E2EBFA;\n",
              "      box-shadow: 0px 1px 2px rgba(60, 64, 67, 0.3), 0px 1px 3px 1px rgba(60, 64, 67, 0.15);\n",
              "      fill: #174EA6;\n",
              "    }\n",
              "\n",
              "    [theme=dark] .colab-df-convert {\n",
              "      background-color: #3B4455;\n",
              "      fill: #D2E3FC;\n",
              "    }\n",
              "\n",
              "    [theme=dark] .colab-df-convert:hover {\n",
              "      background-color: #434B5C;\n",
              "      box-shadow: 0px 1px 3px 1px rgba(0, 0, 0, 0.15);\n",
              "      filter: drop-shadow(0px 1px 2px rgba(0, 0, 0, 0.3));\n",
              "      fill: #FFFFFF;\n",
              "    }\n",
              "  </style>\n",
              "\n",
              "      <script>\n",
              "        const buttonEl =\n",
              "          document.querySelector('#df-bf185126-fbac-4219-816a-ca7d40c32aff button.colab-df-convert');\n",
              "        buttonEl.style.display =\n",
              "          google.colab.kernel.accessAllowed ? 'block' : 'none';\n",
              "\n",
              "        async function convertToInteractive(key) {\n",
              "          const element = document.querySelector('#df-bf185126-fbac-4219-816a-ca7d40c32aff');\n",
              "          const dataTable =\n",
              "            await google.colab.kernel.invokeFunction('convertToInteractive',\n",
              "                                                     [key], {});\n",
              "          if (!dataTable) return;\n",
              "\n",
              "          const docLinkHtml = 'Like what you see? Visit the ' +\n",
              "            '<a target=\"_blank\" href=https://colab.research.google.com/notebooks/data_table.ipynb>data table notebook</a>'\n",
              "            + ' to learn more about interactive tables.';\n",
              "          element.innerHTML = '';\n",
              "          dataTable['output_type'] = 'display_data';\n",
              "          await google.colab.output.renderOutput(dataTable, element);\n",
              "          const docLink = document.createElement('div');\n",
              "          docLink.innerHTML = docLinkHtml;\n",
              "          element.appendChild(docLink);\n",
              "        }\n",
              "      </script>\n",
              "    </div>\n",
              "  </div>\n",
              "  "
            ],
            "text/plain": [
              "   age         workclass  education  education-num      marital-status  \\\n",
              "0   39         State-gov  Bachelors             13       Never-married   \n",
              "1   50  Self-emp-not-inc  Bachelors             13  Married-civ-spouse   \n",
              "2   38           Private    HS-grad              9            Divorced   \n",
              "3   53           Private       11th              7  Married-civ-spouse   \n",
              "4   28           Private  Bachelors             13  Married-civ-spouse   \n",
              "\n",
              "          occupation   relationship   race     sex  capital-gain  \\\n",
              "0       Adm-clerical  Not-in-family  White    Male          2174   \n",
              "1    Exec-managerial        Husband  White    Male             0   \n",
              "2  Handlers-cleaners  Not-in-family  White    Male             0   \n",
              "3  Handlers-cleaners        Husband  Black    Male             0   \n",
              "4     Prof-specialty           Wife  Black  Female             0   \n",
              "\n",
              "   capital-loss  hours-per-week native-country  income >50K  \n",
              "0             0              40  United-States            0  \n",
              "1             0              13  United-States            0  \n",
              "2             0              40  United-States            0  \n",
              "3             0              40  United-States            0  \n",
              "4             0              40           Cuba            0  "
            ]
          },
          "execution_count": 5,
          "metadata": {},
          "output_type": "execute_result"
        }
      ],
      "source": [
        "df = pd.read_csv(\"/content/drive/MyDrive/Colab Notebooks/exam/classification/income.csv\")\n",
        "print(df.shape)\n",
        "df.head()"
      ]
    },
    {
      "cell_type": "code",
      "execution_count": 6,
      "metadata": {
        "colab": {
          "base_uri": "https://localhost:8080/"
        },
        "execution": {
          "iopub.execute_input": "2023-01-06T19:21:21.057914Z",
          "iopub.status.busy": "2023-01-06T19:21:21.057456Z",
          "iopub.status.idle": "2023-01-06T19:21:21.068046Z",
          "shell.execute_reply": "2023-01-06T19:21:21.066523Z",
          "shell.execute_reply.started": "2023-01-06T19:21:21.057883Z"
        },
        "id": "kucPCDrbfcb-",
        "outputId": "2bf76abc-3ab9-4f6a-eb4d-3c3e9cafb01e"
      },
      "outputs": [
        {
          "data": {
            "text/plain": [
              "age                  0\n",
              "workclass         1836\n",
              "education            0\n",
              "education-num        0\n",
              "marital-status       0\n",
              "occupation        1843\n",
              "relationship         0\n",
              "race                 0\n",
              "sex                  0\n",
              "capital-gain         0\n",
              "capital-loss         0\n",
              "hours-per-week       0\n",
              "native-country     583\n",
              "income >50K          0\n",
              "dtype: int64"
            ]
          },
          "execution_count": 6,
          "metadata": {},
          "output_type": "execute_result"
        }
      ],
      "source": [
        "df.isnull().sum()"
      ]
    },
    {
      "cell_type": "code",
      "execution_count": 7,
      "metadata": {
        "colab": {
          "base_uri": "https://localhost:8080/"
        },
        "execution": {
          "iopub.execute_input": "2023-01-06T19:21:21.070562Z",
          "iopub.status.busy": "2023-01-06T19:21:21.069861Z",
          "iopub.status.idle": "2023-01-06T19:21:21.079147Z",
          "shell.execute_reply": "2023-01-06T19:21:21.078251Z",
          "shell.execute_reply.started": "2023-01-06T19:21:21.070452Z"
        },
        "id": "IcouV5J8fcb_",
        "outputId": "77bb280f-d7e3-4e62-a324-f17170fb0b4b"
      },
      "outputs": [
        {
          "data": {
            "text/plain": [
              "0"
            ]
          },
          "execution_count": 7,
          "metadata": {},
          "output_type": "execute_result"
        }
      ],
      "source": [
        "# вроде относительно общего объема данных, пропусков не так много, чтоб не заполнять удалю\n",
        "df = df.dropna()\n",
        "df.isnull().sum().sum() "
      ]
    },
    {
      "cell_type": "code",
      "execution_count": 9,
      "metadata": {
        "colab": {
          "base_uri": "https://localhost:8080/"
        },
        "execution": {
          "iopub.execute_input": "2023-01-06T19:21:21.095790Z",
          "iopub.status.busy": "2023-01-06T19:21:21.095505Z",
          "iopub.status.idle": "2023-01-06T19:21:21.109834Z",
          "shell.execute_reply": "2023-01-06T19:21:21.108683Z",
          "shell.execute_reply.started": "2023-01-06T19:21:21.095766Z"
        },
        "id": "rDrSxfCRfccB",
        "outputId": "9e4789f5-bd36-47cb-bccf-788445753d43"
      },
      "outputs": [
        {
          "data": {
            "text/plain": [
              "age                72\n",
              "workclass           7\n",
              "education          16\n",
              "education-num      16\n",
              "marital-status      7\n",
              "occupation         14\n",
              "relationship        6\n",
              "race                5\n",
              "sex                 2\n",
              "capital-gain      118\n",
              "capital-loss       90\n",
              "hours-per-week     94\n",
              "native-country     41\n",
              "income >50K         2\n",
              "dtype: int64"
            ]
          },
          "execution_count": 9,
          "metadata": {},
          "output_type": "execute_result"
        }
      ],
      "source": [
        "df.nunique()"
      ]
    },
    {
      "cell_type": "code",
      "execution_count": 8,
      "metadata": {
        "colab": {
          "base_uri": "https://localhost:8080/"
        },
        "execution": {
          "iopub.execute_input": "2023-01-06T19:21:21.081315Z",
          "iopub.status.busy": "2023-01-06T19:21:21.080800Z",
          "iopub.status.idle": "2023-01-06T19:21:21.094205Z",
          "shell.execute_reply": "2023-01-06T19:21:21.093515Z",
          "shell.execute_reply.started": "2023-01-06T19:21:21.081279Z"
        },
        "id": "ktlJq7a1fccA",
        "outputId": "e1917f11-9362-41e2-fb56-c3840322c5c1"
      },
      "outputs": [
        {
          "name": "stdout",
          "output_type": "stream",
          "text": [
            "<class 'pandas.core.frame.DataFrame'>\n",
            "Int64Index: 30162 entries, 0 to 32560\n",
            "Data columns (total 14 columns):\n",
            " #   Column          Non-Null Count  Dtype \n",
            "---  ------          --------------  ----- \n",
            " 0   age             30162 non-null  int64 \n",
            " 1   workclass       30162 non-null  object\n",
            " 2   education       30162 non-null  object\n",
            " 3   education-num   30162 non-null  int64 \n",
            " 4   marital-status  30162 non-null  object\n",
            " 5   occupation      30162 non-null  object\n",
            " 6   relationship    30162 non-null  object\n",
            " 7   race            30162 non-null  object\n",
            " 8   sex             30162 non-null  object\n",
            " 9   capital-gain    30162 non-null  int64 \n",
            " 10  capital-loss    30162 non-null  int64 \n",
            " 11  hours-per-week  30162 non-null  int64 \n",
            " 12  native-country  30162 non-null  object\n",
            " 13  income >50K     30162 non-null  int64 \n",
            "dtypes: int64(6), object(8)\n",
            "memory usage: 3.5+ MB\n"
          ]
        }
      ],
      "source": [
        "df.info()"
      ]
    },
    {
      "cell_type": "code",
      "execution_count": 12,
      "metadata": {
        "colab": {
          "base_uri": "https://localhost:8080/"
        },
        "id": "iTp7kG4OkT66",
        "outputId": "69811103-d96d-4274-b228-a85d2573eb63"
      },
      "outputs": [
        {
          "name": "stderr",
          "output_type": "stream",
          "text": [
            "<ipython-input-12-34d2c01b4286>:10: DeprecationWarning: Converting `np.inexact` or `np.floating` to a dtype is deprecated. The current result is `float64` which is not strictly correct.\n",
            "  if df[column].dtype==np.number:\n"
          ]
        }
      ],
      "source": [
        "from sklearn.preprocessing import LabelEncoder, MinMaxScaler\n",
        "\n",
        "# численные столбцы нормализуем\n",
        "scaler = MinMaxScaler()\n",
        "df[['age','education-num','capital-gain','capital-loss','hours-per-week']] = scaler.fit_transform(df[['age','education-num','capital-gain','capital-loss','hours-per-week']])\n",
        "\n",
        "# преобразуем все нечисленные столбцы в численный формат\n",
        "labeler = LabelEncoder()\n",
        "for column in df.columns:\n",
        "    if df[column].dtype==np.number:\n",
        "        continue\n",
        "    else: df[column]=labeler.fit_transform(df[column])"
      ]
    },
    {
      "cell_type": "code",
      "execution_count": 13,
      "metadata": {
        "colab": {
          "base_uri": "https://localhost:8080/",
          "height": 666
        },
        "id": "V_aoXS5tkvFM",
        "outputId": "06fd7b53-9730-4dab-db58-e4fb57a7c5eb"
      },
      "outputs": [
        {
          "name": "stdout",
          "output_type": "stream",
          "text": [
            "<class 'pandas.core.frame.DataFrame'>\n",
            "Int64Index: 30162 entries, 0 to 32560\n",
            "Data columns (total 14 columns):\n",
            " #   Column          Non-Null Count  Dtype  \n",
            "---  ------          --------------  -----  \n",
            " 0   age             30162 non-null  float64\n",
            " 1   workclass       30162 non-null  int64  \n",
            " 2   education       30162 non-null  int64  \n",
            " 3   education-num   30162 non-null  float64\n",
            " 4   marital-status  30162 non-null  int64  \n",
            " 5   occupation      30162 non-null  int64  \n",
            " 6   relationship    30162 non-null  int64  \n",
            " 7   race            30162 non-null  int64  \n",
            " 8   sex             30162 non-null  int64  \n",
            " 9   capital-gain    30162 non-null  float64\n",
            " 10  capital-loss    30162 non-null  float64\n",
            " 11  hours-per-week  30162 non-null  float64\n",
            " 12  native-country  30162 non-null  int64  \n",
            " 13  income >50K     30162 non-null  int64  \n",
            "dtypes: float64(5), int64(9)\n",
            "memory usage: 3.5 MB\n",
            "None\n"
          ]
        },
        {
          "data": {
            "text/html": [
              "\n",
              "  <div id=\"df-0faf4376-a0a5-4bf2-bfef-48592901ed8b\">\n",
              "    <div class=\"colab-df-container\">\n",
              "      <div>\n",
              "<style scoped>\n",
              "    .dataframe tbody tr th:only-of-type {\n",
              "        vertical-align: middle;\n",
              "    }\n",
              "\n",
              "    .dataframe tbody tr th {\n",
              "        vertical-align: top;\n",
              "    }\n",
              "\n",
              "    .dataframe thead th {\n",
              "        text-align: right;\n",
              "    }\n",
              "</style>\n",
              "<table border=\"1\" class=\"dataframe\">\n",
              "  <thead>\n",
              "    <tr style=\"text-align: right;\">\n",
              "      <th></th>\n",
              "      <th>age</th>\n",
              "      <th>workclass</th>\n",
              "      <th>education</th>\n",
              "      <th>education-num</th>\n",
              "      <th>marital-status</th>\n",
              "      <th>occupation</th>\n",
              "      <th>relationship</th>\n",
              "      <th>race</th>\n",
              "      <th>sex</th>\n",
              "      <th>capital-gain</th>\n",
              "      <th>capital-loss</th>\n",
              "      <th>hours-per-week</th>\n",
              "      <th>native-country</th>\n",
              "      <th>income &gt;50K</th>\n",
              "    </tr>\n",
              "  </thead>\n",
              "  <tbody>\n",
              "    <tr>\n",
              "      <th>0</th>\n",
              "      <td>0.309859</td>\n",
              "      <td>5</td>\n",
              "      <td>9</td>\n",
              "      <td>0.800000</td>\n",
              "      <td>4</td>\n",
              "      <td>0</td>\n",
              "      <td>1</td>\n",
              "      <td>4</td>\n",
              "      <td>1</td>\n",
              "      <td>0.205128</td>\n",
              "      <td>0.0</td>\n",
              "      <td>0.419355</td>\n",
              "      <td>38</td>\n",
              "      <td>0</td>\n",
              "    </tr>\n",
              "    <tr>\n",
              "      <th>1</th>\n",
              "      <td>0.464789</td>\n",
              "      <td>4</td>\n",
              "      <td>9</td>\n",
              "      <td>0.800000</td>\n",
              "      <td>2</td>\n",
              "      <td>3</td>\n",
              "      <td>0</td>\n",
              "      <td>4</td>\n",
              "      <td>1</td>\n",
              "      <td>0.000000</td>\n",
              "      <td>0.0</td>\n",
              "      <td>0.129032</td>\n",
              "      <td>38</td>\n",
              "      <td>0</td>\n",
              "    </tr>\n",
              "    <tr>\n",
              "      <th>2</th>\n",
              "      <td>0.295775</td>\n",
              "      <td>2</td>\n",
              "      <td>11</td>\n",
              "      <td>0.533333</td>\n",
              "      <td>0</td>\n",
              "      <td>5</td>\n",
              "      <td>1</td>\n",
              "      <td>4</td>\n",
              "      <td>1</td>\n",
              "      <td>0.000000</td>\n",
              "      <td>0.0</td>\n",
              "      <td>0.419355</td>\n",
              "      <td>38</td>\n",
              "      <td>0</td>\n",
              "    </tr>\n",
              "    <tr>\n",
              "      <th>3</th>\n",
              "      <td>0.507042</td>\n",
              "      <td>2</td>\n",
              "      <td>1</td>\n",
              "      <td>0.400000</td>\n",
              "      <td>2</td>\n",
              "      <td>5</td>\n",
              "      <td>0</td>\n",
              "      <td>2</td>\n",
              "      <td>1</td>\n",
              "      <td>0.000000</td>\n",
              "      <td>0.0</td>\n",
              "      <td>0.419355</td>\n",
              "      <td>38</td>\n",
              "      <td>0</td>\n",
              "    </tr>\n",
              "    <tr>\n",
              "      <th>4</th>\n",
              "      <td>0.154930</td>\n",
              "      <td>2</td>\n",
              "      <td>9</td>\n",
              "      <td>0.800000</td>\n",
              "      <td>2</td>\n",
              "      <td>9</td>\n",
              "      <td>5</td>\n",
              "      <td>2</td>\n",
              "      <td>0</td>\n",
              "      <td>0.000000</td>\n",
              "      <td>0.0</td>\n",
              "      <td>0.419355</td>\n",
              "      <td>4</td>\n",
              "      <td>0</td>\n",
              "    </tr>\n",
              "  </tbody>\n",
              "</table>\n",
              "</div>\n",
              "      <button class=\"colab-df-convert\" onclick=\"convertToInteractive('df-0faf4376-a0a5-4bf2-bfef-48592901ed8b')\"\n",
              "              title=\"Convert this dataframe to an interactive table.\"\n",
              "              style=\"display:none;\">\n",
              "        \n",
              "  <svg xmlns=\"http://www.w3.org/2000/svg\" height=\"24px\"viewBox=\"0 0 24 24\"\n",
              "       width=\"24px\">\n",
              "    <path d=\"M0 0h24v24H0V0z\" fill=\"none\"/>\n",
              "    <path d=\"M18.56 5.44l.94 2.06.94-2.06 2.06-.94-2.06-.94-.94-2.06-.94 2.06-2.06.94zm-11 1L8.5 8.5l.94-2.06 2.06-.94-2.06-.94L8.5 2.5l-.94 2.06-2.06.94zm10 10l.94 2.06.94-2.06 2.06-.94-2.06-.94-.94-2.06-.94 2.06-2.06.94z\"/><path d=\"M17.41 7.96l-1.37-1.37c-.4-.4-.92-.59-1.43-.59-.52 0-1.04.2-1.43.59L10.3 9.45l-7.72 7.72c-.78.78-.78 2.05 0 2.83L4 21.41c.39.39.9.59 1.41.59.51 0 1.02-.2 1.41-.59l7.78-7.78 2.81-2.81c.8-.78.8-2.07 0-2.86zM5.41 20L4 18.59l7.72-7.72 1.47 1.35L5.41 20z\"/>\n",
              "  </svg>\n",
              "      </button>\n",
              "      \n",
              "  <style>\n",
              "    .colab-df-container {\n",
              "      display:flex;\n",
              "      flex-wrap:wrap;\n",
              "      gap: 12px;\n",
              "    }\n",
              "\n",
              "    .colab-df-convert {\n",
              "      background-color: #E8F0FE;\n",
              "      border: none;\n",
              "      border-radius: 50%;\n",
              "      cursor: pointer;\n",
              "      display: none;\n",
              "      fill: #1967D2;\n",
              "      height: 32px;\n",
              "      padding: 0 0 0 0;\n",
              "      width: 32px;\n",
              "    }\n",
              "\n",
              "    .colab-df-convert:hover {\n",
              "      background-color: #E2EBFA;\n",
              "      box-shadow: 0px 1px 2px rgba(60, 64, 67, 0.3), 0px 1px 3px 1px rgba(60, 64, 67, 0.15);\n",
              "      fill: #174EA6;\n",
              "    }\n",
              "\n",
              "    [theme=dark] .colab-df-convert {\n",
              "      background-color: #3B4455;\n",
              "      fill: #D2E3FC;\n",
              "    }\n",
              "\n",
              "    [theme=dark] .colab-df-convert:hover {\n",
              "      background-color: #434B5C;\n",
              "      box-shadow: 0px 1px 3px 1px rgba(0, 0, 0, 0.15);\n",
              "      filter: drop-shadow(0px 1px 2px rgba(0, 0, 0, 0.3));\n",
              "      fill: #FFFFFF;\n",
              "    }\n",
              "  </style>\n",
              "\n",
              "      <script>\n",
              "        const buttonEl =\n",
              "          document.querySelector('#df-0faf4376-a0a5-4bf2-bfef-48592901ed8b button.colab-df-convert');\n",
              "        buttonEl.style.display =\n",
              "          google.colab.kernel.accessAllowed ? 'block' : 'none';\n",
              "\n",
              "        async function convertToInteractive(key) {\n",
              "          const element = document.querySelector('#df-0faf4376-a0a5-4bf2-bfef-48592901ed8b');\n",
              "          const dataTable =\n",
              "            await google.colab.kernel.invokeFunction('convertToInteractive',\n",
              "                                                     [key], {});\n",
              "          if (!dataTable) return;\n",
              "\n",
              "          const docLinkHtml = 'Like what you see? Visit the ' +\n",
              "            '<a target=\"_blank\" href=https://colab.research.google.com/notebooks/data_table.ipynb>data table notebook</a>'\n",
              "            + ' to learn more about interactive tables.';\n",
              "          element.innerHTML = '';\n",
              "          dataTable['output_type'] = 'display_data';\n",
              "          await google.colab.output.renderOutput(dataTable, element);\n",
              "          const docLink = document.createElement('div');\n",
              "          docLink.innerHTML = docLinkHtml;\n",
              "          element.appendChild(docLink);\n",
              "        }\n",
              "      </script>\n",
              "    </div>\n",
              "  </div>\n",
              "  "
            ],
            "text/plain": [
              "        age  workclass  education  education-num  marital-status  occupation  \\\n",
              "0  0.309859          5          9       0.800000               4           0   \n",
              "1  0.464789          4          9       0.800000               2           3   \n",
              "2  0.295775          2         11       0.533333               0           5   \n",
              "3  0.507042          2          1       0.400000               2           5   \n",
              "4  0.154930          2          9       0.800000               2           9   \n",
              "\n",
              "   relationship  race  sex  capital-gain  capital-loss  hours-per-week  \\\n",
              "0             1     4    1      0.205128           0.0        0.419355   \n",
              "1             0     4    1      0.000000           0.0        0.129032   \n",
              "2             1     4    1      0.000000           0.0        0.419355   \n",
              "3             0     2    1      0.000000           0.0        0.419355   \n",
              "4             5     2    0      0.000000           0.0        0.419355   \n",
              "\n",
              "   native-country  income >50K  \n",
              "0              38            0  \n",
              "1              38            0  \n",
              "2              38            0  \n",
              "3              38            0  \n",
              "4               4            0  "
            ]
          },
          "execution_count": 13,
          "metadata": {},
          "output_type": "execute_result"
        }
      ],
      "source": [
        "print(df.info())\n",
        "df.head()"
      ]
    },
    {
      "cell_type": "code",
      "execution_count": 15,
      "metadata": {
        "colab": {
          "base_uri": "https://localhost:8080/",
          "height": 337
        },
        "id": "VoUadbsKhYa3",
        "outputId": "3258a97a-bddc-4e82-98f9-6efcd460969a"
      },
      "outputs": [
        {
          "name": "stdout",
          "output_type": "stream",
          "text": [
            "0    22654\n",
            "1     7508\n",
            "Name: income >50K, dtype: int64\n"
          ]
        },
        {
          "data": {
            "text/plain": [
              "<matplotlib.axes._subplots.AxesSubplot at 0x7fdccc0bde20>"
            ]
          },
          "execution_count": 15,
          "metadata": {},
          "output_type": "execute_result"
        },
        {
          "data": {
            "image/png": "[encoded data removed]",
            "text/plain": [
              "<Figure size 432x288 with 1 Axes>"
            ]
          },
          "metadata": {
            "needs_background": "light"
          },
          "output_type": "display_data"
        }
      ],
      "source": [
        "# распределение классов \n",
        "vc = df[\"income >50K\"].value_counts()\n",
        "print(vc)\n",
        "df[\"income >50K\"].value_counts().plot.bar(rot=0)\n",
        "\n",
        "## очень несбалансированно"
      ]
    },
    {
      "cell_type": "code",
      "execution_count": 27,
      "metadata": {
        "id": "G0J7W4khcVDS"
      },
      "outputs": [],
      "source": [
        "class_weights = torch.tensor(df['income >50K'].value_counts().sum() - df['income >50K'].value_counts()) / df['income >50K'].value_counts().sum()"
      ]
    },
    {
      "cell_type": "markdown",
      "metadata": {
        "id": "c8Be8GjCbF1R"
      },
      "source": [
        "### Построение и обучение модели"
      ]
    },
    {
      "cell_type": "code",
      "execution_count": 17,
      "metadata": {
        "id": "MmslTymgiPEJ"
      },
      "outputs": [],
      "source": [
        "class IncomeDataset(Dataset):\n",
        "\n",
        "    def __init__(self):\n",
        "        self.X = torch.from_numpy(df[df.columns.drop(\"income >50K\")].to_numpy()).to(torch.float)\n",
        "        self.y = torch.from_numpy(df[\"income >50K\"].to_numpy()).to(torch.long)\n",
        "        self.n_classes = len(self.y.unique())\n",
        "\n",
        "    def __len__(self):\n",
        "        return len(self.X)\n",
        "\n",
        "    def __getitem__(self, idx):\n",
        "        return self.X[idx], self.y[idx]"
      ]
    },
    {
      "cell_type": "code",
      "execution_count": 18,
      "metadata": {
        "id": "cWuPcn0RlVfy"
      },
      "outputs": [],
      "source": [
        "# архитектура модели (рекурентные я не знаю)\n",
        "class Classificator(nn.Module):\n",
        "\n",
        "    def __init__(self, in_features, out_features):\n",
        "        super().__init__()\n",
        "        self.classifier = nn.Sequential(\n",
        "            nn.Linear(in_features, 128),\n",
        "            nn.ReLU(),\n",
        "            nn.Dropout(),\n",
        "            nn.Linear(128, 256),\n",
        "            nn.ReLU(),\n",
        "            nn.Dropout(),\n",
        "            nn.Linear(256, out_features),\n",
        "        )\n",
        "\n",
        "    def forward(self, x):\n",
        "        return self.classifier(x)"
      ]
    },
    {
      "cell_type": "code",
      "execution_count": 33,
      "metadata": {
        "id": "3zwJgyJUl1UH"
      },
      "outputs": [],
      "source": [
        "# шаг пакетного обучения\n",
        "def train_loop(dataloader, model, loss_fn, optimizer):\n",
        "    size = len(dataloader.dataset)\n",
        "\n",
        "    losses = 0\n",
        "    num_batches = len(dataloader)\n",
        "\n",
        "    for batch, (X, y) in enumerate(dataloader):\n",
        "        # Compute prediction and loss\n",
        "        pred = model(X)\n",
        "        loss = loss_fn(pred, y)\n",
        "\n",
        "        # Backpropagation\n",
        "        optimizer.zero_grad()\n",
        "        loss.backward()\n",
        "        optimizer.step()\n",
        "\n",
        "        if batch % 50 == 0:\n",
        "            loss, current = loss.item(), batch * len(X)\n",
        "            print(f\"loss: {loss:>7f}  [{current:>5d}/{size:>5d}]\")\n",
        "        \n",
        "        losses += loss\n",
        "        avg_loss = losses / num_batches\n",
        "    return avg_loss "
      ]
    },
    {
      "cell_type": "code",
      "execution_count": 84,
      "metadata": {
        "colab": {
          "base_uri": "https://localhost:8080/"
        },
        "id": "os7_JPvBl7Jj",
        "outputId": "6d98bed5-f519-4b72-c2f1-ac4e7e75b161"
      },
      "outputs": [
        {
          "name": "stdout",
          "output_type": "stream",
          "text": [
            "24130 6032\n"
          ]
        }
      ],
      "source": [
        "epochs = 50\n",
        "learning_rate = 1e-3\n",
        "batch_size = 128\n",
        "\n",
        "dataset = IncomeDataset()\n",
        "train_size = round(0.8 * len(dataset))\n",
        "train_dataset, test_dataset = random_split(dataset, (train_size, len(dataset) - train_size))\n",
        "print(len(train_dataset), len(test_dataset))\n",
        "\n",
        "loss_fn = nn.CrossEntropyLoss(weight=class_weights)\n",
        "model = Classificator(in_features=dataset.X.size(1), out_features=len(dataset.y.unique()))\n",
        "optimizer= torch.optim.SGD(model.parameters(), lr=learning_rate)\n",
        "\n",
        "train_dataloader = DataLoader(train_dataset, batch_size=batch_size, shuffle=True)\n",
        "test_dataloader = DataLoader(test_dataset, batch_size=len(test_dataset))"
      ]
    },
    {
      "cell_type": "code",
      "execution_count": 85,
      "metadata": {
        "colab": {
          "base_uri": "https://localhost:8080/",
          "height": 631
        },
        "id": "PFySxp0ouoPY",
        "outputId": "f7429475-9b75-44a9-cbdd-2e922cbbee6b"
      },
      "outputs": [
        {
          "data": {
            "text/plain": [
              "<matplotlib.axes._subplots.AxesSubplot at 0x7fdcc84b7850>"
            ]
          },
          "execution_count": 85,
          "metadata": {},
          "output_type": "execute_result"
        },
        {
          "data": {
            "image/png": "[encoded data removed]",
            "text/plain": [
              "<Figure size 720x720 with 1 Axes>"
            ]
          },
          "metadata": {
            "needs_background": "light"
          },
          "output_type": "display_data"
        }
      ],
      "source": [
        "pd.DataFrame(train_dataset.dataset.y.detach().numpy()).value_counts().plot.bar() "
      ]
    },
    {
      "cell_type": "code",
      "execution_count": 86,
      "metadata": {
        "colab": {
          "base_uri": "https://localhost:8080/",
          "height": 631
        },
        "id": "6jFn2Y6xuoPZ",
        "outputId": "9439610f-8b38-4a41-aa55-d87599484800"
      },
      "outputs": [
        {
          "data": {
            "text/plain": [
              "<matplotlib.axes._subplots.AxesSubplot at 0x7fdccb512460>"
            ]
          },
          "execution_count": 86,
          "metadata": {},
          "output_type": "execute_result"
        },
        {
          "data": {
            "image/png": "[encoded data removed]",
            "text/plain": [
              "<Figure size 720x720 with 1 Axes>"
            ]
          },
          "metadata": {
            "needs_background": "light"
          },
          "output_type": "display_data"
        }
      ],
      "source": [
        "pd.DataFrame(test_dataset.dataset.y.detach().numpy()).value_counts().plot.bar() "
      ]
    },
    {
      "cell_type": "code",
      "execution_count": 87,
      "metadata": {
        "colab": {
          "base_uri": "https://localhost:8080/"
        },
        "id": "D56K1S8lmwt5",
        "outputId": "433225f6-e981-4356-d501-4fea82b120e0"
      },
      "outputs": [
        {
          "name": "stdout",
          "output_type": "stream",
          "text": [
            "Epoch 1\n",
            "-------------------------------\n",
            "loss: 1.399992  [    0/24130]\n",
            "loss: 1.010016  [ 6400/24130]\n",
            "loss: 0.913517  [12800/24130]\n",
            "loss: 0.791148  [19200/24130]\n",
            "Epoch 2\n",
            "-------------------------------\n",
            "loss: 0.873110  [    0/24130]\n",
            "loss: 0.831519  [ 6400/24130]\n",
            "loss: 0.828085  [12800/24130]\n",
            "loss: 0.714887  [19200/24130]\n",
            "Epoch 3\n",
            "-------------------------------\n",
            "loss: 0.702727  [    0/24130]\n",
            "loss: 0.698785  [ 6400/24130]\n",
            "loss: 0.737367  [12800/24130]\n",
            "loss: 0.652934  [19200/24130]\n",
            "Epoch 4\n",
            "-------------------------------\n",
            "loss: 0.696420  [    0/24130]\n",
            "loss: 0.677065  [ 6400/24130]\n",
            "loss: 0.675275  [12800/24130]\n",
            "loss: 0.676659  [19200/24130]\n",
            "Epoch 5\n",
            "-------------------------------\n",
            "loss: 0.702989  [    0/24130]\n",
            "loss: 0.711256  [ 6400/24130]\n",
            "loss: 0.705759  [12800/24130]\n",
            "loss: 0.693310  [19200/24130]\n",
            "Epoch 6\n",
            "-------------------------------\n",
            "loss: 0.719506  [    0/24130]\n",
            "loss: 0.692457  [ 6400/24130]\n",
            "loss: 0.701591  [12800/24130]\n",
            "loss: 0.696954  [19200/24130]\n",
            "Epoch 7\n",
            "-------------------------------\n",
            "loss: 0.717088  [    0/24130]\n",
            "loss: 0.715380  [ 6400/24130]\n",
            "loss: 0.685552  [12800/24130]\n",
            "loss: 0.708813  [19200/24130]\n",
            "Epoch 8\n",
            "-------------------------------\n",
            "loss: 0.656812  [    0/24130]\n",
            "loss: 0.666837  [ 6400/24130]\n",
            "loss: 0.692936  [12800/24130]\n",
            "loss: 0.697584  [19200/24130]\n",
            "Epoch 9\n",
            "-------------------------------\n",
            "loss: 0.696144  [    0/24130]\n",
            "loss: 0.703537  [ 6400/24130]\n",
            "loss: 0.680479  [12800/24130]\n",
            "loss: 0.707226  [19200/24130]\n",
            "Epoch 10\n",
            "-------------------------------\n",
            "loss: 0.685347  [    0/24130]\n",
            "loss: 0.715967  [ 6400/24130]\n",
            "loss: 0.660121  [12800/24130]\n",
            "loss: 0.718891  [19200/24130]\n",
            "Epoch 11\n",
            "-------------------------------\n",
            "loss: 0.706038  [    0/24130]\n",
            "loss: 0.692690  [ 6400/24130]\n",
            "loss: 0.726621  [12800/24130]\n",
            "loss: 0.679857  [19200/24130]\n",
            "Epoch 12\n",
            "-------------------------------\n",
            "loss: 0.689860  [    0/24130]\n",
            "loss: 0.712716  [ 6400/24130]\n",
            "loss: 0.694215  [12800/24130]\n",
            "loss: 0.701530  [19200/24130]\n",
            "Epoch 13\n",
            "-------------------------------\n",
            "loss: 0.692489  [    0/24130]\n",
            "loss: 0.698718  [ 6400/24130]\n",
            "loss: 0.690421  [12800/24130]\n",
            "loss: 0.652047  [19200/24130]\n",
            "Epoch 14\n",
            "-------------------------------\n",
            "loss: 0.673903  [    0/24130]\n",
            "loss: 0.726202  [ 6400/24130]\n",
            "loss: 0.686742  [12800/24130]\n",
            "loss: 0.688289  [19200/24130]\n",
            "Epoch 15\n",
            "-------------------------------\n",
            "loss: 0.706523  [    0/24130]\n",
            "loss: 0.704535  [ 6400/24130]\n",
            "loss: 0.669444  [12800/24130]\n",
            "loss: 0.673414  [19200/24130]\n",
            "Epoch 16\n",
            "-------------------------------\n",
            "loss: 0.704909  [    0/24130]\n",
            "loss: 0.693573  [ 6400/24130]\n",
            "loss: 0.685433  [12800/24130]\n",
            "loss: 0.680635  [19200/24130]\n",
            "Epoch 17\n",
            "-------------------------------\n",
            "loss: 0.722940  [    0/24130]\n",
            "loss: 0.675766  [ 6400/24130]\n",
            "loss: 0.689212  [12800/24130]\n",
            "loss: 0.695055  [19200/24130]\n",
            "Epoch 18\n",
            "-------------------------------\n",
            "loss: 0.690200  [    0/24130]\n",
            "loss: 0.671300  [ 6400/24130]\n",
            "loss: 0.660470  [12800/24130]\n",
            "loss: 0.675088  [19200/24130]\n",
            "Epoch 19\n",
            "-------------------------------\n",
            "loss: 0.708804  [    0/24130]\n",
            "loss: 0.685151  [ 6400/24130]\n",
            "loss: 0.666127  [12800/24130]\n",
            "loss: 0.694240  [19200/24130]\n",
            "Epoch 20\n",
            "-------------------------------\n",
            "loss: 0.701522  [    0/24130]\n",
            "loss: 0.674101  [ 6400/24130]\n",
            "loss: 0.699174  [12800/24130]\n",
            "loss: 0.672130  [19200/24130]\n",
            "Epoch 21\n",
            "-------------------------------\n",
            "loss: 0.697187  [    0/24130]\n",
            "loss: 0.675278  [ 6400/24130]\n",
            "loss: 0.693064  [12800/24130]\n",
            "loss: 0.706582  [19200/24130]\n",
            "Epoch 22\n",
            "-------------------------------\n",
            "loss: 0.688676  [    0/24130]\n",
            "loss: 0.671406  [ 6400/24130]\n",
            "loss: 0.701298  [12800/24130]\n",
            "loss: 0.693808  [19200/24130]\n",
            "Epoch 23\n",
            "-------------------------------\n",
            "loss: 0.679458  [    0/24130]\n",
            "loss: 0.693988  [ 6400/24130]\n",
            "loss: 0.697674  [12800/24130]\n",
            "loss: 0.698183  [19200/24130]\n",
            "Epoch 24\n",
            "-------------------------------\n",
            "loss: 0.684073  [    0/24130]\n",
            "loss: 0.696003  [ 6400/24130]\n",
            "loss: 0.689449  [12800/24130]\n",
            "loss: 0.692578  [19200/24130]\n",
            "Epoch 25\n",
            "-------------------------------\n",
            "loss: 0.717237  [    0/24130]\n",
            "loss: 0.656321  [ 6400/24130]\n",
            "loss: 0.664615  [12800/24130]\n",
            "loss: 0.716246  [19200/24130]\n",
            "Epoch 26\n",
            "-------------------------------\n",
            "loss: 0.716680  [    0/24130]\n",
            "loss: 0.690610  [ 6400/24130]\n",
            "loss: 0.695156  [12800/24130]\n",
            "loss: 0.673125  [19200/24130]\n",
            "Epoch 27\n",
            "-------------------------------\n",
            "loss: 0.668402  [    0/24130]\n",
            "loss: 0.703087  [ 6400/24130]\n",
            "loss: 0.693422  [12800/24130]\n",
            "loss: 0.698215  [19200/24130]\n",
            "Epoch 28\n",
            "-------------------------------\n",
            "loss: 0.691327  [    0/24130]\n",
            "loss: 0.667672  [ 6400/24130]\n",
            "loss: 0.707473  [12800/24130]\n",
            "loss: 0.705804  [19200/24130]\n",
            "Epoch 29\n",
            "-------------------------------\n",
            "loss: 0.673998  [    0/24130]\n",
            "loss: 0.686220  [ 6400/24130]\n",
            "loss: 0.678420  [12800/24130]\n",
            "loss: 0.725766  [19200/24130]\n",
            "Epoch 30\n",
            "-------------------------------\n",
            "loss: 0.658833  [    0/24130]\n",
            "loss: 0.700201  [ 6400/24130]\n",
            "loss: 0.676386  [12800/24130]\n",
            "loss: 0.709940  [19200/24130]\n",
            "Epoch 31\n",
            "-------------------------------\n",
            "loss: 0.687949  [    0/24130]\n",
            "loss: 0.685933  [ 6400/24130]\n",
            "loss: 0.719317  [12800/24130]\n",
            "loss: 0.686468  [19200/24130]\n",
            "Epoch 32\n",
            "-------------------------------\n",
            "loss: 0.678280  [    0/24130]\n",
            "loss: 0.704207  [ 6400/24130]\n",
            "loss: 0.674256  [12800/24130]\n",
            "loss: 0.691264  [19200/24130]\n",
            "Epoch 33\n",
            "-------------------------------\n",
            "loss: 0.660857  [    0/24130]\n",
            "loss: 0.713329  [ 6400/24130]\n",
            "loss: 0.720047  [12800/24130]\n",
            "loss: 0.694371  [19200/24130]\n",
            "Epoch 34\n",
            "-------------------------------\n",
            "loss: 0.686918  [    0/24130]\n",
            "loss: 0.703359  [ 6400/24130]\n",
            "loss: 0.686383  [12800/24130]\n",
            "loss: 0.682264  [19200/24130]\n",
            "Epoch 35\n",
            "-------------------------------\n",
            "loss: 0.675194  [    0/24130]\n",
            "loss: 0.692859  [ 6400/24130]\n",
            "loss: 0.679183  [12800/24130]\n",
            "loss: 0.679125  [19200/24130]\n",
            "Epoch 36\n",
            "-------------------------------\n",
            "loss: 0.670196  [    0/24130]\n",
            "loss: 0.712924  [ 6400/24130]\n",
            "loss: 0.678509  [12800/24130]\n",
            "loss: 0.689129  [19200/24130]\n",
            "Epoch 37\n",
            "-------------------------------\n",
            "loss: 0.657591  [    0/24130]\n",
            "loss: 0.675978  [ 6400/24130]\n",
            "loss: 0.662711  [12800/24130]\n",
            "loss: 0.644650  [19200/24130]\n",
            "Epoch 38\n",
            "-------------------------------\n",
            "loss: 0.708691  [    0/24130]\n",
            "loss: 0.694710  [ 6400/24130]\n",
            "loss: 0.683504  [12800/24130]\n",
            "loss: 0.641184  [19200/24130]\n",
            "Epoch 39\n",
            "-------------------------------\n",
            "loss: 0.694177  [    0/24130]\n",
            "loss: 0.677623  [ 6400/24130]\n",
            "loss: 0.711218  [12800/24130]\n",
            "loss: 0.663818  [19200/24130]\n",
            "Epoch 40\n",
            "-------------------------------\n",
            "loss: 0.657530  [    0/24130]\n",
            "loss: 0.658358  [ 6400/24130]\n",
            "loss: 0.678612  [12800/24130]\n",
            "loss: 0.689894  [19200/24130]\n",
            "Epoch 41\n",
            "-------------------------------\n",
            "loss: 0.675072  [    0/24130]\n",
            "loss: 0.718722  [ 6400/24130]\n",
            "loss: 0.651362  [12800/24130]\n",
            "loss: 0.668282  [19200/24130]\n",
            "Epoch 42\n",
            "-------------------------------\n",
            "loss: 0.672735  [    0/24130]\n",
            "loss: 0.712742  [ 6400/24130]\n",
            "loss: 0.684207  [12800/24130]\n",
            "loss: 0.654906  [19200/24130]\n",
            "Epoch 43\n",
            "-------------------------------\n",
            "loss: 0.668395  [    0/24130]\n",
            "loss: 0.721965  [ 6400/24130]\n",
            "loss: 0.667937  [12800/24130]\n",
            "loss: 0.687431  [19200/24130]\n",
            "Epoch 44\n",
            "-------------------------------\n",
            "loss: 0.714497  [    0/24130]\n",
            "loss: 0.675259  [ 6400/24130]\n",
            "loss: 0.635533  [12800/24130]\n",
            "loss: 0.670455  [19200/24130]\n",
            "Epoch 45\n",
            "-------------------------------\n",
            "loss: 0.686926  [    0/24130]\n",
            "loss: 0.666046  [ 6400/24130]\n",
            "loss: 0.678700  [12800/24130]\n",
            "loss: 0.684082  [19200/24130]\n",
            "Epoch 46\n",
            "-------------------------------\n",
            "loss: 0.700315  [    0/24130]\n",
            "loss: 0.655949  [ 6400/24130]\n",
            "loss: 0.676208  [12800/24130]\n",
            "loss: 0.703555  [19200/24130]\n",
            "Epoch 47\n",
            "-------------------------------\n",
            "loss: 0.693075  [    0/24130]\n",
            "loss: 0.685789  [ 6400/24130]\n",
            "loss: 0.664999  [12800/24130]\n",
            "loss: 0.680010  [19200/24130]\n",
            "Epoch 48\n",
            "-------------------------------\n",
            "loss: 0.677694  [    0/24130]\n",
            "loss: 0.703913  [ 6400/24130]\n",
            "loss: 0.671666  [12800/24130]\n",
            "loss: 0.663487  [19200/24130]\n",
            "Epoch 49\n",
            "-------------------------------\n",
            "loss: 0.673378  [    0/24130]\n",
            "loss: 0.694279  [ 6400/24130]\n",
            "loss: 0.688109  [12800/24130]\n",
            "loss: 0.674051  [19200/24130]\n",
            "Epoch 50\n",
            "-------------------------------\n",
            "loss: 0.701148  [    0/24130]\n",
            "loss: 0.705113  [ 6400/24130]\n",
            "loss: 0.678975  [12800/24130]\n",
            "loss: 0.695250  [19200/24130]\n"
          ]
        }
      ],
      "source": [
        "losses = []\n",
        "for t in range(epochs):\n",
        "    print(f\"Epoch {t+1}\\n-------------------------------\")\n",
        "    train_loss = train_loop(train_dataloader, model, loss_fn, optimizer)\n",
        "    losses.append(train_loss)"
      ]
    },
    {
      "cell_type": "markdown",
      "metadata": {
        "id": "kH08cJQVdU3l"
      },
      "source": [
        "### Оценка результатов"
      ]
    },
    {
      "cell_type": "code",
      "execution_count": 88,
      "metadata": {
        "colab": {
          "base_uri": "https://localhost:8080/",
          "height": 592
        },
        "id": "FXmFocPIoFs1",
        "outputId": "f849492c-6a3c-4d63-b439-e905f6418123"
      },
      "outputs": [
        {
          "data": {
            "image/png": "[encoded data removed]",
            "text/plain": [
              "<Figure size 720x720 with 1 Axes>"
            ]
          },
          "metadata": {
            "needs_background": "light"
          },
          "output_type": "display_data"
        }
      ],
      "source": [
        "with torch.no_grad():\n",
        "  plt.plot(losses, color='green')"
      ]
    },
    {
      "cell_type": "code",
      "execution_count": 89,
      "metadata": {
        "colab": {
          "base_uri": "https://localhost:8080/",
          "height": 592
        },
        "id": "BHpqm_PrkHbA",
        "outputId": "1d399d72-d31c-49f7-8533-74afdb9574d0"
      },
      "outputs": [
        {
          "data": {
            "image/png": "[encoded data removed]",
            "text/plain": [
              "<Figure size 720x720 with 1 Axes>"
            ]
          },
          "metadata": {
            "needs_background": "light"
          },
          "output_type": "display_data"
        }
      ],
      "source": [
        "with torch.no_grad():\n",
        "    plt.plot(losses[5:], color='green')"
      ]
    },
    {
      "cell_type": "code",
      "execution_count": 90,
      "metadata": {
        "colab": {
          "base_uri": "https://localhost:8080/",
          "height": 617
        },
        "id": "YzeTZKdAmoEa",
        "outputId": "78b4d355-319b-495c-d6a1-58cda1f194be"
      },
      "outputs": [
        {
          "data": {
            "image/png": "[encoded data removed]",
            "text/plain": [
              "<Figure size 720x720 with 2 Axes>"
            ]
          },
          "metadata": {
            "needs_background": "light"
          },
          "output_type": "display_data"
        }
      ],
      "source": [
        "from sklearn.metrics import confusion_matrix\n",
        "\n",
        "model.eval() # отключаем droput\n",
        "X_test, y_true = next(iter(test_dataloader))\n",
        "y_pred = model(X_test).argmax(dim=1)\n",
        "\n",
        "cm = confusion_matrix(y_true, y_pred)\n",
        "\n",
        "import seaborn as sns\n",
        "\n",
        "plt.rcParams[\"figure.figsize\"] = (10, 10)\n",
        "\n",
        "ax = sns.heatmap(cm, annot=True, cmap='Blues')\n",
        "ax.set_xlabel('\\nPredicted Values')\n",
        "ax.set_ylabel('Actual Values ')\n",
        "\n",
        "ax.xaxis.set_ticklabels(['<50', '>50'])\n",
        "ax.yaxis.set_ticklabels(['<50', '>50'])\n",
        "\n",
        "plt.show()"
      ]
    },
    {
      "cell_type": "code",
      "execution_count": 91,
      "metadata": {
        "colab": {
          "base_uri": "https://localhost:8080/"
        },
        "id": "Qoyjrxh2pC5Z",
        "outputId": "3f8a3ff6-e84d-4813-c783-bb88346ffa20"
      },
      "outputs": [
        {
          "name": "stdout",
          "output_type": "stream",
          "text": [
            "              precision    recall  f1-score   support\n",
            "\n",
            "          no       0.87      0.62      0.72      4512\n",
            "         yes       0.39      0.73      0.51      1520\n",
            "\n",
            "    accuracy                           0.65      6032\n",
            "   macro avg       0.63      0.67      0.62      6032\n",
            "weighted avg       0.75      0.65      0.67      6032\n",
            "\n"
          ]
        }
      ],
      "source": [
        "from sklearn import metrics \n",
        "\n",
        "print(metrics.classification_report(y_true, y_pred, target_names=['no', 'yes'], zero_division=True))"
      ]
    },
    {
      "cell_type": "markdown",
      "metadata": {
        "id": "ozytTcicdZ2h"
      },
      "source": [
        "Accuracy 65% не очень конечно, но поэксперементировать с параметрами не очень успеваю и очень несбалансированный датасет"
      ]
    },
    {
      "cell_type": "code",
      "execution_count": null,
      "metadata": {
        "id": "MFlI3qWLdi7Y"
      },
      "outputs": [],
      "source": []
    }
  ],
  "metadata": {
    "colab": {
      "provenance": [],
      "toc_visible": true
    },
    "kernelspec": {
      "display_name": "Python 3",
      "name": "python3"
    },
    "language_info": {
      "name": "python"
    }
  },
  "nbformat": 4,
  "nbformat_minor": 0
}
