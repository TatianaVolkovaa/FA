{
  "cells": [
    {
      "cell_type": "code",
      "execution_count": 325,
      "metadata": {
        "id": "XtFQP3RNll3c"
      },
      "outputs": [],
      "source": [
        "import re\n",
        "import nltk\n",
        "\n",
        "import numpy as np\n",
        "\n",
        "import torch\n",
        "from torch.utils.data import Dataset, DataLoader\n",
        "import torch.nn as nn\n",
        "import torch.optim as optim\n",
        "\n",
        "import pandas as pd\n",
        "from sklearn.model_selection import train_test_split\n",
        "from sklearn.metrics import accuracy_score\n",
        "from nltk.tokenize import word_tokenize\n",
        "from sklearn.preprocessing import LabelEncoder\n",
        "\n",
        "import warnings \n",
        "warnings.filterwarnings('ignore')"
      ]
    },
    {
      "cell_type": "code",
      "execution_count": 326,
      "metadata": {
        "colab": {
          "base_uri": "https://localhost:8080/"
        },
        "id": "443CZCLp0_sE",
        "outputId": "48534c6b-0762-496c-dfef-5fe02439dae6"
      },
      "outputs": [
        {
          "output_type": "stream",
          "name": "stderr",
          "text": [
            "[nltk_data] Downloading package punkt to /root/nltk_data...\n",
            "[nltk_data]   Package punkt is already up-to-date!\n"
          ]
        },
        {
          "output_type": "execute_result",
          "data": {
            "text/plain": [
              "True"
            ]
          },
          "metadata": {},
          "execution_count": 326
        }
      ],
      "source": [
        "nltk.download('punkt')"
      ]
    },
    {
      "cell_type": "code",
      "source": [
        "# шаг пакетного обучения\n",
        "def train_loop(dataloader, model, loss_fn, optimizer):\n",
        "    size = len(dataloader.dataset)\n",
        "\n",
        "    losses = 0\n",
        "    num_batches = len(dataloader)\n",
        "\n",
        "    for batch, (X, y) in enumerate(dataloader):\n",
        "        # Compute prediction and loss\n",
        "        pred = model(X)\n",
        "        loss = loss_fn(pred, y)\n",
        "\n",
        "        # Backpropagation\n",
        "        optimizer.zero_grad()\n",
        "        loss.backward()\n",
        "        optimizer.step()\n",
        "\n",
        "        if batch % 32 == 0:\n",
        "            loss, current = loss.item(), batch * len(X)\n",
        "            print(f\"loss: {loss:>7f}  [{current:>5d}/{size:>5d}]\")\n",
        "        \n",
        "        losses += loss\n",
        "        avg_loss = losses / num_batches\n",
        "    return avg_loss \n",
        "\n",
        "# оценка модели на тестовой выборке (акьюраси и ошибка)\n",
        "def test_loop(dataloader, model, loss_fn):\n",
        "    size = len(dataloader.dataset)\n",
        "    num_batches = len(dataloader)\n",
        "    test_loss, correct = 0, 0\n",
        "\n",
        "    with torch.no_grad():\n",
        "        for X, y in dataloader:\n",
        "            pred = model(X)\n",
        "            test_loss += loss_fn(pred, y).item()\n",
        "            correct += (pred.argmax(1) == y).type(torch.float).sum().item()\n",
        "\n",
        "    test_loss /= num_batches\n",
        "    correct /= size\n",
        "    print(f\"Test Error: \\n Accuracy: {(100*correct):>0.1f}%, Avg loss: {test_loss:>8f} \\n\")"
      ],
      "metadata": {
        "id": "6uU09GWplglA"
      },
      "execution_count": 327,
      "outputs": []
    },
    {
      "cell_type": "markdown",
      "metadata": {
        "id": "jqDHq_AEjRZ1"
      },
      "source": [
        "## 1. Представление и предобработка текстовых данных "
      ]
    },
    {
      "cell_type": "markdown",
      "metadata": {
        "id": "vaki7efDpmXo"
      },
      "source": [
        "1.1 Операции по предобработке:\n",
        "* токенизация\n",
        "* стемминг / лемматизация\n",
        "* удаление стоп-слов\n",
        "* удаление пунктуации\n",
        "* приведение к нижнему регистру\n",
        "* любые другие операции над текстом"
      ]
    },
    {
      "cell_type": "code",
      "execution_count": 232,
      "metadata": {
        "id": "nHRy4jpYphEr"
      },
      "outputs": [],
      "source": [
        "from nltk.tokenize import word_tokenize, sent_tokenize\n",
        "from nltk.stem.snowball import SnowballStemmer"
      ]
    },
    {
      "cell_type": "code",
      "execution_count": 233,
      "metadata": {
        "id": "lMMzGhq0ikz1"
      },
      "outputs": [],
      "source": [
        "text = 'Select your preferences and run the install command. Stable represents the most currently tested and supported version of PyTorch. Note that LibTorch is only available for C++'"
      ]
    },
    {
      "cell_type": "markdown",
      "metadata": {
        "id": "bUhfertRtXE5"
      },
      "source": [
        "Реализовать функцию `preprocess_text(text: str)`, которая:\n",
        "* приводит строку к нижнему регистру\n",
        "* заменяет все символы, кроме a-z, A-Z и знаков .,!? на пробел\n"
      ]
    },
    {
      "cell_type": "markdown",
      "source": [
        "\n",
        "```\n",
        "text = text.lower()\n",
        "text = re.sub('[^A-Za-z0-9]+', ' ', text)\n",
        "text\n",
        "```\n",
        "\n"
      ],
      "metadata": {
        "id": "SQ9xhVlKAp5P"
      }
    },
    {
      "cell_type": "code",
      "source": [
        "def preprocess_text(text: str):\n",
        "  text = text.lower()\n",
        "  text = re.sub('[^a-z.,!?]+', ' ', text)\n",
        "  return text"
      ],
      "metadata": {
        "id": "NJpdFi5J_7nx"
      },
      "execution_count": 234,
      "outputs": []
    },
    {
      "cell_type": "code",
      "source": [
        "preprocess_text(text)"
      ],
      "metadata": {
        "colab": {
          "base_uri": "https://localhost:8080/",
          "height": 36
        },
        "id": "imuzJs2fBoj6",
        "outputId": "1007bdf9-fae7-47a3-9c6b-0dc6db6a5acc"
      },
      "execution_count": 235,
      "outputs": [
        {
          "output_type": "execute_result",
          "data": {
            "text/plain": [
              "'select your preferences and run the install command. stable represents the most currently tested and supported version of pytorch. note that libtorch is only available for c '"
            ],
            "application/vnd.google.colaboratory.intrinsic+json": {
              "type": "string"
            }
          },
          "metadata": {},
          "execution_count": 235
        }
      ]
    },
    {
      "cell_type": "markdown",
      "metadata": {
        "id": "Z2Dt1ssIqckC"
      },
      "source": [
        "1.2 Представление текстовых данных при помощи бинарного кодирования\n",
        "\n",
        "\n",
        "Представить первое предложение из `text` в виде тензора `sentence_t`: `sentence_t[i] == 1`, если __слово__ с индексом `i` присуствует в предложении."
      ]
    },
    {
      "cell_type": "code",
      "source": [
        "prep_text = preprocess_text(text)\n",
        "words = list(set(nltk.word_tokenize(prep_text)))\n",
        "words.remove('.')\n",
        "words_idx = {word: i for i, word in enumerate(words)}\n",
        "print(words_idx)\n",
        "\n",
        "sentences = nltk.sent_tokenize(prep_text)\n",
        "first_sentence = sentences[0].replace('.','')\n",
        "print(first_sentence)\n",
        "\n",
        "idxs = []\n",
        "for word in nltk.word_tokenize(first_sentence):\n",
        "  idxs.append(words_idx[word])\n",
        "\n",
        "sentence_t = torch.zeros(len(words))\n",
        "sentence_t[[idxs]] = 1\n",
        "sentence_t"
      ],
      "metadata": {
        "colab": {
          "base_uri": "https://localhost:8080/"
        },
        "id": "DmE-UVKmDVhA",
        "outputId": "cfa03262-89c2-40de-bc04-634e869f5581"
      },
      "execution_count": 236,
      "outputs": [
        {
          "output_type": "stream",
          "name": "stdout",
          "text": [
            "{'tested': 0, 'and': 1, 'select': 2, 'the': 3, 'currently': 4, 'your': 5, 'stable': 6, 'supported': 7, 'only': 8, 'version': 9, 'preferences': 10, 'install': 11, 'of': 12, 'that': 13, 'pytorch': 14, 'for': 15, 'run': 16, 'available': 17, 'note': 18, 'most': 19, 'command': 20, 'represents': 21, 'is': 22, 'c': 23, 'libtorch': 24}\n",
            "select your preferences and run the install command\n"
          ]
        },
        {
          "output_type": "execute_result",
          "data": {
            "text/plain": [
              "tensor([0., 1., 1., 1., 0., 1., 0., 0., 0., 0., 1., 1., 0., 0., 0., 0., 1., 0.,\n",
              "        0., 0., 1., 0., 0., 0., 0.])"
            ]
          },
          "metadata": {},
          "execution_count": 236
        }
      ]
    },
    {
      "cell_type": "markdown",
      "metadata": {
        "id": "P2Nz_zcgw3N4"
      },
      "source": [
        "## 2. Классификация фамилий по национальности\n",
        "\n",
        "Датасет: https://disk.yandex.ru/d/owHew8hzPc7X9Q?w=1\n",
        "\n",
        "2.1 Считать файл `surnames/surnames.csv`. \n",
        "\n",
        "2.2 Закодировать национальности числами, начиная с 0.\n",
        "\n",
        "2.3 Разбить датасет на обучающую и тестовую выборку\n",
        "\n",
        "2.4 Реализовать класс `Vocab` (токен = __символ__)\n",
        "\n",
        "2.5 Реализовать класс `SurnamesDataset`\n",
        "\n",
        "2.6. Обучить классификатор.\n",
        "\n",
        "2.7 Измерить точность на тестовой выборке. Проверить работоспособность модели: прогнать несколько фамилий студентов группы через модели и проверить результат. Для каждой фамилии выводить 3 наиболее вероятных предсказания."
      ]
    },
    {
      "cell_type": "code",
      "source": [
        "from google.colab import drive\n",
        "drive.mount('/content/drive')"
      ],
      "metadata": {
        "colab": {
          "base_uri": "https://localhost:8080/"
        },
        "id": "eIpaLOlALG3z",
        "outputId": "696b567a-66ab-4e5d-87fa-ec5314dfa554"
      },
      "execution_count": 237,
      "outputs": [
        {
          "output_type": "stream",
          "name": "stdout",
          "text": [
            "Drive already mounted at /content/drive; to attempt to forcibly remount, call drive.mount(\"/content/drive\", force_remount=True).\n"
          ]
        }
      ]
    },
    {
      "cell_type": "code",
      "source": [
        "# 2.1 Считать файл surnames/surnames.csv.\n",
        "surnames = pd.read_csv('/content/drive/MyDrive/Colab Notebooks/surnames.csv')\n",
        "surnames.head()"
      ],
      "metadata": {
        "colab": {
          "base_uri": "https://localhost:8080/",
          "height": 206
        },
        "id": "hEYFKO5kLEJ9",
        "outputId": "818868c5-4a3b-4fc7-d65c-64e64d6c471c"
      },
      "execution_count": 238,
      "outputs": [
        {
          "output_type": "execute_result",
          "data": {
            "text/plain": [
              "    surname nationality\n",
              "0  Woodford     English\n",
              "1      Coté      French\n",
              "2      Kore     English\n",
              "3     Koury      Arabic\n",
              "4    Lebzak     Russian"
            ],
            "text/html": [
              "\n",
              "  <div id=\"df-961b0889-928c-4d86-9492-5cdd807c20bb\">\n",
              "    <div class=\"colab-df-container\">\n",
              "      <div>\n",
              "<style scoped>\n",
              "    .dataframe tbody tr th:only-of-type {\n",
              "        vertical-align: middle;\n",
              "    }\n",
              "\n",
              "    .dataframe tbody tr th {\n",
              "        vertical-align: top;\n",
              "    }\n",
              "\n",
              "    .dataframe thead th {\n",
              "        text-align: right;\n",
              "    }\n",
              "</style>\n",
              "<table border=\"1\" class=\"dataframe\">\n",
              "  <thead>\n",
              "    <tr style=\"text-align: right;\">\n",
              "      <th></th>\n",
              "      <th>surname</th>\n",
              "      <th>nationality</th>\n",
              "    </tr>\n",
              "  </thead>\n",
              "  <tbody>\n",
              "    <tr>\n",
              "      <th>0</th>\n",
              "      <td>Woodford</td>\n",
              "      <td>English</td>\n",
              "    </tr>\n",
              "    <tr>\n",
              "      <th>1</th>\n",
              "      <td>Coté</td>\n",
              "      <td>French</td>\n",
              "    </tr>\n",
              "    <tr>\n",
              "      <th>2</th>\n",
              "      <td>Kore</td>\n",
              "      <td>English</td>\n",
              "    </tr>\n",
              "    <tr>\n",
              "      <th>3</th>\n",
              "      <td>Koury</td>\n",
              "      <td>Arabic</td>\n",
              "    </tr>\n",
              "    <tr>\n",
              "      <th>4</th>\n",
              "      <td>Lebzak</td>\n",
              "      <td>Russian</td>\n",
              "    </tr>\n",
              "  </tbody>\n",
              "</table>\n",
              "</div>\n",
              "      <button class=\"colab-df-convert\" onclick=\"convertToInteractive('df-961b0889-928c-4d86-9492-5cdd807c20bb')\"\n",
              "              title=\"Convert this dataframe to an interactive table.\"\n",
              "              style=\"display:none;\">\n",
              "        \n",
              "  <svg xmlns=\"http://www.w3.org/2000/svg\" height=\"24px\"viewBox=\"0 0 24 24\"\n",
              "       width=\"24px\">\n",
              "    <path d=\"M0 0h24v24H0V0z\" fill=\"none\"/>\n",
              "    <path d=\"M18.56 5.44l.94 2.06.94-2.06 2.06-.94-2.06-.94-.94-2.06-.94 2.06-2.06.94zm-11 1L8.5 8.5l.94-2.06 2.06-.94-2.06-.94L8.5 2.5l-.94 2.06-2.06.94zm10 10l.94 2.06.94-2.06 2.06-.94-2.06-.94-.94-2.06-.94 2.06-2.06.94z\"/><path d=\"M17.41 7.96l-1.37-1.37c-.4-.4-.92-.59-1.43-.59-.52 0-1.04.2-1.43.59L10.3 9.45l-7.72 7.72c-.78.78-.78 2.05 0 2.83L4 21.41c.39.39.9.59 1.41.59.51 0 1.02-.2 1.41-.59l7.78-7.78 2.81-2.81c.8-.78.8-2.07 0-2.86zM5.41 20L4 18.59l7.72-7.72 1.47 1.35L5.41 20z\"/>\n",
              "  </svg>\n",
              "      </button>\n",
              "      \n",
              "  <style>\n",
              "    .colab-df-container {\n",
              "      display:flex;\n",
              "      flex-wrap:wrap;\n",
              "      gap: 12px;\n",
              "    }\n",
              "\n",
              "    .colab-df-convert {\n",
              "      background-color: #E8F0FE;\n",
              "      border: none;\n",
              "      border-radius: 50%;\n",
              "      cursor: pointer;\n",
              "      display: none;\n",
              "      fill: #1967D2;\n",
              "      height: 32px;\n",
              "      padding: 0 0 0 0;\n",
              "      width: 32px;\n",
              "    }\n",
              "\n",
              "    .colab-df-convert:hover {\n",
              "      background-color: #E2EBFA;\n",
              "      box-shadow: 0px 1px 2px rgba(60, 64, 67, 0.3), 0px 1px 3px 1px rgba(60, 64, 67, 0.15);\n",
              "      fill: #174EA6;\n",
              "    }\n",
              "\n",
              "    [theme=dark] .colab-df-convert {\n",
              "      background-color: #3B4455;\n",
              "      fill: #D2E3FC;\n",
              "    }\n",
              "\n",
              "    [theme=dark] .colab-df-convert:hover {\n",
              "      background-color: #434B5C;\n",
              "      box-shadow: 0px 1px 3px 1px rgba(0, 0, 0, 0.15);\n",
              "      filter: drop-shadow(0px 1px 2px rgba(0, 0, 0, 0.3));\n",
              "      fill: #FFFFFF;\n",
              "    }\n",
              "  </style>\n",
              "\n",
              "      <script>\n",
              "        const buttonEl =\n",
              "          document.querySelector('#df-961b0889-928c-4d86-9492-5cdd807c20bb button.colab-df-convert');\n",
              "        buttonEl.style.display =\n",
              "          google.colab.kernel.accessAllowed ? 'block' : 'none';\n",
              "\n",
              "        async function convertToInteractive(key) {\n",
              "          const element = document.querySelector('#df-961b0889-928c-4d86-9492-5cdd807c20bb');\n",
              "          const dataTable =\n",
              "            await google.colab.kernel.invokeFunction('convertToInteractive',\n",
              "                                                     [key], {});\n",
              "          if (!dataTable) return;\n",
              "\n",
              "          const docLinkHtml = 'Like what you see? Visit the ' +\n",
              "            '<a target=\"_blank\" href=https://colab.research.google.com/notebooks/data_table.ipynb>data table notebook</a>'\n",
              "            + ' to learn more about interactive tables.';\n",
              "          element.innerHTML = '';\n",
              "          dataTable['output_type'] = 'display_data';\n",
              "          await google.colab.output.renderOutput(dataTable, element);\n",
              "          const docLink = document.createElement('div');\n",
              "          docLink.innerHTML = docLinkHtml;\n",
              "          element.appendChild(docLink);\n",
              "        }\n",
              "      </script>\n",
              "    </div>\n",
              "  </div>\n",
              "  "
            ]
          },
          "metadata": {},
          "execution_count": 238
        }
      ]
    },
    {
      "cell_type": "code",
      "source": [
        "# 2.2 Закодировать национальности числами, начиная с 0.\n",
        "# супермегатупой способ :)\n",
        "nat_idxs = {nationality: i for i, nationality in enumerate(surnames['nationality'].unique())}\n",
        "print(nat_idxs)\n",
        "surnames['nat_idx'] = 0\n",
        "for i in range(len(surnames)):\n",
        "  surnames['nat_idx'][i] = nat_idxs[surnames['nationality'][i]]\n",
        "surnames.tail()"
      ],
      "metadata": {
        "colab": {
          "base_uri": "https://localhost:8080/",
          "height": 244
        },
        "id": "HDJYqbJbLmZA",
        "outputId": "e62fa26c-042c-48ff-fd1c-7926ab56ba5f"
      },
      "execution_count": 239,
      "outputs": [
        {
          "output_type": "stream",
          "name": "stdout",
          "text": [
            "{'English': 0, 'French': 1, 'Arabic': 2, 'Russian': 3, 'Japanese': 4, 'Chinese': 5, 'Italian': 6, 'Czech': 7, 'Irish': 8, 'German': 9, 'Greek': 10, 'Spanish': 11, 'Polish': 12, 'Dutch': 13, 'Vietnamese': 14, 'Korean': 15, 'Portuguese': 16, 'Scottish': 17}\n"
          ]
        },
        {
          "output_type": "execute_result",
          "data": {
            "text/plain": [
              "        surname nationality  nat_idx\n",
              "10975  Quraishi      Arabic        2\n",
              "10976   Innalls     English        0\n",
              "10977      Król      Polish       12\n",
              "10978    Purvis     English        0\n",
              "10979  Messerli      German        9"
            ],
            "text/html": [
              "\n",
              "  <div id=\"df-c91a366b-48fa-4c73-b338-61ae687898f1\">\n",
              "    <div class=\"colab-df-container\">\n",
              "      <div>\n",
              "<style scoped>\n",
              "    .dataframe tbody tr th:only-of-type {\n",
              "        vertical-align: middle;\n",
              "    }\n",
              "\n",
              "    .dataframe tbody tr th {\n",
              "        vertical-align: top;\n",
              "    }\n",
              "\n",
              "    .dataframe thead th {\n",
              "        text-align: right;\n",
              "    }\n",
              "</style>\n",
              "<table border=\"1\" class=\"dataframe\">\n",
              "  <thead>\n",
              "    <tr style=\"text-align: right;\">\n",
              "      <th></th>\n",
              "      <th>surname</th>\n",
              "      <th>nationality</th>\n",
              "      <th>nat_idx</th>\n",
              "    </tr>\n",
              "  </thead>\n",
              "  <tbody>\n",
              "    <tr>\n",
              "      <th>10975</th>\n",
              "      <td>Quraishi</td>\n",
              "      <td>Arabic</td>\n",
              "      <td>2</td>\n",
              "    </tr>\n",
              "    <tr>\n",
              "      <th>10976</th>\n",
              "      <td>Innalls</td>\n",
              "      <td>English</td>\n",
              "      <td>0</td>\n",
              "    </tr>\n",
              "    <tr>\n",
              "      <th>10977</th>\n",
              "      <td>Król</td>\n",
              "      <td>Polish</td>\n",
              "      <td>12</td>\n",
              "    </tr>\n",
              "    <tr>\n",
              "      <th>10978</th>\n",
              "      <td>Purvis</td>\n",
              "      <td>English</td>\n",
              "      <td>0</td>\n",
              "    </tr>\n",
              "    <tr>\n",
              "      <th>10979</th>\n",
              "      <td>Messerli</td>\n",
              "      <td>German</td>\n",
              "      <td>9</td>\n",
              "    </tr>\n",
              "  </tbody>\n",
              "</table>\n",
              "</div>\n",
              "      <button class=\"colab-df-convert\" onclick=\"convertToInteractive('df-c91a366b-48fa-4c73-b338-61ae687898f1')\"\n",
              "              title=\"Convert this dataframe to an interactive table.\"\n",
              "              style=\"display:none;\">\n",
              "        \n",
              "  <svg xmlns=\"http://www.w3.org/2000/svg\" height=\"24px\"viewBox=\"0 0 24 24\"\n",
              "       width=\"24px\">\n",
              "    <path d=\"M0 0h24v24H0V0z\" fill=\"none\"/>\n",
              "    <path d=\"M18.56 5.44l.94 2.06.94-2.06 2.06-.94-2.06-.94-.94-2.06-.94 2.06-2.06.94zm-11 1L8.5 8.5l.94-2.06 2.06-.94-2.06-.94L8.5 2.5l-.94 2.06-2.06.94zm10 10l.94 2.06.94-2.06 2.06-.94-2.06-.94-.94-2.06-.94 2.06-2.06.94z\"/><path d=\"M17.41 7.96l-1.37-1.37c-.4-.4-.92-.59-1.43-.59-.52 0-1.04.2-1.43.59L10.3 9.45l-7.72 7.72c-.78.78-.78 2.05 0 2.83L4 21.41c.39.39.9.59 1.41.59.51 0 1.02-.2 1.41-.59l7.78-7.78 2.81-2.81c.8-.78.8-2.07 0-2.86zM5.41 20L4 18.59l7.72-7.72 1.47 1.35L5.41 20z\"/>\n",
              "  </svg>\n",
              "      </button>\n",
              "      \n",
              "  <style>\n",
              "    .colab-df-container {\n",
              "      display:flex;\n",
              "      flex-wrap:wrap;\n",
              "      gap: 12px;\n",
              "    }\n",
              "\n",
              "    .colab-df-convert {\n",
              "      background-color: #E8F0FE;\n",
              "      border: none;\n",
              "      border-radius: 50%;\n",
              "      cursor: pointer;\n",
              "      display: none;\n",
              "      fill: #1967D2;\n",
              "      height: 32px;\n",
              "      padding: 0 0 0 0;\n",
              "      width: 32px;\n",
              "    }\n",
              "\n",
              "    .colab-df-convert:hover {\n",
              "      background-color: #E2EBFA;\n",
              "      box-shadow: 0px 1px 2px rgba(60, 64, 67, 0.3), 0px 1px 3px 1px rgba(60, 64, 67, 0.15);\n",
              "      fill: #174EA6;\n",
              "    }\n",
              "\n",
              "    [theme=dark] .colab-df-convert {\n",
              "      background-color: #3B4455;\n",
              "      fill: #D2E3FC;\n",
              "    }\n",
              "\n",
              "    [theme=dark] .colab-df-convert:hover {\n",
              "      background-color: #434B5C;\n",
              "      box-shadow: 0px 1px 3px 1px rgba(0, 0, 0, 0.15);\n",
              "      filter: drop-shadow(0px 1px 2px rgba(0, 0, 0, 0.3));\n",
              "      fill: #FFFFFF;\n",
              "    }\n",
              "  </style>\n",
              "\n",
              "      <script>\n",
              "        const buttonEl =\n",
              "          document.querySelector('#df-c91a366b-48fa-4c73-b338-61ae687898f1 button.colab-df-convert');\n",
              "        buttonEl.style.display =\n",
              "          google.colab.kernel.accessAllowed ? 'block' : 'none';\n",
              "\n",
              "        async function convertToInteractive(key) {\n",
              "          const element = document.querySelector('#df-c91a366b-48fa-4c73-b338-61ae687898f1');\n",
              "          const dataTable =\n",
              "            await google.colab.kernel.invokeFunction('convertToInteractive',\n",
              "                                                     [key], {});\n",
              "          if (!dataTable) return;\n",
              "\n",
              "          const docLinkHtml = 'Like what you see? Visit the ' +\n",
              "            '<a target=\"_blank\" href=https://colab.research.google.com/notebooks/data_table.ipynb>data table notebook</a>'\n",
              "            + ' to learn more about interactive tables.';\n",
              "          element.innerHTML = '';\n",
              "          dataTable['output_type'] = 'display_data';\n",
              "          await google.colab.output.renderOutput(dataTable, element);\n",
              "          const docLink = document.createElement('div');\n",
              "          docLink.innerHTML = docLinkHtml;\n",
              "          element.appendChild(docLink);\n",
              "        }\n",
              "      </script>\n",
              "    </div>\n",
              "  </div>\n",
              "  "
            ]
          },
          "metadata": {},
          "execution_count": 239
        }
      ]
    },
    {
      "cell_type": "code",
      "source": [
        "labeler = LabelEncoder()\n",
        "surnames['nat_idx'] = labeler.fit_transform(surnames[\"nationality\"])\n",
        "#nat_idxs = {nationality: i for i, nationality in enumerate(labeler.classes_)}\n",
        "surnames.tail()"
      ],
      "metadata": {
        "colab": {
          "base_uri": "https://localhost:8080/",
          "height": 206
        },
        "id": "YTGrJ5cROu08",
        "outputId": "ce29f8d5-8967-446a-bec7-d6fb69843341"
      },
      "execution_count": 240,
      "outputs": [
        {
          "output_type": "execute_result",
          "data": {
            "text/plain": [
              "        surname nationality  nat_idx\n",
              "10975  Quraishi      Arabic        0\n",
              "10976   Innalls     English        4\n",
              "10977      Król      Polish       12\n",
              "10978    Purvis     English        4\n",
              "10979  Messerli      German        6"
            ],
            "text/html": [
              "\n",
              "  <div id=\"df-644df034-69fd-4ebe-adf0-c3d533769a87\">\n",
              "    <div class=\"colab-df-container\">\n",
              "      <div>\n",
              "<style scoped>\n",
              "    .dataframe tbody tr th:only-of-type {\n",
              "        vertical-align: middle;\n",
              "    }\n",
              "\n",
              "    .dataframe tbody tr th {\n",
              "        vertical-align: top;\n",
              "    }\n",
              "\n",
              "    .dataframe thead th {\n",
              "        text-align: right;\n",
              "    }\n",
              "</style>\n",
              "<table border=\"1\" class=\"dataframe\">\n",
              "  <thead>\n",
              "    <tr style=\"text-align: right;\">\n",
              "      <th></th>\n",
              "      <th>surname</th>\n",
              "      <th>nationality</th>\n",
              "      <th>nat_idx</th>\n",
              "    </tr>\n",
              "  </thead>\n",
              "  <tbody>\n",
              "    <tr>\n",
              "      <th>10975</th>\n",
              "      <td>Quraishi</td>\n",
              "      <td>Arabic</td>\n",
              "      <td>0</td>\n",
              "    </tr>\n",
              "    <tr>\n",
              "      <th>10976</th>\n",
              "      <td>Innalls</td>\n",
              "      <td>English</td>\n",
              "      <td>4</td>\n",
              "    </tr>\n",
              "    <tr>\n",
              "      <th>10977</th>\n",
              "      <td>Król</td>\n",
              "      <td>Polish</td>\n",
              "      <td>12</td>\n",
              "    </tr>\n",
              "    <tr>\n",
              "      <th>10978</th>\n",
              "      <td>Purvis</td>\n",
              "      <td>English</td>\n",
              "      <td>4</td>\n",
              "    </tr>\n",
              "    <tr>\n",
              "      <th>10979</th>\n",
              "      <td>Messerli</td>\n",
              "      <td>German</td>\n",
              "      <td>6</td>\n",
              "    </tr>\n",
              "  </tbody>\n",
              "</table>\n",
              "</div>\n",
              "      <button class=\"colab-df-convert\" onclick=\"convertToInteractive('df-644df034-69fd-4ebe-adf0-c3d533769a87')\"\n",
              "              title=\"Convert this dataframe to an interactive table.\"\n",
              "              style=\"display:none;\">\n",
              "        \n",
              "  <svg xmlns=\"http://www.w3.org/2000/svg\" height=\"24px\"viewBox=\"0 0 24 24\"\n",
              "       width=\"24px\">\n",
              "    <path d=\"M0 0h24v24H0V0z\" fill=\"none\"/>\n",
              "    <path d=\"M18.56 5.44l.94 2.06.94-2.06 2.06-.94-2.06-.94-.94-2.06-.94 2.06-2.06.94zm-11 1L8.5 8.5l.94-2.06 2.06-.94-2.06-.94L8.5 2.5l-.94 2.06-2.06.94zm10 10l.94 2.06.94-2.06 2.06-.94-2.06-.94-.94-2.06-.94 2.06-2.06.94z\"/><path d=\"M17.41 7.96l-1.37-1.37c-.4-.4-.92-.59-1.43-.59-.52 0-1.04.2-1.43.59L10.3 9.45l-7.72 7.72c-.78.78-.78 2.05 0 2.83L4 21.41c.39.39.9.59 1.41.59.51 0 1.02-.2 1.41-.59l7.78-7.78 2.81-2.81c.8-.78.8-2.07 0-2.86zM5.41 20L4 18.59l7.72-7.72 1.47 1.35L5.41 20z\"/>\n",
              "  </svg>\n",
              "      </button>\n",
              "      \n",
              "  <style>\n",
              "    .colab-df-container {\n",
              "      display:flex;\n",
              "      flex-wrap:wrap;\n",
              "      gap: 12px;\n",
              "    }\n",
              "\n",
              "    .colab-df-convert {\n",
              "      background-color: #E8F0FE;\n",
              "      border: none;\n",
              "      border-radius: 50%;\n",
              "      cursor: pointer;\n",
              "      display: none;\n",
              "      fill: #1967D2;\n",
              "      height: 32px;\n",
              "      padding: 0 0 0 0;\n",
              "      width: 32px;\n",
              "    }\n",
              "\n",
              "    .colab-df-convert:hover {\n",
              "      background-color: #E2EBFA;\n",
              "      box-shadow: 0px 1px 2px rgba(60, 64, 67, 0.3), 0px 1px 3px 1px rgba(60, 64, 67, 0.15);\n",
              "      fill: #174EA6;\n",
              "    }\n",
              "\n",
              "    [theme=dark] .colab-df-convert {\n",
              "      background-color: #3B4455;\n",
              "      fill: #D2E3FC;\n",
              "    }\n",
              "\n",
              "    [theme=dark] .colab-df-convert:hover {\n",
              "      background-color: #434B5C;\n",
              "      box-shadow: 0px 1px 3px 1px rgba(0, 0, 0, 0.15);\n",
              "      filter: drop-shadow(0px 1px 2px rgba(0, 0, 0, 0.3));\n",
              "      fill: #FFFFFF;\n",
              "    }\n",
              "  </style>\n",
              "\n",
              "      <script>\n",
              "        const buttonEl =\n",
              "          document.querySelector('#df-644df034-69fd-4ebe-adf0-c3d533769a87 button.colab-df-convert');\n",
              "        buttonEl.style.display =\n",
              "          google.colab.kernel.accessAllowed ? 'block' : 'none';\n",
              "\n",
              "        async function convertToInteractive(key) {\n",
              "          const element = document.querySelector('#df-644df034-69fd-4ebe-adf0-c3d533769a87');\n",
              "          const dataTable =\n",
              "            await google.colab.kernel.invokeFunction('convertToInteractive',\n",
              "                                                     [key], {});\n",
              "          if (!dataTable) return;\n",
              "\n",
              "          const docLinkHtml = 'Like what you see? Visit the ' +\n",
              "            '<a target=\"_blank\" href=https://colab.research.google.com/notebooks/data_table.ipynb>data table notebook</a>'\n",
              "            + ' to learn more about interactive tables.';\n",
              "          element.innerHTML = '';\n",
              "          dataTable['output_type'] = 'display_data';\n",
              "          await google.colab.output.renderOutput(dataTable, element);\n",
              "          const docLink = document.createElement('div');\n",
              "          docLink.innerHTML = docLinkHtml;\n",
              "          element.appendChild(docLink);\n",
              "        }\n",
              "      </script>\n",
              "    </div>\n",
              "  </div>\n",
              "  "
            ]
          },
          "metadata": {},
          "execution_count": 240
        }
      ]
    },
    {
      "cell_type": "code",
      "source": [
        "labeler.inverse_transform([9])"
      ],
      "metadata": {
        "colab": {
          "base_uri": "https://localhost:8080/"
        },
        "id": "Bpm8o9XsPvln",
        "outputId": "82505667-245d-4683-95d8-5a150d917dc7"
      },
      "execution_count": 241,
      "outputs": [
        {
          "output_type": "execute_result",
          "data": {
            "text/plain": [
              "array(['Italian'], dtype=object)"
            ]
          },
          "metadata": {},
          "execution_count": 241
        }
      ]
    },
    {
      "cell_type": "code",
      "source": [
        "# 2.3 Разбить датасет на обучающую и тестовую выборку\n",
        "X = surnames['surname'].str.lower()\n",
        "y = surnames['nat_idx']\n",
        "X_train, X_test, y_train, y_test = train_test_split(X, y, test_size=0.2, random_state=1)"
      ],
      "metadata": {
        "id": "RZ006KcaQJhP"
      },
      "execution_count": 242,
      "outputs": []
    },
    {
      "cell_type": "code",
      "source": [
        "# 2.4 Реализовать класс Vocab (токен = символ)\n",
        "\n",
        "class Vocab:\n",
        "  def __init__(self, data):\n",
        "\n",
        "    # массив из всех букв английского алфавита \n",
        "    tokens = []\n",
        "    for i in range(97, 122):\n",
        "        tokens.append(chr(i))\n",
        "    # print(tokens)\n",
        "\n",
        "    # множество символов встречающихся в датасете\n",
        "    data_tokens = set(char for word in data for char in word.lower())\n",
        "\n",
        "    data_tokens.update(tokens)\n",
        "\n",
        "    self.idx_to_token = dict(enumerate(data_tokens))\n",
        "    self.token_to_idx = {token: idx for idx, token in self.idx_to_token.items()}\n",
        "    self.vocab_len = len(self.idx_to_token)\n",
        "  \n",
        "\n",
        "vocab = Vocab(surnames[\"surname\"])\n",
        "vocab.vocab_len"
      ],
      "metadata": {
        "id": "OrYUul-u94lN",
        "colab": {
          "base_uri": "https://localhost:8080/"
        },
        "outputId": "4c03b529-bf62-42f4-efa0-7dd85a8c30f3"
      },
      "execution_count": 243,
      "outputs": [
        {
          "output_type": "execute_result",
          "data": {
            "text/plain": [
              "55"
            ]
          },
          "metadata": {},
          "execution_count": 243
        }
      ]
    },
    {
      "cell_type": "code",
      "execution_count": 244,
      "metadata": {
        "id": "WCaRK1QHxe0A"
      },
      "outputs": [],
      "source": [
        "# 2.5 Реализовать класс SurnamesDataset\n",
        "class SurnamesDataset(Dataset):\n",
        "  def __init__(self, X, y, vocab: Vocab):\n",
        "    self.X = X\n",
        "    self.y = y\n",
        "    self.vocab = vocab\n",
        "\n",
        "  def vectorize(self, surname):\n",
        "    '''Генерирует представление фамилии surname в при помощи бинарного кодирования (см. 1.2)'''\n",
        "    idxs = []\n",
        "    for token in surname.lower():\n",
        "      idxs.append(vocab.token_to_idx[token])\n",
        "    surname_t = torch.zeros(vocab.vocab_len)\n",
        "    surname_t[[idxs]] = 1\n",
        "    return surname_t\n",
        "\n",
        "  def __len__(self):\n",
        "    return len(self.X)\n",
        "\n",
        "  def __getitem__(self, idx):\n",
        "    return self.vectorize(self.X.iloc[idx]), self.y.iloc[idx]"
      ]
    },
    {
      "cell_type": "code",
      "source": [
        "surname = 'volkova'\n",
        "idxs = []\n",
        "for token in surname:\n",
        "  idxs.append(vocab.token_to_idx[token])\n",
        "\n",
        "surname_t = torch.zeros(vocab.vocab_len)\n",
        "surname_t[[idxs]] = 1\n",
        "surname_t, idxs, vocab.idx_to_token"
      ],
      "metadata": {
        "colab": {
          "base_uri": "https://localhost:8080/"
        },
        "id": "JbPLzdgcdViV",
        "outputId": "5657a9f2-a62e-4797-ae9e-eb28471d597d"
      },
      "execution_count": 245,
      "outputs": [
        {
          "output_type": "execute_result",
          "data": {
            "text/plain": [
              "(tensor([0., 0., 0., 0., 0., 0., 0., 0., 0., 0., 0., 0., 0., 0., 0., 0., 1., 1.,\n",
              "         0., 0., 0., 0., 0., 0., 0., 0., 0., 0., 0., 0., 0., 0., 0., 0., 0., 0.,\n",
              "         0., 0., 0., 0., 0., 0., 0., 0., 0., 0., 0., 0., 0., 1., 1., 0., 0., 1.,\n",
              "         0.]),\n",
              " [16, 49, 53, 17, 49, 16, 50],\n",
              " {0: 'q',\n",
              "  1: 'f',\n",
              "  2: 'ó',\n",
              "  3: \"'\",\n",
              "  4: 'e',\n",
              "  5: 'ń',\n",
              "  6: 'á',\n",
              "  7: 'y',\n",
              "  8: 'b',\n",
              "  9: 'w',\n",
              "  10: 'é',\n",
              "  11: 'z',\n",
              "  12: 't',\n",
              "  13: 'õ',\n",
              "  14: 'ß',\n",
              "  15: 'p',\n",
              "  16: 'v',\n",
              "  17: 'k',\n",
              "  18: 'j',\n",
              "  19: 'u',\n",
              "  20: 'ò',\n",
              "  21: 'ã',\n",
              "  22: 'ł',\n",
              "  23: 'r',\n",
              "  24: 'ü',\n",
              "  25: 'ù',\n",
              "  26: 'x',\n",
              "  27: '-',\n",
              "  28: '/',\n",
              "  29: 'à',\n",
              "  30: 'n',\n",
              "  31: 'ú',\n",
              "  32: 'ä',\n",
              "  33: ':',\n",
              "  34: 'ż',\n",
              "  35: 's',\n",
              "  36: 'í',\n",
              "  37: 'ç',\n",
              "  38: 'h',\n",
              "  39: 'ś',\n",
              "  40: 'ą',\n",
              "  41: 'i',\n",
              "  42: 'm',\n",
              "  43: 'ö',\n",
              "  44: 'ì',\n",
              "  45: 'c',\n",
              "  46: 'd',\n",
              "  47: '1',\n",
              "  48: 'è',\n",
              "  49: 'o',\n",
              "  50: 'a',\n",
              "  51: 'ê',\n",
              "  52: 'g',\n",
              "  53: 'l',\n",
              "  54: 'ñ'})"
            ]
          },
          "metadata": {},
          "execution_count": 245
        }
      ]
    },
    {
      "cell_type": "code",
      "source": [
        "SurnamesDataset(X_train, y_train, vocab).__getitem__(0), X_train.iloc[0]"
      ],
      "metadata": {
        "colab": {
          "base_uri": "https://localhost:8080/"
        },
        "id": "hJ-Q7tzvfjje",
        "outputId": "09c914f5-c395-483b-9cd3-ae3cb72a469e"
      },
      "execution_count": 246,
      "outputs": [
        {
          "output_type": "execute_result",
          "data": {
            "text/plain": [
              "((tensor([0., 0., 0., 0., 0., 0., 0., 0., 0., 0., 0., 0., 0., 0., 0., 0., 0., 0.,\n",
              "          0., 0., 0., 0., 0., 0., 0., 0., 0., 0., 0., 0., 1., 0., 0., 0., 0., 0.,\n",
              "          0., 0., 0., 0., 0., 0., 0., 0., 0., 0., 1., 0., 0., 0., 1., 0., 0., 0.,\n",
              "          0.]), 1), 'dan')"
            ]
          },
          "metadata": {},
          "execution_count": 246
        }
      ]
    },
    {
      "cell_type": "code",
      "source": [
        "# 2.6. Обучить классификатор.\n",
        "\n",
        "class SurnamesClassifier(nn.Module):\n",
        "    def __init__(self, in_features, out_features):\n",
        "        super(SurnamesClassifier, self).__init__()\n",
        "        self.seq = nn.Sequential(\n",
        "                        nn.Linear(in_features, 300),\n",
        "                        nn.ReLU(),\n",
        "                        nn.Linear(300, out_features))\n",
        "    def forward(self, inputs):\n",
        "        return self.seq(inputs)"
      ],
      "metadata": {
        "id": "Ea53rRZDiQZb"
      },
      "execution_count": 247,
      "outputs": []
    },
    {
      "cell_type": "code",
      "source": [
        "learning_rate = 0.001\n",
        "batch_size = 128\n",
        "epochs = 100\n",
        "\n",
        "model = SurnamesClassifier(vocab.vocab_len, len(labeler.classes_))\n",
        "loss_fn = nn.CrossEntropyLoss()\n",
        "#optimizer = torch.optim.SGD(model.parameters(), lr=learning_rate)\n",
        "optimizer = optim.Adam(model.parameters(), lr=learning_rate)\n",
        "\n",
        "train_dataset = SurnamesDataset(X_train, y_train, vocab)\n",
        "test_dataset = SurnamesDataset(X_test, y_test, vocab)\n",
        "train_dataloader = DataLoader(train_dataset, batch_size=batch_size, shuffle=True)\n",
        "test_dataloader = DataLoader(test_dataset, batch_size=batch_size, shuffle=True)\n",
        "\n",
        "losses = []\n",
        "for t in range(epochs):\n",
        "    print(f\"Epoch {t+1}\\n-------------------------------\")\n",
        "    train_loss = train_loop(train_dataloader, model, loss_fn, optimizer)\n",
        "    losses.append(train_loss)\n",
        "    test_loop(test_dataloader, model, loss_fn)\n",
        "\n",
        "print(\"Done!\")"
      ],
      "metadata": {
        "colab": {
          "base_uri": "https://localhost:8080/"
        },
        "id": "JkirUwA5jCpa",
        "outputId": "bb05dcd9-a668-4b82-b4ba-e0b9c49ef4f8"
      },
      "execution_count": 248,
      "outputs": [
        {
          "output_type": "stream",
          "name": "stdout",
          "text": [
            "Epoch 1\n",
            "-------------------------------\n",
            "loss: 2.891352  [    0/ 8784]\n",
            "loss: 2.157819  [ 4096/ 8784]\n",
            "loss: 1.910082  [ 8192/ 8784]\n",
            "Test Error: \n",
            " Accuracy: 45.9%, Avg loss: 1.922345 \n",
            "\n",
            "Epoch 2\n",
            "-------------------------------\n",
            "loss: 1.967713  [    0/ 8784]\n",
            "loss: 1.820389  [ 4096/ 8784]\n",
            "loss: 1.755823  [ 8192/ 8784]\n",
            "Test Error: \n",
            " Accuracy: 50.5%, Avg loss: 1.678185 \n",
            "\n",
            "Epoch 3\n",
            "-------------------------------\n",
            "loss: 1.722213  [    0/ 8784]\n",
            "loss: 1.687113  [ 4096/ 8784]\n",
            "loss: 1.699243  [ 8192/ 8784]\n",
            "Test Error: \n",
            " Accuracy: 51.8%, Avg loss: 1.579937 \n",
            "\n",
            "Epoch 4\n",
            "-------------------------------\n",
            "loss: 1.563854  [    0/ 8784]\n",
            "loss: 1.646649  [ 4096/ 8784]\n",
            "loss: 1.637343  [ 8192/ 8784]\n",
            "Test Error: \n",
            " Accuracy: 53.8%, Avg loss: 1.498691 \n",
            "\n",
            "Epoch 5\n",
            "-------------------------------\n",
            "loss: 1.437340  [    0/ 8784]\n",
            "loss: 1.425917  [ 4096/ 8784]\n",
            "loss: 1.200053  [ 8192/ 8784]\n",
            "Test Error: \n",
            " Accuracy: 54.5%, Avg loss: 1.458103 \n",
            "\n",
            "Epoch 6\n",
            "-------------------------------\n",
            "loss: 1.162668  [    0/ 8784]\n",
            "loss: 1.480985  [ 4096/ 8784]\n",
            "loss: 1.234280  [ 8192/ 8784]\n",
            "Test Error: \n",
            " Accuracy: 57.1%, Avg loss: 1.424712 \n",
            "\n",
            "Epoch 7\n",
            "-------------------------------\n",
            "loss: 1.518425  [    0/ 8784]\n",
            "loss: 1.360584  [ 4096/ 8784]\n",
            "loss: 1.336586  [ 8192/ 8784]\n",
            "Test Error: \n",
            " Accuracy: 57.0%, Avg loss: 1.401774 \n",
            "\n",
            "Epoch 8\n",
            "-------------------------------\n",
            "loss: 1.540637  [    0/ 8784]\n",
            "loss: 1.481001  [ 4096/ 8784]\n",
            "loss: 1.306824  [ 8192/ 8784]\n",
            "Test Error: \n",
            " Accuracy: 58.6%, Avg loss: 1.398530 \n",
            "\n",
            "Epoch 9\n",
            "-------------------------------\n",
            "loss: 1.386833  [    0/ 8784]\n",
            "loss: 1.229137  [ 4096/ 8784]\n",
            "loss: 1.467048  [ 8192/ 8784]\n",
            "Test Error: \n",
            " Accuracy: 59.4%, Avg loss: 1.347758 \n",
            "\n",
            "Epoch 10\n",
            "-------------------------------\n",
            "loss: 1.489348  [    0/ 8784]\n",
            "loss: 1.363991  [ 4096/ 8784]\n",
            "loss: 1.267247  [ 8192/ 8784]\n",
            "Test Error: \n",
            " Accuracy: 59.8%, Avg loss: 1.357199 \n",
            "\n",
            "Epoch 11\n",
            "-------------------------------\n",
            "loss: 1.182268  [    0/ 8784]\n",
            "loss: 1.469539  [ 4096/ 8784]\n",
            "loss: 1.353991  [ 8192/ 8784]\n",
            "Test Error: \n",
            " Accuracy: 60.2%, Avg loss: 1.328189 \n",
            "\n",
            "Epoch 12\n",
            "-------------------------------\n",
            "loss: 1.234189  [    0/ 8784]\n",
            "loss: 1.185452  [ 4096/ 8784]\n",
            "loss: 1.274545  [ 8192/ 8784]\n",
            "Test Error: \n",
            " Accuracy: 60.2%, Avg loss: 1.295283 \n",
            "\n",
            "Epoch 13\n",
            "-------------------------------\n",
            "loss: 1.169423  [    0/ 8784]\n",
            "loss: 1.220582  [ 4096/ 8784]\n",
            "loss: 1.259265  [ 8192/ 8784]\n",
            "Test Error: \n",
            " Accuracy: 60.7%, Avg loss: 1.302688 \n",
            "\n",
            "Epoch 14\n",
            "-------------------------------\n",
            "loss: 1.016084  [    0/ 8784]\n",
            "loss: 1.197523  [ 4096/ 8784]\n",
            "loss: 1.333203  [ 8192/ 8784]\n",
            "Test Error: \n",
            " Accuracy: 60.7%, Avg loss: 1.300956 \n",
            "\n",
            "Epoch 15\n",
            "-------------------------------\n",
            "loss: 1.245241  [    0/ 8784]\n",
            "loss: 1.325800  [ 4096/ 8784]\n",
            "loss: 1.171318  [ 8192/ 8784]\n",
            "Test Error: \n",
            " Accuracy: 60.8%, Avg loss: 1.295536 \n",
            "\n",
            "Epoch 16\n",
            "-------------------------------\n",
            "loss: 1.191304  [    0/ 8784]\n",
            "loss: 1.327065  [ 4096/ 8784]\n",
            "loss: 1.145565  [ 8192/ 8784]\n",
            "Test Error: \n",
            " Accuracy: 61.1%, Avg loss: 1.301892 \n",
            "\n",
            "Epoch 17\n",
            "-------------------------------\n",
            "loss: 0.957385  [    0/ 8784]\n",
            "loss: 1.216278  [ 4096/ 8784]\n",
            "loss: 1.242625  [ 8192/ 8784]\n",
            "Test Error: \n",
            " Accuracy: 62.2%, Avg loss: 1.270893 \n",
            "\n",
            "Epoch 18\n",
            "-------------------------------\n",
            "loss: 1.178585  [    0/ 8784]\n",
            "loss: 1.173578  [ 4096/ 8784]\n",
            "loss: 1.153690  [ 8192/ 8784]\n",
            "Test Error: \n",
            " Accuracy: 61.6%, Avg loss: 1.287248 \n",
            "\n",
            "Epoch 19\n",
            "-------------------------------\n",
            "loss: 0.965497  [    0/ 8784]\n",
            "loss: 1.315650  [ 4096/ 8784]\n",
            "loss: 1.029298  [ 8192/ 8784]\n",
            "Test Error: \n",
            " Accuracy: 62.4%, Avg loss: 1.253713 \n",
            "\n",
            "Epoch 20\n",
            "-------------------------------\n",
            "loss: 1.228650  [    0/ 8784]\n",
            "loss: 1.219378  [ 4096/ 8784]\n",
            "loss: 1.136415  [ 8192/ 8784]\n",
            "Test Error: \n",
            " Accuracy: 63.0%, Avg loss: 1.215246 \n",
            "\n",
            "Epoch 21\n",
            "-------------------------------\n",
            "loss: 1.227089  [    0/ 8784]\n",
            "loss: 1.351413  [ 4096/ 8784]\n",
            "loss: 1.072815  [ 8192/ 8784]\n",
            "Test Error: \n",
            " Accuracy: 62.9%, Avg loss: 1.248494 \n",
            "\n",
            "Epoch 22\n",
            "-------------------------------\n",
            "loss: 1.095510  [    0/ 8784]\n",
            "loss: 1.089430  [ 4096/ 8784]\n",
            "loss: 1.293173  [ 8192/ 8784]\n",
            "Test Error: \n",
            " Accuracy: 63.2%, Avg loss: 1.223002 \n",
            "\n",
            "Epoch 23\n",
            "-------------------------------\n",
            "loss: 1.310390  [    0/ 8784]\n",
            "loss: 1.153942  [ 4096/ 8784]\n",
            "loss: 1.141912  [ 8192/ 8784]\n",
            "Test Error: \n",
            " Accuracy: 63.3%, Avg loss: 1.252171 \n",
            "\n",
            "Epoch 24\n",
            "-------------------------------\n",
            "loss: 1.053671  [    0/ 8784]\n",
            "loss: 1.145342  [ 4096/ 8784]\n",
            "loss: 1.038855  [ 8192/ 8784]\n",
            "Test Error: \n",
            " Accuracy: 63.2%, Avg loss: 1.203337 \n",
            "\n",
            "Epoch 25\n",
            "-------------------------------\n",
            "loss: 1.071713  [    0/ 8784]\n",
            "loss: 1.211345  [ 4096/ 8784]\n",
            "loss: 1.061741  [ 8192/ 8784]\n",
            "Test Error: \n",
            " Accuracy: 63.7%, Avg loss: 1.212658 \n",
            "\n",
            "Epoch 26\n",
            "-------------------------------\n",
            "loss: 1.007049  [    0/ 8784]\n",
            "loss: 1.152771  [ 4096/ 8784]\n",
            "loss: 1.117428  [ 8192/ 8784]\n",
            "Test Error: \n",
            " Accuracy: 63.6%, Avg loss: 1.212982 \n",
            "\n",
            "Epoch 27\n",
            "-------------------------------\n",
            "loss: 1.092713  [    0/ 8784]\n",
            "loss: 1.291011  [ 4096/ 8784]\n",
            "loss: 1.360301  [ 8192/ 8784]\n",
            "Test Error: \n",
            " Accuracy: 64.3%, Avg loss: 1.194073 \n",
            "\n",
            "Epoch 28\n",
            "-------------------------------\n",
            "loss: 1.097819  [    0/ 8784]\n",
            "loss: 1.180169  [ 4096/ 8784]\n",
            "loss: 1.011744  [ 8192/ 8784]\n",
            "Test Error: \n",
            " Accuracy: 64.2%, Avg loss: 1.203121 \n",
            "\n",
            "Epoch 29\n",
            "-------------------------------\n",
            "loss: 1.061165  [    0/ 8784]\n",
            "loss: 1.107632  [ 4096/ 8784]\n",
            "loss: 1.023401  [ 8192/ 8784]\n",
            "Test Error: \n",
            " Accuracy: 63.9%, Avg loss: 1.198089 \n",
            "\n",
            "Epoch 30\n",
            "-------------------------------\n",
            "loss: 1.092574  [    0/ 8784]\n",
            "loss: 1.144883  [ 4096/ 8784]\n",
            "loss: 1.002788  [ 8192/ 8784]\n",
            "Test Error: \n",
            " Accuracy: 64.4%, Avg loss: 1.196527 \n",
            "\n",
            "Epoch 31\n",
            "-------------------------------\n",
            "loss: 1.147973  [    0/ 8784]\n",
            "loss: 1.399774  [ 4096/ 8784]\n",
            "loss: 0.977624  [ 8192/ 8784]\n",
            "Test Error: \n",
            " Accuracy: 64.3%, Avg loss: 1.219026 \n",
            "\n",
            "Epoch 32\n",
            "-------------------------------\n",
            "loss: 1.052649  [    0/ 8784]\n",
            "loss: 1.109856  [ 4096/ 8784]\n",
            "loss: 1.024814  [ 8192/ 8784]\n",
            "Test Error: \n",
            " Accuracy: 64.7%, Avg loss: 1.175463 \n",
            "\n",
            "Epoch 33\n",
            "-------------------------------\n",
            "loss: 0.970728  [    0/ 8784]\n",
            "loss: 1.048405  [ 4096/ 8784]\n",
            "loss: 1.126662  [ 8192/ 8784]\n",
            "Test Error: \n",
            " Accuracy: 64.3%, Avg loss: 1.182837 \n",
            "\n",
            "Epoch 34\n",
            "-------------------------------\n",
            "loss: 1.156821  [    0/ 8784]\n",
            "loss: 1.013493  [ 4096/ 8784]\n",
            "loss: 1.159243  [ 8192/ 8784]\n",
            "Test Error: \n",
            " Accuracy: 64.5%, Avg loss: 1.176390 \n",
            "\n",
            "Epoch 35\n",
            "-------------------------------\n",
            "loss: 0.916089  [    0/ 8784]\n",
            "loss: 1.057948  [ 4096/ 8784]\n",
            "loss: 1.150209  [ 8192/ 8784]\n",
            "Test Error: \n",
            " Accuracy: 64.9%, Avg loss: 1.218382 \n",
            "\n",
            "Epoch 36\n",
            "-------------------------------\n",
            "loss: 0.960328  [    0/ 8784]\n",
            "loss: 0.909441  [ 4096/ 8784]\n",
            "loss: 1.153158  [ 8192/ 8784]\n",
            "Test Error: \n",
            " Accuracy: 64.9%, Avg loss: 1.191340 \n",
            "\n",
            "Epoch 37\n",
            "-------------------------------\n",
            "loss: 0.888716  [    0/ 8784]\n",
            "loss: 0.927690  [ 4096/ 8784]\n",
            "loss: 1.094782  [ 8192/ 8784]\n",
            "Test Error: \n",
            " Accuracy: 64.8%, Avg loss: 1.178493 \n",
            "\n",
            "Epoch 38\n",
            "-------------------------------\n",
            "loss: 1.185276  [    0/ 8784]\n",
            "loss: 0.947781  [ 4096/ 8784]\n",
            "loss: 1.102318  [ 8192/ 8784]\n",
            "Test Error: \n",
            " Accuracy: 64.4%, Avg loss: 1.175604 \n",
            "\n",
            "Epoch 39\n",
            "-------------------------------\n",
            "loss: 0.922689  [    0/ 8784]\n",
            "loss: 1.038006  [ 4096/ 8784]\n",
            "loss: 1.142787  [ 8192/ 8784]\n",
            "Test Error: \n",
            " Accuracy: 64.6%, Avg loss: 1.164165 \n",
            "\n",
            "Epoch 40\n",
            "-------------------------------\n",
            "loss: 1.045164  [    0/ 8784]\n",
            "loss: 0.949343  [ 4096/ 8784]\n",
            "loss: 0.884696  [ 8192/ 8784]\n",
            "Test Error: \n",
            " Accuracy: 64.8%, Avg loss: 1.176119 \n",
            "\n",
            "Epoch 41\n",
            "-------------------------------\n",
            "loss: 1.097320  [    0/ 8784]\n",
            "loss: 0.956008  [ 4096/ 8784]\n",
            "loss: 1.143570  [ 8192/ 8784]\n",
            "Test Error: \n",
            " Accuracy: 64.8%, Avg loss: 1.163949 \n",
            "\n",
            "Epoch 42\n",
            "-------------------------------\n",
            "loss: 0.814105  [    0/ 8784]\n",
            "loss: 1.048468  [ 4096/ 8784]\n",
            "loss: 1.039557  [ 8192/ 8784]\n",
            "Test Error: \n",
            " Accuracy: 63.9%, Avg loss: 1.164864 \n",
            "\n",
            "Epoch 43\n",
            "-------------------------------\n",
            "loss: 1.041500  [    0/ 8784]\n",
            "loss: 1.022984  [ 4096/ 8784]\n",
            "loss: 1.092468  [ 8192/ 8784]\n",
            "Test Error: \n",
            " Accuracy: 65.0%, Avg loss: 1.160041 \n",
            "\n",
            "Epoch 44\n",
            "-------------------------------\n",
            "loss: 0.954522  [    0/ 8784]\n",
            "loss: 1.101866  [ 4096/ 8784]\n",
            "loss: 0.964102  [ 8192/ 8784]\n",
            "Test Error: \n",
            " Accuracy: 65.1%, Avg loss: 1.181111 \n",
            "\n",
            "Epoch 45\n",
            "-------------------------------\n",
            "loss: 0.831488  [    0/ 8784]\n",
            "loss: 0.998252  [ 4096/ 8784]\n",
            "loss: 0.970321  [ 8192/ 8784]\n",
            "Test Error: \n",
            " Accuracy: 65.3%, Avg loss: 1.170035 \n",
            "\n",
            "Epoch 46\n",
            "-------------------------------\n",
            "loss: 1.007993  [    0/ 8784]\n",
            "loss: 1.113868  [ 4096/ 8784]\n",
            "loss: 1.038760  [ 8192/ 8784]\n",
            "Test Error: \n",
            " Accuracy: 65.5%, Avg loss: 1.172783 \n",
            "\n",
            "Epoch 47\n",
            "-------------------------------\n",
            "loss: 1.022208  [    0/ 8784]\n",
            "loss: 0.961885  [ 4096/ 8784]\n",
            "loss: 1.002426  [ 8192/ 8784]\n",
            "Test Error: \n",
            " Accuracy: 66.0%, Avg loss: 1.144789 \n",
            "\n",
            "Epoch 48\n",
            "-------------------------------\n",
            "loss: 0.913580  [    0/ 8784]\n",
            "loss: 1.018469  [ 4096/ 8784]\n",
            "loss: 1.188470  [ 8192/ 8784]\n",
            "Test Error: \n",
            " Accuracy: 65.1%, Avg loss: 1.141699 \n",
            "\n",
            "Epoch 49\n",
            "-------------------------------\n",
            "loss: 0.852897  [    0/ 8784]\n",
            "loss: 0.940338  [ 4096/ 8784]\n",
            "loss: 0.971963  [ 8192/ 8784]\n",
            "Test Error: \n",
            " Accuracy: 65.0%, Avg loss: 1.156643 \n",
            "\n",
            "Epoch 50\n",
            "-------------------------------\n",
            "loss: 0.977238  [    0/ 8784]\n",
            "loss: 0.926818  [ 4096/ 8784]\n",
            "loss: 1.173646  [ 8192/ 8784]\n",
            "Test Error: \n",
            " Accuracy: 65.3%, Avg loss: 1.162435 \n",
            "\n",
            "Epoch 51\n",
            "-------------------------------\n",
            "loss: 0.798353  [    0/ 8784]\n",
            "loss: 0.949339  [ 4096/ 8784]\n",
            "loss: 0.857137  [ 8192/ 8784]\n",
            "Test Error: \n",
            " Accuracy: 64.9%, Avg loss: 1.131131 \n",
            "\n",
            "Epoch 52\n",
            "-------------------------------\n",
            "loss: 0.982628  [    0/ 8784]\n",
            "loss: 1.043998  [ 4096/ 8784]\n",
            "loss: 1.124603  [ 8192/ 8784]\n",
            "Test Error: \n",
            " Accuracy: 65.0%, Avg loss: 1.157913 \n",
            "\n",
            "Epoch 53\n",
            "-------------------------------\n",
            "loss: 1.035185  [    0/ 8784]\n",
            "loss: 0.973096  [ 4096/ 8784]\n",
            "loss: 0.922172  [ 8192/ 8784]\n",
            "Test Error: \n",
            " Accuracy: 65.2%, Avg loss: 1.162822 \n",
            "\n",
            "Epoch 54\n",
            "-------------------------------\n",
            "loss: 1.064403  [    0/ 8784]\n",
            "loss: 0.886389  [ 4096/ 8784]\n",
            "loss: 1.038243  [ 8192/ 8784]\n",
            "Test Error: \n",
            " Accuracy: 64.6%, Avg loss: 1.145553 \n",
            "\n",
            "Epoch 55\n",
            "-------------------------------\n",
            "loss: 0.754923  [    0/ 8784]\n",
            "loss: 0.877667  [ 4096/ 8784]\n",
            "loss: 0.789437  [ 8192/ 8784]\n",
            "Test Error: \n",
            " Accuracy: 65.4%, Avg loss: 1.161496 \n",
            "\n",
            "Epoch 56\n",
            "-------------------------------\n",
            "loss: 0.804244  [    0/ 8784]\n",
            "loss: 0.926049  [ 4096/ 8784]\n",
            "loss: 0.713937  [ 8192/ 8784]\n",
            "Test Error: \n",
            " Accuracy: 65.0%, Avg loss: 1.143649 \n",
            "\n",
            "Epoch 57\n",
            "-------------------------------\n",
            "loss: 1.100535  [    0/ 8784]\n",
            "loss: 0.825798  [ 4096/ 8784]\n",
            "loss: 0.847327  [ 8192/ 8784]\n",
            "Test Error: \n",
            " Accuracy: 64.9%, Avg loss: 1.162464 \n",
            "\n",
            "Epoch 58\n",
            "-------------------------------\n",
            "loss: 0.958321  [    0/ 8784]\n",
            "loss: 0.826961  [ 4096/ 8784]\n",
            "loss: 0.876632  [ 8192/ 8784]\n",
            "Test Error: \n",
            " Accuracy: 65.0%, Avg loss: 1.179648 \n",
            "\n",
            "Epoch 59\n",
            "-------------------------------\n",
            "loss: 0.990614  [    0/ 8784]\n",
            "loss: 0.883508  [ 4096/ 8784]\n",
            "loss: 0.865667  [ 8192/ 8784]\n",
            "Test Error: \n",
            " Accuracy: 65.0%, Avg loss: 1.154984 \n",
            "\n",
            "Epoch 60\n",
            "-------------------------------\n",
            "loss: 0.852369  [    0/ 8784]\n",
            "loss: 1.087365  [ 4096/ 8784]\n",
            "loss: 0.981557  [ 8192/ 8784]\n",
            "Test Error: \n",
            " Accuracy: 65.1%, Avg loss: 1.169231 \n",
            "\n",
            "Epoch 61\n",
            "-------------------------------\n",
            "loss: 0.899284  [    0/ 8784]\n",
            "loss: 0.884705  [ 4096/ 8784]\n",
            "loss: 0.829534  [ 8192/ 8784]\n",
            "Test Error: \n",
            " Accuracy: 65.0%, Avg loss: 1.126720 \n",
            "\n",
            "Epoch 62\n",
            "-------------------------------\n",
            "loss: 0.927755  [    0/ 8784]\n",
            "loss: 1.020565  [ 4096/ 8784]\n",
            "loss: 0.990134  [ 8192/ 8784]\n",
            "Test Error: \n",
            " Accuracy: 65.3%, Avg loss: 1.184357 \n",
            "\n",
            "Epoch 63\n",
            "-------------------------------\n",
            "loss: 0.954212  [    0/ 8784]\n",
            "loss: 0.792377  [ 4096/ 8784]\n",
            "loss: 0.801667  [ 8192/ 8784]\n",
            "Test Error: \n",
            " Accuracy: 65.6%, Avg loss: 1.137435 \n",
            "\n",
            "Epoch 64\n",
            "-------------------------------\n",
            "loss: 0.787641  [    0/ 8784]\n",
            "loss: 0.866090  [ 4096/ 8784]\n",
            "loss: 0.987108  [ 8192/ 8784]\n",
            "Test Error: \n",
            " Accuracy: 65.5%, Avg loss: 1.154500 \n",
            "\n",
            "Epoch 65\n",
            "-------------------------------\n",
            "loss: 0.807858  [    0/ 8784]\n",
            "loss: 0.991295  [ 4096/ 8784]\n",
            "loss: 0.944052  [ 8192/ 8784]\n",
            "Test Error: \n",
            " Accuracy: 64.5%, Avg loss: 1.137628 \n",
            "\n",
            "Epoch 66\n",
            "-------------------------------\n",
            "loss: 0.822724  [    0/ 8784]\n",
            "loss: 0.961788  [ 4096/ 8784]\n",
            "loss: 0.781698  [ 8192/ 8784]\n",
            "Test Error: \n",
            " Accuracy: 65.1%, Avg loss: 1.130338 \n",
            "\n",
            "Epoch 67\n",
            "-------------------------------\n",
            "loss: 0.858208  [    0/ 8784]\n",
            "loss: 0.952280  [ 4096/ 8784]\n",
            "loss: 1.004363  [ 8192/ 8784]\n",
            "Test Error: \n",
            " Accuracy: 65.2%, Avg loss: 1.174489 \n",
            "\n",
            "Epoch 68\n",
            "-------------------------------\n",
            "loss: 0.875576  [    0/ 8784]\n",
            "loss: 1.034204  [ 4096/ 8784]\n",
            "loss: 0.698400  [ 8192/ 8784]\n",
            "Test Error: \n",
            " Accuracy: 64.9%, Avg loss: 1.159711 \n",
            "\n",
            "Epoch 69\n",
            "-------------------------------\n",
            "loss: 0.856848  [    0/ 8784]\n",
            "loss: 0.830523  [ 4096/ 8784]\n",
            "loss: 1.028515  [ 8192/ 8784]\n",
            "Test Error: \n",
            " Accuracy: 65.0%, Avg loss: 1.142280 \n",
            "\n",
            "Epoch 70\n",
            "-------------------------------\n",
            "loss: 0.794219  [    0/ 8784]\n",
            "loss: 0.863820  [ 4096/ 8784]\n",
            "loss: 0.875356  [ 8192/ 8784]\n",
            "Test Error: \n",
            " Accuracy: 64.8%, Avg loss: 1.150237 \n",
            "\n",
            "Epoch 71\n",
            "-------------------------------\n",
            "loss: 0.917907  [    0/ 8784]\n",
            "loss: 0.920075  [ 4096/ 8784]\n",
            "loss: 0.818683  [ 8192/ 8784]\n",
            "Test Error: \n",
            " Accuracy: 65.4%, Avg loss: 1.143844 \n",
            "\n",
            "Epoch 72\n",
            "-------------------------------\n",
            "loss: 0.834042  [    0/ 8784]\n",
            "loss: 1.024989  [ 4096/ 8784]\n",
            "loss: 0.775390  [ 8192/ 8784]\n",
            "Test Error: \n",
            " Accuracy: 65.3%, Avg loss: 1.140806 \n",
            "\n",
            "Epoch 73\n",
            "-------------------------------\n",
            "loss: 0.909007  [    0/ 8784]\n",
            "loss: 0.825384  [ 4096/ 8784]\n",
            "loss: 0.942310  [ 8192/ 8784]\n",
            "Test Error: \n",
            " Accuracy: 65.3%, Avg loss: 1.188332 \n",
            "\n",
            "Epoch 74\n",
            "-------------------------------\n",
            "loss: 0.687924  [    0/ 8784]\n",
            "loss: 0.883188  [ 4096/ 8784]\n",
            "loss: 1.024287  [ 8192/ 8784]\n",
            "Test Error: \n",
            " Accuracy: 65.0%, Avg loss: 1.146206 \n",
            "\n",
            "Epoch 75\n",
            "-------------------------------\n",
            "loss: 0.916364  [    0/ 8784]\n",
            "loss: 0.928388  [ 4096/ 8784]\n",
            "loss: 0.860560  [ 8192/ 8784]\n",
            "Test Error: \n",
            " Accuracy: 65.1%, Avg loss: 1.155568 \n",
            "\n",
            "Epoch 76\n",
            "-------------------------------\n",
            "loss: 1.078109  [    0/ 8784]\n",
            "loss: 0.853513  [ 4096/ 8784]\n",
            "loss: 0.923861  [ 8192/ 8784]\n",
            "Test Error: \n",
            " Accuracy: 65.8%, Avg loss: 1.131189 \n",
            "\n",
            "Epoch 77\n",
            "-------------------------------\n",
            "loss: 0.670232  [    0/ 8784]\n",
            "loss: 0.734312  [ 4096/ 8784]\n",
            "loss: 0.967853  [ 8192/ 8784]\n",
            "Test Error: \n",
            " Accuracy: 65.2%, Avg loss: 1.169299 \n",
            "\n",
            "Epoch 78\n",
            "-------------------------------\n",
            "loss: 1.000529  [    0/ 8784]\n",
            "loss: 0.813198  [ 4096/ 8784]\n",
            "loss: 0.876253  [ 8192/ 8784]\n",
            "Test Error: \n",
            " Accuracy: 65.2%, Avg loss: 1.149872 \n",
            "\n",
            "Epoch 79\n",
            "-------------------------------\n",
            "loss: 0.751999  [    0/ 8784]\n",
            "loss: 0.690029  [ 4096/ 8784]\n",
            "loss: 0.768200  [ 8192/ 8784]\n",
            "Test Error: \n",
            " Accuracy: 65.5%, Avg loss: 1.132301 \n",
            "\n",
            "Epoch 80\n",
            "-------------------------------\n",
            "loss: 0.969422  [    0/ 8784]\n",
            "loss: 0.778509  [ 4096/ 8784]\n",
            "loss: 0.850159  [ 8192/ 8784]\n",
            "Test Error: \n",
            " Accuracy: 65.3%, Avg loss: 1.171768 \n",
            "\n",
            "Epoch 81\n",
            "-------------------------------\n",
            "loss: 1.053535  [    0/ 8784]\n",
            "loss: 0.835926  [ 4096/ 8784]\n",
            "loss: 0.655496  [ 8192/ 8784]\n",
            "Test Error: \n",
            " Accuracy: 65.4%, Avg loss: 1.141483 \n",
            "\n",
            "Epoch 82\n",
            "-------------------------------\n",
            "loss: 0.917485  [    0/ 8784]\n",
            "loss: 1.083441  [ 4096/ 8784]\n",
            "loss: 0.884587  [ 8192/ 8784]\n",
            "Test Error: \n",
            " Accuracy: 64.6%, Avg loss: 1.152644 \n",
            "\n",
            "Epoch 83\n",
            "-------------------------------\n",
            "loss: 0.832325  [    0/ 8784]\n",
            "loss: 0.857479  [ 4096/ 8784]\n",
            "loss: 1.014380  [ 8192/ 8784]\n",
            "Test Error: \n",
            " Accuracy: 64.4%, Avg loss: 1.171627 \n",
            "\n",
            "Epoch 84\n",
            "-------------------------------\n",
            "loss: 0.887563  [    0/ 8784]\n",
            "loss: 0.891864  [ 4096/ 8784]\n",
            "loss: 0.744636  [ 8192/ 8784]\n",
            "Test Error: \n",
            " Accuracy: 65.6%, Avg loss: 1.162991 \n",
            "\n",
            "Epoch 85\n",
            "-------------------------------\n",
            "loss: 1.053129  [    0/ 8784]\n",
            "loss: 0.680923  [ 4096/ 8784]\n",
            "loss: 0.908531  [ 8192/ 8784]\n",
            "Test Error: \n",
            " Accuracy: 65.0%, Avg loss: 1.153430 \n",
            "\n",
            "Epoch 86\n",
            "-------------------------------\n",
            "loss: 0.785744  [    0/ 8784]\n",
            "loss: 0.797133  [ 4096/ 8784]\n",
            "loss: 0.744447  [ 8192/ 8784]\n",
            "Test Error: \n",
            " Accuracy: 65.9%, Avg loss: 1.155792 \n",
            "\n",
            "Epoch 87\n",
            "-------------------------------\n",
            "loss: 0.858152  [    0/ 8784]\n",
            "loss: 0.740016  [ 4096/ 8784]\n",
            "loss: 0.731149  [ 8192/ 8784]\n",
            "Test Error: \n",
            " Accuracy: 65.3%, Avg loss: 1.165403 \n",
            "\n",
            "Epoch 88\n",
            "-------------------------------\n",
            "loss: 0.816863  [    0/ 8784]\n",
            "loss: 0.809737  [ 4096/ 8784]\n",
            "loss: 0.787752  [ 8192/ 8784]\n",
            "Test Error: \n",
            " Accuracy: 65.0%, Avg loss: 1.166559 \n",
            "\n",
            "Epoch 89\n",
            "-------------------------------\n",
            "loss: 0.796109  [    0/ 8784]\n",
            "loss: 0.787662  [ 4096/ 8784]\n",
            "loss: 0.682796  [ 8192/ 8784]\n",
            "Test Error: \n",
            " Accuracy: 65.4%, Avg loss: 1.192273 \n",
            "\n",
            "Epoch 90\n",
            "-------------------------------\n",
            "loss: 0.627411  [    0/ 8784]\n",
            "loss: 0.680438  [ 4096/ 8784]\n",
            "loss: 0.760479  [ 8192/ 8784]\n",
            "Test Error: \n",
            " Accuracy: 64.7%, Avg loss: 1.154697 \n",
            "\n",
            "Epoch 91\n",
            "-------------------------------\n",
            "loss: 0.795112  [    0/ 8784]\n",
            "loss: 0.671660  [ 4096/ 8784]\n",
            "loss: 0.759563  [ 8192/ 8784]\n",
            "Test Error: \n",
            " Accuracy: 65.6%, Avg loss: 1.158557 \n",
            "\n",
            "Epoch 92\n",
            "-------------------------------\n",
            "loss: 0.805487  [    0/ 8784]\n",
            "loss: 0.846373  [ 4096/ 8784]\n",
            "loss: 0.784463  [ 8192/ 8784]\n",
            "Test Error: \n",
            " Accuracy: 65.1%, Avg loss: 1.139817 \n",
            "\n",
            "Epoch 93\n",
            "-------------------------------\n",
            "loss: 0.807413  [    0/ 8784]\n",
            "loss: 0.654974  [ 4096/ 8784]\n",
            "loss: 0.786593  [ 8192/ 8784]\n",
            "Test Error: \n",
            " Accuracy: 65.5%, Avg loss: 1.168244 \n",
            "\n",
            "Epoch 94\n",
            "-------------------------------\n",
            "loss: 0.675461  [    0/ 8784]\n",
            "loss: 0.862063  [ 4096/ 8784]\n",
            "loss: 0.822043  [ 8192/ 8784]\n",
            "Test Error: \n",
            " Accuracy: 64.8%, Avg loss: 1.166449 \n",
            "\n",
            "Epoch 95\n",
            "-------------------------------\n",
            "loss: 1.050042  [    0/ 8784]\n",
            "loss: 0.936174  [ 4096/ 8784]\n",
            "loss: 0.875729  [ 8192/ 8784]\n",
            "Test Error: \n",
            " Accuracy: 65.3%, Avg loss: 1.154492 \n",
            "\n",
            "Epoch 96\n",
            "-------------------------------\n",
            "loss: 0.903422  [    0/ 8784]\n",
            "loss: 0.762143  [ 4096/ 8784]\n",
            "loss: 0.702130  [ 8192/ 8784]\n",
            "Test Error: \n",
            " Accuracy: 65.6%, Avg loss: 1.149733 \n",
            "\n",
            "Epoch 97\n",
            "-------------------------------\n",
            "loss: 0.829005  [    0/ 8784]\n",
            "loss: 0.897260  [ 4096/ 8784]\n",
            "loss: 0.733276  [ 8192/ 8784]\n",
            "Test Error: \n",
            " Accuracy: 65.4%, Avg loss: 1.153868 \n",
            "\n",
            "Epoch 98\n",
            "-------------------------------\n",
            "loss: 0.877758  [    0/ 8784]\n",
            "loss: 0.690474  [ 4096/ 8784]\n",
            "loss: 0.820727  [ 8192/ 8784]\n",
            "Test Error: \n",
            " Accuracy: 65.5%, Avg loss: 1.172489 \n",
            "\n",
            "Epoch 99\n",
            "-------------------------------\n",
            "loss: 0.867136  [    0/ 8784]\n",
            "loss: 0.786918  [ 4096/ 8784]\n",
            "loss: 0.839276  [ 8192/ 8784]\n",
            "Test Error: \n",
            " Accuracy: 65.0%, Avg loss: 1.160042 \n",
            "\n",
            "Epoch 100\n",
            "-------------------------------\n",
            "loss: 0.798055  [    0/ 8784]\n",
            "loss: 0.765393  [ 4096/ 8784]\n",
            "loss: 0.789020  [ 8192/ 8784]\n",
            "Test Error: \n",
            " Accuracy: 64.9%, Avg loss: 1.176854 \n",
            "\n",
            "Done!\n"
          ]
        }
      ]
    },
    {
      "cell_type": "code",
      "source": [
        "import matplotlib.pyplot as plt\n",
        "\n",
        "with torch.no_grad():\n",
        "  plt.plot(losses)"
      ],
      "metadata": {
        "colab": {
          "base_uri": "https://localhost:8080/",
          "height": 592
        },
        "id": "VMnB9ALzmb0k",
        "outputId": "3cc730c2-c433-495d-b89f-9cb564113bd7"
      },
      "execution_count": 249,
      "outputs": [
        {
          "output_type": "display_data",
          "data": {
            "text/plain": [
              "<Figure size 1080x720 with 1 Axes>"
            ],
            "image/png": "[encoded data removed]"
          },
          "metadata": {
            "needs_background": "light"
          }
        }
      ]
    },
    {
      "cell_type": "code",
      "source": [
        "labeler.classes_, labeler.inverse_transform(range(15))"
      ],
      "metadata": {
        "colab": {
          "base_uri": "https://localhost:8080/"
        },
        "id": "h5hjHnuWstE7",
        "outputId": "782a583b-3d23-4cd8-b816-668d64b5c681"
      },
      "execution_count": 255,
      "outputs": [
        {
          "output_type": "execute_result",
          "data": {
            "text/plain": [
              "(array(['Arabic', 'Chinese', 'Czech', 'Dutch', 'English', 'French',\n",
              "        'German', 'Greek', 'Irish', 'Italian', 'Japanese', 'Korean',\n",
              "        'Polish', 'Portuguese', 'Russian', 'Scottish', 'Spanish',\n",
              "        'Vietnamese'], dtype=object),\n",
              " array(['Arabic', 'Chinese', 'Czech', 'Dutch', 'English', 'French',\n",
              "        'German', 'Greek', 'Irish', 'Italian', 'Japanese', 'Korean',\n",
              "        'Polish', 'Portuguese', 'Russian'], dtype=object))"
            ]
          },
          "metadata": {},
          "execution_count": 255
        }
      ]
    },
    {
      "cell_type": "code",
      "source": [
        "from sklearn.metrics import confusion_matrix\n",
        "\n",
        "X_test, y_true = next(iter(test_dataloader))\n",
        "y_pred = model(X_test).argmax(dim=1)\n",
        "\n",
        "cm = confusion_matrix(y_true, y_pred)\n",
        "\n",
        "import seaborn as sns\n",
        "\n",
        "plt.rcParams[\"figure.figsize\"] = (20, 15)\n",
        "\n",
        "ax = sns.heatmap(cm, annot=True, cmap='Blues')\n",
        "ax.set_xlabel('\\nPredicted Values')\n",
        "ax.set_ylabel('Actual Values ')\n",
        "\n",
        "ax.xaxis.set_ticklabels(labeler.classes_)\n",
        "ax.yaxis.set_ticklabels(labeler.classes_)\n",
        "\n",
        "plt.show()"
      ],
      "metadata": {
        "colab": {
          "base_uri": "https://localhost:8080/",
          "height": 889
        },
        "id": "k34sxnmNhZYe",
        "outputId": "077afb19-8d86-495f-c2e3-0a5cca8c0ef0"
      },
      "execution_count": 259,
      "outputs": [
        {
          "output_type": "display_data",
          "data": {
            "text/plain": [
              "<Figure size 1440x1080 with 2 Axes>"
            ],
            "image/png": "[encoded data removed]"
          },
          "metadata": {
            "needs_background": "light"
          }
        }
      ]
    },
    {
      "cell_type": "code",
      "source": [
        "# 2.7 Измерить точность на тестовой выборке. Проверить работоспособность модели: прогнать несколько фамилий студентов группы через модели и проверить результат. Для каждой фамилии выводить 3 наиболее вероятных предсказания.\n",
        "\n",
        "test_loop(test_dataloader, model, loss_fn)"
      ],
      "metadata": {
        "colab": {
          "base_uri": "https://localhost:8080/"
        },
        "id": "mUnjVxdOhZji",
        "outputId": "5058ddb4-a756-4380-8b1b-ecd2ea0f450f"
      },
      "execution_count": 251,
      "outputs": [
        {
          "output_type": "stream",
          "name": "stdout",
          "text": [
            "Test Error: \n",
            " Accuracy: 64.9%, Avg loss: 1.174021 \n",
            "\n"
          ]
        }
      ]
    },
    {
      "cell_type": "code",
      "source": [
        "surname = 'Volkova'\n",
        "x = train_dataset.vectorize(surname)\n",
        "predictions = model(x)\n",
        "print(predictions, '\\nmost likely you are -> ', labeler.inverse_transform([predictions.argmax()])[0])"
      ],
      "metadata": {
        "colab": {
          "base_uri": "https://localhost:8080/"
        },
        "id": "7xKHQNDjngS8",
        "outputId": "8766d60d-6ed8-40a7-a047-06d5a4e5c71b"
      },
      "execution_count": 252,
      "outputs": [
        {
          "output_type": "stream",
          "name": "stdout",
          "text": [
            "tensor([-15.9034,  -9.5946,   3.4422,  -0.0456,  -0.3125,  -6.0801,  -1.1140,\n",
            "         -0.7082,  -3.9002,  -6.9162, -15.4982, -12.4553,  -1.7702,  -6.4027,\n",
            "          3.2525,  -4.7399,  -5.6805,  -9.5561], grad_fn=<AddBackward0>) \n",
            "most likely you are ->  Czech\n"
          ]
        }
      ]
    },
    {
      "cell_type": "code",
      "source": [
        "labeler.inverse_transform(np.argsort(predictions.detach().numpy())[-3:])"
      ],
      "metadata": {
        "colab": {
          "base_uri": "https://localhost:8080/"
        },
        "id": "4MZ3ufeQo9B7",
        "outputId": "b52edce4-3b57-456b-a9b6-7f357782a278"
      },
      "execution_count": 253,
      "outputs": [
        {
          "output_type": "execute_result",
          "data": {
            "text/plain": [
              "array(['Dutch', 'Russian', 'Czech'], dtype=object)"
            ]
          },
          "metadata": {},
          "execution_count": 253
        }
      ]
    },
    {
      "cell_type": "code",
      "source": [
        "surname = 'Kotova'\n",
        "x = train_dataset.vectorize(surname)\n",
        "predictions = model(x)\n",
        "labeler.inverse_transform(np.argsort(predictions.detach().numpy())[-3:])"
      ],
      "metadata": {
        "colab": {
          "base_uri": "https://localhost:8080/"
        },
        "id": "JFfaBdt1tecI",
        "outputId": "fdc385b9-c2f5-4d40-e151-2e4132be45c1"
      },
      "execution_count": 262,
      "outputs": [
        {
          "output_type": "execute_result",
          "data": {
            "text/plain": [
              "array(['German', 'Czech', 'Russian'], dtype=object)"
            ]
          },
          "metadata": {},
          "execution_count": 262
        }
      ]
    },
    {
      "cell_type": "code",
      "source": [
        "surname = 'Sokolova'\n",
        "x = train_dataset.vectorize(surname)\n",
        "predictions = model(x)\n",
        "labeler.inverse_transform(np.argsort(predictions.detach().numpy())[-3:])"
      ],
      "metadata": {
        "colab": {
          "base_uri": "https://localhost:8080/"
        },
        "id": "4BAGCN2ftegI",
        "outputId": "40e38afa-5d0b-4550-cf9b-2f1fd94eb581"
      },
      "execution_count": 263,
      "outputs": [
        {
          "output_type": "execute_result",
          "data": {
            "text/plain": [
              "array(['Czech', 'Greek', 'Russian'], dtype=object)"
            ]
          },
          "metadata": {},
          "execution_count": 263
        }
      ]
    },
    {
      "cell_type": "code",
      "source": [
        "surname = 'Badmaev'\n",
        "x = train_dataset.vectorize(surname)\n",
        "predictions = model(x)\n",
        "labeler.inverse_transform(np.argsort(predictions.detach().numpy())[-3:])"
      ],
      "metadata": {
        "colab": {
          "base_uri": "https://localhost:8080/"
        },
        "id": "6pFEKMantYKB",
        "outputId": "8871b654-cf61-4a5f-8579-35ab37504b65"
      },
      "execution_count": 260,
      "outputs": [
        {
          "output_type": "execute_result",
          "data": {
            "text/plain": [
              "array(['Spanish', 'English', 'Russian'], dtype=object)"
            ]
          },
          "metadata": {},
          "execution_count": 260
        }
      ]
    },
    {
      "cell_type": "code",
      "source": [
        "surname = 'Bedak'\n",
        "x = train_dataset.vectorize(surname)\n",
        "predictions = model(x)\n",
        "labeler.inverse_transform(np.argsort(predictions.detach().numpy())[-3:])"
      ],
      "metadata": {
        "colab": {
          "base_uri": "https://localhost:8080/"
        },
        "id": "2TeV22ParZy9",
        "outputId": "985c3c60-8178-42a5-8bde-35571e948c0a"
      },
      "execution_count": 261,
      "outputs": [
        {
          "output_type": "execute_result",
          "data": {
            "text/plain": [
              "array(['Arabic', 'Japanese', 'English'], dtype=object)"
            ]
          },
          "metadata": {},
          "execution_count": 261
        }
      ]
    },
    {
      "cell_type": "markdown",
      "metadata": {
        "id": "PLmDB3fJtVox"
      },
      "source": [
        "## 3. Классификация обзоров ресторанов\n",
        "\n",
        "Датасет: https://disk.yandex.ru/d/nY1o70JtAuYa8g\n",
        "\n",
        "3.1 Считать файл `yelp/raw_train.csv`. Оставить от исходного датасета 10% строчек.\n",
        "\n",
        "3.2 Воспользоваться функцией `preprocess_text` из 1.1 для обработки текста отзыва. Закодировать рейтинг числами, начиная с 0.\n",
        "\n",
        "3.3 Разбить датасет на обучающую и тестовую выборку\n",
        "\n",
        "3.4 Реализовать класс `Vocab` (токен = слово)\n",
        "\n",
        "3.5 Реализовать класс `ReviewDataset`\n",
        "\n",
        "3.6 Обучить классификатор\n",
        "\n",
        "3.7 Измерить точность на тестовой выборке. Проверить работоспособность модели: придумать небольшой отзыв, прогнать его через модель и вывести номер предсказанного класса (сделать это для явно позитивного и явно негативного отзыва)\n"
      ]
    },
    {
      "cell_type": "code",
      "source": [
        "# 3.1 Считать файл yelp/raw_train.csv. Оставить от исходного датасета 10% строчек.\n",
        "\n",
        "reviews = pd.read_csv('/content/drive/MyDrive/Colab Notebooks/raw_train.csv', header=None, names=['rating', 'review'])\n",
        "reviews.tail()"
      ],
      "metadata": {
        "colab": {
          "base_uri": "https://localhost:8080/",
          "height": 206
        },
        "id": "QciiQUnlvR1E",
        "outputId": "520a9d24-4613-4ce3-aee1-bd8522a79943"
      },
      "execution_count": 328,
      "outputs": [
        {
          "output_type": "execute_result",
          "data": {
            "text/plain": [
              "        rating                                             review\n",
              "559995       2  Ryan was as good as everyone on yelp has claim...\n",
              "559996       2  Professional \\nFriendly\\nOn time AND affordabl...\n",
              "559997       1  Phone calls always go to voicemail and message...\n",
              "559998       1  Looks like all of the good reviews have gone t...\n",
              "559999       2  Ryan Rocks! I called him this morning for some..."
            ],
            "text/html": [
              "\n",
              "  <div id=\"df-2dab6c11-1919-4258-bc84-f2e7bb48323a\">\n",
              "    <div class=\"colab-df-container\">\n",
              "      <div>\n",
              "<style scoped>\n",
              "    .dataframe tbody tr th:only-of-type {\n",
              "        vertical-align: middle;\n",
              "    }\n",
              "\n",
              "    .dataframe tbody tr th {\n",
              "        vertical-align: top;\n",
              "    }\n",
              "\n",
              "    .dataframe thead th {\n",
              "        text-align: right;\n",
              "    }\n",
              "</style>\n",
              "<table border=\"1\" class=\"dataframe\">\n",
              "  <thead>\n",
              "    <tr style=\"text-align: right;\">\n",
              "      <th></th>\n",
              "      <th>rating</th>\n",
              "      <th>review</th>\n",
              "    </tr>\n",
              "  </thead>\n",
              "  <tbody>\n",
              "    <tr>\n",
              "      <th>559995</th>\n",
              "      <td>2</td>\n",
              "      <td>Ryan was as good as everyone on yelp has claim...</td>\n",
              "    </tr>\n",
              "    <tr>\n",
              "      <th>559996</th>\n",
              "      <td>2</td>\n",
              "      <td>Professional \\nFriendly\\nOn time AND affordabl...</td>\n",
              "    </tr>\n",
              "    <tr>\n",
              "      <th>559997</th>\n",
              "      <td>1</td>\n",
              "      <td>Phone calls always go to voicemail and message...</td>\n",
              "    </tr>\n",
              "    <tr>\n",
              "      <th>559998</th>\n",
              "      <td>1</td>\n",
              "      <td>Looks like all of the good reviews have gone t...</td>\n",
              "    </tr>\n",
              "    <tr>\n",
              "      <th>559999</th>\n",
              "      <td>2</td>\n",
              "      <td>Ryan Rocks! I called him this morning for some...</td>\n",
              "    </tr>\n",
              "  </tbody>\n",
              "</table>\n",
              "</div>\n",
              "      <button class=\"colab-df-convert\" onclick=\"convertToInteractive('df-2dab6c11-1919-4258-bc84-f2e7bb48323a')\"\n",
              "              title=\"Convert this dataframe to an interactive table.\"\n",
              "              style=\"display:none;\">\n",
              "        \n",
              "  <svg xmlns=\"http://www.w3.org/2000/svg\" height=\"24px\"viewBox=\"0 0 24 24\"\n",
              "       width=\"24px\">\n",
              "    <path d=\"M0 0h24v24H0V0z\" fill=\"none\"/>\n",
              "    <path d=\"M18.56 5.44l.94 2.06.94-2.06 2.06-.94-2.06-.94-.94-2.06-.94 2.06-2.06.94zm-11 1L8.5 8.5l.94-2.06 2.06-.94-2.06-.94L8.5 2.5l-.94 2.06-2.06.94zm10 10l.94 2.06.94-2.06 2.06-.94-2.06-.94-.94-2.06-.94 2.06-2.06.94z\"/><path d=\"M17.41 7.96l-1.37-1.37c-.4-.4-.92-.59-1.43-.59-.52 0-1.04.2-1.43.59L10.3 9.45l-7.72 7.72c-.78.78-.78 2.05 0 2.83L4 21.41c.39.39.9.59 1.41.59.51 0 1.02-.2 1.41-.59l7.78-7.78 2.81-2.81c.8-.78.8-2.07 0-2.86zM5.41 20L4 18.59l7.72-7.72 1.47 1.35L5.41 20z\"/>\n",
              "  </svg>\n",
              "      </button>\n",
              "      \n",
              "  <style>\n",
              "    .colab-df-container {\n",
              "      display:flex;\n",
              "      flex-wrap:wrap;\n",
              "      gap: 12px;\n",
              "    }\n",
              "\n",
              "    .colab-df-convert {\n",
              "      background-color: #E8F0FE;\n",
              "      border: none;\n",
              "      border-radius: 50%;\n",
              "      cursor: pointer;\n",
              "      display: none;\n",
              "      fill: #1967D2;\n",
              "      height: 32px;\n",
              "      padding: 0 0 0 0;\n",
              "      width: 32px;\n",
              "    }\n",
              "\n",
              "    .colab-df-convert:hover {\n",
              "      background-color: #E2EBFA;\n",
              "      box-shadow: 0px 1px 2px rgba(60, 64, 67, 0.3), 0px 1px 3px 1px rgba(60, 64, 67, 0.15);\n",
              "      fill: #174EA6;\n",
              "    }\n",
              "\n",
              "    [theme=dark] .colab-df-convert {\n",
              "      background-color: #3B4455;\n",
              "      fill: #D2E3FC;\n",
              "    }\n",
              "\n",
              "    [theme=dark] .colab-df-convert:hover {\n",
              "      background-color: #434B5C;\n",
              "      box-shadow: 0px 1px 3px 1px rgba(0, 0, 0, 0.15);\n",
              "      filter: drop-shadow(0px 1px 2px rgba(0, 0, 0, 0.3));\n",
              "      fill: #FFFFFF;\n",
              "    }\n",
              "  </style>\n",
              "\n",
              "      <script>\n",
              "        const buttonEl =\n",
              "          document.querySelector('#df-2dab6c11-1919-4258-bc84-f2e7bb48323a button.colab-df-convert');\n",
              "        buttonEl.style.display =\n",
              "          google.colab.kernel.accessAllowed ? 'block' : 'none';\n",
              "\n",
              "        async function convertToInteractive(key) {\n",
              "          const element = document.querySelector('#df-2dab6c11-1919-4258-bc84-f2e7bb48323a');\n",
              "          const dataTable =\n",
              "            await google.colab.kernel.invokeFunction('convertToInteractive',\n",
              "                                                     [key], {});\n",
              "          if (!dataTable) return;\n",
              "\n",
              "          const docLinkHtml = 'Like what you see? Visit the ' +\n",
              "            '<a target=\"_blank\" href=https://colab.research.google.com/notebooks/data_table.ipynb>data table notebook</a>'\n",
              "            + ' to learn more about interactive tables.';\n",
              "          element.innerHTML = '';\n",
              "          dataTable['output_type'] = 'display_data';\n",
              "          await google.colab.output.renderOutput(dataTable, element);\n",
              "          const docLink = document.createElement('div');\n",
              "          docLink.innerHTML = docLinkHtml;\n",
              "          element.appendChild(docLink);\n",
              "        }\n",
              "      </script>\n",
              "    </div>\n",
              "  </div>\n",
              "  "
            ]
          },
          "metadata": {},
          "execution_count": 328
        }
      ]
    },
    {
      "cell_type": "code",
      "source": [
        "reviews = reviews.sample(frac=0.1, ignore_index=True, random_state=1)\n",
        "reviews.tail()"
      ],
      "metadata": {
        "colab": {
          "base_uri": "https://localhost:8080/",
          "height": 206
        },
        "id": "CMNd80XpxKwQ",
        "outputId": "fde5267c-12b1-4168-ae02-7a91bd7cf04b"
      },
      "execution_count": 329,
      "outputs": [
        {
          "output_type": "execute_result",
          "data": {
            "text/plain": [
              "       rating                                             review\n",
              "55995       1  Stratosphere just doesn't capture the Vegas ex...\n",
              "55996       2  There will always be the image 2007, where one...\n",
              "55997       1  Arrogance and attitude do not make a good busi...\n",
              "55998       2  I'm not sure I've ever been to a place where p...\n",
              "55999       1  Ordered a large pizza as a take out.  It looke..."
            ],
            "text/html": [
              "\n",
              "  <div id=\"df-cd5be96d-507e-4693-af5e-bd34c63e1eb4\">\n",
              "    <div class=\"colab-df-container\">\n",
              "      <div>\n",
              "<style scoped>\n",
              "    .dataframe tbody tr th:only-of-type {\n",
              "        vertical-align: middle;\n",
              "    }\n",
              "\n",
              "    .dataframe tbody tr th {\n",
              "        vertical-align: top;\n",
              "    }\n",
              "\n",
              "    .dataframe thead th {\n",
              "        text-align: right;\n",
              "    }\n",
              "</style>\n",
              "<table border=\"1\" class=\"dataframe\">\n",
              "  <thead>\n",
              "    <tr style=\"text-align: right;\">\n",
              "      <th></th>\n",
              "      <th>rating</th>\n",
              "      <th>review</th>\n",
              "    </tr>\n",
              "  </thead>\n",
              "  <tbody>\n",
              "    <tr>\n",
              "      <th>55995</th>\n",
              "      <td>1</td>\n",
              "      <td>Stratosphere just doesn't capture the Vegas ex...</td>\n",
              "    </tr>\n",
              "    <tr>\n",
              "      <th>55996</th>\n",
              "      <td>2</td>\n",
              "      <td>There will always be the image 2007, where one...</td>\n",
              "    </tr>\n",
              "    <tr>\n",
              "      <th>55997</th>\n",
              "      <td>1</td>\n",
              "      <td>Arrogance and attitude do not make a good busi...</td>\n",
              "    </tr>\n",
              "    <tr>\n",
              "      <th>55998</th>\n",
              "      <td>2</td>\n",
              "      <td>I'm not sure I've ever been to a place where p...</td>\n",
              "    </tr>\n",
              "    <tr>\n",
              "      <th>55999</th>\n",
              "      <td>1</td>\n",
              "      <td>Ordered a large pizza as a take out.  It looke...</td>\n",
              "    </tr>\n",
              "  </tbody>\n",
              "</table>\n",
              "</div>\n",
              "      <button class=\"colab-df-convert\" onclick=\"convertToInteractive('df-cd5be96d-507e-4693-af5e-bd34c63e1eb4')\"\n",
              "              title=\"Convert this dataframe to an interactive table.\"\n",
              "              style=\"display:none;\">\n",
              "        \n",
              "  <svg xmlns=\"http://www.w3.org/2000/svg\" height=\"24px\"viewBox=\"0 0 24 24\"\n",
              "       width=\"24px\">\n",
              "    <path d=\"M0 0h24v24H0V0z\" fill=\"none\"/>\n",
              "    <path d=\"M18.56 5.44l.94 2.06.94-2.06 2.06-.94-2.06-.94-.94-2.06-.94 2.06-2.06.94zm-11 1L8.5 8.5l.94-2.06 2.06-.94-2.06-.94L8.5 2.5l-.94 2.06-2.06.94zm10 10l.94 2.06.94-2.06 2.06-.94-2.06-.94-.94-2.06-.94 2.06-2.06.94z\"/><path d=\"M17.41 7.96l-1.37-1.37c-.4-.4-.92-.59-1.43-.59-.52 0-1.04.2-1.43.59L10.3 9.45l-7.72 7.72c-.78.78-.78 2.05 0 2.83L4 21.41c.39.39.9.59 1.41.59.51 0 1.02-.2 1.41-.59l7.78-7.78 2.81-2.81c.8-.78.8-2.07 0-2.86zM5.41 20L4 18.59l7.72-7.72 1.47 1.35L5.41 20z\"/>\n",
              "  </svg>\n",
              "      </button>\n",
              "      \n",
              "  <style>\n",
              "    .colab-df-container {\n",
              "      display:flex;\n",
              "      flex-wrap:wrap;\n",
              "      gap: 12px;\n",
              "    }\n",
              "\n",
              "    .colab-df-convert {\n",
              "      background-color: #E8F0FE;\n",
              "      border: none;\n",
              "      border-radius: 50%;\n",
              "      cursor: pointer;\n",
              "      display: none;\n",
              "      fill: #1967D2;\n",
              "      height: 32px;\n",
              "      padding: 0 0 0 0;\n",
              "      width: 32px;\n",
              "    }\n",
              "\n",
              "    .colab-df-convert:hover {\n",
              "      background-color: #E2EBFA;\n",
              "      box-shadow: 0px 1px 2px rgba(60, 64, 67, 0.3), 0px 1px 3px 1px rgba(60, 64, 67, 0.15);\n",
              "      fill: #174EA6;\n",
              "    }\n",
              "\n",
              "    [theme=dark] .colab-df-convert {\n",
              "      background-color: #3B4455;\n",
              "      fill: #D2E3FC;\n",
              "    }\n",
              "\n",
              "    [theme=dark] .colab-df-convert:hover {\n",
              "      background-color: #434B5C;\n",
              "      box-shadow: 0px 1px 3px 1px rgba(0, 0, 0, 0.15);\n",
              "      filter: drop-shadow(0px 1px 2px rgba(0, 0, 0, 0.3));\n",
              "      fill: #FFFFFF;\n",
              "    }\n",
              "  </style>\n",
              "\n",
              "      <script>\n",
              "        const buttonEl =\n",
              "          document.querySelector('#df-cd5be96d-507e-4693-af5e-bd34c63e1eb4 button.colab-df-convert');\n",
              "        buttonEl.style.display =\n",
              "          google.colab.kernel.accessAllowed ? 'block' : 'none';\n",
              "\n",
              "        async function convertToInteractive(key) {\n",
              "          const element = document.querySelector('#df-cd5be96d-507e-4693-af5e-bd34c63e1eb4');\n",
              "          const dataTable =\n",
              "            await google.colab.kernel.invokeFunction('convertToInteractive',\n",
              "                                                     [key], {});\n",
              "          if (!dataTable) return;\n",
              "\n",
              "          const docLinkHtml = 'Like what you see? Visit the ' +\n",
              "            '<a target=\"_blank\" href=https://colab.research.google.com/notebooks/data_table.ipynb>data table notebook</a>'\n",
              "            + ' to learn more about interactive tables.';\n",
              "          element.innerHTML = '';\n",
              "          dataTable['output_type'] = 'display_data';\n",
              "          await google.colab.output.renderOutput(dataTable, element);\n",
              "          const docLink = document.createElement('div');\n",
              "          docLink.innerHTML = docLinkHtml;\n",
              "          element.appendChild(docLink);\n",
              "        }\n",
              "      </script>\n",
              "    </div>\n",
              "  </div>\n",
              "  "
            ]
          },
          "metadata": {},
          "execution_count": 329
        }
      ]
    },
    {
      "cell_type": "code",
      "source": [
        "# 3.2 Воспользоваться функцией preprocess_text из 1.1 для обработки текста отзыва. Закодировать рейтинг числами, начиная с 0.\n",
        "\n",
        "reviews['review'] = reviews['review'].apply(lambda text: preprocess_text(text))\n",
        "reviews['rating'] = labeler.fit_transform(reviews['rating'])\n",
        "reviews.head()"
      ],
      "metadata": {
        "colab": {
          "base_uri": "https://localhost:8080/",
          "height": 206
        },
        "id": "wpd1w79vvSBK",
        "outputId": "4893e162-a16a-44dc-a7ea-b316b8d9ebeb"
      },
      "execution_count": 330,
      "outputs": [
        {
          "output_type": "execute_result",
          "data": {
            "text/plain": [
              "   rating                                             review\n",
              "0       1  omg, the grandma g s pizza with rosemary chick...\n",
              "1       0  microwaved food over over over seasoned gyro m...\n",
              "2       0  while the food is good, the service leaves a l...\n",
              "3       0  called the chandler pd about the sign spinner ...\n",
              "4       1  just took ewok, my approx. month old shih tzu ..."
            ],
            "text/html": [
              "\n",
              "  <div id=\"df-15974d1f-31d7-42ad-92dd-be1022aa4b29\">\n",
              "    <div class=\"colab-df-container\">\n",
              "      <div>\n",
              "<style scoped>\n",
              "    .dataframe tbody tr th:only-of-type {\n",
              "        vertical-align: middle;\n",
              "    }\n",
              "\n",
              "    .dataframe tbody tr th {\n",
              "        vertical-align: top;\n",
              "    }\n",
              "\n",
              "    .dataframe thead th {\n",
              "        text-align: right;\n",
              "    }\n",
              "</style>\n",
              "<table border=\"1\" class=\"dataframe\">\n",
              "  <thead>\n",
              "    <tr style=\"text-align: right;\">\n",
              "      <th></th>\n",
              "      <th>rating</th>\n",
              "      <th>review</th>\n",
              "    </tr>\n",
              "  </thead>\n",
              "  <tbody>\n",
              "    <tr>\n",
              "      <th>0</th>\n",
              "      <td>1</td>\n",
              "      <td>omg, the grandma g s pizza with rosemary chick...</td>\n",
              "    </tr>\n",
              "    <tr>\n",
              "      <th>1</th>\n",
              "      <td>0</td>\n",
              "      <td>microwaved food over over over seasoned gyro m...</td>\n",
              "    </tr>\n",
              "    <tr>\n",
              "      <th>2</th>\n",
              "      <td>0</td>\n",
              "      <td>while the food is good, the service leaves a l...</td>\n",
              "    </tr>\n",
              "    <tr>\n",
              "      <th>3</th>\n",
              "      <td>0</td>\n",
              "      <td>called the chandler pd about the sign spinner ...</td>\n",
              "    </tr>\n",
              "    <tr>\n",
              "      <th>4</th>\n",
              "      <td>1</td>\n",
              "      <td>just took ewok, my approx. month old shih tzu ...</td>\n",
              "    </tr>\n",
              "  </tbody>\n",
              "</table>\n",
              "</div>\n",
              "      <button class=\"colab-df-convert\" onclick=\"convertToInteractive('df-15974d1f-31d7-42ad-92dd-be1022aa4b29')\"\n",
              "              title=\"Convert this dataframe to an interactive table.\"\n",
              "              style=\"display:none;\">\n",
              "        \n",
              "  <svg xmlns=\"http://www.w3.org/2000/svg\" height=\"24px\"viewBox=\"0 0 24 24\"\n",
              "       width=\"24px\">\n",
              "    <path d=\"M0 0h24v24H0V0z\" fill=\"none\"/>\n",
              "    <path d=\"M18.56 5.44l.94 2.06.94-2.06 2.06-.94-2.06-.94-.94-2.06-.94 2.06-2.06.94zm-11 1L8.5 8.5l.94-2.06 2.06-.94-2.06-.94L8.5 2.5l-.94 2.06-2.06.94zm10 10l.94 2.06.94-2.06 2.06-.94-2.06-.94-.94-2.06-.94 2.06-2.06.94z\"/><path d=\"M17.41 7.96l-1.37-1.37c-.4-.4-.92-.59-1.43-.59-.52 0-1.04.2-1.43.59L10.3 9.45l-7.72 7.72c-.78.78-.78 2.05 0 2.83L4 21.41c.39.39.9.59 1.41.59.51 0 1.02-.2 1.41-.59l7.78-7.78 2.81-2.81c.8-.78.8-2.07 0-2.86zM5.41 20L4 18.59l7.72-7.72 1.47 1.35L5.41 20z\"/>\n",
              "  </svg>\n",
              "      </button>\n",
              "      \n",
              "  <style>\n",
              "    .colab-df-container {\n",
              "      display:flex;\n",
              "      flex-wrap:wrap;\n",
              "      gap: 12px;\n",
              "    }\n",
              "\n",
              "    .colab-df-convert {\n",
              "      background-color: #E8F0FE;\n",
              "      border: none;\n",
              "      border-radius: 50%;\n",
              "      cursor: pointer;\n",
              "      display: none;\n",
              "      fill: #1967D2;\n",
              "      height: 32px;\n",
              "      padding: 0 0 0 0;\n",
              "      width: 32px;\n",
              "    }\n",
              "\n",
              "    .colab-df-convert:hover {\n",
              "      background-color: #E2EBFA;\n",
              "      box-shadow: 0px 1px 2px rgba(60, 64, 67, 0.3), 0px 1px 3px 1px rgba(60, 64, 67, 0.15);\n",
              "      fill: #174EA6;\n",
              "    }\n",
              "\n",
              "    [theme=dark] .colab-df-convert {\n",
              "      background-color: #3B4455;\n",
              "      fill: #D2E3FC;\n",
              "    }\n",
              "\n",
              "    [theme=dark] .colab-df-convert:hover {\n",
              "      background-color: #434B5C;\n",
              "      box-shadow: 0px 1px 3px 1px rgba(0, 0, 0, 0.15);\n",
              "      filter: drop-shadow(0px 1px 2px rgba(0, 0, 0, 0.3));\n",
              "      fill: #FFFFFF;\n",
              "    }\n",
              "  </style>\n",
              "\n",
              "      <script>\n",
              "        const buttonEl =\n",
              "          document.querySelector('#df-15974d1f-31d7-42ad-92dd-be1022aa4b29 button.colab-df-convert');\n",
              "        buttonEl.style.display =\n",
              "          google.colab.kernel.accessAllowed ? 'block' : 'none';\n",
              "\n",
              "        async function convertToInteractive(key) {\n",
              "          const element = document.querySelector('#df-15974d1f-31d7-42ad-92dd-be1022aa4b29');\n",
              "          const dataTable =\n",
              "            await google.colab.kernel.invokeFunction('convertToInteractive',\n",
              "                                                     [key], {});\n",
              "          if (!dataTable) return;\n",
              "\n",
              "          const docLinkHtml = 'Like what you see? Visit the ' +\n",
              "            '<a target=\"_blank\" href=https://colab.research.google.com/notebooks/data_table.ipynb>data table notebook</a>'\n",
              "            + ' to learn more about interactive tables.';\n",
              "          element.innerHTML = '';\n",
              "          dataTable['output_type'] = 'display_data';\n",
              "          await google.colab.output.renderOutput(dataTable, element);\n",
              "          const docLink = document.createElement('div');\n",
              "          docLink.innerHTML = docLinkHtml;\n",
              "          element.appendChild(docLink);\n",
              "        }\n",
              "      </script>\n",
              "    </div>\n",
              "  </div>\n",
              "  "
            ]
          },
          "metadata": {},
          "execution_count": 330
        }
      ]
    },
    {
      "cell_type": "code",
      "source": [
        "reviews['rating'].unique() "
      ],
      "metadata": {
        "colab": {
          "base_uri": "https://localhost:8080/"
        },
        "id": "gkqHu5O-x6j0",
        "outputId": "a6adb741-18fd-4e70-d81f-30d54370e4c0"
      },
      "execution_count": 331,
      "outputs": [
        {
          "output_type": "execute_result",
          "data": {
            "text/plain": [
              "array([1, 0])"
            ]
          },
          "metadata": {},
          "execution_count": 331
        }
      ]
    },
    {
      "cell_type": "code",
      "source": [
        "# 3.3 Разбить датасет на обучающую и тестовую выборку\n",
        "\n",
        "X = reviews['review']\n",
        "y = reviews['rating']\n",
        "X_train, X_test, y_train, y_test = train_test_split(X, y, test_size=0.2, random_state=1)"
      ],
      "metadata": {
        "id": "cNbeuRryvSPO"
      },
      "execution_count": 332,
      "outputs": []
    },
    {
      "cell_type": "code",
      "source": [
        "len(X_train), len(X_test)"
      ],
      "metadata": {
        "colab": {
          "base_uri": "https://localhost:8080/"
        },
        "id": "m5AKR9dezUNP",
        "outputId": "d3a2260a-f562-43b2-c19e-e1c61800018b"
      },
      "execution_count": 333,
      "outputs": [
        {
          "output_type": "execute_result",
          "data": {
            "text/plain": [
              "(44800, 11200)"
            ]
          },
          "metadata": {},
          "execution_count": 333
        }
      ]
    },
    {
      "cell_type": "code",
      "source": [
        "# 3.4 Реализовать класс Vocab (токен = слово)\n",
        "\n",
        "class Vocab:\n",
        "  def __init__(self, data):\n",
        "    self.idx_to_token = dict(enumerate(set(word for text in data for word in nltk.word_tokenize(text))))\n",
        "    self.token_to_idx = {token: idx for idx, token in self.idx_to_token.items()}\n",
        "    self.vocab_len = len(self.idx_to_token)\n",
        "  \n",
        "\n",
        "vocab = Vocab(reviews[\"review\"])\n",
        "vocab.vocab_len"
      ],
      "metadata": {
        "colab": {
          "base_uri": "https://localhost:8080/"
        },
        "id": "ZtDByFZhvScg",
        "outputId": "00802c47-d628-4aff-9ace-f09fb76a652f"
      },
      "execution_count": 334,
      "outputs": [
        {
          "output_type": "execute_result",
          "data": {
            "text/plain": [
              "72594"
            ]
          },
          "metadata": {},
          "execution_count": 334
        }
      ]
    },
    {
      "cell_type": "code",
      "execution_count": 335,
      "metadata": {
        "id": "ggRSWHIp1d5-"
      },
      "outputs": [],
      "source": [
        "# 3.5 Реализовать класс ReviewDataset\n",
        "class ReviewDataset(Dataset):\n",
        "  def __init__(self, X, y, vocab: Vocab):\n",
        "    self.X = X\n",
        "    self.y = y\n",
        "    self.vocab = vocab\n",
        "\n",
        "  def vectorize(self, review):\n",
        "    '''Генерирует представление отзыва review при помощи бинарного кодирования (см. 1.2)'''\n",
        "    idxs = []\n",
        "    for token in nltk.word_tokenize(review):\n",
        "      idxs.append(vocab.token_to_idx[token])\n",
        "    review_t = torch.zeros(self.vocab.vocab_len)\n",
        "    review_t[[idxs]] = 1\n",
        "    return review_t\n",
        "\n",
        "  def __len__(self):\n",
        "    return len(self.X)\n",
        "\n",
        "  def __getitem__(self, idx):\n",
        "    return self.vectorize(self.X.iloc[idx]), self.y.iloc[idx]"
      ]
    },
    {
      "cell_type": "code",
      "source": [
        "ReviewDataset(X_train, y_train, vocab).__getitem__(0), X_train.iloc[0]"
      ],
      "metadata": {
        "colab": {
          "base_uri": "https://localhost:8080/"
        },
        "outputId": "834af249-91b0-40a7-b718-9ebf011e865f",
        "id": "i_d1AE5I1d5_"
      },
      "execution_count": 336,
      "outputs": [
        {
          "output_type": "execute_result",
          "data": {
            "text/plain": [
              "((tensor([0., 0., 0.,  ..., 0., 0., 0.]), 1),\n",
              " 'this place was so cool looking! real dark with a moder futuristic type feel with glowing blue lamps and crazy shaped decorations on the wall. the deluxe burger was great and you get french fries in this little shopping car. we got the sweet potato regular fries... great! they even serve it with fancy sauce step brothers reference.. but true story !')"
            ]
          },
          "metadata": {},
          "execution_count": 336
        }
      ]
    },
    {
      "cell_type": "code",
      "source": [
        "# 3.6 Обучить классификатор\n",
        "\n",
        "class ReviewsClassifier(nn.Module):\n",
        "    def __init__(self, in_features, out_features):\n",
        "        super(ReviewsClassifier, self).__init__()\n",
        "        self.seq = nn.Sequential(\n",
        "                        nn.Linear(in_features, 300),\n",
        "                        nn.ReLU(),\n",
        "                        nn.Dropout(),\n",
        "                        nn.Linear(300, out_features))\n",
        "    def forward(self, inputs):\n",
        "        return self.seq(inputs)"
      ],
      "metadata": {
        "id": "atrpPEd12ztm"
      },
      "execution_count": 337,
      "outputs": []
    },
    {
      "cell_type": "code",
      "source": [
        "learning_rate = 0.001\n",
        "batch_size = 128\n",
        "epochs = 5\n",
        "\n",
        "model = ReviewsClassifier(vocab.vocab_len, len(labeler.classes_))\n",
        "loss_fn = nn.CrossEntropyLoss()\n",
        "#optimizer = torch.optim.SGD(model.parameters(), lr=learning_rate)\n",
        "optimizer = optim.Adam(model.parameters(), lr=learning_rate)\n",
        "\n",
        "train_dataset = ReviewDataset(X_train, y_train, vocab)\n",
        "test_dataset = ReviewDataset(X_test, y_test, vocab)\n",
        "train_dataloader = DataLoader(train_dataset, batch_size=batch_size, shuffle=True)\n",
        "test_dataloader = DataLoader(test_dataset, batch_size=batch_size, shuffle=True)\n",
        "\n",
        "losses = []\n",
        "for t in range(epochs):\n",
        "    print(f\"Epoch {t+1}\\n-------------------------------\")\n",
        "    train_loss = train_loop(train_dataloader, model, loss_fn, optimizer)\n",
        "    losses.append(train_loss)\n",
        "    test_loop(test_dataloader, model, loss_fn)\n",
        "\n",
        "print(\"Done!\")"
      ],
      "metadata": {
        "colab": {
          "base_uri": "https://localhost:8080/"
        },
        "outputId": "a30a0732-9e59-4f29-80ad-9a75b6c43b68",
        "id": "J8aUpLV-2ztw"
      },
      "execution_count": 338,
      "outputs": [
        {
          "output_type": "stream",
          "name": "stdout",
          "text": [
            "Epoch 1\n",
            "-------------------------------\n",
            "loss: 0.692641  [    0/44800]\n",
            "loss: 0.398405  [ 4096/44800]\n",
            "loss: 0.206525  [ 8192/44800]\n",
            "loss: 0.275411  [12288/44800]\n",
            "loss: 0.130599  [16384/44800]\n",
            "loss: 0.241259  [20480/44800]\n",
            "loss: 0.168546  [24576/44800]\n",
            "loss: 0.243699  [28672/44800]\n",
            "loss: 0.253460  [32768/44800]\n",
            "loss: 0.250397  [36864/44800]\n",
            "loss: 0.178263  [40960/44800]\n",
            "Test Error: \n",
            " Accuracy: 91.3%, Avg loss: 0.214014 \n",
            "\n",
            "Epoch 2\n",
            "-------------------------------\n",
            "loss: 0.125156  [    0/44800]\n",
            "loss: 0.118849  [ 4096/44800]\n",
            "loss: 0.175637  [ 8192/44800]\n",
            "loss: 0.148124  [12288/44800]\n",
            "loss: 0.119068  [16384/44800]\n",
            "loss: 0.111553  [20480/44800]\n",
            "loss: 0.124462  [24576/44800]\n",
            "loss: 0.147986  [28672/44800]\n",
            "loss: 0.155700  [32768/44800]\n",
            "loss: 0.166718  [36864/44800]\n",
            "loss: 0.116093  [40960/44800]\n",
            "Test Error: \n",
            " Accuracy: 91.9%, Avg loss: 0.210194 \n",
            "\n",
            "Epoch 3\n",
            "-------------------------------\n",
            "loss: 0.085943  [    0/44800]\n",
            "loss: 0.038656  [ 4096/44800]\n",
            "loss: 0.150084  [ 8192/44800]\n",
            "loss: 0.074053  [12288/44800]\n",
            "loss: 0.061645  [16384/44800]\n",
            "loss: 0.107868  [20480/44800]\n",
            "loss: 0.100133  [24576/44800]\n",
            "loss: 0.074937  [28672/44800]\n",
            "loss: 0.144100  [32768/44800]\n",
            "loss: 0.097806  [36864/44800]\n",
            "loss: 0.064915  [40960/44800]\n",
            "Test Error: \n",
            " Accuracy: 91.7%, Avg loss: 0.230603 \n",
            "\n",
            "Epoch 4\n",
            "-------------------------------\n",
            "loss: 0.033912  [    0/44800]\n",
            "loss: 0.015478  [ 4096/44800]\n",
            "loss: 0.018616  [ 8192/44800]\n",
            "loss: 0.013892  [12288/44800]\n",
            "loss: 0.027907  [16384/44800]\n",
            "loss: 0.051727  [20480/44800]\n",
            "loss: 0.027217  [24576/44800]\n",
            "loss: 0.017642  [28672/44800]\n",
            "loss: 0.059576  [32768/44800]\n",
            "loss: 0.016930  [36864/44800]\n",
            "loss: 0.031090  [40960/44800]\n",
            "Test Error: \n",
            " Accuracy: 91.2%, Avg loss: 0.258258 \n",
            "\n",
            "Epoch 5\n",
            "-------------------------------\n",
            "loss: 0.032962  [    0/44800]\n",
            "loss: 0.035410  [ 4096/44800]\n",
            "loss: 0.006619  [ 8192/44800]\n",
            "loss: 0.010331  [12288/44800]\n",
            "loss: 0.016201  [16384/44800]\n",
            "loss: 0.014987  [20480/44800]\n",
            "loss: 0.028142  [24576/44800]\n",
            "loss: 0.012267  [28672/44800]\n",
            "loss: 0.018896  [32768/44800]\n",
            "loss: 0.012764  [36864/44800]\n",
            "loss: 0.034418  [40960/44800]\n",
            "Test Error: \n",
            " Accuracy: 90.9%, Avg loss: 0.298675 \n",
            "\n",
            "Done!\n"
          ]
        }
      ]
    },
    {
      "cell_type": "code",
      "source": [
        "import matplotlib.pyplot as plt\n",
        "\n",
        "with torch.no_grad():\n",
        "  plt.plot(losses)"
      ],
      "metadata": {
        "colab": {
          "base_uri": "https://localhost:8080/",
          "height": 863
        },
        "outputId": "f9438fce-0b71-49c8-f40a-81557aa3ef3c",
        "id": "IcHPKH_L2ztw"
      },
      "execution_count": 339,
      "outputs": [
        {
          "output_type": "display_data",
          "data": {
            "text/plain": [
              "<Figure size 1440x1080 with 1 Axes>"
            ],
            "image/png": "[encoded data removed]"
          },
          "metadata": {
            "needs_background": "light"
          }
        }
      ]
    },
    {
      "cell_type": "code",
      "source": [
        "from sklearn.metrics import confusion_matrix\n",
        "\n",
        "X_test, y_true = next(iter(test_dataloader))\n",
        "y_pred = model(X_test).argmax(dim=1)\n",
        "\n",
        "cm = confusion_matrix(y_true, y_pred)\n",
        "\n",
        "import seaborn as sns\n",
        "\n",
        "plt.rcParams[\"figure.figsize\"] = (20, 15)\n",
        "\n",
        "ax = sns.heatmap(cm, annot=True, cmap='Blues')\n",
        "ax.set_xlabel('\\nPredicted Values')\n",
        "ax.set_ylabel('Actual Values ')\n",
        "\n",
        "ax.xaxis.set_ticklabels(labeler.classes_)\n",
        "ax.yaxis.set_ticklabels(labeler.classes_)\n",
        "\n",
        "plt.show()"
      ],
      "metadata": {
        "colab": {
          "base_uri": "https://localhost:8080/",
          "height": 889
        },
        "outputId": "464393bf-3f39-48b6-aee6-ebc20185f4d9",
        "id": "zl51jgcP2ztw"
      },
      "execution_count": 340,
      "outputs": [
        {
          "output_type": "display_data",
          "data": {
            "text/plain": [
              "<Figure size 1440x1080 with 2 Axes>"
            ],
            "image/png": "[encoded data removed]"
          },
          "metadata": {
            "needs_background": "light"
          }
        }
      ]
    },
    {
      "cell_type": "code",
      "source": [
        "torch.save(model, 'review_model.pth')"
      ],
      "metadata": {
        "id": "kpFItGoy9jkY"
      },
      "execution_count": 341,
      "outputs": []
    },
    {
      "cell_type": "code",
      "source": [
        "# 3.7 Измерить точность на тестовой выборке. Проверить работоспособность модели: придумать небольшой отзыв, прогнать его через модель и вывести номер предсказанного класса (сделать это для явно позитивного и явно негативного отзыва)\n",
        "\n",
        "# model = torch.load('review_model.pth')\n",
        "# model.eval()\n",
        "\n",
        "test_loop(test_dataloader, model, loss_fn)"
      ],
      "metadata": {
        "colab": {
          "base_uri": "https://localhost:8080/"
        },
        "id": "4guJ0Tw4vS_q",
        "outputId": "1fc122e2-8d69-4488-eca6-37c14aadfed4"
      },
      "execution_count": 343,
      "outputs": [
        {
          "output_type": "stream",
          "name": "stdout",
          "text": [
            "Test Error: \n",
            " Accuracy: 91.1%, Avg loss: 0.295814 \n",
            "\n"
          ]
        }
      ]
    },
    {
      "cell_type": "code",
      "source": [
        "# 2 - хорошо, 1 - плохо \n",
        "review = \"The most awful place i've ever been.\"\n",
        "review = preprocess_text(review)\n",
        "x = train_dataset.vectorize(review)\n",
        "predictions = model(x)\n",
        "print(predictions, labeler.inverse_transform([predictions.argmax()]))"
      ],
      "metadata": {
        "colab": {
          "base_uri": "https://localhost:8080/"
        },
        "outputId": "6777bbd7-c098-45e6-cb2b-a6d65b513a07",
        "id": "VMlFGI6d9JJT"
      },
      "execution_count": 344,
      "outputs": [
        {
          "output_type": "stream",
          "name": "stdout",
          "text": [
            "tensor([ 2.0079, -2.0866], grad_fn=<AddBackward0>) [1]\n"
          ]
        }
      ]
    },
    {
      "cell_type": "code",
      "source": [
        "review = \"The best place i've ever been. I would recommed ot to all my friends\"\n",
        "review = preprocess_text(review)\n",
        "x = train_dataset.vectorize(review)\n",
        "predictions = model(x)\n",
        "print(predictions, labeler.inverse_transform([predictions.argmax()]))"
      ],
      "metadata": {
        "colab": {
          "base_uri": "https://localhost:8080/"
        },
        "id": "hzb8BQVA-1Jg",
        "outputId": "9edcaa10-69c8-4488-d0bc-2fd70dd868c2"
      },
      "execution_count": 345,
      "outputs": [
        {
          "output_type": "stream",
          "name": "stdout",
          "text": [
            "tensor([-1.4329,  1.5008], grad_fn=<AddBackward0>) [2]\n"
          ]
        }
      ]
    },
    {
      "cell_type": "code",
      "source": [],
      "metadata": {
        "id": "Ad85kNfvA61A"
      },
      "execution_count": 345,
      "outputs": []
    }
  ],
  "metadata": {
    "colab": {
      "provenance": []
    },
    "kernelspec": {
      "display_name": "Python 3 (ipykernel)",
      "language": "python",
      "name": "python3"
    },
    "language_info": {
      "codemirror_mode": {
        "name": "ipython",
        "version": 3
      },
      "file_extension": ".py",
      "mimetype": "text/x-python",
      "name": "python",
      "nbconvert_exporter": "python",
      "pygments_lexer": "ipython3",
      "version": "3.9.12"
    }
  },
  "nbformat": 4,
  "nbformat_minor": 0
}