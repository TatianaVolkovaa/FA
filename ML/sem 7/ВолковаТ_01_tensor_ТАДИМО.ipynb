{
  "cells": [
    {
      "cell_type": "markdown",
      "metadata": {
        "id": "_gE94V3G1RCx"
      },
      "source": [
        "# 01. Знакомство с `torch.Tensor`\n",
        "\n",
        "V 0.1 04.02.2021"
      ]
    },
    {
      "cell_type": "markdown",
      "source": [
        "### Волкова Татьяна ПИ19-2"
      ],
      "metadata": {
        "id": "WcJdj0TKevIv"
      }
    },
    {
      "cell_type": "markdown",
      "metadata": {
        "id": "TlWOXn0f1RC7"
      },
      "source": [
        "---"
      ]
    },
    {
      "cell_type": "markdown",
      "metadata": {
        "id": "lZfJ1FRM1RC8"
      },
      "source": [
        "При решении данных задач не подразумевается использования циклов или генераторов Python, если в задании не сказано обратного. Решение должно опираться на использование функционала библиотеки `torch`.\n",
        "\n",
        "[PyTorch documentation](https://pytorch.org/docs/stable/#pytorch-documentation)"
      ]
    },
    {
      "cell_type": "code",
      "execution_count": null,
      "metadata": {
        "id": "b3AW8rF-1RC9"
      },
      "outputs": [],
      "source": [
        "import torch"
      ]
    },
    {
      "cell_type": "markdown",
      "metadata": {
        "id": "vow49PuE1RC9"
      },
      "source": [
        "## 1.1 Создание тензоров и выполнение базовых операций над ними\n",
        "\n",
        "[Документация по функциям для создания тензоров](https://pytorch.org/docs/stable/torch.html#creation-ops)\n",
        "\n",
        "[Документация по функциям для работы с индексами](https://pytorch.org/docs/stable/torch.html#indexing-slicing-joining-mutating-ops)"
      ]
    },
    {
      "cell_type": "markdown",
      "metadata": {
        "id": "wBIwO1SB1RC-"
      },
      "source": [
        "1.1.1 Создайте двумерный тензор размера (8, 8). Используя как можно меньше операций, добейтесь расстановки кодов \"шахматных фигур\".\n",
        "\n",
        "Ожидаемый результат:\n",
        "\n",
        "```\n",
        "[[-4., -3., -2., -6., -5., -2., -3., -4.],\n",
        " [-1., -1., -1., -1., -1., -1., -1., -1.],\n",
        " [0., 0., 0., 0., 0., 0., 0., 0.],\n",
        " [0., 0., 0., 0., 0., 0., 0., 0.],\n",
        " [0., 0., 0., 0., 0., 0., 0., 0.],\n",
        " [0., 0., 0., 0., 0., 0., 0., 0.],\n",
        " [1., 1., 1., 1., 1., 1., 1., 1.],\n",
        " [4., 3., 2., 6., 5., 2., 3., 4.]]\n",
        "\n",
        "```"
      ]
    },
    {
      "cell_type": "code",
      "source": [
        "x = torch.zeros(8, 8, dtype=torch.float16)\n",
        "x[0] = torch.tensor([-4, -3, -2, -6, -5, -2, -3, -4]) \n",
        "x[1] = torch.ones(1, 8) * -1\n",
        "x[6]= -x[1]\n",
        "x[7] = -x[0] \n",
        "print(x)"
      ],
      "metadata": {
        "colab": {
          "base_uri": "https://localhost:8080/"
        },
        "id": "o5G-KhfBEtL2",
        "outputId": "46fca596-29d5-4287-d7c4-9d50e5bdcbf4"
      },
      "execution_count": null,
      "outputs": [
        {
          "output_type": "stream",
          "name": "stdout",
          "text": [
            "tensor([[-4., -3., -2., -6., -5., -2., -3., -4.],\n",
            "        [-1., -1., -1., -1., -1., -1., -1., -1.],\n",
            "        [ 0.,  0.,  0.,  0.,  0.,  0.,  0.,  0.],\n",
            "        [ 0.,  0.,  0.,  0.,  0.,  0.,  0.,  0.],\n",
            "        [ 0.,  0.,  0.,  0.,  0.,  0.,  0.,  0.],\n",
            "        [ 0.,  0.,  0.,  0.,  0.,  0.,  0.,  0.],\n",
            "        [ 1.,  1.,  1.,  1.,  1.,  1.,  1.,  1.],\n",
            "        [ 4.,  3.,  2.,  6.,  5.,  2.,  3.,  4.]], dtype=torch.float16)\n"
          ]
        }
      ]
    },
    {
      "cell_type": "markdown",
      "metadata": {
        "id": "20x5RE1V1RC_"
      },
      "source": [
        "1.1.2 Средствами `torch` рассчитать произведения четных чисел от 2 до 20 на ближайшие к ним бОльшие нечетные числа."
      ]
    },
    {
      "cell_type": "code",
      "source": [
        "even = torch.arange(2, 21, 2)\n",
        "odd = torch.arange(3, 22, 2) \n",
        "print(even * odd)"
      ],
      "metadata": {
        "colab": {
          "base_uri": "https://localhost:8080/"
        },
        "id": "8rAKWdLRJUTV",
        "outputId": "eb41d1ba-bfb0-4881-d23d-6f29c4e74d15"
      },
      "execution_count": null,
      "outputs": [
        {
          "output_type": "stream",
          "name": "stdout",
          "text": [
            "tensor([  6,  20,  42,  72, 110, 156, 210, 272, 342, 420])\n"
          ]
        }
      ]
    },
    {
      "cell_type": "markdown",
      "metadata": {
        "id": "N_-t5GRM1RC_"
      },
      "source": [
        "1.1.3 Создать тензор размера 11x7 вида: [[1, 2, 3, ..., 7], [11, 12, 13, ..., 17], [21, 22, 23, ..., 27], ..., [101, 102, 103, ..., 107]]"
      ]
    },
    {
      "cell_type": "code",
      "source": [
        "a0 =  torch.arange(1, 8)\n",
        "a1 = a0 + 10\n",
        "a2 = a0 + 2 * 10\n",
        "a0, a1, a2"
      ],
      "metadata": {
        "colab": {
          "base_uri": "https://localhost:8080/"
        },
        "id": "SZxaXUwQKNeM",
        "outputId": "8693a40c-5505-48df-d1c8-1fe87333dfda"
      },
      "execution_count": null,
      "outputs": [
        {
          "output_type": "execute_result",
          "data": {
            "text/plain": [
              "(tensor([1, 2, 3, 4, 5, 6, 7]),\n",
              " tensor([11, 12, 13, 14, 15, 16, 17]),\n",
              " tensor([21, 22, 23, 24, 25, 26, 27]))"
            ]
          },
          "metadata": {},
          "execution_count": 4
        }
      ]
    },
    {
      "cell_type": "code",
      "source": [
        "x = torch.arange(1, 111)\n",
        "x = x.view(-1, 11)[:, :7]\n",
        "x"
      ],
      "metadata": {
        "colab": {
          "base_uri": "https://localhost:8080/"
        },
        "id": "QqK2Kg3NLYBE",
        "outputId": "a9c65e0e-0b6c-4104-8595-f64019af9314"
      },
      "execution_count": null,
      "outputs": [
        {
          "output_type": "execute_result",
          "data": {
            "text/plain": [
              "tensor([[  1,   2,   3,   4,   5,   6,   7],\n",
              "        [ 12,  13,  14,  15,  16,  17,  18],\n",
              "        [ 23,  24,  25,  26,  27,  28,  29],\n",
              "        [ 34,  35,  36,  37,  38,  39,  40],\n",
              "        [ 45,  46,  47,  48,  49,  50,  51],\n",
              "        [ 56,  57,  58,  59,  60,  61,  62],\n",
              "        [ 67,  68,  69,  70,  71,  72,  73],\n",
              "        [ 78,  79,  80,  81,  82,  83,  84],\n",
              "        [ 89,  90,  91,  92,  93,  94,  95],\n",
              "        [100, 101, 102, 103, 104, 105, 106]])"
            ]
          },
          "metadata": {},
          "execution_count": 5
        }
      ]
    },
    {
      "cell_type": "markdown",
      "metadata": {
        "id": "oxVeUiHR1RC_"
      },
      "source": [
        "1.1.4 Написать функцию, которая для целых значений `n` и `m` будет возвращать тензор размера `n`x`m`, заполненный текстурой размера 2x2, состоящей из следующих значений:\n",
        "\n",
        "```\n",
        "0 1\n",
        "\n",
        "2 3\n",
        "\n",
        "```\n",
        "\n",
        "Пример для n = 4 и m = 5:\n",
        "\n",
        "```\n",
        "0 1 0 1 0\n",
        "\n",
        "2 3 2 3 2\n",
        "\n",
        "0 1 0 1 0\n",
        "\n",
        "2 3 2 3 2\n",
        "```"
      ]
    },
    {
      "cell_type": "code",
      "source": [
        "# ???\n",
        "\n",
        "def tens(n, m):\n",
        "  n = int(n) // 2\n",
        "  m = int(m) // 2\n",
        "  a = torch.arange(0, 4).view(2, 2)\n",
        "  b = torch.cat([a]*n, 0)\n",
        "  result = torch.cat([b]*m, 1)\n",
        "  return result\n",
        "\n",
        "tens(input(), input())"
      ],
      "metadata": {
        "colab": {
          "base_uri": "https://localhost:8080/"
        },
        "id": "r-hC4BL-OiqO",
        "outputId": "df46dbbc-8723-4ef3-e13a-54ce9c90e932"
      },
      "execution_count": null,
      "outputs": [
        {
          "name": "stdout",
          "output_type": "stream",
          "text": [
            "6\n",
            "6\n"
          ]
        },
        {
          "output_type": "execute_result",
          "data": {
            "text/plain": [
              "tensor([[0, 1, 0, 1, 0, 1],\n",
              "        [2, 3, 2, 3, 2, 3],\n",
              "        [0, 1, 0, 1, 0, 1],\n",
              "        [2, 3, 2, 3, 2, 3],\n",
              "        [0, 1, 0, 1, 0, 1],\n",
              "        [2, 3, 2, 3, 2, 3]])"
            ]
          },
          "metadata": {},
          "execution_count": 6
        }
      ]
    },
    {
      "cell_type": "markdown",
      "metadata": {
        "id": "WH9hxJse1RDA"
      },
      "source": [
        "1.1.5 Сгенерировать двумерный тензор `t` размерности (4, 7), состоящий из случайных действительных чисел, равномерно распределенных в дипазоне от 0 до 20. Нормализовать значения массива с помощью преобразования вида $ax+b$ так, что после нормализации максимальный элемент масива будет равен 1.0, минимальный 0.0"
      ]
    },
    {
      "cell_type": "code",
      "source": [
        "# целые числа\n",
        "x = torch.randint(0, 21, (4, 7))\n",
        "print(x)\n",
        "x = (x-x.min())/(x.max()-x.min())\n",
        "x"
      ],
      "metadata": {
        "colab": {
          "base_uri": "https://localhost:8080/"
        },
        "id": "P0AJqNFdSyq3",
        "outputId": "765beb1c-f4b0-438c-e9b0-565e9317fe48"
      },
      "execution_count": null,
      "outputs": [
        {
          "output_type": "stream",
          "name": "stdout",
          "text": [
            "tensor([[ 1,  3, 18, 11,  0, 10,  4],\n",
            "        [19, 11, 14,  0,  3, 14,  5],\n",
            "        [ 5,  5,  3,  7, 18,  0,  1],\n",
            "        [17, 16,  5, 14, 19,  0,  6]])\n"
          ]
        },
        {
          "output_type": "execute_result",
          "data": {
            "text/plain": [
              "tensor([[0.0526, 0.1579, 0.9474, 0.5789, 0.0000, 0.5263, 0.2105],\n",
              "        [1.0000, 0.5789, 0.7368, 0.0000, 0.1579, 0.7368, 0.2632],\n",
              "        [0.2632, 0.2632, 0.1579, 0.3684, 0.9474, 0.0000, 0.0526],\n",
              "        [0.8947, 0.8421, 0.2632, 0.7368, 1.0000, 0.0000, 0.3158]])"
            ]
          },
          "metadata": {},
          "execution_count": 19
        }
      ]
    },
    {
      "cell_type": "code",
      "source": [
        "x = torch.rand((4, 7)) * 20\n",
        "print(x)\n",
        "x = (x-x.min())/(x.max()-x.min())\n",
        "x"
      ],
      "metadata": {
        "colab": {
          "base_uri": "https://localhost:8080/"
        },
        "id": "RxYb0jqNgujk",
        "outputId": "7ff4cd17-d4ae-4d5d-ba6a-c7f3722ac6f8"
      },
      "execution_count": null,
      "outputs": [
        {
          "output_type": "stream",
          "name": "stdout",
          "text": [
            "tensor([[11.4746, 19.1185,  0.2766,  9.1041, 12.4546, 13.2391, 15.1336],\n",
            "        [17.7175, 14.1771, 16.4939,  4.1994, 19.9328,  9.0524, 10.5987],\n",
            "        [15.5537, 13.5647, 17.1871, 17.4834,  4.4239,  9.3048, 19.0798],\n",
            "        [ 8.3963,  6.1068, 10.0943, 13.4751,  1.9628,  5.7701,  7.8734]])\n"
          ]
        },
        {
          "output_type": "execute_result",
          "data": {
            "text/plain": [
              "tensor([[0.5697, 0.9586, 0.0000, 0.4491, 0.6195, 0.6595, 0.7558],\n",
              "        [0.8873, 0.7072, 0.8250, 0.1996, 1.0000, 0.4465, 0.5251],\n",
              "        [0.7772, 0.6760, 0.8603, 0.8754, 0.2110, 0.4593, 0.9566],\n",
              "        [0.4131, 0.2966, 0.4995, 0.6715, 0.0858, 0.2795, 0.3865]])"
            ]
          },
          "metadata": {},
          "execution_count": 20
        }
      ]
    },
    {
      "cell_type": "markdown",
      "metadata": {
        "id": "vPqIeewXB-mM"
      },
      "source": [
        "[Random Sampling](https://pytorch.org/docs/stable/torch.html#random-sampling)\n",
        "\n",
        "[Distributions](https://pytorch.org/docs/stable/distributions.html)"
      ]
    },
    {
      "cell_type": "markdown",
      "metadata": {
        "id": "K_R6cwq11RDE"
      },
      "source": [
        "1.1.6 Задать два двумерных тензора `ar1` и `ar2` размерности (4, 7), состоящих из случайных целых чисел в пределах от 0 до 10. Построить двумерный тензор размерности (4, 7), каждый элемент которого представляет собой максимум из двух значений, находящихся на аналогичной позиции в тензорах `ar1`, `ar2`.\n",
        "\n",
        "[Reductions ops](https://pytorch.org/docs/stable/torch.html#reduction-ops)"
      ]
    },
    {
      "cell_type": "code",
      "source": [
        "arr1 = torch.randint(0, 11, (4, 7))\n",
        "arr2 = torch.randint(0, 11, (4, 7))\n",
        "print(arr1,'\\n', arr2)"
      ],
      "metadata": {
        "colab": {
          "base_uri": "https://localhost:8080/"
        },
        "id": "BQXT_7LRfO0b",
        "outputId": "717759b0-36bd-4d7a-9da1-976f8f161bee"
      },
      "execution_count": null,
      "outputs": [
        {
          "output_type": "stream",
          "name": "stdout",
          "text": [
            "tensor([[ 8,  0,  6,  5,  6,  6,  7],\n",
            "        [ 5,  1,  7,  5,  7,  4,  5],\n",
            "        [ 4,  8,  4,  3,  5,  6,  5],\n",
            "        [ 2,  5,  8,  2,  4, 10,  3]]) \n",
            " tensor([[8, 3, 5, 3, 5, 2, 9],\n",
            "        [8, 6, 1, 2, 2, 7, 9],\n",
            "        [9, 8, 1, 2, 1, 9, 9],\n",
            "        [1, 3, 1, 1, 4, 5, 9]])\n"
          ]
        }
      ]
    },
    {
      "cell_type": "code",
      "source": [
        "(arr1 > arr2) * arr1 + (arr1 <= arr2) * arr2"
      ],
      "metadata": {
        "colab": {
          "base_uri": "https://localhost:8080/"
        },
        "id": "_AcqEh3ffXf3",
        "outputId": "1d363434-49db-46f3-c453-af725c2abf87"
      },
      "execution_count": null,
      "outputs": [
        {
          "output_type": "execute_result",
          "data": {
            "text/plain": [
              "tensor([[ 8,  3,  6,  5,  6,  6,  9],\n",
              "        [ 8,  6,  7,  5,  7,  7,  9],\n",
              "        [ 9,  8,  4,  3,  5,  9,  9],\n",
              "        [ 2,  5,  8,  2,  4, 10,  9]])"
            ]
          },
          "metadata": {},
          "execution_count": 22
        }
      ]
    },
    {
      "cell_type": "code",
      "source": [
        "# встроенная функция torch\n",
        "torch.fmax(arr1, arr2)"
      ],
      "metadata": {
        "colab": {
          "base_uri": "https://localhost:8080/"
        },
        "id": "SW_-SsKiin5G",
        "outputId": "2eda25a2-519d-4466-96d8-cc3ec93f8a45"
      },
      "execution_count": null,
      "outputs": [
        {
          "output_type": "execute_result",
          "data": {
            "text/plain": [
              "tensor([[ 8,  3,  6,  5,  6,  6,  9],\n",
              "        [ 8,  6,  7,  5,  7,  7,  9],\n",
              "        [ 9,  8,  4,  3,  5,  9,  9],\n",
              "        [ 2,  5,  8,  2,  4, 10,  9]])"
            ]
          },
          "metadata": {},
          "execution_count": 23
        }
      ]
    },
    {
      "cell_type": "markdown",
      "metadata": {
        "id": "x6zmMhyKBPWQ"
      },
      "source": [
        "1.1.7 Создать тензор из 20 случайных целых чисел от 0 до 100. Получить второе сверху значение в тензоре. Определить индекс этого значения."
      ]
    },
    {
      "cell_type": "code",
      "source": [
        "x = torch.randint(0, 101, (1, 20))\n",
        "x"
      ],
      "metadata": {
        "colab": {
          "base_uri": "https://localhost:8080/"
        },
        "id": "K6-iBLedgPNA",
        "outputId": "28b5840c-05f8-4439-9129-6fd5d5cb7a54"
      },
      "execution_count": null,
      "outputs": [
        {
          "output_type": "execute_result",
          "data": {
            "text/plain": [
              "tensor([[24, 55, 91, 20, 22, 97, 43, 52, 17, 95,  7, 14, 92, 88, 19, 71, 76,  9,\n",
              "         12, 12]])"
            ]
          },
          "metadata": {},
          "execution_count": 24
        }
      ]
    },
    {
      "cell_type": "code",
      "source": [
        "x.sort()"
      ],
      "metadata": {
        "colab": {
          "base_uri": "https://localhost:8080/"
        },
        "id": "bIGojVrnjhdS",
        "outputId": "cf9996d8-3eaf-4d9f-9adf-3d35749db4af"
      },
      "execution_count": null,
      "outputs": [
        {
          "output_type": "execute_result",
          "data": {
            "text/plain": [
              "torch.return_types.sort(\n",
              "values=tensor([[ 7,  9, 12, 12, 14, 17, 19, 20, 22, 24, 43, 52, 55, 71, 76, 88, 91, 92,\n",
              "         95, 97]]),\n",
              "indices=tensor([[10, 17, 19, 18, 11,  8, 14,  3,  4,  0,  6,  7,  1, 15, 16, 13,  2, 12,\n",
              "          9,  5]]))"
            ]
          },
          "metadata": {},
          "execution_count": 25
        }
      ]
    },
    {
      "cell_type": "code",
      "source": [
        "x.sort().indices[0, -2]"
      ],
      "metadata": {
        "colab": {
          "base_uri": "https://localhost:8080/"
        },
        "id": "TqnPmyRQjp37",
        "outputId": "7cbf5748-a570-4119-f5ec-a30979b0b46f"
      },
      "execution_count": null,
      "outputs": [
        {
          "output_type": "execute_result",
          "data": {
            "text/plain": [
              "tensor(9)"
            ]
          },
          "metadata": {},
          "execution_count": 26
        }
      ]
    },
    {
      "cell_type": "markdown",
      "metadata": {
        "id": "Xshsy8fD1RDE"
      },
      "source": [
        "## 1.2 Распространение"
      ]
    },
    {
      "cell_type": "markdown",
      "metadata": {
        "id": "jlP22HAJCo28"
      },
      "source": [
        "[Numpy broadcasting](https://numpy.org/devdocs/user/theory.broadcasting.html)\n",
        "\n",
        "[Torch broadcasting](https://pytorch.org/docs/stable/notes/broadcasting.html)"
      ]
    },
    {
      "cell_type": "markdown",
      "metadata": {
        "id": "uRD6-8Gd1RDF"
      },
      "source": [
        "1.2.1 Создать тензор 11x7 вида: `[[1, 2, 3, ..., 7], [11, 12, 13, ..., 17], [21, 22, 23, ..., 27], ..., [101, 102, 103, ..., 107]]`. При решении задачи применить технику распространения."
      ]
    },
    {
      "cell_type": "code",
      "source": [
        "a =  torch.arange(1, 8)\n",
        "b = torch.arange(0, 110, 10).view(11, 1) \n",
        "print(a, '\\n', b)\n",
        "b + a\n",
        "\n",
        "\n",
        "  # a -> 1 2 3 ...\n",
        "  #      1 2 3 ...\n",
        "  #      1 2 3 ...\n",
        "  #      ...\n",
        "  # b -> 10 10 10 ...\n",
        "  #      20 20 20 ...\n",
        "  #      30 30 30 ...\n",
        "  #      ..."
      ],
      "metadata": {
        "colab": {
          "base_uri": "https://localhost:8080/"
        },
        "id": "c_4g_hgrlzrh",
        "outputId": "7e9e3985-5cf4-4456-e7ff-2f4cb1c42b9d"
      },
      "execution_count": null,
      "outputs": [
        {
          "output_type": "stream",
          "name": "stdout",
          "text": [
            "tensor([1, 2, 3, 4, 5, 6, 7]) \n",
            " tensor([[  0],\n",
            "        [ 10],\n",
            "        [ 20],\n",
            "        [ 30],\n",
            "        [ 40],\n",
            "        [ 50],\n",
            "        [ 60],\n",
            "        [ 70],\n",
            "        [ 80],\n",
            "        [ 90],\n",
            "        [100]])\n"
          ]
        },
        {
          "output_type": "execute_result",
          "data": {
            "text/plain": [
              "tensor([[  1,   2,   3,   4,   5,   6,   7],\n",
              "        [ 11,  12,  13,  14,  15,  16,  17],\n",
              "        [ 21,  22,  23,  24,  25,  26,  27],\n",
              "        [ 31,  32,  33,  34,  35,  36,  37],\n",
              "        [ 41,  42,  43,  44,  45,  46,  47],\n",
              "        [ 51,  52,  53,  54,  55,  56,  57],\n",
              "        [ 61,  62,  63,  64,  65,  66,  67],\n",
              "        [ 71,  72,  73,  74,  75,  76,  77],\n",
              "        [ 81,  82,  83,  84,  85,  86,  87],\n",
              "        [ 91,  92,  93,  94,  95,  96,  97],\n",
              "        [101, 102, 103, 104, 105, 106, 107]])"
            ]
          },
          "metadata": {},
          "execution_count": 27
        }
      ]
    },
    {
      "cell_type": "markdown",
      "metadata": {
        "id": "iSY9Iday1RDF"
      },
      "source": [
        "1.2.2 Вычесть одномерный тензор `b_1d` из двухмерного тензора `a_2d`, так, чтобы каждый элемент одномерного тензора вычитался из всех элементов соответствующих строк двумерного тензора.\n",
        "\n",
        "_Пример:_\n",
        "\n",
        "Для входа:\n",
        "```python\n",
        "a_2d = torch.tensor([[3,3,3],[4,4,4],[5,5,5]])\n",
        "b_1d = torch.tensor([1,2,3])\n",
        "```\n",
        "\n",
        "Ожидается резульат:\n",
        "\n",
        "```python\n",
        "[[2 2 2]\n",
        " [2 2 2]\n",
        " [2 2 2]]\n",
        "```"
      ]
    },
    {
      "cell_type": "code",
      "source": [
        "a_2d = torch.tensor([[3,3,3],[4,4,4],[5,5,5]])\n",
        "b_1d = torch.tensor([1,2,3])\n",
        "a_2d - b_1d.view(3,1)"
      ],
      "metadata": {
        "colab": {
          "base_uri": "https://localhost:8080/"
        },
        "id": "M-oJ1rhQpX7h",
        "outputId": "269c14c0-3e8d-4e0b-e7c0-370f6844b969"
      },
      "execution_count": null,
      "outputs": [
        {
          "output_type": "execute_result",
          "data": {
            "text/plain": [
              "tensor([[2, 2, 2],\n",
              "        [2, 2, 2],\n",
              "        [2, 2, 2]])"
            ]
          },
          "metadata": {},
          "execution_count": 28
        }
      ]
    },
    {
      "cell_type": "markdown",
      "metadata": {
        "id": "dFTvPsY91RDF"
      },
      "source": [
        "## 1.3 Индексы, маскирование и прихотливое индексирование\n",
        "\n",
        "[Документация по функциям для работы с индексами](https://pytorch.org/docs/stable/torch.html#indexing-slicing-joining-mutating-ops)"
      ]
    },
    {
      "cell_type": "markdown",
      "metadata": {
        "id": "McYtDYhH1RDG"
      },
      "source": [
        "1.3.1 Получить индексы, для которых элементы тензоров `a` и `b` совпадают.\n",
        "\n",
        "_Пример:_\n",
        "\n",
        "Для входа:\n",
        "```python\n",
        "a = torch.tensor([1,2,3,2,3,4,3,4,5,6])\n",
        "b = torch.tensor([7,2,10,2,7,4,9,4,9,8])\n",
        "```\n",
        "\n",
        "Ожидается резульат:\n",
        "\n",
        "```python\n",
        "tensor([1, 3, 5, 7])\n",
        "```"
      ]
    },
    {
      "cell_type": "code",
      "source": [
        "a = torch.tensor([1,2,3,2,3,4,3,4,5,6])\n",
        "b = torch.tensor([7,2,10,2,7,4,9,4,9,8])\n",
        "torch.argwhere(a == b).view(1, -1)[0]\n"
      ],
      "metadata": {
        "colab": {
          "base_uri": "https://localhost:8080/"
        },
        "id": "-2ZnmFoyqmFo",
        "outputId": "b5003614-5949-4b26-86dd-d3e491be53c3"
      },
      "execution_count": null,
      "outputs": [
        {
          "output_type": "execute_result",
          "data": {
            "text/plain": [
              "tensor([1, 3, 5, 7])"
            ]
          },
          "metadata": {},
          "execution_count": 29
        }
      ]
    },
    {
      "cell_type": "markdown",
      "metadata": {
        "id": "MnBq3nfy1RDG"
      },
      "source": [
        "1.3.2 Инвертировать порядок элементов в двумерном тензоре `torch.arange(9).view(3,3)`.\n",
        "\n",
        "Ожидаемый результат:\n",
        "\n",
        "\n",
        "```python\n",
        "tensor([[8, 7, 6],\n",
        "       [5, 4, 3],\n",
        "       [2, 1, 0]])\n",
        "```"
      ]
    },
    {
      "cell_type": "code",
      "source": [
        "x = torch.arange(9).view(3,3)\n",
        "x[::-1, ::-1]"
      ],
      "metadata": {
        "colab": {
          "base_uri": "https://localhost:8080/",
          "height": 188
        },
        "id": "OVIvqbSanOWo",
        "outputId": "315fcd66-594f-4ef0-87d2-7790d67b9dbc"
      },
      "execution_count": null,
      "outputs": [
        {
          "output_type": "error",
          "ename": "ValueError",
          "evalue": "ignored",
          "traceback": [
            "\u001b[0;31m---------------------------------------------------------------------------\u001b[0m",
            "\u001b[0;31mValueError\u001b[0m                                Traceback (most recent call last)",
            "\u001b[0;32m<ipython-input-30-ba8cbb4ac603>\u001b[0m in \u001b[0;36m<module>\u001b[0;34m\u001b[0m\n\u001b[1;32m      1\u001b[0m \u001b[0mx\u001b[0m \u001b[0;34m=\u001b[0m \u001b[0mtorch\u001b[0m\u001b[0;34m.\u001b[0m\u001b[0marange\u001b[0m\u001b[0;34m(\u001b[0m\u001b[0;36m9\u001b[0m\u001b[0;34m)\u001b[0m\u001b[0;34m.\u001b[0m\u001b[0mview\u001b[0m\u001b[0;34m(\u001b[0m\u001b[0;36m3\u001b[0m\u001b[0;34m,\u001b[0m\u001b[0;36m3\u001b[0m\u001b[0;34m)\u001b[0m\u001b[0;34m\u001b[0m\u001b[0;34m\u001b[0m\u001b[0m\n\u001b[0;32m----> 2\u001b[0;31m \u001b[0mx\u001b[0m\u001b[0;34m[\u001b[0m\u001b[0;34m:\u001b[0m\u001b[0;34m:\u001b[0m\u001b[0;34m-\u001b[0m\u001b[0;36m1\u001b[0m\u001b[0;34m,\u001b[0m \u001b[0;34m:\u001b[0m\u001b[0;34m:\u001b[0m\u001b[0;34m-\u001b[0m\u001b[0;36m1\u001b[0m\u001b[0;34m]\u001b[0m\u001b[0;34m\u001b[0m\u001b[0;34m\u001b[0m\u001b[0m\n\u001b[0m",
            "\u001b[0;31mValueError\u001b[0m: step must be greater than zero"
          ]
        }
      ]
    },
    {
      "cell_type": "code",
      "source": [
        "# а в numpy так работает\n",
        "import numpy as np\n",
        "\n",
        "x_np = np.arange(9).reshape(3, 3)\n",
        "print(x_np)\n",
        "x_np[::-1, ::-1]"
      ],
      "metadata": {
        "colab": {
          "base_uri": "https://localhost:8080/"
        },
        "id": "yFjo2eCXpMGB",
        "outputId": "32283f6f-683b-4ef9-de2d-338a05d2b9f9"
      },
      "execution_count": null,
      "outputs": [
        {
          "output_type": "stream",
          "name": "stdout",
          "text": [
            "[[0 1 2]\n",
            " [3 4 5]\n",
            " [6 7 8]]\n"
          ]
        },
        {
          "output_type": "execute_result",
          "data": {
            "text/plain": [
              "array([[8, 7, 6],\n",
              "       [5, 4, 3],\n",
              "       [2, 1, 0]])"
            ]
          },
          "metadata": {},
          "execution_count": 31
        }
      ]
    },
    {
      "cell_type": "code",
      "source": [
        "# встроенная функция torch\n",
        "x = torch.arange(9).view(3,3)\n",
        "x.flip(0).flip(1)"
      ],
      "metadata": {
        "id": "1jJcsXWIrG9Y",
        "colab": {
          "base_uri": "https://localhost:8080/"
        },
        "outputId": "9f623b05-39d6-44e0-de4b-a93d46862ea3"
      },
      "execution_count": null,
      "outputs": [
        {
          "output_type": "execute_result",
          "data": {
            "text/plain": [
              "tensor([[8, 7, 6],\n",
              "        [5, 4, 3],\n",
              "        [2, 1, 0]])"
            ]
          },
          "metadata": {},
          "execution_count": 32
        }
      ]
    },
    {
      "cell_type": "code",
      "source": [
        "#при помощи индексов\n",
        "x[[2,1,0]][:,[2,1,0]]"
      ],
      "metadata": {
        "colab": {
          "base_uri": "https://localhost:8080/"
        },
        "id": "eIFbF7DJrWMA",
        "outputId": "8e7bc60d-429e-4aa4-c7c9-da4073d6e711"
      },
      "execution_count": null,
      "outputs": [
        {
          "output_type": "execute_result",
          "data": {
            "text/plain": [
              "tensor([[8, 7, 6],\n",
              "        [5, 4, 3],\n",
              "        [2, 1, 0]])"
            ]
          },
          "metadata": {},
          "execution_count": 33
        }
      ]
    },
    {
      "cell_type": "markdown",
      "metadata": {
        "id": "tANsLnOC1RDH"
      },
      "source": [
        "1.3.3 Из входного тензора a получить только элементы, находящиеся в диапазоне от 5 до 10.\n",
        "\n",
        "_Пример:_\n",
        "\n",
        "Для входа:\n",
        "```python\n",
        "a = torch.tensor([2, 6, 1, 9, 10, 3, 27])\n",
        "```\n",
        "\n",
        "Ожидается результат:\n",
        "\n",
        "```python\n",
        "tensor([6, 9, 10])\n",
        "```"
      ]
    },
    {
      "cell_type": "code",
      "source": [
        "a = torch.tensor([2, 6, 1, 9, 10, 3, 27])\n",
        "a[(a>=5) & (a<=10)]"
      ],
      "metadata": {
        "colab": {
          "base_uri": "https://localhost:8080/"
        },
        "id": "9W67TiNDqg56",
        "outputId": "ff9290c3-b408-4e25-945b-eeff00d78ea1"
      },
      "execution_count": null,
      "outputs": [
        {
          "output_type": "execute_result",
          "data": {
            "text/plain": [
              "tensor([ 6,  9, 10])"
            ]
          },
          "metadata": {},
          "execution_count": 34
        }
      ]
    },
    {
      "cell_type": "markdown",
      "metadata": {
        "id": "3vlK0gV21RDH"
      },
      "source": [
        "1.3.4 Поменять местами столбец 1 и 2 тензора `torch.arange(9).reshape(3,3)`"
      ]
    },
    {
      "cell_type": "code",
      "source": [
        "x = torch.arange(9).reshape(3,3)\n",
        "print(x)\n",
        "x[:, [0, 2, 1]]"
      ],
      "metadata": {
        "colab": {
          "base_uri": "https://localhost:8080/"
        },
        "id": "2LSZxlV-q8jJ",
        "outputId": "4898ec35-1a24-4609-fc27-17614c5181ef"
      },
      "execution_count": null,
      "outputs": [
        {
          "output_type": "stream",
          "name": "stdout",
          "text": [
            "tensor([[0, 1, 2],\n",
            "        [3, 4, 5],\n",
            "        [6, 7, 8]])\n"
          ]
        },
        {
          "output_type": "execute_result",
          "data": {
            "text/plain": [
              "tensor([[0, 2, 1],\n",
              "        [3, 5, 4],\n",
              "        [6, 8, 7]])"
            ]
          },
          "metadata": {},
          "execution_count": 35
        }
      ]
    },
    {
      "cell_type": "markdown",
      "metadata": {
        "id": "cheFtWhU1RDH"
      },
      "source": [
        "1.3.5 Создать тензор 8 на 10 из случайных целых чисел из диапазона от 0 до 10 и найти в ней строку (ее индекс и вывести саму строку), в которой сумма значений минимальна."
      ]
    },
    {
      "cell_type": "code",
      "source": [
        "x = torch.randint(0, 11, [8, 10])\n",
        "print(x)\n",
        "#print(x.sum(1))\n",
        "ind_min = x.sum(1).argmin()\n",
        "ind_min, x[ind_min]"
      ],
      "metadata": {
        "colab": {
          "base_uri": "https://localhost:8080/"
        },
        "id": "Y7vH649RsEW-",
        "outputId": "efa632d0-0673-4d33-f2ff-6c35ce5a4947"
      },
      "execution_count": null,
      "outputs": [
        {
          "output_type": "stream",
          "name": "stdout",
          "text": [
            "tensor([[ 0,  3,  4,  4,  5,  0,  9,  1,  0,  6],\n",
            "        [ 5,  9,  2,  0,  9,  8,  1, 10,  3,  4],\n",
            "        [ 9,  0,  0,  3,  3,  4,  1,  0, 10,  6],\n",
            "        [ 9,  5,  9, 10, 10,  2,  4,  9,  7,  0],\n",
            "        [ 6,  6,  7,  1,  9,  5,  3, 10, 10,  0],\n",
            "        [ 9,  1,  8,  3, 10, 10,  8, 10,  4,  9],\n",
            "        [ 5,  6,  3,  2,  3, 10,  1,  0,  6,  9],\n",
            "        [ 6,  8,  9,  1,  3,  8,  4,  4,  0,  8]])\n"
          ]
        },
        {
          "output_type": "execute_result",
          "data": {
            "text/plain": [
              "(tensor(0), tensor([0, 3, 4, 4, 5, 0, 9, 1, 0, 6]))"
            ]
          },
          "metadata": {},
          "execution_count": 36
        }
      ]
    },
    {
      "cell_type": "markdown",
      "metadata": {
        "id": "grOCNU4XFE2B"
      },
      "source": [
        "1.3.6 Cоздать тензор из 20 случайных целых чисел от 0 до 100. Обрезать значения тензора (заменить значения, выходящие за диапазон, на крайние значения) снизу по значению 30, сверху по значению 70."
      ]
    },
    {
      "cell_type": "code",
      "source": [
        "x = torch.randint(0, 100, [20])\n",
        "print(x)\n",
        "x[x<30] = 30\n",
        "x[x>70] = 70\n",
        "x"
      ],
      "metadata": {
        "colab": {
          "base_uri": "https://localhost:8080/"
        },
        "id": "di8JH009tVHL",
        "outputId": "8b7d5f2b-83e6-4e42-e49a-0fe0bcea6d90"
      },
      "execution_count": null,
      "outputs": [
        {
          "output_type": "stream",
          "name": "stdout",
          "text": [
            "tensor([53, 70,  9, 11, 29, 21, 20,  2,  4,  9, 17, 70, 46, 15, 86, 85,  9, 27,\n",
            "        68, 33])\n"
          ]
        },
        {
          "output_type": "execute_result",
          "data": {
            "text/plain": [
              "tensor([53, 70, 30, 30, 30, 30, 30, 30, 30, 30, 30, 70, 46, 30, 70, 70, 30, 30,\n",
              "        68, 33])"
            ]
          },
          "metadata": {},
          "execution_count": 37
        }
      ]
    },
    {
      "cell_type": "markdown",
      "metadata": {
        "id": "HNfQjY8P1RDI"
      },
      "source": [
        "1.3.7 Создать два тензора размера 30 на 3 из случайных целых чисел из диапазона от 0 до 10 и найти все значения первого тензора, которые больше соответсвующих (по расположению) значений второго тензора. Подсчитать сумму этих значений."
      ]
    },
    {
      "cell_type": "code",
      "source": [
        "a = torch.randint(0, 11, (30, 3))\n",
        "b = torch.randint(0, 11, (30, 3))\n",
        "#print(a, b)\n",
        "a[a>b].sum()"
      ],
      "metadata": {
        "colab": {
          "base_uri": "https://localhost:8080/"
        },
        "id": "lIPoGBz-t104",
        "outputId": "663d545f-ad89-4b3b-8be3-9fd358eb29fa"
      },
      "execution_count": null,
      "outputs": [
        {
          "output_type": "execute_result",
          "data": {
            "text/plain": [
              "tensor(265)"
            ]
          },
          "metadata": {},
          "execution_count": 38
        }
      ]
    },
    {
      "cell_type": "markdown",
      "metadata": {
        "id": "doBCxYJA1RDI"
      },
      "source": [
        "1.3.8 При помощи прихотливого индексирования для двухмерного массива размерности (20, 20), состоящего из случайных целых чисел в пределах от 0 до 10 получить массив элементов находящихся на диагонали, проходящей над основной диагональю."
      ]
    },
    {
      "cell_type": "code",
      "source": [
        "x = torch.randint(0, 11, (20, 20))\n",
        "# основная 00 11 22  \n",
        "# над ней 01 12 23\n",
        "n = torch.arange(x.size()[0]-1)\n",
        "m = torch.arange(x.size()[1]-1) + 1\n",
        "x[n, m]"
      ],
      "metadata": {
        "colab": {
          "base_uri": "https://localhost:8080/"
        },
        "id": "zd7QOgnTvOXS",
        "outputId": "e70f32ba-676c-4f54-c65f-993f2f909066"
      },
      "execution_count": null,
      "outputs": [
        {
          "output_type": "execute_result",
          "data": {
            "text/plain": [
              "tensor([9, 7, 5, 8, 5, 7, 2, 9, 0, 3, 5, 5, 0, 7, 8, 9, 8, 3, 8])"
            ]
          },
          "metadata": {},
          "execution_count": 39
        }
      ]
    },
    {
      "cell_type": "code",
      "source": [
        "x = torch.randint(0, 11, (6, 6))\n",
        "print(x)\n",
        "# основная 00 11 22  \n",
        "# над ней 01 12 23\n",
        "n = torch.arange(x.size()[0]-1)\n",
        "m = torch.arange(x.size()[1]-1) + 1\n",
        "x[n, m]"
      ],
      "metadata": {
        "colab": {
          "base_uri": "https://localhost:8080/"
        },
        "id": "izQt289wv_XG",
        "outputId": "9d17bf8e-5175-473f-9c75-b06bb9fc11fa"
      },
      "execution_count": null,
      "outputs": [
        {
          "output_type": "stream",
          "name": "stdout",
          "text": [
            "tensor([[10, 10,  1,  6, 10,  9],\n",
            "        [ 2,  7,  9,  8,  4,  1],\n",
            "        [ 9,  2,  9,  5,  4,  0],\n",
            "        [ 5,  7,  1,  1,  6,  9],\n",
            "        [ 3,  7,  4,  2,  1,  6],\n",
            "        [ 1,  6,  0,  8,  1,  1]])\n"
          ]
        },
        {
          "output_type": "execute_result",
          "data": {
            "text/plain": [
              "tensor([10,  9,  5,  6,  6])"
            ]
          },
          "metadata": {},
          "execution_count": 40
        }
      ]
    },
    {
      "cell_type": "markdown",
      "metadata": {
        "id": "6M1lkfLp1RDJ"
      },
      "source": [
        "1.3.9 Задать два двухмерных тензора `ar1` и `ar2` размерности (5, 10), состоящих из случайных целых чисел в пределах от 0 до 10. Удвоить все значения `ar1`, которые совпадают со значениями `ar2`, расположенными на аналогичных позициях."
      ]
    },
    {
      "cell_type": "code",
      "source": [
        "ar1 = torch.randint(0, 11, (5, 10))\n",
        "ar2 = torch.randint(0, 11, (5, 10))\n",
        "print(ar1, '\\n', ar2)\n",
        "ar1[ar1==ar2] = ar1[ar1==ar2] * 2\n",
        "ar1"
      ],
      "metadata": {
        "id": "yq81QsEcxAl7",
        "colab": {
          "base_uri": "https://localhost:8080/"
        },
        "outputId": "02fd649d-5207-43a2-c69b-e0600ca88518"
      },
      "execution_count": null,
      "outputs": [
        {
          "output_type": "stream",
          "name": "stdout",
          "text": [
            "tensor([[ 2,  4, 10,  3,  1,  6,  6, 10,  2,  7],\n",
            "        [10,  9,  2,  4, 10,  7,  2,  0,  9,  4],\n",
            "        [ 1, 10, 10,  9,  0,  9,  5, 10,  1,  9],\n",
            "        [ 2,  7, 10,  3,  1,  8,  9,  4,  4,  4],\n",
            "        [ 1, 10,  1,  4,  4,  4,  1, 10,  6,  7]]) \n",
            " tensor([[ 6,  0,  8,  0,  3,  1,  3,  1,  6,  5],\n",
            "        [ 2,  7,  0,  2,  2,  6,  6, 10,  5,  1],\n",
            "        [ 5,  1,  2,  5, 10,  5,  7,  4,  5,  9],\n",
            "        [ 3,  9,  9,  4,  2,  8,  1,  4,  4,  4],\n",
            "        [ 8,  1,  8,  9,  8,  1,  8,  7,  0,  6]])\n"
          ]
        },
        {
          "output_type": "execute_result",
          "data": {
            "text/plain": [
              "tensor([[ 2,  4, 10,  3,  1,  6,  6, 10,  2,  7],\n",
              "        [10,  9,  2,  4, 10,  7,  2,  0,  9,  4],\n",
              "        [ 1, 10, 10,  9,  0,  9,  5, 10,  1, 18],\n",
              "        [ 2,  7, 10,  3,  1, 16,  9,  8,  8,  8],\n",
              "        [ 1, 10,  1,  4,  4,  4,  1, 10,  6,  7]])"
            ]
          },
          "metadata": {},
          "execution_count": 43
        }
      ]
    },
    {
      "cell_type": "markdown",
      "metadata": {
        "id": "Qe2oVr4p1RDJ"
      },
      "source": [
        "1.3.10 Заданы три двухмерных тензора `ar1`, `ar2` и `ar3` размерности (4, 7), состоящие из случайных целых чисел в пределах от 0 до 10. Обнулить все элементы `ar1`, которые больше соответствующих (находящихся в соответствующих позициях) элементов `ar2` и меньше соответствующих элементов `ar3`."
      ]
    },
    {
      "cell_type": "code",
      "source": [
        "ar1 = torch.randint(0, 11, (4, 7))\n",
        "ar2 = torch.randint(0, 11, (4, 7))\n",
        "ar3 = torch.randint(0, 11, (4, 7))\n",
        "print(f'{ar1}\\n{ar2}\\n{ar3}')\n",
        "ar1[(ar1>ar2) & (ar1<ar3)] = 0\n",
        "ar1"
      ],
      "metadata": {
        "colab": {
          "base_uri": "https://localhost:8080/"
        },
        "id": "qEIDfXwA7spe",
        "outputId": "5ec8645e-e0f9-4a63-8f3d-2afcbc789170"
      },
      "execution_count": null,
      "outputs": [
        {
          "output_type": "stream",
          "name": "stdout",
          "text": [
            "tensor([[ 1, 10,  3,  3,  9,  0,  4],\n",
            "        [ 2,  1,  5,  1,  9,  0,  8],\n",
            "        [ 4, 10, 10,  9,  0,  5,  6],\n",
            "        [10,  2, 10, 10,  1,  3,  8]])\n",
            "tensor([[10,  2,  1,  4,  0, 10,  7],\n",
            "        [ 9,  5,  4, 10,  6,  6,  2],\n",
            "        [ 8,  1,  8, 10,  4,  8,  1],\n",
            "        [ 6,  9,  1,  3, 10,  1,  6]])\n",
            "tensor([[ 4,  5,  6,  5,  7,  4,  2],\n",
            "        [ 6,  8,  7,  8,  0,  2,  7],\n",
            "        [ 0,  0,  5,  1, 10,  5,  9],\n",
            "        [ 1,  7,  3,  9,  9,  3,  0]])\n"
          ]
        },
        {
          "output_type": "execute_result",
          "data": {
            "text/plain": [
              "tensor([[ 1, 10,  0,  3,  9,  0,  4],\n",
              "        [ 2,  1,  0,  1,  9,  0,  8],\n",
              "        [ 4, 10, 10,  9,  0,  5,  0],\n",
              "        [10,  2, 10, 10,  1,  3,  8]])"
            ]
          },
          "metadata": {},
          "execution_count": 45
        }
      ]
    },
    {
      "cell_type": "markdown",
      "metadata": {
        "id": "BTcRVeYh1RDK"
      },
      "source": [
        "1.3.11 Задан двумерный тензор `ar1` размерности (20, 5), состоящий из случайных целых чисел в пределах от 0 до 20. Определить, в каких столбцах не менее 5 раз встречается значение, максимальное по своей строке."
      ]
    },
    {
      "cell_type": "code",
      "source": [
        "ar1 = torch.randint(0, 21, (20, 5))\n",
        "print(arr1, '\\n', ar1.max(1))\n",
        "col, count = ar1.max(1).indices.unique(return_counts=True)\n",
        "print('\\nответ -->> ', col[count>=5])"
      ],
      "metadata": {
        "colab": {
          "base_uri": "https://localhost:8080/"
        },
        "id": "FchCsVPf8Y2f",
        "outputId": "8bd9c307-d2a1-4a2a-b3f3-0e0a2f97b46b"
      },
      "execution_count": null,
      "outputs": [
        {
          "output_type": "stream",
          "name": "stdout",
          "text": [
            "tensor([[ 5,  9,  8,  9,  5,  5,  1, 10,  5, 10],\n",
            "        [ 5,  6, 10,  3,  3,  6,  7,  9,  7,  0],\n",
            "        [ 2,  2, 10,  2, 10,  0,  8,  2,  3,  8],\n",
            "        [10,  4,  2, 10,  3,  5,  1,  3,  8,  4],\n",
            "        [10,  5, 10,  9, 20,  2, 10,  4,  3,  2]]) \n",
            " torch.return_types.max(\n",
            "values=tensor([17, 17, 16, 18, 19, 20, 14, 20, 18, 18, 15, 13, 18, 20, 17, 19, 17, 12,\n",
            "         8, 17]),\n",
            "indices=tensor([4, 3, 1, 0, 4, 3, 0, 4, 1, 1, 3, 0, 0, 0, 1, 4, 2, 0, 4, 2]))\n",
            "\n",
            "ответ -->>  tensor([0, 4])\n"
          ]
        }
      ]
    },
    {
      "cell_type": "markdown",
      "metadata": {
        "id": "ZeYlNWNE1RDK"
      },
      "source": [
        "1.3.12 Задан двумерный тензор `ar1` размерности (4, 7), состоящий из случайных  чисел в пределах от 0 до 1. Обнулить все значения в массиве, расположенные строго правее и ниже максимального элемента массива. "
      ]
    },
    {
      "cell_type": "code",
      "source": [
        "# ?????\n",
        "ar1 = torch.rand((4, 7))\n",
        "ar1, ar1.max()"
      ],
      "metadata": {
        "colab": {
          "base_uri": "https://localhost:8080/"
        },
        "id": "Vb5XzJwN_f2E",
        "outputId": "5c6c49e3-521e-438d-8413-9cdc9f8d2ae7"
      },
      "execution_count": null,
      "outputs": [
        {
          "output_type": "execute_result",
          "data": {
            "text/plain": [
              "(tensor([[0.1610, 0.0534, 0.0558, 0.8733, 0.7998, 0.7650, 0.9802],\n",
              "         [0.3656, 0.4387, 0.9516, 0.0859, 0.0171, 0.5855, 0.2250],\n",
              "         [0.4625, 0.0286, 0.0643, 0.6760, 0.2893, 0.7973, 0.8689],\n",
              "         [0.4220, 0.4164, 0.5761, 0.8463, 0.0376, 0.8805, 0.0841]]),\n",
              " tensor(0.9802))"
            ]
          },
          "metadata": {},
          "execution_count": 79
        }
      ]
    },
    {
      "cell_type": "markdown",
      "metadata": {
        "id": "pYxX90B11RDL"
      },
      "source": [
        "1.3.13 Построить \"one-hot encoding\" для одномерного тензора, содержащего целые числа (длина вектора заранее неизвестна, набор значений заранее неизвестен, при этом в итоговой матрице должны присутствовать столбцы для всех натуральных чисел вплоть до максимального встречающегося в исходном массиве).\n",
        "\n",
        "Пример:\n",
        "\n",
        "для тензора `torch.tensor([2, 3, 2, 2, 2, 1])`.\n",
        "\n",
        "Ожидается результат:\n",
        "\n",
        "```python\n",
        "tensor([[0., 1., 0.],\n",
        "        [0., 0., 1.],\n",
        "        [0., 1., 0.],\n",
        "        [0., 1., 0.],\n",
        "        [0., 1., 0.],\n",
        "        [1., 0., 0.]])\n",
        "```"
      ]
    },
    {
      "cell_type": "code",
      "source": [
        "x = torch.tensor([2, 3, 2, 2, 2, 1])\n",
        "n = x.size()[0]\n",
        "m = x.max()\n",
        "res = torch.zeros(n, m)\n",
        "res[torch.arange(n), x-1] = 1\n",
        "res"
      ],
      "metadata": {
        "colab": {
          "base_uri": "https://localhost:8080/"
        },
        "id": "txICXBwXAbn_",
        "outputId": "e9a090c1-512e-4769-ce88-8957ce725e2d"
      },
      "execution_count": null,
      "outputs": [
        {
          "output_type": "execute_result",
          "data": {
            "text/plain": [
              "tensor([[0., 1., 0.],\n",
              "        [0., 0., 1.],\n",
              "        [0., 1., 0.],\n",
              "        [0., 1., 0.],\n",
              "        [0., 1., 0.],\n",
              "        [1., 0., 0.]])"
            ]
          },
          "metadata": {},
          "execution_count": 89
        }
      ]
    },
    {
      "cell_type": "markdown",
      "metadata": {
        "id": "GYU8DmNTDLN8"
      },
      "source": [
        "1.3.14 Создать тензор `arr` из 20 случайных целых чисел от 0 до 100. Найти самое частое значение в тензоре. \n",
        "Найти индексы в тензоре, соответствующие самому частому значению. Проверить, как работет алгоритм при двух значениях, имеющих наибольшую встречаемость, предложить приемлемое поведение алгоритма для этого случая. "
      ]
    },
    {
      "cell_type": "code",
      "source": [
        "arr = torch.randint(0, 100, [20])\n",
        "num, count = arr.unique(return_counts=True)\n",
        "most_num = num[count == count.max()]\n",
        "arr, num, count, most_num"
      ],
      "metadata": {
        "colab": {
          "base_uri": "https://localhost:8080/"
        },
        "id": "kPm79aJgB1qR",
        "outputId": "16b72e05-9159-4061-ad4d-5dda8d62597f"
      },
      "execution_count": null,
      "outputs": [
        {
          "output_type": "execute_result",
          "data": {
            "text/plain": [
              "(tensor([ 0, 43, 61, 56, 71, 57, 32, 71,  3, 65, 83, 95, 77, 60, 82, 13,  5, 72,\n",
              "         19, 93]),\n",
              " tensor([ 0,  3,  5, 13, 19, 32, 43, 56, 57, 60, 61, 65, 71, 72, 77, 82, 83, 93,\n",
              "         95]),\n",
              " tensor([1, 1, 1, 1, 1, 1, 1, 1, 1, 1, 1, 1, 2, 1, 1, 1, 1, 1, 1]),\n",
              " tensor([71]))"
            ]
          },
          "metadata": {},
          "execution_count": 119
        }
      ]
    },
    {
      "cell_type": "code",
      "source": [
        "torch.where(arr == most_num)\n",
        "# при нескольких значениях с наибольшей встречаемостью прога ломается\n",
        "# кроме как циклы, не знаю как решить"
      ],
      "metadata": {
        "colab": {
          "base_uri": "https://localhost:8080/"
        },
        "id": "p5k8L5ZlCwgp",
        "outputId": "ba0dbfc0-c941-44d1-ac7d-bcf9c8858107"
      },
      "execution_count": null,
      "outputs": [
        {
          "output_type": "execute_result",
          "data": {
            "text/plain": [
              "(tensor([4, 7]),)"
            ]
          },
          "metadata": {},
          "execution_count": 120
        }
      ]
    },
    {
      "cell_type": "markdown",
      "metadata": {
        "id": "UenAEfEG1RDN"
      },
      "source": [
        "## 1.4 Математические задачи"
      ]
    },
    {
      "cell_type": "markdown",
      "metadata": {
        "id": "6weDrqJR1RDN"
      },
      "source": [
        "1.4.1 Приблизительно (с погрешностью порядка 1%) рассчитать на какой части интервала от 0 до 10 значение функции x * sin(x) больше 0.5."
      ]
    },
    {
      "cell_type": "code",
      "source": [
        "n = 1000\n",
        "x = torch.linspace(0, 10, n)\n",
        "((x * torch.sin(x)) > 0.5).sum() / n"
      ],
      "metadata": {
        "colab": {
          "base_uri": "https://localhost:8080/"
        },
        "id": "8XlZLRukEU0k",
        "outputId": "e2c86b47-d483-4408-f9a5-bb2452ebe202"
      },
      "execution_count": null,
      "outputs": [
        {
          "output_type": "execute_result",
          "data": {
            "text/plain": [
              "tensor(0.5230)"
            ]
          },
          "metadata": {},
          "execution_count": 124
        }
      ]
    },
    {
      "cell_type": "markdown",
      "metadata": {
        "id": "B9xAv8TR1RDN"
      },
      "source": [
        "1.4.2 Найти все простые числа в пределах ста. (Для решения предлагается использовать Решето Эратосфена) Использовать не более 1 цикла (желательно)."
      ]
    },
    {
      "cell_type": "code",
      "source": [
        "n = 100\n",
        "x = torch.arange(0, n+1)\n",
        "p = 2\n",
        "len = 0\n",
        "while (len != x[x!=0].size()[0]):\n",
        "  len = x[x!=0].size()[0]\n",
        "  x[2*p:n+1:p] = 0\n",
        "  #print(p, x[x!=0])\n",
        "  p = x[x>p][0]\n",
        "\n",
        "x = x[x!=0]\n",
        "print(x)"
      ],
      "metadata": {
        "colab": {
          "base_uri": "https://localhost:8080/"
        },
        "id": "GSl62WBPOnZr",
        "outputId": "c8d32d89-7ca2-4237-b890-7325c41a3ece"
      },
      "execution_count": null,
      "outputs": [
        {
          "output_type": "stream",
          "name": "stdout",
          "text": [
            "tensor([ 1,  2,  3,  5,  7, 11, 13, 17, 19, 23, 29, 31, 37, 41, 43, 47, 53, 59,\n",
            "        61, 67, 71, 73, 79, 83, 89, 97])\n"
          ]
        }
      ]
    },
    {
      "cell_type": "markdown",
      "metadata": {
        "id": "AHupFoTR1RDN"
      },
      "source": [
        "1.4.3 Найти евклидово расстояние между двумя одномерными тензорами одинаковой размерности, не используя готовые решения из библиотек."
      ]
    },
    {
      "cell_type": "code",
      "source": [
        "from math import sqrt\n",
        "\n",
        "ar1 = torch.randint(0, 11, (4, 7))\n",
        "ar2 = torch.randint(0, 11, (4, 7))\n",
        "sqrt(((ar1 - ar2) ** 2).sum())"
      ],
      "metadata": {
        "colab": {
          "base_uri": "https://localhost:8080/"
        },
        "id": "WiMgzCaRPjNM",
        "outputId": "85e53c74-b01e-4b41-e963-20bc35f840ba"
      },
      "execution_count": null,
      "outputs": [
        {
          "output_type": "execute_result",
          "data": {
            "text/plain": [
              "24.71841418861655"
            ]
          },
          "metadata": {},
          "execution_count": 183
        }
      ]
    },
    {
      "cell_type": "markdown",
      "metadata": {
        "id": "j-ZvjWDKDVMQ"
      },
      "source": [
        "1.4.4 Создать двумерный тензор 20 на 3, содержащий случайные целые числа от 0 до 100. \n",
        "Интерпретируя тензор как 20 векторов из 3х компонент, отсортировать его по длине векторов."
      ]
    },
    {
      "cell_type": "code",
      "source": [
        "x = torch.randint(0, 101, (20, 3))\n",
        "x"
      ],
      "metadata": {
        "colab": {
          "base_uri": "https://localhost:8080/"
        },
        "id": "WmzyJMIxQsfZ",
        "outputId": "e2522d06-1f4c-40eb-d5af-b47c1cd5dd3d"
      },
      "execution_count": null,
      "outputs": [
        {
          "output_type": "execute_result",
          "data": {
            "text/plain": [
              "tensor([[ 13,  65,  54],\n",
              "        [ 29,  22,  76],\n",
              "        [ 27,  10,  71],\n",
              "        [100,  46,  42],\n",
              "        [ 86,  27,  36],\n",
              "        [ 79,  32,  32],\n",
              "        [ 91,  70,  13],\n",
              "        [ 65,  21,  77],\n",
              "        [ 50,  11,  97],\n",
              "        [ 65,  18,  42],\n",
              "        [ 94,  80,  92],\n",
              "        [100,  46,  14],\n",
              "        [ 95,  93,  68],\n",
              "        [ 69,  86,   1],\n",
              "        [ 81,  26,  63],\n",
              "        [ 72,  34,  93],\n",
              "        [ 14,  69,  17],\n",
              "        [ 27,   8,  65],\n",
              "        [ 80,  82,  42],\n",
              "        [ 76,  12,  53]])"
            ]
          },
          "metadata": {},
          "execution_count": 184
        }
      ]
    },
    {
      "cell_type": "code",
      "source": [
        "inds = (x**2).sum(1).sqrt().sort()[1]\n",
        "x[[inds]]"
      ],
      "metadata": {
        "colab": {
          "base_uri": "https://localhost:8080/"
        },
        "id": "lmNYo01xRCpe",
        "outputId": "022a8d30-5497-4a19-a99f-d5b80a8c6952"
      },
      "execution_count": null,
      "outputs": [
        {
          "output_type": "execute_result",
          "data": {
            "text/plain": [
              "tensor([[ 27,   8,  65],\n",
              "        [ 14,  69,  17],\n",
              "        [ 27,  10,  71],\n",
              "        [ 65,  18,  42],\n",
              "        [ 29,  22,  76],\n",
              "        [ 13,  65,  54],\n",
              "        [ 79,  32,  32],\n",
              "        [ 76,  12,  53],\n",
              "        [ 86,  27,  36],\n",
              "        [ 65,  21,  77],\n",
              "        [ 81,  26,  63],\n",
              "        [ 50,  11,  97],\n",
              "        [ 69,  86,   1],\n",
              "        [100,  46,  14],\n",
              "        [ 91,  70,  13],\n",
              "        [100,  46,  42],\n",
              "        [ 80,  82,  42],\n",
              "        [ 72,  34,  93],\n",
              "        [ 95,  93,  68],\n",
              "        [ 94,  80,  92]])"
            ]
          },
          "metadata": {},
          "execution_count": 205
        }
      ]
    },
    {
      "cell_type": "markdown",
      "metadata": {
        "id": "IkBRFTKa1RDO"
      },
      "source": [
        "1.4.5 Найти \"локальные максимумы\" в одномерном тензоре (т.е. значения, большие предыдущего и последующего) `torch.tensor([1, 3, 7, 1, 2, 6, 0, 1])` и вывести их индексы."
      ]
    },
    {
      "cell_type": "code",
      "source": [
        "x = torch.tensor([1, 3, 7, 1, 2, 6, 0, 1])\n",
        "_x = torch.cat((torch.tensor([0]), x[:-1]))\n",
        "x_ = torch.cat((x[1:], torch.tensor([0])))\n",
        "loc_maxs = x[(x>_x) & (x>x_)]\n",
        "loc_maxs"
      ],
      "metadata": {
        "colab": {
          "base_uri": "https://localhost:8080/"
        },
        "id": "goApg0ThSP83",
        "outputId": "afc99813-7875-4366-d50b-ef3f84d5a2f6"
      },
      "execution_count": null,
      "outputs": [
        {
          "output_type": "execute_result",
          "data": {
            "text/plain": [
              "tensor([7, 6, 1])"
            ]
          },
          "metadata": {},
          "execution_count": 230
        }
      ]
    },
    {
      "cell_type": "code",
      "source": [
        "inds = ((x>_x) & (x>x_)) * torch.arange(0, x.size()[0])\n",
        "inds[inds!=0]"
      ],
      "metadata": {
        "colab": {
          "base_uri": "https://localhost:8080/"
        },
        "id": "OQ2iHwV4VQDl",
        "outputId": "b9a0722e-d127-4c40-ea09-229da0ad190b"
      },
      "execution_count": null,
      "outputs": [
        {
          "output_type": "execute_result",
          "data": {
            "text/plain": [
              "tensor([2, 5, 7])"
            ]
          },
          "metadata": {},
          "execution_count": 231
        }
      ]
    },
    {
      "cell_type": "markdown",
      "metadata": {
        "id": "VXD58rlc1RDP"
      },
      "source": [
        "1.4.6 Задан произвольный массив numpy (например массив из 100 случайных числе от 0 до 1). Необходимо найти в нем число наиболее близкое к заданному."
      ]
    },
    {
      "cell_type": "code",
      "source": [
        "# мож не numpy, а tensor\n",
        "x =  torch.rand(100)\n",
        "y = float(input('введите число от 0 до 1 -->>> '))\n",
        "#y = 0.52\n",
        "ind = abs(x-y).argmin()\n",
        "x, x[ind], ind"
      ],
      "metadata": {
        "colab": {
          "base_uri": "https://localhost:8080/"
        },
        "id": "JEtcrZwrW4-3",
        "outputId": "f3794bd9-e795-4687-e45c-4bd6a388f40b"
      },
      "execution_count": null,
      "outputs": [
        {
          "name": "stdout",
          "output_type": "stream",
          "text": [
            "введите число от 0 до 1 -->>> 0.43\n"
          ]
        },
        {
          "output_type": "execute_result",
          "data": {
            "text/plain": [
              "(tensor([0.4604, 0.4630, 0.4841, 0.4177, 0.9018, 0.9661, 0.0068, 0.3105, 0.1863,\n",
              "         0.9821, 0.7041, 0.9280, 0.3822, 0.7416, 0.1478, 0.2464, 0.5991, 0.9405,\n",
              "         0.4326, 0.8892, 0.6137, 0.5175, 0.7507, 0.4219, 0.8084, 0.0610, 0.1511,\n",
              "         0.7089, 0.2904, 0.0360, 0.0329, 0.6891, 0.6255, 0.4285, 0.5013, 0.5544,\n",
              "         0.9429, 0.2465, 0.0425, 0.3323, 0.0268, 0.1837, 0.1348, 0.4599, 0.3439,\n",
              "         0.3942, 0.1578, 0.2100, 0.5300, 0.4149, 0.9158, 0.6641, 0.3360, 0.6165,\n",
              "         0.9884, 0.3470, 0.8989, 0.6315, 0.6480, 0.6374, 0.3620, 0.1982, 0.2264,\n",
              "         0.0799, 0.7659, 0.6875, 0.1865, 0.9658, 0.1849, 0.4525, 0.8180, 0.4214,\n",
              "         0.5596, 0.0775, 0.9900, 0.5092, 0.7887, 0.0660, 0.3397, 0.6575, 0.3259,\n",
              "         0.8499, 0.8556, 0.6627, 0.6507, 0.9812, 0.5047, 0.9929, 0.9833, 0.0964,\n",
              "         0.0444, 0.6240, 0.5868, 0.6278, 0.5867, 0.5043, 0.4216, 0.9432, 0.6651,\n",
              "         0.4968]), tensor(0.4285), tensor(33))"
            ]
          },
          "metadata": {},
          "execution_count": 238
        }
      ]
    },
    {
      "cell_type": "markdown",
      "metadata": {
        "id": "81F_B2ij1RDP"
      },
      "source": [
        "1.4.7 Решить матричное уравнение `A*X*B=-C` - найти матрицу X. Где `A = [[-1, 2, 4], [-3, 1, 2], [-3, 0, 1]]`, `B=[[3, -1], [2, 1]]`, `C=[[7, 21], [11, 8], [8, 4]]`."
      ]
    },
    {
      "cell_type": "code",
      "source": [
        "# X = A^-1 * -C * B^-1\n",
        "# torch.mm ()   torch.matmul()   torch.bmm()   @\n",
        "A = torch.tensor([[-1., 2, 4], [-3, 1, 2], [-3, 0, 1]])\n",
        "B = torch.tensor([[3., -1], [2, 1]])\n",
        "C = torch.tensor([[7., 21], [11, 8], [8, 4]])\n",
        "(A.inverse() @ -C @ B.inverse()).round()"
      ],
      "metadata": {
        "colab": {
          "base_uri": "https://localhost:8080/"
        },
        "id": "SPRDANHMYHeu",
        "outputId": "8ef9a5e8-3761-4246-b7c8-615e8c0e2b73"
      },
      "execution_count": null,
      "outputs": [
        {
          "output_type": "execute_result",
          "data": {
            "text/plain": [
              "tensor([[ 1.,  0.],\n",
              "        [-2.,  1.],\n",
              "        [ 3., -4.]])"
            ]
          },
          "metadata": {},
          "execution_count": 246
        }
      ]
    },
    {
      "cell_type": "markdown",
      "metadata": {
        "id": "1P7O19bj1RDP"
      },
      "source": [
        "1.4.8 Проверить, является ли система векторов a1 = (3; −3; 0; 7),\n",
        "a2 = (2; 2; 4; 7), a3 = (1; 2; 3; 4), a4 = (5; −4; 1; 3) линейно зависимой?"
      ]
    },
    {
      "cell_type": "code",
      "source": [],
      "metadata": {
        "id": "5uCr_vz4bbA3"
      },
      "execution_count": null,
      "outputs": []
    },
    {
      "cell_type": "markdown",
      "metadata": {
        "id": "Jg_bzMVS1RDQ"
      },
      "source": [
        "1.4.9 Сгенирировать тензор из 200 случайных целых чисел, нормально распрделенных cо стандартным отклонением $\\sigma = 10$ и матожиданием $\\mu = 0$. Построить тензор гистограммы с 20 бинами. "
      ]
    },
    {
      "cell_type": "code",
      "source": [
        "# ???\n",
        "x = torch.normal(mean = 0, std = 10, size=(1, 200))\n",
        "x"
      ],
      "metadata": {
        "colab": {
          "base_uri": "https://localhost:8080/"
        },
        "id": "PG3dtCJod-50",
        "outputId": "3be5441b-3e92-46be-8fab-b75bc84525f2"
      },
      "execution_count": null,
      "outputs": [
        {
          "output_type": "execute_result",
          "data": {
            "text/plain": [
              "tensor([[  1.7330,   1.9591,  -4.8747,   5.5487,  -1.7623,  13.1103,  -6.7676,\n",
              "           6.8147,  -6.6779,  13.6798,   8.6077,   2.9630,  -0.3675, -11.5339,\n",
              "           5.5950,   5.9122,   1.1049,  -1.6387,   5.6843,  -5.2765,  -8.9791,\n",
              "          -7.6350, -23.0118,   2.0635,   1.5681,  14.9416,   2.6025,  26.3781,\n",
              "           7.8413, -25.3840,   2.0090,  19.6317,   4.9741, -15.2763,  11.1097,\n",
              "          15.1189,  -4.4384, -17.8068,   8.5072,  -4.8865,  -5.5093, -10.2790,\n",
              "           4.5614,  -3.3456, -14.4403,   3.8046,  -1.2847,  -3.7705,   4.8402,\n",
              "          -4.0110,  -7.9764,  -8.8380,  -7.0712,  -2.5764,   2.9181, -12.9357,\n",
              "           6.9511,  -6.8885,  -6.0857,  -9.6772,  15.0511,  -3.2022,   8.2156,\n",
              "         -19.8682,  -4.4944,   4.5934,  -3.5463, -13.6425, -13.5999, -11.5519,\n",
              "           8.4946,  -3.5424,  18.5515, -12.5855,   3.9996,  -1.6960,  -1.4251,\n",
              "           2.1830,  15.0399,   9.7393,   0.0702,  -2.6075,  -7.8243,  -4.6311,\n",
              "          -4.9396,  -4.5818,   2.9974, -12.2932,  -5.6874,  -6.6153,  -1.8502,\n",
              "           0.0423,   5.0311,  12.2174,  10.4048,  -0.7171,  -6.9857,   4.2142,\n",
              "          -9.7844,  -2.5318,   2.3674, -12.7548, -10.3209,  -3.5519,  -1.8391,\n",
              "          -5.3650,   7.0165, -19.8336,  12.9525,  -2.1114,   1.7070,  17.3229,\n",
              "          -5.9681,  -2.9977, -18.7456,  -1.3255,   0.9030,   4.2748,  11.0423,\n",
              "           8.9896,   8.3884,  13.9612,  -5.1249,   9.0496,  16.1363,   0.8476,\n",
              "           0.7774, -10.1029,  -4.6249,  -1.1192,  13.5084,  10.7292,  21.9989,\n",
              "          10.0983,  -4.6016, -11.4011,   6.3084,   0.9141, -26.8225,  -2.1611,\n",
              "           1.2194,  -0.2017,  -7.0294, -22.2090, -11.4523,  -1.7415,  -6.1334,\n",
              "           5.5361,   1.5266,  11.4335,   8.0287,   8.3897,   3.2409,   5.3909,\n",
              "          -3.8954,   7.6309,   4.3204,  -6.3092,   8.6368,   0.1170,   2.6496,\n",
              "          -3.6909,   5.7896,   0.2111, -11.9520,  14.7059, -18.2051, -13.5161,\n",
              "         -12.8775, -18.4369,  -2.2150, -24.5086, -10.1542,  -8.6251, -10.0748,\n",
              "          -6.1466,   4.1791,  10.5215,  28.8662,  -5.1461,  -4.6230,  -0.5698,\n",
              "           5.1883,  -0.2065,  -1.7458,   4.8141, -17.1916,   8.7374, -13.4347,\n",
              "          13.7315, -12.5166,  14.9094,  -5.6429,  14.9212,  20.5493,   5.9704,\n",
              "          12.4225,  13.2743, -13.1360,  -6.7719]])"
            ]
          },
          "metadata": {},
          "execution_count": 265
        }
      ]
    },
    {
      "cell_type": "code",
      "source": [
        "import matplotlib.pyplot as plt\n",
        "\n",
        "hist = torch.histc(x, bins=20, out=None)\n",
        "  \n",
        "plt.bar(range(20), hist, align='center', color=['forestgreen'])\n",
        "plt.xlabel('Bins')\n",
        "plt.ylabel('Frequency')\n",
        "plt.show()"
      ],
      "metadata": {
        "colab": {
          "base_uri": "https://localhost:8080/",
          "height": 279
        },
        "id": "VjKjtLmJfbZT",
        "outputId": "a491c23a-50a0-49a5-ecb5-5af24f7a1d31"
      },
      "execution_count": null,
      "outputs": [
        {
          "output_type": "display_data",
          "data": {
            "text/plain": [
              "<Figure size 432x288 with 1 Axes>"
            ],
            "image/png": "[encoded data removed]"
          },
          "metadata": {
            "needs_background": "light"
          }
        }
      ]
    },
    {
      "cell_type": "code",
      "source": [],
      "metadata": {
        "id": "8Td4Yu5Vgxpr"
      },
      "execution_count": null,
      "outputs": []
    }
  ],
  "metadata": {
    "colab": {
      "provenance": [],
      "collapsed_sections": []
    },
    "kernelspec": {
      "display_name": "Python 3 (ipykernel)",
      "language": "python",
      "name": "python3"
    },
    "language_info": {
      "codemirror_mode": {
        "name": "ipython",
        "version": 3
      },
      "file_extension": ".py",
      "mimetype": "text/x-python",
      "name": "python",
      "nbconvert_exporter": "python",
      "pygments_lexer": "ipython3",
      "version": "3.7.11"
    }
  },
  "nbformat": 4,
  "nbformat_minor": 0
}