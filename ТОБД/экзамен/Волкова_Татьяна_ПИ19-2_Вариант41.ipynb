{
 "cells": [
  {
   "cell_type": "markdown",
   "id": "1b9c524a",
   "metadata": {},
   "source": [
    "# Волкова Татьяна ПИ19-2 \n",
    "# Билет №41\n",
    "## Задание 2\n"
   ]
  },
  {
   "cell_type": "code",
   "execution_count": 129,
   "id": "74d5eb18",
   "metadata": {},
   "outputs": [],
   "source": [
    "from bs4 import BeautifulSoup  \n",
    "\n",
    "with open(\"./data/datasets_for_2_task/addres-book-q.xml\", 'r', encoding = 'utf8') as file: \n",
    "    data = BeautifulSoup(file, 'xml')      \n",
    "\n",
    "#data"
   ]
  },
  {
   "cell_type": "raw",
   "id": "f1c5d293",
   "metadata": {},
   "source": [
    "result:\n",
    "men = ([name,company,phone type='work'],[]...) - gender = 'm'\n",
    "women = ([name,phone type='personal'],[]...) - gender = 'f'"
   ]
  },
  {
   "cell_type": "code",
   "execution_count": 130,
   "id": "6528eef7",
   "metadata": {},
   "outputs": [],
   "source": [
    "men = []\n",
    "women = []\n",
    "for address in data.find_all('address'): \n",
    "    if address.find('gender').text == 'm':\n",
    "        if address.find('phone').attrs['type'] == 'work':\n",
    "            phone = address.find('phone').text\n",
    "        men.append([address.find('name').text, address.find('company').text, phone])\n",
    "    else:\n",
    "        if address.find('phone').attrs['type'] == 'personal':\n",
    "            phone = address.find('phone').text\n",
    "        women.append([address.find('name').text, phone])"
   ]
  },
  {
   "cell_type": "code",
   "execution_count": 131,
   "id": "29c97212",
   "metadata": {},
   "outputs": [
    {
     "name": "stdout",
     "output_type": "stream",
     "text": [
      "мужчины ->>> (['Aicha Barki', \"Association Algerienne d'Alphabetisation Iqraa\", '+ (213) 6150 4015'], ['Francisco Domingos', 'Institut National de Education des Adultes', '+ (244-2) 325 023'], ['Abraao Chanda', 'Institut National de Education des Adultes', '+ (244-2) 325 023'], ['Beatriz Busaniche', 'Universidad de Buenos Aires', '+ (54-11) 4784 1159'], ['Graham John Smith', 'Disability Australia Ltd', '+ (61-3) 9807 4702'])\n",
      "женщины ->>> (['Maria Luisa', '+ (244) 4232 2836'], ['Francesca Beddie', '+ (54-11) 4784 1159'])\n"
     ]
    }
   ],
   "source": [
    "res_men = tuple(men)\n",
    "res_women = tuple(women)\n",
    "print(f'мужчины ->>> {res_men}\\nженщины ->>> {res_women}')"
   ]
  },
  {
   "cell_type": "markdown",
   "id": "4e255249",
   "metadata": {},
   "source": [
    "## Задание 3\n"
   ]
  },
  {
   "cell_type": "code",
   "execution_count": 84,
   "id": "e4e37ffc",
   "metadata": {},
   "outputs": [
    {
     "data": {
      "text/html": [
       "<div><strong>Dask DataFrame Structure:</strong></div>\n",
       "<div>\n",
       "<style scoped>\n",
       "    .dataframe tbody tr th:only-of-type {\n",
       "        vertical-align: middle;\n",
       "    }\n",
       "\n",
       "    .dataframe tbody tr th {\n",
       "        vertical-align: top;\n",
       "    }\n",
       "\n",
       "    .dataframe thead th {\n",
       "        text-align: right;\n",
       "    }\n",
       "</style>\n",
       "<table border=\"1\" class=\"dataframe\">\n",
       "  <thead>\n",
       "    <tr style=\"text-align: right;\">\n",
       "      <th></th>\n",
       "      <th>names</th>\n",
       "      <th>amount</th>\n",
       "    </tr>\n",
       "    <tr>\n",
       "      <th>npartitions=6</th>\n",
       "      <th></th>\n",
       "      <th></th>\n",
       "    </tr>\n",
       "  </thead>\n",
       "  <tbody>\n",
       "    <tr>\n",
       "      <th>0</th>\n",
       "      <td>object</td>\n",
       "      <td>float64</td>\n",
       "    </tr>\n",
       "    <tr>\n",
       "      <th>71</th>\n",
       "      <td>...</td>\n",
       "      <td>...</td>\n",
       "    </tr>\n",
       "    <tr>\n",
       "      <th>...</th>\n",
       "      <td>...</td>\n",
       "      <td>...</td>\n",
       "    </tr>\n",
       "    <tr>\n",
       "      <th>403</th>\n",
       "      <td>...</td>\n",
       "      <td>...</td>\n",
       "    </tr>\n",
       "    <tr>\n",
       "      <th>499</th>\n",
       "      <td>...</td>\n",
       "      <td>...</td>\n",
       "    </tr>\n",
       "  </tbody>\n",
       "</table>\n",
       "</div>\n",
       "<div>Dask Name: sort_index, 50 tasks</div>"
      ],
      "text/plain": [
       "Dask DataFrame Structure:\n",
       "                names   amount\n",
       "npartitions=6                 \n",
       "0              object  float64\n",
       "71                ...      ...\n",
       "...               ...      ...\n",
       "403               ...      ...\n",
       "499               ...      ...\n",
       "Dask Name: sort_index, 50 tasks"
      ]
     },
     "execution_count": 84,
     "metadata": {},
     "output_type": "execute_result"
    }
   ],
   "source": [
    "import dask.dataframe as dd\n",
    "    \n",
    "accounts = dd.read_csv('./data/datasets_for_3_task/data/accounts.*.csv', \n",
    "                       dtype={'amount':'float64', 'id': 'int64', 'names': 'object'}).set_index('id')\n",
    "#print(accounts.head())\n",
    "accounts"
   ]
  },
  {
   "cell_type": "code",
   "execution_count": 85,
   "id": "8dc2c5ee",
   "metadata": {},
   "outputs": [],
   "source": [
    "# оставили только те строки, где amount кратно 5 и не кратно 10\n",
    "selected_accounts = accounts[(accounts['amount'] % 5 == 0) & (accounts['amount'] % 10 != 0)]\n",
    "#selected_accounts.head()"
   ]
  },
  {
   "cell_type": "code",
   "execution_count": 86,
   "id": "cf25f796",
   "metadata": {},
   "outputs": [],
   "source": [
    "# сгруппировали по id и посчитали сколько раз встречается значение кратное 5 и не кратное 10\n",
    "grouped_by_id = selected_accounts.groupby('id')['amount'].count()\n",
    "#grouped_by_id.tail()"
   ]
  },
  {
   "cell_type": "code",
   "execution_count": 87,
   "id": "6a3bc3d7",
   "metadata": {},
   "outputs": [],
   "source": [
    "# нашли максимальное количество встречаний \n",
    "maximum = grouped_by_id.max()\n",
    "#maximum.compute()"
   ]
  },
  {
   "cell_type": "code",
   "execution_count": 88,
   "id": "28a9880e",
   "metadata": {},
   "outputs": [
    {
     "data": {
      "text/plain": [
       "id\n",
       "366    7458\n",
       "Name: amount, dtype: int64"
      ]
     },
     "execution_count": 88,
     "metadata": {},
     "output_type": "execute_result"
    }
   ],
   "source": [
    "# по максимальному значению нашли id\n",
    "# не нашла аналога argmax чтобы сразу узнать id\n",
    "grouped_by_id[grouped_by_id == maximum].compute()"
   ]
  },
  {
   "cell_type": "markdown",
   "id": "19043a58",
   "metadata": {},
   "source": [
    "## ОТВЕТ: 366"
   ]
  },
  {
   "cell_type": "code",
   "execution_count": null,
   "id": "403d67df",
   "metadata": {},
   "outputs": [],
   "source": []
  }
 ],
 "metadata": {
  "kernelspec": {
   "display_name": "Python 3 (ipykernel)",
   "language": "python",
   "name": "python3"
  },
  "language_info": {
   "codemirror_mode": {
    "name": "ipython",
    "version": 3
   },
   "file_extension": ".py",
   "mimetype": "text/x-python",
   "name": "python",
   "nbconvert_exporter": "python",
   "pygments_lexer": "ipython3",
   "version": "3.7.11"
  }
 },
 "nbformat": 4,
 "nbformat_minor": 5
}
