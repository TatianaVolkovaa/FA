{
 "cells": [
  {
   "cell_type": "markdown",
   "metadata": {},
   "source": [
    "# Работа с Excel"
   ]
  },
  {
   "cell_type": "markdown",
   "metadata": {},
   "source": [
    "Материалы:\n",
    "* Макрушин С.В. Лекция 7: Работа с Excel\n",
    "* https://docs.xlwings.org/en/stable/quickstart.html\n",
    "* https://nbviewer.jupyter.org/github/pybokeh/jupyter_notebooks/blob/master/xlwings/Excel_Formatting.ipynb#search_text\n"
   ]
  },
  {
   "cell_type": "markdown",
   "metadata": {},
   "source": [
    "## Задачи для совместного разбора"
   ]
  },
  {
   "cell_type": "code",
   "execution_count": 1,
   "metadata": {},
   "outputs": [],
   "source": [
    "import xlwings as xw\n",
    "import numpy as np"
   ]
  },
  {
   "cell_type": "raw",
   "metadata": {},
   "source": [
    "xw.__version__"
   ]
  },
  {
   "cell_type": "raw",
   "metadata": {},
   "source": [
    "!pip install xlwings==0.24.3"
   ]
  },
  {
   "cell_type": "raw",
   "metadata": {},
   "source": [
    "xw.__version__"
   ]
  },
  {
   "cell_type": "markdown",
   "metadata": {},
   "source": [
    "1. На листе \"Рецептура\" файла `себестоимостьА_в1.xlsx` для области \"Пшеничный хлеб\" рассчитать себестоимость всех видов продукции."
   ]
  },
  {
   "cell_type": "raw",
   "metadata": {},
   "source": [
    "wb = xw.Book(\"07_excel_data/себестоимостьА_в1.xlsx\")"
   ]
  },
  {
   "cell_type": "raw",
   "metadata": {},
   "source": [
    "sheet = wb.sheets['Рецептура']\n",
    "consamption = sheet.range('G7:O10').options(np.array).value\n",
    "unit_price = sheet.range('G14:O14').options(np.array).value\n",
    "consamption"
   ]
  },
  {
   "cell_type": "raw",
   "metadata": {},
   "source": [
    "unit_price"
   ]
  },
  {
   "cell_type": "raw",
   "metadata": {},
   "source": [
    "costs = np.nan_to_num(consamption * unit_price).sum(axis=1)\n",
    "costs"
   ]
  },
  {
   "cell_type": "markdown",
   "metadata": {},
   "source": [
    "2. Результаты расчетов 1.1 сохранить в отдельном столбце области \"Пшеничный хлеб\""
   ]
  },
  {
   "cell_type": "raw",
   "metadata": {},
   "source": [
    "sheet.range('T7:T10').options(transpose=True).value = costs"
   ]
  },
  {
   "cell_type": "markdown",
   "metadata": {},
   "source": [
    "3. Приблизить форматирование столбца, добавленного в задаче 2 к оформлению всей области."
   ]
  },
  {
   "cell_type": "raw",
   "metadata": {},
   "source": [
    "sheet.range('T6').value = 'Себестоимость'\n",
    "sheet.range('T4:T6').api.Merge()"
   ]
  },
  {
   "cell_type": "markdown",
   "metadata": {},
   "source": [
    "4. Выполнить 3 с помощью \"протягиваемых\" формул."
   ]
  },
  {
   "cell_type": "code",
   "execution_count": 11,
   "metadata": {},
   "outputs": [],
   "source": [
    "from xlwings.constants import AutoFillType"
   ]
  },
  {
   "cell_type": "raw",
   "metadata": {},
   "source": [
    "sheet.range('V7').formula = '=SUMPRODUCT(G7:O7, $G$14:$O$14)'\n",
    "sheet.range('V7').api.AutoFill(sheet.range('V7:V10').api,\n",
    "                              AutoFillType.xlFillDefault)"
   ]
  },
  {
   "cell_type": "markdown",
   "metadata": {},
   "source": [
    "## Лабораторная работа 7"
   ]
  },
  {
   "cell_type": "markdown",
   "metadata": {},
   "source": [
    "1. Загрузите данные из файлов `reviews_sample.csv` (__ЛР2__) и `recipes_sample_with_tags_ingredients.csv` (__ЛР5__) в виде `pd.DataFrame`. Обратите внимание на корректное считывание столбца(ов) с индексами. Оставьте в таблице с рецептами следующие столбцы: `id`, `name`, `minutes`, `submitted`, `description`, `n_ingredients`"
   ]
  },
  {
   "cell_type": "code",
   "execution_count": 13,
   "metadata": {},
   "outputs": [
    {
     "data": {
      "text/html": [
       "<div>\n",
       "<style scoped>\n",
       "    .dataframe tbody tr th:only-of-type {\n",
       "        vertical-align: middle;\n",
       "    }\n",
       "\n",
       "    .dataframe tbody tr th {\n",
       "        vertical-align: top;\n",
       "    }\n",
       "\n",
       "    .dataframe thead th {\n",
       "        text-align: right;\n",
       "    }\n",
       "</style>\n",
       "<table border=\"1\" class=\"dataframe\">\n",
       "  <thead>\n",
       "    <tr style=\"text-align: right;\">\n",
       "      <th></th>\n",
       "      <th>user_id</th>\n",
       "      <th>recipe_id</th>\n",
       "      <th>date</th>\n",
       "      <th>rating</th>\n",
       "      <th>review</th>\n",
       "    </tr>\n",
       "  </thead>\n",
       "  <tbody>\n",
       "    <tr>\n",
       "      <td>370476</td>\n",
       "      <td>21752</td>\n",
       "      <td>57993</td>\n",
       "      <td>2003-05-01</td>\n",
       "      <td>5</td>\n",
       "      <td>Last week whole sides of frozen salmon fillet ...</td>\n",
       "    </tr>\n",
       "    <tr>\n",
       "      <td>624300</td>\n",
       "      <td>431813</td>\n",
       "      <td>142201</td>\n",
       "      <td>2007-09-16</td>\n",
       "      <td>5</td>\n",
       "      <td>So simple and so tasty!  I used a yellow capsi...</td>\n",
       "    </tr>\n",
       "    <tr>\n",
       "      <td>187037</td>\n",
       "      <td>400708</td>\n",
       "      <td>252013</td>\n",
       "      <td>2008-01-10</td>\n",
       "      <td>4</td>\n",
       "      <td>Very nice breakfast HH, easy to make and yummy...</td>\n",
       "    </tr>\n",
       "  </tbody>\n",
       "</table>\n",
       "</div>"
      ],
      "text/plain": [
       "        user_id  recipe_id       date  rating  \\\n",
       "370476    21752      57993 2003-05-01       5   \n",
       "624300   431813     142201 2007-09-16       5   \n",
       "187037   400708     252013 2008-01-10       4   \n",
       "\n",
       "                                                   review  \n",
       "370476  Last week whole sides of frozen salmon fillet ...  \n",
       "624300  So simple and so tasty!  I used a yellow capsi...  \n",
       "187037  Very nice breakfast HH, easy to make and yummy...  "
      ]
     },
     "execution_count": 13,
     "metadata": {},
     "output_type": "execute_result"
    }
   ],
   "source": [
    "import pandas as pd\n",
    "\n",
    "reviews = pd.read_csv('./07_excel_data/reviews_sample.csv', sep=',', index_col = \"Unnamed: 0\", parse_dates = [\"date\"])\n",
    "recipes = pd.read_csv('./07_excel_data/recipes_sample_with_tags_ingredients.csv', sep=',', index_col = \"id\", parse_dates = [\"submitted\"]).drop(columns=[\"contributor_id\", \"n_steps\", \"n_tags\", \"tags\", \"ingredients\"])\n",
    "reviews[:3]\n",
    "#recipes[:3]"
   ]
  },
  {
   "cell_type": "markdown",
   "metadata": {},
   "source": [
    "2. Случайным образом выберите 5% строк из каждой таблицы и сохраните две таблицы на разные листы в один файл `recipes.xlsx`. Дайте листам названия \"Рецепты\" и \"Отзывы\", соответствующие содержанию таблиц. "
   ]
  },
  {
   "cell_type": "code",
   "execution_count": 14,
   "metadata": {},
   "outputs": [
    {
     "data": {
      "text/html": [
       "<div>\n",
       "<style scoped>\n",
       "    .dataframe tbody tr th:only-of-type {\n",
       "        vertical-align: middle;\n",
       "    }\n",
       "\n",
       "    .dataframe tbody tr th {\n",
       "        vertical-align: top;\n",
       "    }\n",
       "\n",
       "    .dataframe thead th {\n",
       "        text-align: right;\n",
       "    }\n",
       "</style>\n",
       "<table border=\"1\" class=\"dataframe\">\n",
       "  <thead>\n",
       "    <tr style=\"text-align: right;\">\n",
       "      <th></th>\n",
       "      <th>name</th>\n",
       "      <th>minutes</th>\n",
       "      <th>submitted</th>\n",
       "      <th>description</th>\n",
       "      <th>n_ingredients</th>\n",
       "    </tr>\n",
       "    <tr>\n",
       "      <th>id</th>\n",
       "      <th></th>\n",
       "      <th></th>\n",
       "      <th></th>\n",
       "      <th></th>\n",
       "      <th></th>\n",
       "    </tr>\n",
       "  </thead>\n",
       "  <tbody>\n",
       "    <tr>\n",
       "      <td>159823</td>\n",
       "      <td>peanut dipping sauce with a kick</td>\n",
       "      <td>5</td>\n",
       "      <td>2006-03-13</td>\n",
       "      <td>i searched through the many peanut dipping sau...</td>\n",
       "      <td>13</td>\n",
       "    </tr>\n",
       "    <tr>\n",
       "      <td>273270</td>\n",
       "      <td>splenda easy pumpkin pie</td>\n",
       "      <td>105</td>\n",
       "      <td>2007-12-21</td>\n",
       "      <td>you really can't taste the difference in this ...</td>\n",
       "      <td>9</td>\n",
       "    </tr>\n",
       "    <tr>\n",
       "      <td>241196</td>\n",
       "      <td>elaine s lasagna</td>\n",
       "      <td>80</td>\n",
       "      <td>2007-07-18</td>\n",
       "      <td>my mom's delicious lasagna recipe.</td>\n",
       "      <td>15</td>\n",
       "    </tr>\n",
       "    <tr>\n",
       "      <td>299147</td>\n",
       "      <td>mexican chilli and cheese dip</td>\n",
       "      <td>30</td>\n",
       "      <td>2008-04-17</td>\n",
       "      <td>i first had this in a mexican restaurant in th...</td>\n",
       "      <td>8</td>\n",
       "    </tr>\n",
       "    <tr>\n",
       "      <td>270576</td>\n",
       "      <td>quick     easy ham chowder</td>\n",
       "      <td>35</td>\n",
       "      <td>2007-12-09</td>\n",
       "      <td>this is a fast meal for those busy weeknights!</td>\n",
       "      <td>7</td>\n",
       "    </tr>\n",
       "    <tr>\n",
       "      <td>...</td>\n",
       "      <td>...</td>\n",
       "      <td>...</td>\n",
       "      <td>...</td>\n",
       "      <td>...</td>\n",
       "      <td>...</td>\n",
       "    </tr>\n",
       "    <tr>\n",
       "      <td>112180</td>\n",
       "      <td>the lady and sons okra and tomatoes   paula deen</td>\n",
       "      <td>55</td>\n",
       "      <td>2005-02-26</td>\n",
       "      <td>we love okra and tomatoes, this recipe is a lo...</td>\n",
       "      <td>8</td>\n",
       "    </tr>\n",
       "    <tr>\n",
       "      <td>508965</td>\n",
       "      <td>homemade  smoky veggie bacon salt</td>\n",
       "      <td>10</td>\n",
       "      <td>2013-11-05</td>\n",
       "      <td>this stuff is addictive and the uses are endle...</td>\n",
       "      <td>11</td>\n",
       "    </tr>\n",
       "    <tr>\n",
       "      <td>116565</td>\n",
       "      <td>p b   j bama cristo</td>\n",
       "      <td>31</td>\n",
       "      <td>2005-04-12</td>\n",
       "      <td>a comfort food for me, my husband, and kids. m...</td>\n",
       "      <td>6</td>\n",
       "    </tr>\n",
       "    <tr>\n",
       "      <td>272023</td>\n",
       "      <td>snowy snack</td>\n",
       "      <td>10</td>\n",
       "      <td>2007-12-14</td>\n",
       "      <td>this is a deliciously addictive holiday snack....</td>\n",
       "      <td>7</td>\n",
       "    </tr>\n",
       "    <tr>\n",
       "      <td>295899</td>\n",
       "      <td>creamy baked beefaroni</td>\n",
       "      <td>65</td>\n",
       "      <td>2008-04-02</td>\n",
       "      <td>penne pasta with lean ground beef in a delicio...</td>\n",
       "      <td>12</td>\n",
       "    </tr>\n",
       "  </tbody>\n",
       "</table>\n",
       "<p>1500 rows × 5 columns</p>\n",
       "</div>"
      ],
      "text/plain": [
       "                                                    name  minutes  submitted  \\\n",
       "id                                                                             \n",
       "159823                  peanut dipping sauce with a kick        5 2006-03-13   \n",
       "273270                          splenda easy pumpkin pie      105 2007-12-21   \n",
       "241196                                  elaine s lasagna       80 2007-07-18   \n",
       "299147                     mexican chilli and cheese dip       30 2008-04-17   \n",
       "270576                        quick     easy ham chowder       35 2007-12-09   \n",
       "...                                                  ...      ...        ...   \n",
       "112180  the lady and sons okra and tomatoes   paula deen       55 2005-02-26   \n",
       "508965                 homemade  smoky veggie bacon salt       10 2013-11-05   \n",
       "116565                               p b   j bama cristo       31 2005-04-12   \n",
       "272023                                       snowy snack       10 2007-12-14   \n",
       "295899                            creamy baked beefaroni       65 2008-04-02   \n",
       "\n",
       "                                              description  n_ingredients  \n",
       "id                                                                        \n",
       "159823  i searched through the many peanut dipping sau...             13  \n",
       "273270  you really can't taste the difference in this ...              9  \n",
       "241196                 my mom's delicious lasagna recipe.             15  \n",
       "299147  i first had this in a mexican restaurant in th...              8  \n",
       "270576     this is a fast meal for those busy weeknights!              7  \n",
       "...                                                   ...            ...  \n",
       "112180  we love okra and tomatoes, this recipe is a lo...              8  \n",
       "508965  this stuff is addictive and the uses are endle...             11  \n",
       "116565  a comfort food for me, my husband, and kids. m...              6  \n",
       "272023  this is a deliciously addictive holiday snack....              7  \n",
       "295899  penne pasta with lean ground beef in a delicio...             12  \n",
       "\n",
       "[1500 rows x 5 columns]"
      ]
     },
     "execution_count": 14,
     "metadata": {},
     "output_type": "execute_result"
    }
   ],
   "source": [
    "some_recipes = recipes.sample(frac = 0.05)\n",
    "some_reviews = reviews.sample(frac = 0.05)\n",
    "some_recipes\n",
    "#some_reviews"
   ]
  },
  {
   "cell_type": "code",
   "execution_count": 15,
   "metadata": {},
   "outputs": [],
   "source": [
    "wb = xw.Book()\n",
    "wb.save(\"./07_excel_data/recipes.xlsx\")\n",
    "sheet1 = wb.sheets.add(name = \"Рецепты\")\n",
    "sheet1.range(\"A1\").value = some_recipes \n",
    "sheet2 = wb.sheets.add(name = \"Отзывы\")\n",
    "sheet2.range(\"A1\").value = some_reviews\n",
    "wb.sheets[\"Лист1\"].delete()"
   ]
  },
  {
   "cell_type": "markdown",
   "metadata": {},
   "source": [
    "3. Используя `xlwings`, добавьте на лист `Рецепты` столбец `seconds_assign`, показывающий время выполнения рецепта в секундах. Выполните задание при помощи присваивания массива значений диапазону ячеек."
   ]
  },
  {
   "cell_type": "code",
   "execution_count": 17,
   "metadata": {},
   "outputs": [],
   "source": [
    "wb = xw.Book(\"./07_excel_data/recipes.xlsx\")\n",
    "sheet = wb.sheets[\"Рецепты\"]\n",
    "n_rec = str(len(some_recipes)+1)\n",
    "n_rev = str(len(some_reviews)+1)\n",
    "\n",
    "seconds_assign = (some_recipes[\"minutes\"] * 60).to_numpy()\n",
    "sheet.range(\"G1\").value = \"seconds_assign\"\n",
    "sheet.range(f\"G2:G{n_rec}\").options(transpose=True).value = seconds_assign"
   ]
  },
  {
   "cell_type": "markdown",
   "metadata": {},
   "source": [
    "4. Используя `xlwings`, добавьте на лист `Рецепты` столбец `seconds_formula`, показывающий время выполнения рецепта в секундах. Выполните задание при помощи формул Excel."
   ]
  },
  {
   "cell_type": "code",
   "execution_count": 18,
   "metadata": {},
   "outputs": [
    {
     "data": {
      "text/plain": [
       "True"
      ]
     },
     "execution_count": 18,
     "metadata": {},
     "output_type": "execute_result"
    }
   ],
   "source": [
    "sheet.range(\"H1\").value = \"seconds_formula\"\n",
    "sheet.range(\"H2\").formula = \"=C2*60\"\n",
    "sheet.range(\"H2\").api.AutoFill(sheet.range(f\"H2:H{n_rec}\").api,\n",
    "                              AutoFillType.xlFillDefault)"
   ]
  },
  {
   "cell_type": "markdown",
   "metadata": {},
   "source": [
    "5. Добавьте на лист `Рецепты`  столбец `n_reviews`, содержащий кол-во отзывов для этого рецепта. Выполните задание при помощи формул Excel."
   ]
  },
  {
   "cell_type": "code",
   "execution_count": 19,
   "metadata": {},
   "outputs": [
    {
     "ename": "SyntaxError",
     "evalue": "can't assign to literal (<ipython-input-19-94caa743e775>, line 2)",
     "output_type": "error",
     "traceback": [
      "\u001b[1;36m  File \u001b[1;32m\"<ipython-input-19-94caa743e775>\"\u001b[1;36m, line \u001b[1;32m2\u001b[0m\n\u001b[1;33m    sheet.range(\"I2\").formula = f\"=COUNTIF(Отзывы!$C$2:$C${n_rev},\"=\"&A2)\"\u001b[0m\n\u001b[1;37m                               ^\u001b[0m\n\u001b[1;31mSyntaxError\u001b[0m\u001b[1;31m:\u001b[0m can't assign to literal\n"
     ]
    }
   ],
   "source": [
    "sheet.range(\"I1\").value = \"n_reviews\"\n",
    "sheet.range(\"I2\").formula = f\"=COUNTIF(Отзывы!$C$2:$C${n_rev},\"=\"&A2)\"\n",
    "sheet.range(\"I2\").api.AutoFill(sheet.range(f\"I2:I{n_rec}\").api,\n",
    "                              AutoFillType.xlFillDefault)"
   ]
  },
  {
   "cell_type": "markdown",
   "metadata": {},
   "source": [
    "6. Сделайте названия всех добавленных столбцов полужирными и выровняйте по центру ячейки."
   ]
  },
  {
   "cell_type": "code",
   "execution_count": 20,
   "metadata": {},
   "outputs": [],
   "source": [
    "sheet.range(\"G1:I1\").api.horizontalalignment = xw.constants.HAlign.xlHAlignCenter\n",
    "sheet.range(\"G1:I1\").api.Font.Bold = True"
   ]
  },
  {
   "cell_type": "markdown",
   "metadata": {},
   "source": [
    "7. Раскрасьте ячейки столбца `minutes` в соответствии со следующим правилом: если рецепт выполняется быстрее 5 минут, то цвет - зеленый; от 5 до 10 минут - жёлтый; и больше 10 - красный."
   ]
  },
  {
   "cell_type": "code",
   "execution_count": 21,
   "metadata": {},
   "outputs": [],
   "source": [
    "for i in range(2, int(n_rec)+1):\n",
    "    if int(sheet.range(f\"C{i}\").value) < 5:\n",
    "        sheet.range(f\"C{i}\").color = (0, 255, 0)\n",
    "    elif 5 <= int(sheet.range(f\"C{i}\").value) <= 10:\n",
    "        sheet.range(f\"C{i}\").color = (255, 255, 0)\n",
    "    elif int(sheet.range(f\"C{i}\").value) > 10:\n",
    "        sheet.range(f\"C{i}\").color = (255, 0, 0)"
   ]
  },
  {
   "cell_type": "markdown",
   "metadata": {},
   "source": [
    "8. Напишите функцию `validate()`, которая проверяет соответствие всех строк из листа `Отзывы` следующим правилам:\n",
    "    * Рейтинг - это число от 0 до 5 включительно\n",
    "    * Соответствующий рецепт имеется на листе `Рецепты`\n",
    "    \n",
    "В случае несоответствия этим правилам, выделите строку красным цветом"
   ]
  },
  {
   "cell_type": "code",
   "execution_count": 22,
   "metadata": {},
   "outputs": [],
   "source": [
    "def validate(sheet):\n",
    "    sheet.range(\"H2\").formula = f'=COUNTIF(Рецепты!$A$2:Рецепты!$A${n_rec},\"=\"&C2)>0'\n",
    "    sheet.range(\"H2\").api.AutoFill(sheet.range(f\"H2:H{n_rev}\").api,\n",
    "                              AutoFillType.xlFillDefault)\n",
    "    for i in range(2, int(n_rev)+1):\n",
    "        rating = int(sheet.range(f'E{i}').value)\n",
    "        if (rating < 0 or rating > 5) or sheet.range(f'H{i}').value == False:\n",
    "            sheet.range(f'A{i}:G{i}').color = (255, 0, 0)\n",
    "    sheet.range('H:H').value = \" \"\n",
    "    \n",
    "validate(wb.sheets[\"Отзывы\"])"
   ]
  },
  {
   "cell_type": "code",
   "execution_count": 23,
   "metadata": {},
   "outputs": [],
   "source": [
    "wb.save()\n",
    "wb.close()"
   ]
  }
 ],
 "metadata": {
  "kernelspec": {
   "display_name": "Python 3",
   "language": "python",
   "name": "python3"
  },
  "language_info": {
   "codemirror_mode": {
    "name": "ipython",
    "version": 3
   },
   "file_extension": ".py",
   "mimetype": "text/x-python",
   "name": "python",
   "nbconvert_exporter": "python",
   "pygments_lexer": "ipython3",
   "version": "3.7.4"
  }
 },
 "nbformat": 4,
 "nbformat_minor": 4
}
